{
 "cells": [
  {
   "cell_type": "markdown",
   "id": "be0bfb96",
   "metadata": {},
   "source": [
    "# AML — Task 1\n",
    "## Predict the age of a brain from MRI features\n",
    "---"
   ]
  },
  {
   "cell_type": "code",
   "execution_count": 1,
   "id": "f2b7547c",
   "metadata": {},
   "outputs": [],
   "source": [
    "import numpy as np\n",
    "import pandas as pd\n",
    "import seaborn as sns\n",
    "import matplotlib.pyplot as plt\n",
    "from scipy.stats import zscore\n",
    "from pandas_profiling import ProfileReport"
   ]
  },
  {
   "cell_type": "code",
   "execution_count": 31,
   "id": "774c3504",
   "metadata": {},
   "outputs": [],
   "source": [
    "from sklearn.pipeline import Pipeline\n",
    "from sklearn.experimental import enable_iterative_imputer\n",
    "from sklearn.impute import SimpleImputer, KNNImputer, IterativeImputer\n",
    "from sklearn.linear_model import Ridge, Lasso\n",
    "from sklearn.svm import SVR\n",
    "from sklearn.metrics import r2_score\n",
    "from sklearn.preprocessing import StandardScaler\n",
    "from sklearn.feature_selection import SelectKBest, SelectPercentile, f_regression\n",
    "from sklearn.model_selection import GridSearchCV, train_test_split, cross_val_score\n",
    "from sklearn.ensemble import IsolationForest, GradientBoostingRegressor, AdaBoostRegressor, RandomForestRegressor\n",
    "from sklearn.neighbors import LocalOutlierFactor"
   ]
  },
  {
   "cell_type": "markdown",
   "id": "8408a978",
   "metadata": {},
   "source": [
    "---\n",
    "## Function definition"
   ]
  },
  {
   "cell_type": "markdown",
   "id": "da3fad40",
   "metadata": {},
   "source": [
    "---\n",
    "### Load datasets"
   ]
  },
  {
   "cell_type": "code",
   "execution_count": 3,
   "id": "47110725",
   "metadata": {},
   "outputs": [],
   "source": [
    "def load_raw_data():\n",
    "    X_train = pd.read_csv('data/X_train.csv').drop(columns=['id'])\n",
    "    y_train = pd.read_csv('data/y_train.csv').drop(columns=['id'])\n",
    "    X_test = pd.read_csv('data/X_test.csv').drop(columns=['id'])\n",
    "    return X_train, y_train, X_test"
   ]
  },
  {
   "cell_type": "markdown",
   "id": "855a816b",
   "metadata": {},
   "source": [
    "---\n",
    "### Export datasets"
   ]
  },
  {
   "cell_type": "code",
   "execution_count": 4,
   "id": "23120b22",
   "metadata": {},
   "outputs": [],
   "source": [
    "def export_to_csv(X_train_cleaned, y_train_cleaned, X_test_cleaned):\n",
    "    X_train_cleaned.to_csv('data/X_train_cleaned.csv', index=False)\n",
    "    y_train_cleaned.to_csv('data/y_train_cleaned.csv', index=False)\n",
    "    X_test_cleaned.to_csv('data/X_test_cleaned.csv', index=False)"
   ]
  },
  {
   "cell_type": "markdown",
   "id": "e38f4de4",
   "metadata": {},
   "source": [
    "---\n",
    "### Outlier detection"
   ]
  },
  {
   "cell_type": "code",
   "execution_count": 5,
   "id": "c789017b",
   "metadata": {},
   "outputs": [],
   "source": [
    "def remove_outliers(X_train, y_train, contamination='auto', verbose=1):\n",
    "    \"\"\"\n",
    "    Remove the ouliers from our dataset. Temporarily replace the nan values by \n",
    "    the median to perform the outlier detection.\n",
    "\n",
    "    Parameters\n",
    "    ----------\n",
    "    X_train : pd.df\n",
    "        The features (what we will use to see the outliers)\n",
    "    y_train : pd.df\n",
    "        The labels\n",
    "    contamination : int, optional\n",
    "        The percent of outliers found by the isolation forest if it is used.\n",
    "\n",
    "    Return\n",
    "    ------\n",
    "    (pd.df, pd.df)\n",
    "        The data with the outliers rows removed\n",
    "    \"\"\"\n",
    "    # Save a mask of the imputed values to be able to redo the imputation once the outlier detection is done\n",
    "    X_train_null_mask = X_train.isna()\n",
    "    \n",
    "    # Need to impute nan values for the outlier detection to work (cannot deal with nan)\n",
    "    X_train_imputed = pd.DataFrame(SimpleImputer(strategy=\"median\", verbose=verbose).fit_transform(X_train))\n",
    "    \n",
    "#     clf = IsolationForest(contamination=contamination, random_state=0) # modify here\n",
    "    clf = LocalOutlierFactor(contamination=contamination) # modify here\n",
    "    outliers_mask = pd.Series(clf.fit_predict(X_train_imputed))\n",
    "    \n",
    "    if verbose:\n",
    "        print(f\"Detected {(outliers_mask == -1).sum()} outliers, out of {outliers_mask.shape[0]} samples ({100 * (outliers_mask == -1).sum() / outliers_mask.shape[0]:.2f}%).\")\n",
    "    \n",
    "    # Put back the nan values\n",
    "    # convert the null mask to np.array so it is correctly applied since X_train indexes have changed\n",
    "    X_train_no_outliers = X_train_imputed.mask(np.array(X_train_null_mask))\n",
    "    \n",
    "    # Remove outliers from the training set\n",
    "    X_train_no_outliers = X_train_no_outliers.loc[outliers_mask == 1, :]\n",
    "    y_train_no_outliers = y_train.loc[outliers_mask == 1, :]\n",
    "    \n",
    "    return (X_train_no_outliers, y_train_no_outliers)"
   ]
  },
  {
   "cell_type": "markdown",
   "id": "615112e3",
   "metadata": {},
   "source": [
    "---\n",
    "### Data scaling\n",
    "Should be done as soon as possible because can have an effect (e.g. on distances for `KNNImputer`)"
   ]
  },
  {
   "cell_type": "code",
   "execution_count": 6,
   "id": "3bde22ca",
   "metadata": {},
   "outputs": [],
   "source": [
    "def scale(X_train, X_test):\n",
    "    # Do the scaling, saving the scaler to use it for X_test too. No need for imputation, just ignore nan values.\n",
    "    scaler = StandardScaler().fit(X_train)\n",
    "    X_train_scaled = pd.DataFrame(scaler.transform(X_train))\n",
    "    # Cast X_test to np.array to avoid warning of model trained without feature names but X having some.\n",
    "    X_test_scaled = pd.DataFrame(scaler.transform(np.array(X_test)))\n",
    "    return (X_train_scaled, X_test_scaled)"
   ]
  },
  {
   "cell_type": "markdown",
   "id": "9012dc74",
   "metadata": {},
   "source": [
    "---\n",
    "### Imputation of values"
   ]
  },
  {
   "cell_type": "code",
   "execution_count": 17,
   "id": "e213b2f8",
   "metadata": {},
   "outputs": [],
   "source": [
    "def impute_values(X_train, X_test, method='knn', max_iter=15):\n",
    "    print(f\"For the train dataset, there are {np.array(X_train.isna()).sum().sum()} nan values, out of {X_train.shape[0]*X_train.shape[1]} ({100*np.array(X_train.isna()).sum().sum()/(X_train.shape[0]*X_train.shape[1]):.2f}%).\")\n",
    "    \n",
    "    imputer = None\n",
    "    if method == 'knn':\n",
    "        imputer = KNNImputer(n_neighbors=6, weights='uniform').fit(X_train)\n",
    "    elif method == 'iterative':\n",
    "        # Runs VERY slowly\n",
    "        imputer = IterativeImputer(random_state=0, max_iter=max_iter, verbose=2).fit(X_train)\n",
    "    \n",
    "    X_train_imputed = pd.DataFrame(imputer.transform(X_train))\n",
    "    X_test_imputed = pd.DataFrame(imputer.transform(X_test))\n",
    "    return (X_train_imputed, X_test_imputed)"
   ]
  },
  {
   "cell_type": "markdown",
   "id": "163b71de",
   "metadata": {},
   "source": [
    "---\n",
    "### Feature selection"
   ]
  },
  {
   "cell_type": "code",
   "execution_count": 8,
   "id": "905e22b8",
   "metadata": {},
   "outputs": [],
   "source": [
    "def select_features(X_train, y_train, X_test):\n",
    "    X_train_selected_features, X_test_selected_features = remove_constant_features(X_train, X_test)\n",
    "    X_train_selected_features, X_test_selected_features = remove_too_correlated_features(X_train_selected_features, X_test_selected_features)\n",
    "    X_train_selected_features, X_test_selected_features = remove_random_features(X_train_selected_features, y_train, X_test_selected_features, percentile=80)\n",
    "    \n",
    "    return X_train_selected_features, X_test_selected_features"
   ]
  },
  {
   "cell_type": "code",
   "execution_count": 9,
   "id": "ed739797",
   "metadata": {},
   "outputs": [],
   "source": [
    "def remove_constant_features(X_train, X_test, verbose=1):\n",
    "    X_train_selected_features = X_train.loc[:, (X_train != X_train.iloc[0]).any()]\n",
    "    X_test_selected_features = X_test.loc[:, (X_train != X_train.iloc[0]).any()]\n",
    "    \n",
    "    if verbose:\n",
    "        print(f\"{X_train.shape[1]-X_train_selected_features.shape[1]} features removed because of constant values ({100*(X_train.shape[1]-X_train_selected_features.shape[1])/X_train.shape[1]:.2f}%).\")\n",
    "    \n",
    "    return X_train_selected_features, X_test_selected_features"
   ]
  },
  {
   "cell_type": "code",
   "execution_count": 10,
   "id": "f9496408",
   "metadata": {},
   "outputs": [],
   "source": [
    "def remove_too_correlated_features(X_train, X_test, threshold=0.7, verbose=1):\n",
    "    X_train_corr_ = X_train.corr()\n",
    "\n",
    "    X_train_too_correlated = (X_train_corr_.mask(\n",
    "        np.tril(np.ones([len(X_train_corr_)]*2, dtype=bool))).abs() > threshold).any()\n",
    "    \n",
    "    X_train_selected_features = X_train.loc[:, (~X_train_too_correlated)]\n",
    "    X_test_selected_features = X_test.loc[:, (~X_train_too_correlated)]\n",
    "    \n",
    "    if verbose:\n",
    "        print(f\"{X_train.shape[1]-X_train_selected_features.shape[1]} features removed because of correlation with another feature > {threshold} ({100*(X_train.shape[1]-X_train_selected_features.shape[1])/X_train.shape[1]:.2f}%).\")\n",
    "\n",
    "    return X_train_selected_features, X_test_selected_features"
   ]
  },
  {
   "cell_type": "code",
   "execution_count": 11,
   "id": "f1347a0a",
   "metadata": {},
   "outputs": [],
   "source": [
    "def remove_random_features(X_train, y_train, X_test, Xtrm=None, Xtem=None, k=190, verbose=1):\n",
    "    selector = SelectKBest(f_regression, k=k) # modify here\n",
    "    selector.fit(X_train, np.array(y_train).ravel())\n",
    "    X_train_selected_features = pd.DataFrame(selector.transform(X_train))\n",
    "    X_test_selected_features = pd.DataFrame(selector.transform(X_test))\n",
    "    if Xtrm is not None:\n",
    "        Xtrm = pd.DataFrame(selector.transform(Xtrm))\n",
    "    if Xtem is not None:\n",
    "        Xtem = pd.DataFrame(selector.transform(Xtem))\n",
    "    \n",
    "    if verbose:\n",
    "        print(f\"{X_train.shape[1]-X_train_selected_features.shape[1]} features removed because of low correlation with target ({100*(X_train.shape[1]-X_train_selected_features.shape[1])/X_train.shape[1]:.2f}%).\")\n",
    "        \n",
    "    return X_train_selected_features, X_test_selected_features, Xtrm, Xtem"
   ]
  },
  {
   "cell_type": "markdown",
   "id": "ff76713b",
   "metadata": {},
   "source": [
    "---\n",
    "### Models"
   ]
  },
  {
   "cell_type": "code",
   "execution_count": 12,
   "id": "98e953cf",
   "metadata": {},
   "outputs": [],
   "source": [
    "def best_lasso(X_train, y_train):\n",
    "    lasso = Lasso(max_iter=100000)\n",
    "    gs_lasso_params = {\n",
    "        'alpha': np.logspace(-2, 0, 20),\n",
    "    }\n",
    "    gs_lasso = GridSearchCV(lasso, gs_lasso_params, cv=5, verbose=3)\n",
    "    gs_lasso.fit(X_train, y_train)\n",
    "    \n",
    "    print(f\"The best validation score obtained is {gs_lasso.best_score_:.5f} with\\n\\talpha: {gs_lasso.best_params_['alpha']}\")\n",
    "    \n",
    "    return gs_lasso"
   ]
  },
  {
   "cell_type": "code",
   "execution_count": 25,
   "id": "32755f1e",
   "metadata": {},
   "outputs": [],
   "source": [
    "def best_svr(X_train, y_train):\n",
    "    svr = SVR()\n",
    "    gs_svr_params = {\n",
    "        'kernel': ['rbf'],#, 'poly', 'sigmoid'],\n",
    "        'C': np.logspace(0, 3, 6),\n",
    "        'epsilon': np.logspace(-4, -1, 7),\n",
    "    }\n",
    "    gs_svr = GridSearchCV(svr, gs_svr_params, cv=5, verbose=3)\n",
    "    gs_svr.fit(X_train, y_train)\n",
    "    \n",
    "    print(f\"\"\"The best validation score obtained is {gs_svr.best_score_:.5f} with\n",
    "    \\tkernel: {gs_svr.best_params_['kernel']}\n",
    "    \\tC: {gs_svr.best_params_['C']}\n",
    "    \\tepsilon: {gs_svr.best_params_['epsilon']}\"\"\")\n",
    "    \n",
    "    return gs_svr"
   ]
  },
  {
   "cell_type": "code",
   "execution_count": 14,
   "id": "5e54c62a",
   "metadata": {
    "scrolled": true
   },
   "outputs": [],
   "source": [
    "def best_gbr(X_train, y_train):\n",
    "#     gbr = GradientBoostingRegressor(random_state=0)\n",
    "#     gs_gbr_params = {\n",
    "#         \"learning_rate\": np.logspace(-3, -1, 3),\n",
    "#         \"n_estimators\": np.logspace(1, 3, 3),\n",
    "#         \"subsample\": [0.7, 1],\n",
    "#         \"max_depth\": [3, 4, 5],\n",
    "#     }\n",
    "#     gs_gbr = GridSearchCV(gbr, gs_gbr_params, cv=5, verbose=3, error_score='raise')\n",
    "#     gs_gbr.fit(X_train, y_train)\n",
    "#     return gs_gbr\n",
    "\n",
    "    params = {\n",
    "        \"loss\": \"squared_error\",\n",
    "        \"n_estimators\": 250,\n",
    "        \"learning_rate\": 0.025,\n",
    "        \"subsample\": 0.75,\n",
    "        \"max_depth\": 6,\n",
    "        \"min_samples_split\": 5,\n",
    "        \"n_iter_no_change\": 100,\n",
    "        \"validation_fraction\": 0.1,\n",
    "        \"random_state\": 0, \n",
    "        \"verbose\": 1,\n",
    "    }\n",
    "\n",
    "    gbr = GradientBoostingRegressor(**params)\n",
    "    \n",
    "    # Get the validation score\n",
    "    gbr_cv_scores = cross_val_score(gbr, X_train, y_train, n_jobs=-1, verbose=3)\n",
    "    print(f\"\"\"Validation score obtained is {np.mean(gbr_cv_scores):.4f} with\n",
    "    \\t{params}\"\"\")\n",
    "    \n",
    "    # Fit model (because previous function does not return fitted model)\n",
    "    X_train, X_test, y_train, y_test = train_test_split(X_train, y_train, test_size=0.2, random_state=0)\n",
    "    gbr.fit(X_train, y_train)\n",
    "    \n",
    "    test_score = np.zeros(gbr.n_estimators_, dtype=np.float64)\n",
    "    for i, y_pred in enumerate(gbr.staged_predict(X_test)):\n",
    "        test_score[i] = gbr.loss_(y_test, y_pred)\n",
    "\n",
    "    fig = plt.figure(figsize=(6, 6))\n",
    "    plt.subplot(1, 1, 1)\n",
    "    plt.title(\"Deviance\")\n",
    "    plt.plot(\n",
    "        np.arange(gbr.n_estimators_),\n",
    "        gbr.train_score_,\n",
    "        \"b-\",\n",
    "        label=\"Training Set Deviance\",\n",
    "    )\n",
    "    plt.plot(\n",
    "        np.arange(gbr.n_estimators_), test_score, \"r-\", label=\"Test Set Deviance\"\n",
    "    )\n",
    "    plt.legend(loc=\"upper right\")\n",
    "    plt.xlabel(\"Boosting Iterations\")\n",
    "    plt.ylabel(\"Deviance\")\n",
    "    fig.tight_layout()\n",
    "    plt.show()\n",
    "    \n",
    "    return gbr"
   ]
  },
  {
   "cell_type": "markdown",
   "id": "09bc46d2",
   "metadata": {},
   "source": [
    "---\n",
    "### Submission file"
   ]
  },
  {
   "cell_type": "code",
   "execution_count": 15,
   "id": "dd4ba4a8",
   "metadata": {},
   "outputs": [],
   "source": [
    "def create_submission(prediction, sub_id, basepath='submissions/task1-sub'):\n",
    "    result = prediction.copy()\n",
    "    result = result.rename(columns={0: 'y'})\n",
    "    result['id'] = range(0, len(result))\n",
    "    result = result[['id', 'y']]\n",
    "    result.to_csv(basepath + str(sub_id) + '.csv', index=False)"
   ]
  },
  {
   "cell_type": "markdown",
   "id": "8dd1f3bc",
   "metadata": {},
   "source": [
    "---\n",
    "## Run pipeline"
   ]
  },
  {
   "cell_type": "markdown",
   "id": "27f0466f",
   "metadata": {},
   "source": [
    "---\n",
    "### Data preprocessing"
   ]
  },
  {
   "cell_type": "code",
   "execution_count": 16,
   "id": "44968a0b",
   "metadata": {
    "scrolled": false
   },
   "outputs": [],
   "source": [
    "# print(\"Loading raw data...\")\n",
    "# X_train, y_train, X_test = load_raw_data()\n",
    "\n",
    "# print(\"Removing outliers...\")\n",
    "# X_train_no_outliers, y_train_no_outliers = remove_outliers(X_train, y_train)\n",
    "\n",
    "# print(\"Scaling data...\")\n",
    "# X_train_scaled, X_test_scaled = scale(X_train_no_outliers, X_test)\n",
    "\n",
    "# print(\"Imputing nan values...\")\n",
    "# X_train_imputed, X_test_imputed = impute_values(X_train_scaled, X_test_scaled, method=knn')\n",
    "\n",
    "# print(\"Selecting features...\")\n",
    "# X_train_selected_features, X_test_selected_features = select_features(X_train_imputed, y_train_no_outliers, X_test_imputed)\n",
    "\n",
    "# print(\"Exporting clean data to csv...\")\n",
    "# X_train_cleaned, y_train_cleaned, X_test_cleaned = X_train_selected_features, y_train_no_outliers, X_test_selected_features\n",
    "# export_to_csv(X_train_cleaned, y_train_cleaned, X_test_cleaned)\n",
    "\n",
    "# print(\"All done!\")"
   ]
  },
  {
   "cell_type": "code",
   "execution_count": 18,
   "id": "3bf407c2",
   "metadata": {
    "scrolled": false
   },
   "outputs": [
    {
     "name": "stdout",
     "output_type": "stream",
     "text": [
      "Loading raw data...\n",
      "Removing outliers...\n",
      "Detected 50 outliers, out of 1212 samples (4.13%).\n",
      "Scaling data...\n",
      "Selecting features...\n",
      "0 features removed because of constant values (0.00%).\n",
      "35 features removed because of correlation with another feature > 0.98 (4.21%).\n",
      "For the train dataset, there are 70627 nan values, out of 926114 (7.63%).\n"
     ]
    },
    {
     "name": "stderr",
     "output_type": "stream",
     "text": [
      "/Users/antoine/miniconda3/lib/python3.7/site-packages/sklearn/feature_selection/_univariate_selection.py:289: RuntimeWarning: invalid value encountered in true_divide\n",
      "  correlation_coefficient /= X_norms\n"
     ]
    },
    {
     "name": "stdout",
     "output_type": "stream",
     "text": [
      "607 features removed because of low correlation with target (76.16%).\n",
      "Imputing nan values...\n",
      "For the train dataset, there are 16827 nan values, out of 220780 (7.62%).\n",
      "[IterativeImputer] Completing matrix with shape (1162, 190)\n",
      "[IterativeImputer] Ending imputation round 1/50, elapsed time 4.33\n",
      "[IterativeImputer] Change: 48.150001935452266, scaled tolerance: 0.013896992902987433 \n",
      "[IterativeImputer] Ending imputation round 2/50, elapsed time 8.41\n",
      "[IterativeImputer] Change: 4.925827540587253, scaled tolerance: 0.013896992902987433 \n",
      "[IterativeImputer] Ending imputation round 3/50, elapsed time 12.38\n",
      "[IterativeImputer] Change: 5.074170267817152, scaled tolerance: 0.013896992902987433 \n",
      "[IterativeImputer] Ending imputation round 4/50, elapsed time 16.37\n",
      "[IterativeImputer] Change: 1.5202463930482413, scaled tolerance: 0.013896992902987433 \n",
      "[IterativeImputer] Ending imputation round 5/50, elapsed time 20.29\n",
      "[IterativeImputer] Change: 0.5267513666383655, scaled tolerance: 0.013896992902987433 \n",
      "[IterativeImputer] Ending imputation round 6/50, elapsed time 24.31\n",
      "[IterativeImputer] Change: 0.2945688635842433, scaled tolerance: 0.013896992902987433 \n",
      "[IterativeImputer] Ending imputation round 7/50, elapsed time 28.20\n",
      "[IterativeImputer] Change: 0.24177271776961182, scaled tolerance: 0.013896992902987433 \n",
      "[IterativeImputer] Ending imputation round 8/50, elapsed time 32.09\n",
      "[IterativeImputer] Change: 0.21014845434013693, scaled tolerance: 0.013896992902987433 \n",
      "[IterativeImputer] Ending imputation round 9/50, elapsed time 36.01\n",
      "[IterativeImputer] Change: 0.18788905016243893, scaled tolerance: 0.013896992902987433 \n",
      "[IterativeImputer] Ending imputation round 10/50, elapsed time 40.38\n",
      "[IterativeImputer] Change: 0.1705056028431693, scaled tolerance: 0.013896992902987433 \n",
      "[IterativeImputer] Ending imputation round 11/50, elapsed time 44.32\n",
      "[IterativeImputer] Change: 0.15600983061871757, scaled tolerance: 0.013896992902987433 \n",
      "[IterativeImputer] Ending imputation round 12/50, elapsed time 48.24\n",
      "[IterativeImputer] Change: 0.14433093144643144, scaled tolerance: 0.013896992902987433 \n",
      "[IterativeImputer] Ending imputation round 13/50, elapsed time 52.58\n",
      "[IterativeImputer] Change: 0.13778603165332953, scaled tolerance: 0.013896992902987433 \n",
      "[IterativeImputer] Ending imputation round 14/50, elapsed time 56.51\n",
      "[IterativeImputer] Change: 0.13124551500856466, scaled tolerance: 0.013896992902987433 \n",
      "[IterativeImputer] Ending imputation round 15/50, elapsed time 60.63\n",
      "[IterativeImputer] Change: 0.12486452251963687, scaled tolerance: 0.013896992902987433 \n",
      "[IterativeImputer] Ending imputation round 16/50, elapsed time 64.58\n",
      "[IterativeImputer] Change: 0.1186962093210412, scaled tolerance: 0.013896992902987433 \n",
      "[IterativeImputer] Ending imputation round 17/50, elapsed time 68.89\n",
      "[IterativeImputer] Change: 0.11277156940869351, scaled tolerance: 0.013896992902987433 \n",
      "[IterativeImputer] Ending imputation round 18/50, elapsed time 72.94\n",
      "[IterativeImputer] Change: 0.10710365033247263, scaled tolerance: 0.013896992902987433 \n",
      "[IterativeImputer] Ending imputation round 19/50, elapsed time 76.86\n",
      "[IterativeImputer] Change: 0.10169218596850933, scaled tolerance: 0.013896992902987433 \n",
      "[IterativeImputer] Ending imputation round 20/50, elapsed time 81.09\n",
      "[IterativeImputer] Change: 0.0965331930317525, scaled tolerance: 0.013896992902987433 \n",
      "[IterativeImputer] Ending imputation round 21/50, elapsed time 85.42\n",
      "[IterativeImputer] Change: 0.09161723214109313, scaled tolerance: 0.013896992902987433 \n",
      "[IterativeImputer] Ending imputation round 22/50, elapsed time 89.40\n",
      "[IterativeImputer] Change: 0.08693615153374222, scaled tolerance: 0.013896992902987433 \n",
      "[IterativeImputer] Ending imputation round 23/50, elapsed time 93.25\n",
      "[IterativeImputer] Change: 0.08248017369655712, scaled tolerance: 0.013896992902987433 \n",
      "[IterativeImputer] Ending imputation round 24/50, elapsed time 97.35\n",
      "[IterativeImputer] Change: 0.07861626151826012, scaled tolerance: 0.013896992902987433 \n",
      "[IterativeImputer] Ending imputation round 25/50, elapsed time 101.98\n",
      "[IterativeImputer] Change: 0.07563473742048821, scaled tolerance: 0.013896992902987433 \n",
      "[IterativeImputer] Ending imputation round 26/50, elapsed time 106.26\n",
      "[IterativeImputer] Change: 0.07278056900585655, scaled tolerance: 0.013896992902987433 \n",
      "[IterativeImputer] Ending imputation round 27/50, elapsed time 110.39\n",
      "[IterativeImputer] Change: 0.07004769275041287, scaled tolerance: 0.013896992902987433 \n",
      "[IterativeImputer] Ending imputation round 28/50, elapsed time 114.48\n",
      "[IterativeImputer] Change: 0.06742939665924572, scaled tolerance: 0.013896992902987433 \n",
      "[IterativeImputer] Ending imputation round 29/50, elapsed time 118.83\n",
      "[IterativeImputer] Change: 0.06492079345988114, scaled tolerance: 0.013896992902987433 \n",
      "[IterativeImputer] Ending imputation round 30/50, elapsed time 122.78\n",
      "[IterativeImputer] Change: 0.062516836032812, scaled tolerance: 0.013896992902987433 \n",
      "[IterativeImputer] Ending imputation round 31/50, elapsed time 126.68\n",
      "[IterativeImputer] Change: 0.06021211263444415, scaled tolerance: 0.013896992902987433 \n",
      "[IterativeImputer] Ending imputation round 32/50, elapsed time 131.18\n",
      "[IterativeImputer] Change: 0.058002649785317884, scaled tolerance: 0.013896992902987433 \n",
      "[IterativeImputer] Ending imputation round 33/50, elapsed time 136.10\n",
      "[IterativeImputer] Change: 0.055882997134531265, scaled tolerance: 0.013896992902987433 \n",
      "[IterativeImputer] Ending imputation round 34/50, elapsed time 140.45\n",
      "[IterativeImputer] Change: 0.05384896945641915, scaled tolerance: 0.013896992902987433 \n",
      "[IterativeImputer] Ending imputation round 35/50, elapsed time 144.88\n",
      "[IterativeImputer] Change: 0.05189655461267642, scaled tolerance: 0.013896992902987433 \n",
      "[IterativeImputer] Ending imputation round 36/50, elapsed time 149.08\n",
      "[IterativeImputer] Change: 0.05002051971621213, scaled tolerance: 0.013896992902987433 \n",
      "[IterativeImputer] Ending imputation round 37/50, elapsed time 153.02\n",
      "[IterativeImputer] Change: 0.04821666374768924, scaled tolerance: 0.013896992902987433 \n",
      "[IterativeImputer] Ending imputation round 38/50, elapsed time 156.86\n",
      "[IterativeImputer] Change: 0.04648099509847797, scaled tolerance: 0.013896992902987433 \n",
      "[IterativeImputer] Ending imputation round 39/50, elapsed time 160.84\n",
      "[IterativeImputer] Change: 0.044810029385442485, scaled tolerance: 0.013896992902987433 \n",
      "[IterativeImputer] Ending imputation round 40/50, elapsed time 164.58\n",
      "[IterativeImputer] Change: 0.04319916936664367, scaled tolerance: 0.013896992902987433 \n",
      "[IterativeImputer] Ending imputation round 41/50, elapsed time 168.28\n",
      "[IterativeImputer] Change: 0.04164564424158587, scaled tolerance: 0.013896992902987433 \n",
      "[IterativeImputer] Ending imputation round 42/50, elapsed time 172.42\n",
      "[IterativeImputer] Change: 0.04014614739637801, scaled tolerance: 0.013896992902987433 \n",
      "[IterativeImputer] Ending imputation round 43/50, elapsed time 176.50\n",
      "[IterativeImputer] Change: 0.04006162499469834, scaled tolerance: 0.013896992902987433 \n",
      "[IterativeImputer] Ending imputation round 44/50, elapsed time 180.37\n",
      "[IterativeImputer] Change: 0.040340854621311484, scaled tolerance: 0.013896992902987433 \n",
      "[IterativeImputer] Ending imputation round 45/50, elapsed time 184.16\n",
      "[IterativeImputer] Change: 0.04058672844465816, scaled tolerance: 0.013896992902987433 \n",
      "[IterativeImputer] Ending imputation round 46/50, elapsed time 188.10\n",
      "[IterativeImputer] Change: 0.04080301785788376, scaled tolerance: 0.013896992902987433 \n",
      "[IterativeImputer] Ending imputation round 47/50, elapsed time 191.98\n",
      "[IterativeImputer] Change: 0.0410933655982656, scaled tolerance: 0.013896992902987433 \n",
      "[IterativeImputer] Ending imputation round 48/50, elapsed time 195.71\n",
      "[IterativeImputer] Change: 0.041335314352614616, scaled tolerance: 0.013896992902987433 \n",
      "[IterativeImputer] Ending imputation round 49/50, elapsed time 199.50\n",
      "[IterativeImputer] Change: 0.04153168157342907, scaled tolerance: 0.013896992902987433 \n",
      "[IterativeImputer] Ending imputation round 50/50, elapsed time 203.30\n",
      "[IterativeImputer] Change: 0.04168744958493087, scaled tolerance: 0.013896992902987433 \n",
      "[IterativeImputer] Completing matrix with shape (1162, 190)\n",
      "[IterativeImputer] Ending imputation round 1/50, elapsed time 0.09\n"
     ]
    },
    {
     "name": "stderr",
     "output_type": "stream",
     "text": [
      "/Users/antoine/miniconda3/lib/python3.7/site-packages/sklearn/impute/_iterative.py:701: ConvergenceWarning: [IterativeImputer] Early stopping criterion not reached.\n",
      "  ConvergenceWarning,\n"
     ]
    },
    {
     "name": "stdout",
     "output_type": "stream",
     "text": [
      "[IterativeImputer] Ending imputation round 2/50, elapsed time 0.20\n",
      "[IterativeImputer] Ending imputation round 3/50, elapsed time 0.30\n",
      "[IterativeImputer] Ending imputation round 4/50, elapsed time 0.37\n",
      "[IterativeImputer] Ending imputation round 5/50, elapsed time 0.45\n",
      "[IterativeImputer] Ending imputation round 6/50, elapsed time 0.53\n",
      "[IterativeImputer] Ending imputation round 7/50, elapsed time 0.60\n",
      "[IterativeImputer] Ending imputation round 8/50, elapsed time 0.70\n",
      "[IterativeImputer] Ending imputation round 9/50, elapsed time 0.78\n",
      "[IterativeImputer] Ending imputation round 10/50, elapsed time 0.86\n",
      "[IterativeImputer] Ending imputation round 11/50, elapsed time 0.95\n",
      "[IterativeImputer] Ending imputation round 12/50, elapsed time 1.02\n",
      "[IterativeImputer] Ending imputation round 13/50, elapsed time 1.09\n",
      "[IterativeImputer] Ending imputation round 14/50, elapsed time 1.21\n",
      "[IterativeImputer] Ending imputation round 15/50, elapsed time 1.31\n",
      "[IterativeImputer] Ending imputation round 16/50, elapsed time 1.42\n",
      "[IterativeImputer] Ending imputation round 17/50, elapsed time 1.53\n",
      "[IterativeImputer] Ending imputation round 18/50, elapsed time 1.61\n",
      "[IterativeImputer] Ending imputation round 19/50, elapsed time 1.69\n",
      "[IterativeImputer] Ending imputation round 20/50, elapsed time 1.78\n",
      "[IterativeImputer] Ending imputation round 21/50, elapsed time 1.90\n",
      "[IterativeImputer] Ending imputation round 22/50, elapsed time 2.01\n",
      "[IterativeImputer] Ending imputation round 23/50, elapsed time 2.11\n",
      "[IterativeImputer] Ending imputation round 24/50, elapsed time 2.21\n",
      "[IterativeImputer] Ending imputation round 25/50, elapsed time 2.33\n",
      "[IterativeImputer] Ending imputation round 26/50, elapsed time 2.45\n",
      "[IterativeImputer] Ending imputation round 27/50, elapsed time 2.59\n",
      "[IterativeImputer] Ending imputation round 28/50, elapsed time 2.67\n",
      "[IterativeImputer] Ending imputation round 29/50, elapsed time 2.77\n",
      "[IterativeImputer] Ending imputation round 30/50, elapsed time 2.95\n",
      "[IterativeImputer] Ending imputation round 31/50, elapsed time 3.06\n",
      "[IterativeImputer] Ending imputation round 32/50, elapsed time 3.13\n",
      "[IterativeImputer] Ending imputation round 33/50, elapsed time 3.21\n",
      "[IterativeImputer] Ending imputation round 34/50, elapsed time 3.28\n",
      "[IterativeImputer] Ending imputation round 35/50, elapsed time 3.36\n",
      "[IterativeImputer] Ending imputation round 36/50, elapsed time 3.43\n",
      "[IterativeImputer] Ending imputation round 37/50, elapsed time 3.50\n",
      "[IterativeImputer] Ending imputation round 38/50, elapsed time 3.57\n",
      "[IterativeImputer] Ending imputation round 39/50, elapsed time 3.63\n",
      "[IterativeImputer] Ending imputation round 40/50, elapsed time 3.71\n",
      "[IterativeImputer] Ending imputation round 41/50, elapsed time 3.78\n",
      "[IterativeImputer] Ending imputation round 42/50, elapsed time 3.87\n",
      "[IterativeImputer] Ending imputation round 43/50, elapsed time 3.98\n",
      "[IterativeImputer] Ending imputation round 44/50, elapsed time 4.05\n",
      "[IterativeImputer] Ending imputation round 45/50, elapsed time 4.12\n",
      "[IterativeImputer] Ending imputation round 46/50, elapsed time 4.20\n",
      "[IterativeImputer] Ending imputation round 47/50, elapsed time 4.28\n",
      "[IterativeImputer] Ending imputation round 48/50, elapsed time 4.34\n",
      "[IterativeImputer] Ending imputation round 49/50, elapsed time 4.42\n",
      "[IterativeImputer] Ending imputation round 50/50, elapsed time 4.49\n",
      "[IterativeImputer] Completing matrix with shape (776, 190)\n",
      "[IterativeImputer] Ending imputation round 1/50, elapsed time 0.05\n",
      "[IterativeImputer] Ending imputation round 2/50, elapsed time 0.10\n",
      "[IterativeImputer] Ending imputation round 3/50, elapsed time 0.16\n",
      "[IterativeImputer] Ending imputation round 4/50, elapsed time 0.23\n",
      "[IterativeImputer] Ending imputation round 5/50, elapsed time 0.31\n",
      "[IterativeImputer] Ending imputation round 6/50, elapsed time 0.39\n",
      "[IterativeImputer] Ending imputation round 7/50, elapsed time 0.46\n",
      "[IterativeImputer] Ending imputation round 8/50, elapsed time 0.52\n",
      "[IterativeImputer] Ending imputation round 9/50, elapsed time 0.57\n",
      "[IterativeImputer] Ending imputation round 10/50, elapsed time 0.62\n",
      "[IterativeImputer] Ending imputation round 11/50, elapsed time 0.67\n",
      "[IterativeImputer] Ending imputation round 12/50, elapsed time 0.73\n",
      "[IterativeImputer] Ending imputation round 13/50, elapsed time 0.81\n",
      "[IterativeImputer] Ending imputation round 14/50, elapsed time 0.89\n",
      "[IterativeImputer] Ending imputation round 15/50, elapsed time 0.97\n",
      "[IterativeImputer] Ending imputation round 16/50, elapsed time 1.02\n",
      "[IterativeImputer] Ending imputation round 17/50, elapsed time 1.07\n",
      "[IterativeImputer] Ending imputation round 18/50, elapsed time 1.13\n",
      "[IterativeImputer] Ending imputation round 19/50, elapsed time 1.18\n",
      "[IterativeImputer] Ending imputation round 20/50, elapsed time 1.22\n",
      "[IterativeImputer] Ending imputation round 21/50, elapsed time 1.29\n",
      "[IterativeImputer] Ending imputation round 22/50, elapsed time 1.38\n",
      "[IterativeImputer] Ending imputation round 23/50, elapsed time 1.45\n",
      "[IterativeImputer] Ending imputation round 24/50, elapsed time 1.51\n",
      "[IterativeImputer] Ending imputation round 25/50, elapsed time 1.56\n",
      "[IterativeImputer] Ending imputation round 26/50, elapsed time 1.63\n",
      "[IterativeImputer] Ending imputation round 27/50, elapsed time 1.68\n",
      "[IterativeImputer] Ending imputation round 28/50, elapsed time 1.72\n",
      "[IterativeImputer] Ending imputation round 29/50, elapsed time 1.78\n",
      "[IterativeImputer] Ending imputation round 30/50, elapsed time 1.82\n",
      "[IterativeImputer] Ending imputation round 31/50, elapsed time 1.89\n",
      "[IterativeImputer] Ending imputation round 32/50, elapsed time 1.96\n",
      "[IterativeImputer] Ending imputation round 33/50, elapsed time 2.02\n",
      "[IterativeImputer] Ending imputation round 34/50, elapsed time 2.07\n",
      "[IterativeImputer] Ending imputation round 35/50, elapsed time 2.13\n",
      "[IterativeImputer] Ending imputation round 36/50, elapsed time 2.18\n",
      "[IterativeImputer] Ending imputation round 37/50, elapsed time 2.22\n",
      "[IterativeImputer] Ending imputation round 38/50, elapsed time 2.27\n",
      "[IterativeImputer] Ending imputation round 39/50, elapsed time 2.35\n",
      "[IterativeImputer] Ending imputation round 40/50, elapsed time 2.43\n",
      "[IterativeImputer] Ending imputation round 41/50, elapsed time 2.51\n",
      "[IterativeImputer] Ending imputation round 42/50, elapsed time 2.58\n",
      "[IterativeImputer] Ending imputation round 43/50, elapsed time 2.63\n",
      "[IterativeImputer] Ending imputation round 44/50, elapsed time 2.68\n",
      "[IterativeImputer] Ending imputation round 45/50, elapsed time 2.72\n",
      "[IterativeImputer] Ending imputation round 46/50, elapsed time 2.78\n",
      "[IterativeImputer] Ending imputation round 47/50, elapsed time 2.86\n",
      "[IterativeImputer] Ending imputation round 48/50, elapsed time 2.93\n",
      "[IterativeImputer] Ending imputation round 49/50, elapsed time 3.00\n",
      "[IterativeImputer] Ending imputation round 50/50, elapsed time 3.07\n",
      "Exporting clean data to csv...\n",
      "All done!\n"
     ]
    }
   ],
   "source": [
    "print(\"Loading raw data...\")\n",
    "X_train, y_train, X_test = load_raw_data()\n",
    "\n",
    "print(\"Removing outliers...\")\n",
    "X_train, y_train = remove_outliers(X_train, y_train)\n",
    "\n",
    "print(\"Scaling data...\")\n",
    "X_train, X_test = scale(X_train, X_test)\n",
    "\n",
    "print(\"Selecting features...\")\n",
    "X_train, X_test = remove_constant_features(X_train, X_test)\n",
    "X_train, X_test = remove_too_correlated_features(X_train, X_test, threshold=0.98)\n",
    "\n",
    "#TODO: Clean pipeline\n",
    "# If we want iterative imputation, and don't want to run it for one hour (should try at one point though), need to\n",
    "# do feature selection before we do imputation. Except biggest filter for feature selection is f_regression which\n",
    "# cannot deal with nan values. Therefore, intermediary dumb knn imputation was quickly/dirtily \n",
    "# implemented to see results.\n",
    "# Conclusion: we achieve ~same or better validation scores with a LOT less features, seems like an \n",
    "# interresting way forward (even though test scores are a bit lower once submitted, but to not \n",
    "# overfit on the public ones and fail on the secret ones, should only watch validation score)\n",
    "X_train_mask = X_train.isna()\n",
    "X_test_mask = X_test.isna()\n",
    "X_train, X_test = impute_values(X_train, X_test, method='knn')\n",
    "X_train, X_test, X_train_mask, X_test_mask = remove_random_features(X_train, \n",
    "                                                                    y_train, \n",
    "                                                                    X_test, \n",
    "                                                                    Xtrm=X_train_mask, \n",
    "                                                                    Xtem=X_test_mask,\n",
    "                                                                    k=190)\n",
    "X_train = X_train.mask(np.array(X_train_mask))\n",
    "X_test = X_test.mask(np.array(X_test_mask))\n",
    "\n",
    "print(\"Imputing nan values...\")\n",
    "X_train, X_test = impute_values(X_train, X_test, method='iterative', max_iter=50)\n",
    "\n",
    "print(\"Exporting clean data to csv...\")\n",
    "export_to_csv(X_train, y_train, X_test)\n",
    "\n",
    "print(\"All done!\")"
   ]
  },
  {
   "cell_type": "markdown",
   "id": "d849332e",
   "metadata": {},
   "source": [
    "---\n",
    "### Model training"
   ]
  },
  {
   "cell_type": "code",
   "execution_count": 19,
   "id": "8fdcf188",
   "metadata": {
    "scrolled": false
   },
   "outputs": [
    {
     "name": "stdout",
     "output_type": "stream",
     "text": [
      "Fitting 5 folds for each of 20 candidates, totalling 100 fits\n",
      "[CV 1/5] END ........................alpha=0.01;, score=0.519 total time=   0.3s\n",
      "[CV 2/5] END ........................alpha=0.01;, score=0.533 total time=   0.3s\n",
      "[CV 3/5] END ........................alpha=0.01;, score=0.410 total time=   0.2s\n",
      "[CV 4/5] END ........................alpha=0.01;, score=0.564 total time=   0.4s\n",
      "[CV 5/5] END ........................alpha=0.01;, score=0.401 total time=   0.2s\n",
      "[CV 1/5] END ........alpha=0.012742749857031334;, score=0.520 total time=   0.3s\n",
      "[CV 2/5] END ........alpha=0.012742749857031334;, score=0.535 total time=   0.4s\n",
      "[CV 3/5] END ........alpha=0.012742749857031334;, score=0.415 total time=   0.2s\n",
      "[CV 4/5] END ........alpha=0.012742749857031334;, score=0.566 total time=   0.3s\n",
      "[CV 5/5] END ........alpha=0.012742749857031334;, score=0.404 total time=   0.2s\n",
      "[CV 1/5] END ........alpha=0.016237767391887217;, score=0.522 total time=   0.2s\n",
      "[CV 2/5] END ........alpha=0.016237767391887217;, score=0.537 total time=   0.2s\n",
      "[CV 3/5] END ........alpha=0.016237767391887217;, score=0.421 total time=   0.2s\n",
      "[CV 4/5] END ........alpha=0.016237767391887217;, score=0.567 total time=   0.2s\n",
      "[CV 5/5] END ........alpha=0.016237767391887217;, score=0.408 total time=   0.1s\n",
      "[CV 1/5] END ..........alpha=0.0206913808111479;, score=0.524 total time=   0.1s\n",
      "[CV 2/5] END ..........alpha=0.0206913808111479;, score=0.539 total time=   0.1s\n",
      "[CV 3/5] END ..........alpha=0.0206913808111479;, score=0.427 total time=   0.2s\n",
      "[CV 4/5] END ..........alpha=0.0206913808111479;, score=0.569 total time=   0.2s\n",
      "[CV 5/5] END ..........alpha=0.0206913808111479;, score=0.413 total time=   0.1s\n",
      "[CV 1/5] END ........alpha=0.026366508987303583;, score=0.526 total time=   0.1s\n",
      "[CV 2/5] END ........alpha=0.026366508987303583;, score=0.542 total time=   0.1s\n",
      "[CV 3/5] END ........alpha=0.026366508987303583;, score=0.433 total time=   0.2s\n",
      "[CV 4/5] END ........alpha=0.026366508987303583;, score=0.572 total time=   0.1s\n",
      "[CV 5/5] END ........alpha=0.026366508987303583;, score=0.418 total time=   0.1s\n",
      "[CV 1/5] END .........alpha=0.03359818286283781;, score=0.527 total time=   0.1s\n",
      "[CV 2/5] END .........alpha=0.03359818286283781;, score=0.546 total time=   0.1s\n",
      "[CV 3/5] END .........alpha=0.03359818286283781;, score=0.438 total time=   0.1s\n",
      "[CV 4/5] END .........alpha=0.03359818286283781;, score=0.572 total time=   0.1s\n",
      "[CV 5/5] END .........alpha=0.03359818286283781;, score=0.425 total time=   0.1s\n",
      "[CV 1/5] END .........alpha=0.04281332398719394;, score=0.526 total time=   0.1s\n",
      "[CV 2/5] END .........alpha=0.04281332398719394;, score=0.548 total time=   0.1s\n",
      "[CV 3/5] END .........alpha=0.04281332398719394;, score=0.443 total time=   0.1s\n",
      "[CV 4/5] END .........alpha=0.04281332398719394;, score=0.570 total time=   0.1s\n",
      "[CV 5/5] END .........alpha=0.04281332398719394;, score=0.430 total time=   0.1s\n",
      "[CV 1/5] END ..........alpha=0.0545559478116852;, score=0.526 total time=   0.0s\n",
      "[CV 2/5] END ..........alpha=0.0545559478116852;, score=0.550 total time=   0.0s\n",
      "[CV 3/5] END ..........alpha=0.0545559478116852;, score=0.447 total time=   0.1s\n",
      "[CV 4/5] END ..........alpha=0.0545559478116852;, score=0.568 total time=   0.1s\n",
      "[CV 5/5] END ..........alpha=0.0545559478116852;, score=0.434 total time=   0.0s\n",
      "[CV 1/5] END .........alpha=0.06951927961775606;, score=0.528 total time=   0.0s\n",
      "[CV 2/5] END .........alpha=0.06951927961775606;, score=0.550 total time=   0.0s\n",
      "[CV 3/5] END .........alpha=0.06951927961775606;, score=0.449 total time=   0.1s\n",
      "[CV 4/5] END .........alpha=0.06951927961775606;, score=0.564 total time=   0.0s\n",
      "[CV 5/5] END .........alpha=0.06951927961775606;, score=0.435 total time=   0.0s\n",
      "[CV 1/5] END .........alpha=0.08858667904100823;, score=0.527 total time=   0.0s\n",
      "[CV 2/5] END .........alpha=0.08858667904100823;, score=0.545 total time=   0.0s\n",
      "[CV 3/5] END .........alpha=0.08858667904100823;, score=0.451 total time=   0.0s\n",
      "[CV 4/5] END .........alpha=0.08858667904100823;, score=0.562 total time=   0.0s\n",
      "[CV 5/5] END .........alpha=0.08858667904100823;, score=0.436 total time=   0.0s\n",
      "[CV 1/5] END .........alpha=0.11288378916846889;, score=0.528 total time=   0.0s\n",
      "[CV 2/5] END .........alpha=0.11288378916846889;, score=0.539 total time=   0.0s\n",
      "[CV 3/5] END .........alpha=0.11288378916846889;, score=0.452 total time=   0.0s\n",
      "[CV 4/5] END .........alpha=0.11288378916846889;, score=0.558 total time=   0.0s\n",
      "[CV 5/5] END .........alpha=0.11288378916846889;, score=0.437 total time=   0.0s\n",
      "[CV 1/5] END .........alpha=0.14384498882876628;, score=0.525 total time=   0.0s\n",
      "[CV 2/5] END .........alpha=0.14384498882876628;, score=0.530 total time=   0.0s\n",
      "[CV 3/5] END .........alpha=0.14384498882876628;, score=0.453 total time=   0.0s\n",
      "[CV 4/5] END .........alpha=0.14384498882876628;, score=0.554 total time=   0.0s\n",
      "[CV 5/5] END .........alpha=0.14384498882876628;, score=0.436 total time=   0.0s\n",
      "[CV 1/5] END .........alpha=0.18329807108324356;, score=0.519 total time=   0.0s\n",
      "[CV 2/5] END .........alpha=0.18329807108324356;, score=0.520 total time=   0.0s\n",
      "[CV 3/5] END .........alpha=0.18329807108324356;, score=0.452 total time=   0.0s\n",
      "[CV 4/5] END .........alpha=0.18329807108324356;, score=0.545 total time=   0.0s\n",
      "[CV 5/5] END .........alpha=0.18329807108324356;, score=0.432 total time=   0.0s\n",
      "[CV 1/5] END .........alpha=0.23357214690901212;, score=0.511 total time=   0.0s\n",
      "[CV 2/5] END .........alpha=0.23357214690901212;, score=0.505 total time=   0.0s\n",
      "[CV 3/5] END .........alpha=0.23357214690901212;, score=0.444 total time=   0.0s\n",
      "[CV 4/5] END .........alpha=0.23357214690901212;, score=0.533 total time=   0.0s\n",
      "[CV 5/5] END .........alpha=0.23357214690901212;, score=0.424 total time=   0.0s\n",
      "[CV 1/5] END .........alpha=0.29763514416313175;, score=0.504 total time=   0.0s\n",
      "[CV 2/5] END .........alpha=0.29763514416313175;, score=0.487 total time=   0.0s\n",
      "[CV 3/5] END .........alpha=0.29763514416313175;, score=0.433 total time=   0.0s\n",
      "[CV 4/5] END .........alpha=0.29763514416313175;, score=0.518 total time=   0.0s\n",
      "[CV 5/5] END .........alpha=0.29763514416313175;, score=0.417 total time=   0.0s\n",
      "[CV 1/5] END .........alpha=0.37926901907322497;, score=0.501 total time=   0.0s\n",
      "[CV 2/5] END .........alpha=0.37926901907322497;, score=0.469 total time=   0.0s\n",
      "[CV 3/5] END .........alpha=0.37926901907322497;, score=0.418 total time=   0.0s\n",
      "[CV 4/5] END .........alpha=0.37926901907322497;, score=0.502 total time=   0.0s\n",
      "[CV 5/5] END .........alpha=0.37926901907322497;, score=0.408 total time=   0.0s\n",
      "[CV 1/5] END ..........alpha=0.4832930238571752;, score=0.494 total time=   0.0s\n",
      "[CV 2/5] END ..........alpha=0.4832930238571752;, score=0.456 total time=   0.0s\n",
      "[CV 3/5] END ..........alpha=0.4832930238571752;, score=0.403 total time=   0.0s\n",
      "[CV 4/5] END ..........alpha=0.4832930238571752;, score=0.490 total time=   0.0s\n",
      "[CV 5/5] END ..........alpha=0.4832930238571752;, score=0.402 total time=   0.0s\n",
      "[CV 1/5] END ...........alpha=0.615848211066026;, score=0.483 total time=   0.0s\n",
      "[CV 2/5] END ...........alpha=0.615848211066026;, score=0.448 total time=   0.0s\n",
      "[CV 3/5] END ...........alpha=0.615848211066026;, score=0.388 total time=   0.0s\n",
      "[CV 4/5] END ...........alpha=0.615848211066026;, score=0.479 total time=   0.0s\n",
      "[CV 5/5] END ...........alpha=0.615848211066026;, score=0.392 total time=   0.0s\n",
      "[CV 1/5] END ..........alpha=0.7847599703514611;, score=0.468 total time=   0.0s\n",
      "[CV 2/5] END ..........alpha=0.7847599703514611;, score=0.439 total time=   0.0s\n",
      "[CV 3/5] END ..........alpha=0.7847599703514611;, score=0.373 total time=   0.0s\n",
      "[CV 4/5] END ..........alpha=0.7847599703514611;, score=0.468 total time=   0.0s\n",
      "[CV 5/5] END ..........alpha=0.7847599703514611;, score=0.384 total time=   0.0s\n",
      "[CV 1/5] END .........................alpha=1.0;, score=0.444 total time=   0.0s\n",
      "[CV 2/5] END .........................alpha=1.0;, score=0.424 total time=   0.0s\n",
      "[CV 3/5] END .........................alpha=1.0;, score=0.350 total time=   0.0s\n",
      "[CV 4/5] END .........................alpha=1.0;, score=0.449 total time=   0.0s\n",
      "[CV 5/5] END .........................alpha=1.0;, score=0.371 total time=   0.0s\n",
      "The best validation score obtained is 0.50504 with\n",
      "\talpha: 0.0545559478116852\n"
     ]
    }
   ],
   "source": [
    "lasso = best_lasso(X_train, y_train)"
   ]
  },
  {
   "cell_type": "code",
   "execution_count": 26,
   "id": "753572c1",
   "metadata": {
    "scrolled": false
   },
   "outputs": [
    {
     "name": "stdout",
     "output_type": "stream",
     "text": [
      "Fitting 5 folds for each of 42 candidates, totalling 210 fits\n",
      "[CV 1/5] END .C=1.0, epsilon=0.0001, kernel=rbf;, score=0.511 total time=   0.1s\n",
      "[CV 2/5] END .C=1.0, epsilon=0.0001, kernel=rbf;, score=0.469 total time=   0.1s\n",
      "[CV 3/5] END .C=1.0, epsilon=0.0001, kernel=rbf;, score=0.447 total time=   0.1s\n",
      "[CV 4/5] END .C=1.0, epsilon=0.0001, kernel=rbf;, score=0.458 total time=   0.1s\n",
      "[CV 5/5] END .C=1.0, epsilon=0.0001, kernel=rbf;, score=0.470 total time=   0.1s\n",
      "[CV 1/5] END C=1.0, epsilon=0.00031622776601683794, kernel=rbf;, score=0.511 total time=   0.1s\n",
      "[CV 2/5] END C=1.0, epsilon=0.00031622776601683794, kernel=rbf;, score=0.469 total time=   0.1s\n",
      "[CV 3/5] END C=1.0, epsilon=0.00031622776601683794, kernel=rbf;, score=0.447 total time=   0.1s\n",
      "[CV 4/5] END C=1.0, epsilon=0.00031622776601683794, kernel=rbf;, score=0.458 total time=   0.1s\n",
      "[CV 5/5] END C=1.0, epsilon=0.00031622776601683794, kernel=rbf;, score=0.470 total time=   0.1s\n",
      "[CV 1/5] END ..C=1.0, epsilon=0.001, kernel=rbf;, score=0.511 total time=   0.1s\n",
      "[CV 2/5] END ..C=1.0, epsilon=0.001, kernel=rbf;, score=0.469 total time=   0.1s\n",
      "[CV 3/5] END ..C=1.0, epsilon=0.001, kernel=rbf;, score=0.447 total time=   0.1s\n",
      "[CV 4/5] END ..C=1.0, epsilon=0.001, kernel=rbf;, score=0.458 total time=   0.1s\n",
      "[CV 5/5] END ..C=1.0, epsilon=0.001, kernel=rbf;, score=0.470 total time=   0.1s\n",
      "[CV 1/5] END C=1.0, epsilon=0.0031622776601683794, kernel=rbf;, score=0.511 total time=   0.2s\n",
      "[CV 2/5] END C=1.0, epsilon=0.0031622776601683794, kernel=rbf;, score=0.469 total time=   0.1s\n",
      "[CV 3/5] END C=1.0, epsilon=0.0031622776601683794, kernel=rbf;, score=0.447 total time=   0.1s\n",
      "[CV 4/5] END C=1.0, epsilon=0.0031622776601683794, kernel=rbf;, score=0.458 total time=   0.1s\n",
      "[CV 5/5] END C=1.0, epsilon=0.0031622776601683794, kernel=rbf;, score=0.470 total time=   0.2s\n",
      "[CV 1/5] END ...C=1.0, epsilon=0.01, kernel=rbf;, score=0.511 total time=   0.1s\n",
      "[CV 2/5] END ...C=1.0, epsilon=0.01, kernel=rbf;, score=0.469 total time=   0.1s\n",
      "[CV 3/5] END ...C=1.0, epsilon=0.01, kernel=rbf;, score=0.447 total time=   0.1s\n",
      "[CV 4/5] END ...C=1.0, epsilon=0.01, kernel=rbf;, score=0.458 total time=   0.1s\n",
      "[CV 5/5] END ...C=1.0, epsilon=0.01, kernel=rbf;, score=0.470 total time=   0.1s\n",
      "[CV 1/5] END C=1.0, epsilon=0.03162277660168379, kernel=rbf;, score=0.511 total time=   0.1s\n",
      "[CV 2/5] END C=1.0, epsilon=0.03162277660168379, kernel=rbf;, score=0.469 total time=   0.1s\n",
      "[CV 3/5] END C=1.0, epsilon=0.03162277660168379, kernel=rbf;, score=0.447 total time=   0.1s\n",
      "[CV 4/5] END C=1.0, epsilon=0.03162277660168379, kernel=rbf;, score=0.458 total time=   0.1s\n",
      "[CV 5/5] END C=1.0, epsilon=0.03162277660168379, kernel=rbf;, score=0.470 total time=   0.1s\n",
      "[CV 1/5] END ....C=1.0, epsilon=0.1, kernel=rbf;, score=0.511 total time=   0.1s\n",
      "[CV 2/5] END ....C=1.0, epsilon=0.1, kernel=rbf;, score=0.468 total time=   0.1s\n",
      "[CV 3/5] END ....C=1.0, epsilon=0.1, kernel=rbf;, score=0.447 total time=   0.1s\n",
      "[CV 4/5] END ....C=1.0, epsilon=0.1, kernel=rbf;, score=0.458 total time=   0.1s\n",
      "[CV 5/5] END ....C=1.0, epsilon=0.1, kernel=rbf;, score=0.469 total time=   0.1s\n",
      "[CV 1/5] END C=3.9810717055349722, epsilon=0.0001, kernel=rbf;, score=0.638 total time=   0.1s\n",
      "[CV 2/5] END C=3.9810717055349722, epsilon=0.0001, kernel=rbf;, score=0.578 total time=   0.1s\n",
      "[CV 3/5] END C=3.9810717055349722, epsilon=0.0001, kernel=rbf;, score=0.537 total time=   0.1s\n",
      "[CV 4/5] END C=3.9810717055349722, epsilon=0.0001, kernel=rbf;, score=0.557 total time=   0.2s\n",
      "[CV 5/5] END C=3.9810717055349722, epsilon=0.0001, kernel=rbf;, score=0.579 total time=   0.1s\n",
      "[CV 1/5] END C=3.9810717055349722, epsilon=0.00031622776601683794, kernel=rbf;, score=0.638 total time=   0.1s\n",
      "[CV 2/5] END C=3.9810717055349722, epsilon=0.00031622776601683794, kernel=rbf;, score=0.578 total time=   0.2s\n",
      "[CV 3/5] END C=3.9810717055349722, epsilon=0.00031622776601683794, kernel=rbf;, score=0.537 total time=   0.1s\n",
      "[CV 4/5] END C=3.9810717055349722, epsilon=0.00031622776601683794, kernel=rbf;, score=0.557 total time=   0.1s\n",
      "[CV 5/5] END C=3.9810717055349722, epsilon=0.00031622776601683794, kernel=rbf;, score=0.579 total time=   0.2s\n",
      "[CV 1/5] END C=3.9810717055349722, epsilon=0.001, kernel=rbf;, score=0.638 total time=   0.1s\n",
      "[CV 2/5] END C=3.9810717055349722, epsilon=0.001, kernel=rbf;, score=0.578 total time=   0.1s\n",
      "[CV 3/5] END C=3.9810717055349722, epsilon=0.001, kernel=rbf;, score=0.537 total time=   0.1s\n",
      "[CV 4/5] END C=3.9810717055349722, epsilon=0.001, kernel=rbf;, score=0.557 total time=   0.1s\n",
      "[CV 5/5] END C=3.9810717055349722, epsilon=0.001, kernel=rbf;, score=0.579 total time=   0.1s\n",
      "[CV 1/5] END C=3.9810717055349722, epsilon=0.0031622776601683794, kernel=rbf;, score=0.638 total time=   0.1s\n",
      "[CV 2/5] END C=3.9810717055349722, epsilon=0.0031622776601683794, kernel=rbf;, score=0.578 total time=   0.2s\n",
      "[CV 3/5] END C=3.9810717055349722, epsilon=0.0031622776601683794, kernel=rbf;, score=0.537 total time=   0.1s\n",
      "[CV 4/5] END C=3.9810717055349722, epsilon=0.0031622776601683794, kernel=rbf;, score=0.557 total time=   0.2s\n",
      "[CV 5/5] END C=3.9810717055349722, epsilon=0.0031622776601683794, kernel=rbf;, score=0.579 total time=   0.1s\n",
      "[CV 1/5] END C=3.9810717055349722, epsilon=0.01, kernel=rbf;, score=0.638 total time=   0.2s\n",
      "[CV 2/5] END C=3.9810717055349722, epsilon=0.01, kernel=rbf;, score=0.578 total time=   0.1s\n",
      "[CV 3/5] END C=3.9810717055349722, epsilon=0.01, kernel=rbf;, score=0.537 total time=   0.2s\n",
      "[CV 4/5] END C=3.9810717055349722, epsilon=0.01, kernel=rbf;, score=0.557 total time=   0.1s\n",
      "[CV 5/5] END C=3.9810717055349722, epsilon=0.01, kernel=rbf;, score=0.579 total time=   0.2s\n",
      "[CV 1/5] END C=3.9810717055349722, epsilon=0.03162277660168379, kernel=rbf;, score=0.639 total time=   0.1s\n",
      "[CV 2/5] END C=3.9810717055349722, epsilon=0.03162277660168379, kernel=rbf;, score=0.578 total time=   0.1s\n",
      "[CV 3/5] END C=3.9810717055349722, epsilon=0.03162277660168379, kernel=rbf;, score=0.537 total time=   0.1s\n",
      "[CV 4/5] END C=3.9810717055349722, epsilon=0.03162277660168379, kernel=rbf;, score=0.557 total time=   0.1s\n",
      "[CV 5/5] END C=3.9810717055349722, epsilon=0.03162277660168379, kernel=rbf;, score=0.579 total time=   0.1s\n",
      "[CV 1/5] END C=3.9810717055349722, epsilon=0.1, kernel=rbf;, score=0.640 total time=   0.1s\n",
      "[CV 2/5] END C=3.9810717055349722, epsilon=0.1, kernel=rbf;, score=0.578 total time=   0.1s\n",
      "[CV 3/5] END C=3.9810717055349722, epsilon=0.1, kernel=rbf;, score=0.538 total time=   0.1s\n",
      "[CV 4/5] END C=3.9810717055349722, epsilon=0.1, kernel=rbf;, score=0.558 total time=   0.1s\n",
      "[CV 5/5] END C=3.9810717055349722, epsilon=0.1, kernel=rbf;, score=0.580 total time=   0.1s\n",
      "[CV 1/5] END C=15.848931924611133, epsilon=0.0001, kernel=rbf;, score=0.739 total time=   0.2s\n",
      "[CV 2/5] END C=15.848931924611133, epsilon=0.0001, kernel=rbf;, score=0.649 total time=   0.2s\n",
      "[CV 3/5] END C=15.848931924611133, epsilon=0.0001, kernel=rbf;, score=0.596 total time=   0.2s\n",
      "[CV 4/5] END C=15.848931924611133, epsilon=0.0001, kernel=rbf;, score=0.627 total time=   0.2s\n",
      "[CV 5/5] END C=15.848931924611133, epsilon=0.0001, kernel=rbf;, score=0.650 total time=   0.2s\n",
      "[CV 1/5] END C=15.848931924611133, epsilon=0.00031622776601683794, kernel=rbf;, score=0.739 total time=   0.2s\n",
      "[CV 2/5] END C=15.848931924611133, epsilon=0.00031622776601683794, kernel=rbf;, score=0.649 total time=   0.2s\n",
      "[CV 3/5] END C=15.848931924611133, epsilon=0.00031622776601683794, kernel=rbf;, score=0.596 total time=   0.2s\n",
      "[CV 4/5] END C=15.848931924611133, epsilon=0.00031622776601683794, kernel=rbf;, score=0.627 total time=   0.2s\n",
      "[CV 5/5] END C=15.848931924611133, epsilon=0.00031622776601683794, kernel=rbf;, score=0.650 total time=   0.2s\n",
      "[CV 1/5] END C=15.848931924611133, epsilon=0.001, kernel=rbf;, score=0.739 total time=   0.2s\n",
      "[CV 2/5] END C=15.848931924611133, epsilon=0.001, kernel=rbf;, score=0.649 total time=   0.2s\n",
      "[CV 3/5] END C=15.848931924611133, epsilon=0.001, kernel=rbf;, score=0.596 total time=   0.2s\n",
      "[CV 4/5] END C=15.848931924611133, epsilon=0.001, kernel=rbf;, score=0.627 total time=   0.2s\n",
      "[CV 5/5] END C=15.848931924611133, epsilon=0.001, kernel=rbf;, score=0.650 total time=   0.2s\n",
      "[CV 1/5] END C=15.848931924611133, epsilon=0.0031622776601683794, kernel=rbf;, score=0.739 total time=   0.2s\n",
      "[CV 2/5] END C=15.848931924611133, epsilon=0.0031622776601683794, kernel=rbf;, score=0.649 total time=   0.2s\n"
     ]
    },
    {
     "name": "stdout",
     "output_type": "stream",
     "text": [
      "[CV 3/5] END C=15.848931924611133, epsilon=0.0031622776601683794, kernel=rbf;, score=0.596 total time=   0.2s\n",
      "[CV 4/5] END C=15.848931924611133, epsilon=0.0031622776601683794, kernel=rbf;, score=0.627 total time=   0.2s\n",
      "[CV 5/5] END C=15.848931924611133, epsilon=0.0031622776601683794, kernel=rbf;, score=0.650 total time=   0.2s\n",
      "[CV 1/5] END C=15.848931924611133, epsilon=0.01, kernel=rbf;, score=0.739 total time=   0.2s\n",
      "[CV 2/5] END C=15.848931924611133, epsilon=0.01, kernel=rbf;, score=0.649 total time=   0.2s\n",
      "[CV 3/5] END C=15.848931924611133, epsilon=0.01, kernel=rbf;, score=0.596 total time=   0.2s\n",
      "[CV 4/5] END C=15.848931924611133, epsilon=0.01, kernel=rbf;, score=0.627 total time=   0.2s\n",
      "[CV 5/5] END C=15.848931924611133, epsilon=0.01, kernel=rbf;, score=0.650 total time=   0.2s\n",
      "[CV 1/5] END C=15.848931924611133, epsilon=0.03162277660168379, kernel=rbf;, score=0.739 total time=   0.2s\n",
      "[CV 2/5] END C=15.848931924611133, epsilon=0.03162277660168379, kernel=rbf;, score=0.649 total time=   0.2s\n",
      "[CV 3/5] END C=15.848931924611133, epsilon=0.03162277660168379, kernel=rbf;, score=0.597 total time=   0.2s\n",
      "[CV 4/5] END C=15.848931924611133, epsilon=0.03162277660168379, kernel=rbf;, score=0.627 total time=   0.2s\n",
      "[CV 5/5] END C=15.848931924611133, epsilon=0.03162277660168379, kernel=rbf;, score=0.650 total time=   0.2s\n",
      "[CV 1/5] END C=15.848931924611133, epsilon=0.1, kernel=rbf;, score=0.739 total time=   0.2s\n",
      "[CV 2/5] END C=15.848931924611133, epsilon=0.1, kernel=rbf;, score=0.650 total time=   0.2s\n",
      "[CV 3/5] END C=15.848931924611133, epsilon=0.1, kernel=rbf;, score=0.597 total time=   0.2s\n",
      "[CV 4/5] END C=15.848931924611133, epsilon=0.1, kernel=rbf;, score=0.627 total time=   0.2s\n",
      "[CV 5/5] END C=15.848931924611133, epsilon=0.1, kernel=rbf;, score=0.650 total time=   0.2s\n",
      "[CV 1/5] END C=63.0957344480193, epsilon=0.0001, kernel=rbf;, score=0.754 total time=   0.2s\n",
      "[CV 2/5] END C=63.0957344480193, epsilon=0.0001, kernel=rbf;, score=0.674 total time=   0.2s\n",
      "[CV 3/5] END C=63.0957344480193, epsilon=0.0001, kernel=rbf;, score=0.577 total time=   0.2s\n",
      "[CV 4/5] END C=63.0957344480193, epsilon=0.0001, kernel=rbf;, score=0.667 total time=   0.2s\n",
      "[CV 5/5] END C=63.0957344480193, epsilon=0.0001, kernel=rbf;, score=0.665 total time=   0.2s\n",
      "[CV 1/5] END C=63.0957344480193, epsilon=0.00031622776601683794, kernel=rbf;, score=0.754 total time=   0.2s\n",
      "[CV 2/5] END C=63.0957344480193, epsilon=0.00031622776601683794, kernel=rbf;, score=0.674 total time=   0.2s\n",
      "[CV 3/5] END C=63.0957344480193, epsilon=0.00031622776601683794, kernel=rbf;, score=0.577 total time=   0.2s\n",
      "[CV 4/5] END C=63.0957344480193, epsilon=0.00031622776601683794, kernel=rbf;, score=0.667 total time=   0.2s\n",
      "[CV 5/5] END C=63.0957344480193, epsilon=0.00031622776601683794, kernel=rbf;, score=0.665 total time=   0.2s\n",
      "[CV 1/5] END C=63.0957344480193, epsilon=0.001, kernel=rbf;, score=0.754 total time=   0.2s\n",
      "[CV 2/5] END C=63.0957344480193, epsilon=0.001, kernel=rbf;, score=0.674 total time=   0.2s\n",
      "[CV 3/5] END C=63.0957344480193, epsilon=0.001, kernel=rbf;, score=0.577 total time=   0.2s\n",
      "[CV 4/5] END C=63.0957344480193, epsilon=0.001, kernel=rbf;, score=0.667 total time=   0.3s\n",
      "[CV 5/5] END C=63.0957344480193, epsilon=0.001, kernel=rbf;, score=0.665 total time=   0.2s\n",
      "[CV 1/5] END C=63.0957344480193, epsilon=0.0031622776601683794, kernel=rbf;, score=0.754 total time=   0.2s\n",
      "[CV 2/5] END C=63.0957344480193, epsilon=0.0031622776601683794, kernel=rbf;, score=0.674 total time=   0.2s\n",
      "[CV 3/5] END C=63.0957344480193, epsilon=0.0031622776601683794, kernel=rbf;, score=0.577 total time=   0.2s\n",
      "[CV 4/5] END C=63.0957344480193, epsilon=0.0031622776601683794, kernel=rbf;, score=0.667 total time=   0.2s\n",
      "[CV 5/5] END C=63.0957344480193, epsilon=0.0031622776601683794, kernel=rbf;, score=0.665 total time=   0.2s\n",
      "[CV 1/5] END C=63.0957344480193, epsilon=0.01, kernel=rbf;, score=0.754 total time=   0.2s\n",
      "[CV 2/5] END C=63.0957344480193, epsilon=0.01, kernel=rbf;, score=0.674 total time=   0.2s\n",
      "[CV 3/5] END C=63.0957344480193, epsilon=0.01, kernel=rbf;, score=0.577 total time=   0.2s\n",
      "[CV 4/5] END C=63.0957344480193, epsilon=0.01, kernel=rbf;, score=0.667 total time=   0.2s\n",
      "[CV 5/5] END C=63.0957344480193, epsilon=0.01, kernel=rbf;, score=0.665 total time=   0.2s\n",
      "[CV 1/5] END C=63.0957344480193, epsilon=0.03162277660168379, kernel=rbf;, score=0.754 total time=   0.2s\n",
      "[CV 2/5] END C=63.0957344480193, epsilon=0.03162277660168379, kernel=rbf;, score=0.674 total time=   0.2s\n",
      "[CV 3/5] END C=63.0957344480193, epsilon=0.03162277660168379, kernel=rbf;, score=0.577 total time=   0.2s\n",
      "[CV 4/5] END C=63.0957344480193, epsilon=0.03162277660168379, kernel=rbf;, score=0.667 total time=   0.2s\n",
      "[CV 5/5] END C=63.0957344480193, epsilon=0.03162277660168379, kernel=rbf;, score=0.665 total time=   0.2s\n",
      "[CV 1/5] END C=63.0957344480193, epsilon=0.1, kernel=rbf;, score=0.754 total time=   0.2s\n",
      "[CV 2/5] END C=63.0957344480193, epsilon=0.1, kernel=rbf;, score=0.674 total time=   0.2s\n",
      "[CV 3/5] END C=63.0957344480193, epsilon=0.1, kernel=rbf;, score=0.577 total time=   0.2s\n",
      "[CV 4/5] END C=63.0957344480193, epsilon=0.1, kernel=rbf;, score=0.666 total time=   0.2s\n",
      "[CV 5/5] END C=63.0957344480193, epsilon=0.1, kernel=rbf;, score=0.665 total time=   0.2s\n",
      "[CV 1/5] END C=251.18864315095797, epsilon=0.0001, kernel=rbf;, score=0.708 total time=   0.2s\n",
      "[CV 2/5] END C=251.18864315095797, epsilon=0.0001, kernel=rbf;, score=0.668 total time=   0.2s\n",
      "[CV 3/5] END C=251.18864315095797, epsilon=0.0001, kernel=rbf;, score=0.580 total time=   0.2s\n",
      "[CV 4/5] END C=251.18864315095797, epsilon=0.0001, kernel=rbf;, score=0.657 total time=   0.2s\n",
      "[CV 5/5] END C=251.18864315095797, epsilon=0.0001, kernel=rbf;, score=0.655 total time=   0.2s\n",
      "[CV 1/5] END C=251.18864315095797, epsilon=0.00031622776601683794, kernel=rbf;, score=0.708 total time=   0.2s\n",
      "[CV 2/5] END C=251.18864315095797, epsilon=0.00031622776601683794, kernel=rbf;, score=0.668 total time=   0.2s\n",
      "[CV 3/5] END C=251.18864315095797, epsilon=0.00031622776601683794, kernel=rbf;, score=0.580 total time=   0.2s\n",
      "[CV 4/5] END C=251.18864315095797, epsilon=0.00031622776601683794, kernel=rbf;, score=0.657 total time=   0.2s\n",
      "[CV 5/5] END C=251.18864315095797, epsilon=0.00031622776601683794, kernel=rbf;, score=0.655 total time=   0.2s\n",
      "[CV 1/5] END C=251.18864315095797, epsilon=0.001, kernel=rbf;, score=0.708 total time=   0.2s\n",
      "[CV 2/5] END C=251.18864315095797, epsilon=0.001, kernel=rbf;, score=0.668 total time=   0.2s\n",
      "[CV 3/5] END C=251.18864315095797, epsilon=0.001, kernel=rbf;, score=0.580 total time=   0.2s\n",
      "[CV 4/5] END C=251.18864315095797, epsilon=0.001, kernel=rbf;, score=0.657 total time=   0.2s\n",
      "[CV 5/5] END C=251.18864315095797, epsilon=0.001, kernel=rbf;, score=0.655 total time=   0.2s\n",
      "[CV 1/5] END C=251.18864315095797, epsilon=0.0031622776601683794, kernel=rbf;, score=0.708 total time=   0.2s\n",
      "[CV 2/5] END C=251.18864315095797, epsilon=0.0031622776601683794, kernel=rbf;, score=0.668 total time=   0.2s\n",
      "[CV 3/5] END C=251.18864315095797, epsilon=0.0031622776601683794, kernel=rbf;, score=0.580 total time=   0.2s\n",
      "[CV 4/5] END C=251.18864315095797, epsilon=0.0031622776601683794, kernel=rbf;, score=0.657 total time=   0.2s\n",
      "[CV 5/5] END C=251.18864315095797, epsilon=0.0031622776601683794, kernel=rbf;, score=0.655 total time=   0.2s\n",
      "[CV 1/5] END C=251.18864315095797, epsilon=0.01, kernel=rbf;, score=0.708 total time=   0.2s\n",
      "[CV 2/5] END C=251.18864315095797, epsilon=0.01, kernel=rbf;, score=0.669 total time=   0.2s\n",
      "[CV 3/5] END C=251.18864315095797, epsilon=0.01, kernel=rbf;, score=0.580 total time=   0.2s\n",
      "[CV 4/5] END C=251.18864315095797, epsilon=0.01, kernel=rbf;, score=0.657 total time=   0.2s\n",
      "[CV 5/5] END C=251.18864315095797, epsilon=0.01, kernel=rbf;, score=0.655 total time=   0.2s\n",
      "[CV 1/5] END C=251.18864315095797, epsilon=0.03162277660168379, kernel=rbf;, score=0.708 total time=   0.2s\n",
      "[CV 2/5] END C=251.18864315095797, epsilon=0.03162277660168379, kernel=rbf;, score=0.669 total time=   0.2s\n",
      "[CV 3/5] END C=251.18864315095797, epsilon=0.03162277660168379, kernel=rbf;, score=0.580 total time=   0.2s\n",
      "[CV 4/5] END C=251.18864315095797, epsilon=0.03162277660168379, kernel=rbf;, score=0.656 total time=   0.2s\n",
      "[CV 5/5] END C=251.18864315095797, epsilon=0.03162277660168379, kernel=rbf;, score=0.654 total time=   0.2s\n"
     ]
    },
    {
     "name": "stdout",
     "output_type": "stream",
     "text": [
      "[CV 1/5] END C=251.18864315095797, epsilon=0.1, kernel=rbf;, score=0.709 total time=   0.2s\n",
      "[CV 2/5] END C=251.18864315095797, epsilon=0.1, kernel=rbf;, score=0.670 total time=   0.2s\n",
      "[CV 3/5] END C=251.18864315095797, epsilon=0.1, kernel=rbf;, score=0.580 total time=   0.2s\n",
      "[CV 4/5] END C=251.18864315095797, epsilon=0.1, kernel=rbf;, score=0.656 total time=   0.2s\n",
      "[CV 5/5] END C=251.18864315095797, epsilon=0.1, kernel=rbf;, score=0.654 total time=   0.2s\n",
      "[CV 1/5] END C=1000.0, epsilon=0.0001, kernel=rbf;, score=0.665 total time=   0.2s\n",
      "[CV 2/5] END C=1000.0, epsilon=0.0001, kernel=rbf;, score=0.571 total time=   0.2s\n",
      "[CV 3/5] END C=1000.0, epsilon=0.0001, kernel=rbf;, score=0.580 total time=   0.2s\n",
      "[CV 4/5] END C=1000.0, epsilon=0.0001, kernel=rbf;, score=0.602 total time=   0.2s\n",
      "[CV 5/5] END C=1000.0, epsilon=0.0001, kernel=rbf;, score=0.643 total time=   0.2s\n",
      "[CV 1/5] END C=1000.0, epsilon=0.00031622776601683794, kernel=rbf;, score=0.665 total time=   0.2s\n",
      "[CV 2/5] END C=1000.0, epsilon=0.00031622776601683794, kernel=rbf;, score=0.571 total time=   0.2s\n",
      "[CV 3/5] END C=1000.0, epsilon=0.00031622776601683794, kernel=rbf;, score=0.580 total time=   0.2s\n",
      "[CV 4/5] END C=1000.0, epsilon=0.00031622776601683794, kernel=rbf;, score=0.602 total time=   0.3s\n",
      "[CV 5/5] END C=1000.0, epsilon=0.00031622776601683794, kernel=rbf;, score=0.643 total time=   0.2s\n",
      "[CV 1/5] END C=1000.0, epsilon=0.001, kernel=rbf;, score=0.665 total time=   0.2s\n",
      "[CV 2/5] END C=1000.0, epsilon=0.001, kernel=rbf;, score=0.571 total time=   0.2s\n",
      "[CV 3/5] END C=1000.0, epsilon=0.001, kernel=rbf;, score=0.580 total time=   0.2s\n",
      "[CV 4/5] END C=1000.0, epsilon=0.001, kernel=rbf;, score=0.602 total time=   0.3s\n",
      "[CV 5/5] END C=1000.0, epsilon=0.001, kernel=rbf;, score=0.643 total time=   0.2s\n",
      "[CV 1/5] END C=1000.0, epsilon=0.0031622776601683794, kernel=rbf;, score=0.665 total time=   0.2s\n",
      "[CV 2/5] END C=1000.0, epsilon=0.0031622776601683794, kernel=rbf;, score=0.572 total time=   0.2s\n",
      "[CV 3/5] END C=1000.0, epsilon=0.0031622776601683794, kernel=rbf;, score=0.580 total time=   0.2s\n",
      "[CV 4/5] END C=1000.0, epsilon=0.0031622776601683794, kernel=rbf;, score=0.602 total time=   0.2s\n",
      "[CV 5/5] END C=1000.0, epsilon=0.0031622776601683794, kernel=rbf;, score=0.643 total time=   0.2s\n",
      "[CV 1/5] END C=1000.0, epsilon=0.01, kernel=rbf;, score=0.665 total time=   0.2s\n",
      "[CV 2/5] END C=1000.0, epsilon=0.01, kernel=rbf;, score=0.572 total time=   0.2s\n",
      "[CV 3/5] END C=1000.0, epsilon=0.01, kernel=rbf;, score=0.580 total time=   0.2s\n",
      "[CV 4/5] END C=1000.0, epsilon=0.01, kernel=rbf;, score=0.602 total time=   0.3s\n",
      "[CV 5/5] END C=1000.0, epsilon=0.01, kernel=rbf;, score=0.643 total time=   0.2s\n",
      "[CV 1/5] END C=1000.0, epsilon=0.03162277660168379, kernel=rbf;, score=0.664 total time=   0.3s\n",
      "[CV 2/5] END C=1000.0, epsilon=0.03162277660168379, kernel=rbf;, score=0.572 total time=   0.2s\n",
      "[CV 3/5] END C=1000.0, epsilon=0.03162277660168379, kernel=rbf;, score=0.580 total time=   0.3s\n",
      "[CV 4/5] END C=1000.0, epsilon=0.03162277660168379, kernel=rbf;, score=0.602 total time=   0.2s\n",
      "[CV 5/5] END C=1000.0, epsilon=0.03162277660168379, kernel=rbf;, score=0.643 total time=   0.3s\n",
      "[CV 1/5] END .C=1000.0, epsilon=0.1, kernel=rbf;, score=0.664 total time=   0.2s\n",
      "[CV 2/5] END .C=1000.0, epsilon=0.1, kernel=rbf;, score=0.574 total time=   0.2s\n",
      "[CV 3/5] END .C=1000.0, epsilon=0.1, kernel=rbf;, score=0.581 total time=   0.2s\n",
      "[CV 4/5] END .C=1000.0, epsilon=0.1, kernel=rbf;, score=0.602 total time=   0.2s\n",
      "[CV 5/5] END .C=1000.0, epsilon=0.1, kernel=rbf;, score=0.642 total time=   0.2s\n",
      "The best validation score obtained is 0.66742 with\n",
      "    \tkernel: rbf\n",
      "    \tC: 63.0957344480193\n",
      "    \tepsilon: 0.1\n"
     ]
    }
   ],
   "source": [
    "svr = best_svr(X_train, np.array(y_train).ravel())"
   ]
  },
  {
   "cell_type": "code",
   "execution_count": 21,
   "id": "25f33dfe",
   "metadata": {
    "scrolled": false
   },
   "outputs": [
    {
     "name": "stderr",
     "output_type": "stream",
     "text": [
      "[Parallel(n_jobs=-1)]: Using backend LokyBackend with 4 concurrent workers.\n",
      "[Parallel(n_jobs=-1)]: Done   2 out of   5 | elapsed:   23.8s remaining:   35.8s\n",
      "[Parallel(n_jobs=-1)]: Done   5 out of   5 | elapsed:   35.2s finished\n"
     ]
    },
    {
     "name": "stdout",
     "output_type": "stream",
     "text": [
      "Validation score obtained is 0.6257 with\n",
      "    \t{'loss': 'squared_error', 'n_estimators': 250, 'learning_rate': 0.025, 'subsample': 0.75, 'max_depth': 6, 'min_samples_split': 5, 'n_iter_no_change': 100, 'validation_fraction': 0.1, 'random_state': 0, 'verbose': 1}\n",
      "      Iter       Train Loss      OOB Improve   Remaining Time \n",
      "         1          91.4967           2.6243           11.68s\n",
      "         2          90.5996           2.8858           11.41s\n",
      "         3          87.2881           2.3958           11.71s\n",
      "         4          84.5777           1.8091           11.39s\n",
      "         5          80.8859           1.9069           11.54s\n",
      "         6          77.3343           1.9195           11.38s\n",
      "         7          77.5435           1.7732           11.53s\n",
      "         8          73.5253           1.9971           11.46s\n",
      "         9          72.4122           1.6186           11.32s\n",
      "        10          69.3160           1.4799           11.38s\n",
      "        20          49.2331           0.7990           10.61s\n",
      "        30          36.6125           0.7751           10.07s\n",
      "        40          27.5891           0.4192            9.58s\n",
      "        50          21.3153           0.3016            9.08s\n",
      "        60          16.3965           0.1574            8.78s\n",
      "        70          12.4958           0.0980            8.30s\n",
      "        80          10.1790           0.0855            7.88s\n",
      "        90           8.2719           0.0456            7.43s\n",
      "       100           6.6096           0.0135            6.96s\n",
      "       200           1.2644          -0.0027            2.28s\n"
     ]
    },
    {
     "data": {
      "image/png": "[encoded data removed]",
      "text/plain": [
       "<Figure size 432x432 with 1 Axes>"
      ]
     },
     "metadata": {
      "needs_background": "light"
     },
     "output_type": "display_data"
    }
   ],
   "source": [
    "#TODO: could not manage to get grid search to work with this, should look into it as there are a lot of\n",
    "# hyperparameters at play\n",
    "gbr = best_gbr(X_train, np.array(y_train).ravel())"
   ]
  },
  {
   "cell_type": "code",
   "execution_count": 39,
   "id": "1fb9c1e0",
   "metadata": {},
   "outputs": [],
   "source": [
    "def best_Adaboost(X_train, y_train):\n",
    "    \n",
    "    ada = AdaBoostRegressor()\n",
    "    gs_ada_params = {\n",
    "     \"loss\":[\"square\"],\n",
    "     \"learning_rate\": np.logspace(-2, -1, 4),\n",
    "     \"n_estimators\": np.arange(50, 250, 100),\n",
    "     \"random_state\": [0], \n",
    "    }\n",
    "    gs_ada = GridSearchCV(ada, gs_ada_params, cv=5, verbose=3, error_score='raise')\n",
    "    gs_ada.fit(X_train, y_train)\n",
    "\n",
    "    print(f\"\"\"The best validation score obtained is {gs_ada.best_score_:.5f} with\n",
    "    \\tloss: {gs_ada.best_params_['loss']}\n",
    "    \\tlearning_rate: {gs_ada.best_params_['learning_rate']}\n",
    "    \\tn_estimators: {gs_ada.best_params_['n_estimators']}\n",
    "    \"\"\")\n",
    "    \n",
    "    return ada"
   ]
  },
  {
   "cell_type": "code",
   "execution_count": 40,
   "id": "d15e059b",
   "metadata": {},
   "outputs": [
    {
     "name": "stdout",
     "output_type": "stream",
     "text": [
      "Fitting 5 folds for each of 8 candidates, totalling 40 fits\n",
      "[CV 1/5] END learning_rate=0.01, loss=square, n_estimators=50, random_state=0;, score=0.488 total time=   1.9s\n",
      "[CV 2/5] END learning_rate=0.01, loss=square, n_estimators=50, random_state=0;, score=0.466 total time=   1.7s\n",
      "[CV 3/5] END learning_rate=0.01, loss=square, n_estimators=50, random_state=0;, score=0.429 total time=   1.7s\n",
      "[CV 4/5] END learning_rate=0.01, loss=square, n_estimators=50, random_state=0;, score=0.533 total time=   1.7s\n",
      "[CV 5/5] END learning_rate=0.01, loss=square, n_estimators=50, random_state=0;, score=0.455 total time=   1.7s\n",
      "[CV 1/5] END learning_rate=0.01, loss=square, n_estimators=150, random_state=0;, score=0.508 total time=   5.3s\n",
      "[CV 2/5] END learning_rate=0.01, loss=square, n_estimators=150, random_state=0;, score=0.460 total time=   5.0s\n",
      "[CV 3/5] END learning_rate=0.01, loss=square, n_estimators=150, random_state=0;, score=0.468 total time=   5.1s\n",
      "[CV 4/5] END learning_rate=0.01, loss=square, n_estimators=150, random_state=0;, score=0.531 total time=   5.4s\n",
      "[CV 5/5] END learning_rate=0.01, loss=square, n_estimators=150, random_state=0;, score=0.484 total time=   5.0s\n",
      "[CV 1/5] END learning_rate=0.021544346900318832, loss=square, n_estimators=50, random_state=0;, score=0.491 total time=   1.7s\n",
      "[CV 2/5] END learning_rate=0.021544346900318832, loss=square, n_estimators=50, random_state=0;, score=0.473 total time=   2.1s\n",
      "[CV 3/5] END learning_rate=0.021544346900318832, loss=square, n_estimators=50, random_state=0;, score=0.441 total time=   1.7s\n",
      "[CV 4/5] END learning_rate=0.021544346900318832, loss=square, n_estimators=50, random_state=0;, score=0.532 total time=   1.7s\n",
      "[CV 5/5] END learning_rate=0.021544346900318832, loss=square, n_estimators=50, random_state=0;, score=0.474 total time=   1.7s\n",
      "[CV 1/5] END learning_rate=0.021544346900318832, loss=square, n_estimators=150, random_state=0;, score=0.501 total time=   5.0s\n",
      "[CV 2/5] END learning_rate=0.021544346900318832, loss=square, n_estimators=150, random_state=0;, score=0.472 total time=   5.0s\n",
      "[CV 3/5] END learning_rate=0.021544346900318832, loss=square, n_estimators=150, random_state=0;, score=0.445 total time=   5.1s\n",
      "[CV 4/5] END learning_rate=0.021544346900318832, loss=square, n_estimators=150, random_state=0;, score=0.526 total time=   5.0s\n",
      "[CV 5/5] END learning_rate=0.021544346900318832, loss=square, n_estimators=150, random_state=0;, score=0.498 total time=   5.0s\n",
      "[CV 1/5] END learning_rate=0.046415888336127774, loss=square, n_estimators=50, random_state=0;, score=0.466 total time=   1.7s\n",
      "[CV 2/5] END learning_rate=0.046415888336127774, loss=square, n_estimators=50, random_state=0;, score=0.445 total time=   1.7s\n",
      "[CV 3/5] END learning_rate=0.046415888336127774, loss=square, n_estimators=50, random_state=0;, score=0.460 total time=   1.7s\n",
      "[CV 4/5] END learning_rate=0.046415888336127774, loss=square, n_estimators=50, random_state=0;, score=0.521 total time=   1.8s\n",
      "[CV 5/5] END learning_rate=0.046415888336127774, loss=square, n_estimators=50, random_state=0;, score=0.480 total time=   1.7s\n",
      "[CV 1/5] END learning_rate=0.046415888336127774, loss=square, n_estimators=150, random_state=0;, score=0.504 total time=   4.7s\n",
      "[CV 2/5] END learning_rate=0.046415888336127774, loss=square, n_estimators=150, random_state=0;, score=0.477 total time=   4.9s\n",
      "[CV 3/5] END learning_rate=0.046415888336127774, loss=square, n_estimators=150, random_state=0;, score=0.449 total time=   4.8s\n",
      "[CV 4/5] END learning_rate=0.046415888336127774, loss=square, n_estimators=150, random_state=0;, score=0.537 total time=   4.7s\n",
      "[CV 5/5] END learning_rate=0.046415888336127774, loss=square, n_estimators=150, random_state=0;, score=0.504 total time=   4.8s\n",
      "[CV 1/5] END learning_rate=0.1, loss=square, n_estimators=50, random_state=0;, score=0.476 total time=   1.7s\n",
      "[CV 2/5] END learning_rate=0.1, loss=square, n_estimators=50, random_state=0;, score=0.477 total time=   1.7s\n",
      "[CV 3/5] END learning_rate=0.1, loss=square, n_estimators=50, random_state=0;, score=0.448 total time=   1.7s\n",
      "[CV 4/5] END learning_rate=0.1, loss=square, n_estimators=50, random_state=0;, score=0.521 total time=   1.8s\n",
      "[CV 5/5] END learning_rate=0.1, loss=square, n_estimators=50, random_state=0;, score=0.517 total time=   1.6s\n",
      "[CV 1/5] END learning_rate=0.1, loss=square, n_estimators=150, random_state=0;, score=0.514 total time=   4.3s\n",
      "[CV 2/5] END learning_rate=0.1, loss=square, n_estimators=150, random_state=0;, score=0.512 total time=   4.4s\n",
      "[CV 3/5] END learning_rate=0.1, loss=square, n_estimators=150, random_state=0;, score=0.446 total time=   4.4s\n",
      "[CV 4/5] END learning_rate=0.1, loss=square, n_estimators=150, random_state=0;, score=0.543 total time=   4.4s\n",
      "[CV 5/5] END learning_rate=0.1, loss=square, n_estimators=150, random_state=0;, score=0.551 total time=   4.3s\n",
      "The best validation score obtained is 0.51329 with\n",
      "    \tloss: square\n",
      "    \tlearning_rate: 0.1\n",
      "    \tn_estimators: 150\n",
      "    \n"
     ]
    }
   ],
   "source": [
    "ada = best_Adaboost(X_train, np.array(y_train).ravel())"
   ]
  },
  {
   "cell_type": "code",
   "execution_count": 37,
   "id": "7ed4b131",
   "metadata": {},
   "outputs": [],
   "source": [
    "def best_random_forest(X_train, y_train):\n",
    "    # define used regressor\n",
    "    forest=RandomForestRegressor(n_estimators=20,\n",
    "                                 max_depth=10,\n",
    "                                 criterion='mse',)\n",
    "\n",
    "    r_forest = RandomForestRegressor()\n",
    "    gs_forest_params = {\n",
    "     \"n_estimators\": np.arange(50, 100, 50),\n",
    "     \"max_depth\": np.arange(2, 8, 2),\n",
    "     \"min_samples_split\": np.arange(2, 8, 2),\n",
    "     \"min_samples_leaf\": np.arange(1, 9, 3),\n",
    "     \"random_state\": [0], \n",
    "     \"verbose\": [1]\n",
    "    }\n",
    "    \n",
    "    gs_forest = GridSearchCV(r_forest, gs_forest_params, cv=5, verbose=3, error_score='raise')\n",
    "    gs_forest.fit(X_train, y_train)\n",
    "    \n",
    "\n",
    "    print(f\"\"\"The best validation score obtained is {gs_forest.best_score_:.5f} with\n",
    "    \\tn_estimators: {gs_forest.best_params_['n_estimators']}\n",
    "    \\tmax_depth: {gs_forest.best_params_['max_depth']}\n",
    "    \\tmin_samples_split: {gs_forest.best_params_['min_samples_split']}\n",
    "    \\tmin_samples_leaf: {gs_forest.best_params_['min_samples_leaf']}\n",
    "    \"\"\")\n",
    "    \n",
    "    return r_forest"
   ]
  },
  {
   "cell_type": "code",
   "execution_count": 38,
   "id": "46798c95",
   "metadata": {
    "scrolled": true
   },
   "outputs": [
    {
     "name": "stdout",
     "output_type": "stream",
     "text": [
      "Fitting 5 folds for each of 27 candidates, totalling 135 fits\n"
     ]
    },
    {
     "name": "stderr",
     "output_type": "stream",
     "text": [
      "[Parallel(n_jobs=1)]: Using backend SequentialBackend with 1 concurrent workers.\n",
      "[Parallel(n_jobs=1)]: Done  50 out of  50 | elapsed:    0.9s finished\n",
      "[Parallel(n_jobs=1)]: Using backend SequentialBackend with 1 concurrent workers.\n",
      "[Parallel(n_jobs=1)]: Done  50 out of  50 | elapsed:    0.0s finished\n",
      "[Parallel(n_jobs=1)]: Using backend SequentialBackend with 1 concurrent workers.\n"
     ]
    },
    {
     "name": "stdout",
     "output_type": "stream",
     "text": [
      "[CV 1/5] END max_depth=2, min_samples_leaf=1, min_samples_split=2, n_estimators=50, random_state=0, verbose=1;, score=0.440 total time=   0.9s\n"
     ]
    },
    {
     "name": "stderr",
     "output_type": "stream",
     "text": [
      "[Parallel(n_jobs=1)]: Done  50 out of  50 | elapsed:    0.8s finished\n",
      "[Parallel(n_jobs=1)]: Using backend SequentialBackend with 1 concurrent workers.\n",
      "[Parallel(n_jobs=1)]: Done  50 out of  50 | elapsed:    0.0s finished\n",
      "[Parallel(n_jobs=1)]: Using backend SequentialBackend with 1 concurrent workers.\n"
     ]
    },
    {
     "name": "stdout",
     "output_type": "stream",
     "text": [
      "[CV 2/5] END max_depth=2, min_samples_leaf=1, min_samples_split=2, n_estimators=50, random_state=0, verbose=1;, score=0.435 total time=   0.8s\n"
     ]
    },
    {
     "name": "stderr",
     "output_type": "stream",
     "text": [
      "[Parallel(n_jobs=1)]: Done  50 out of  50 | elapsed:    0.8s finished\n",
      "[Parallel(n_jobs=1)]: Using backend SequentialBackend with 1 concurrent workers.\n",
      "[Parallel(n_jobs=1)]: Done  50 out of  50 | elapsed:    0.0s finished\n",
      "[Parallel(n_jobs=1)]: Using backend SequentialBackend with 1 concurrent workers.\n"
     ]
    },
    {
     "name": "stdout",
     "output_type": "stream",
     "text": [
      "[CV 3/5] END max_depth=2, min_samples_leaf=1, min_samples_split=2, n_estimators=50, random_state=0, verbose=1;, score=0.376 total time=   0.9s\n"
     ]
    },
    {
     "name": "stderr",
     "output_type": "stream",
     "text": [
      "[Parallel(n_jobs=1)]: Done  50 out of  50 | elapsed:    0.8s finished\n",
      "[Parallel(n_jobs=1)]: Using backend SequentialBackend with 1 concurrent workers.\n",
      "[Parallel(n_jobs=1)]: Done  50 out of  50 | elapsed:    0.0s finished\n",
      "[Parallel(n_jobs=1)]: Using backend SequentialBackend with 1 concurrent workers.\n"
     ]
    },
    {
     "name": "stdout",
     "output_type": "stream",
     "text": [
      "[CV 4/5] END max_depth=2, min_samples_leaf=1, min_samples_split=2, n_estimators=50, random_state=0, verbose=1;, score=0.479 total time=   0.8s\n"
     ]
    },
    {
     "name": "stderr",
     "output_type": "stream",
     "text": [
      "[Parallel(n_jobs=1)]: Done  50 out of  50 | elapsed:    0.8s finished\n",
      "[Parallel(n_jobs=1)]: Using backend SequentialBackend with 1 concurrent workers.\n",
      "[Parallel(n_jobs=1)]: Done  50 out of  50 | elapsed:    0.0s finished\n",
      "[Parallel(n_jobs=1)]: Using backend SequentialBackend with 1 concurrent workers.\n"
     ]
    },
    {
     "name": "stdout",
     "output_type": "stream",
     "text": [
      "[CV 5/5] END max_depth=2, min_samples_leaf=1, min_samples_split=2, n_estimators=50, random_state=0, verbose=1;, score=0.421 total time=   0.8s\n"
     ]
    },
    {
     "name": "stderr",
     "output_type": "stream",
     "text": [
      "[Parallel(n_jobs=1)]: Done  50 out of  50 | elapsed:    0.8s finished\n",
      "[Parallel(n_jobs=1)]: Using backend SequentialBackend with 1 concurrent workers.\n",
      "[Parallel(n_jobs=1)]: Done  50 out of  50 | elapsed:    0.0s finished\n",
      "[Parallel(n_jobs=1)]: Using backend SequentialBackend with 1 concurrent workers.\n"
     ]
    },
    {
     "name": "stdout",
     "output_type": "stream",
     "text": [
      "[CV 1/5] END max_depth=2, min_samples_leaf=1, min_samples_split=4, n_estimators=50, random_state=0, verbose=1;, score=0.440 total time=   0.8s\n"
     ]
    },
    {
     "name": "stderr",
     "output_type": "stream",
     "text": [
      "[Parallel(n_jobs=1)]: Done  50 out of  50 | elapsed:    0.8s finished\n",
      "[Parallel(n_jobs=1)]: Using backend SequentialBackend with 1 concurrent workers.\n",
      "[Parallel(n_jobs=1)]: Done  50 out of  50 | elapsed:    0.0s finished\n",
      "[Parallel(n_jobs=1)]: Using backend SequentialBackend with 1 concurrent workers.\n"
     ]
    },
    {
     "name": "stdout",
     "output_type": "stream",
     "text": [
      "[CV 2/5] END max_depth=2, min_samples_leaf=1, min_samples_split=4, n_estimators=50, random_state=0, verbose=1;, score=0.435 total time=   0.8s\n"
     ]
    },
    {
     "name": "stderr",
     "output_type": "stream",
     "text": [
      "[Parallel(n_jobs=1)]: Done  50 out of  50 | elapsed:    0.8s finished\n",
      "[Parallel(n_jobs=1)]: Using backend SequentialBackend with 1 concurrent workers.\n",
      "[Parallel(n_jobs=1)]: Done  50 out of  50 | elapsed:    0.0s finished\n",
      "[Parallel(n_jobs=1)]: Using backend SequentialBackend with 1 concurrent workers.\n"
     ]
    },
    {
     "name": "stdout",
     "output_type": "stream",
     "text": [
      "[CV 3/5] END max_depth=2, min_samples_leaf=1, min_samples_split=4, n_estimators=50, random_state=0, verbose=1;, score=0.376 total time=   0.8s\n"
     ]
    },
    {
     "name": "stderr",
     "output_type": "stream",
     "text": [
      "[Parallel(n_jobs=1)]: Done  50 out of  50 | elapsed:    0.8s finished\n",
      "[Parallel(n_jobs=1)]: Using backend SequentialBackend with 1 concurrent workers.\n",
      "[Parallel(n_jobs=1)]: Done  50 out of  50 | elapsed:    0.0s finished\n",
      "[Parallel(n_jobs=1)]: Using backend SequentialBackend with 1 concurrent workers.\n"
     ]
    },
    {
     "name": "stdout",
     "output_type": "stream",
     "text": [
      "[CV 4/5] END max_depth=2, min_samples_leaf=1, min_samples_split=4, n_estimators=50, random_state=0, verbose=1;, score=0.479 total time=   0.8s\n"
     ]
    },
    {
     "name": "stderr",
     "output_type": "stream",
     "text": [
      "[Parallel(n_jobs=1)]: Done  50 out of  50 | elapsed:    0.8s finished\n",
      "[Parallel(n_jobs=1)]: Using backend SequentialBackend with 1 concurrent workers.\n",
      "[Parallel(n_jobs=1)]: Done  50 out of  50 | elapsed:    0.0s finished\n",
      "[Parallel(n_jobs=1)]: Using backend SequentialBackend with 1 concurrent workers.\n"
     ]
    },
    {
     "name": "stdout",
     "output_type": "stream",
     "text": [
      "[CV 5/5] END max_depth=2, min_samples_leaf=1, min_samples_split=4, n_estimators=50, random_state=0, verbose=1;, score=0.421 total time=   0.8s\n"
     ]
    },
    {
     "name": "stderr",
     "output_type": "stream",
     "text": [
      "[Parallel(n_jobs=1)]: Done  50 out of  50 | elapsed:    0.8s finished\n",
      "[Parallel(n_jobs=1)]: Using backend SequentialBackend with 1 concurrent workers.\n",
      "[Parallel(n_jobs=1)]: Done  50 out of  50 | elapsed:    0.0s finished\n",
      "[Parallel(n_jobs=1)]: Using backend SequentialBackend with 1 concurrent workers.\n"
     ]
    },
    {
     "name": "stdout",
     "output_type": "stream",
     "text": [
      "[CV 1/5] END max_depth=2, min_samples_leaf=1, min_samples_split=6, n_estimators=50, random_state=0, verbose=1;, score=0.440 total time=   0.8s\n"
     ]
    },
    {
     "name": "stderr",
     "output_type": "stream",
     "text": [
      "[Parallel(n_jobs=1)]: Done  50 out of  50 | elapsed:    0.8s finished\n",
      "[Parallel(n_jobs=1)]: Using backend SequentialBackend with 1 concurrent workers.\n",
      "[Parallel(n_jobs=1)]: Done  50 out of  50 | elapsed:    0.0s finished\n",
      "[Parallel(n_jobs=1)]: Using backend SequentialBackend with 1 concurrent workers.\n"
     ]
    },
    {
     "name": "stdout",
     "output_type": "stream",
     "text": [
      "[CV 2/5] END max_depth=2, min_samples_leaf=1, min_samples_split=6, n_estimators=50, random_state=0, verbose=1;, score=0.435 total time=   0.8s\n"
     ]
    },
    {
     "name": "stderr",
     "output_type": "stream",
     "text": [
      "[Parallel(n_jobs=1)]: Done  50 out of  50 | elapsed:    0.8s finished\n",
      "[Parallel(n_jobs=1)]: Using backend SequentialBackend with 1 concurrent workers.\n",
      "[Parallel(n_jobs=1)]: Done  50 out of  50 | elapsed:    0.0s finished\n",
      "[Parallel(n_jobs=1)]: Using backend SequentialBackend with 1 concurrent workers.\n"
     ]
    },
    {
     "name": "stdout",
     "output_type": "stream",
     "text": [
      "[CV 3/5] END max_depth=2, min_samples_leaf=1, min_samples_split=6, n_estimators=50, random_state=0, verbose=1;, score=0.376 total time=   0.8s\n"
     ]
    },
    {
     "name": "stderr",
     "output_type": "stream",
     "text": [
      "[Parallel(n_jobs=1)]: Done  50 out of  50 | elapsed:    0.8s finished\n",
      "[Parallel(n_jobs=1)]: Using backend SequentialBackend with 1 concurrent workers.\n",
      "[Parallel(n_jobs=1)]: Done  50 out of  50 | elapsed:    0.0s finished\n",
      "[Parallel(n_jobs=1)]: Using backend SequentialBackend with 1 concurrent workers.\n"
     ]
    },
    {
     "name": "stdout",
     "output_type": "stream",
     "text": [
      "[CV 4/5] END max_depth=2, min_samples_leaf=1, min_samples_split=6, n_estimators=50, random_state=0, verbose=1;, score=0.479 total time=   0.8s\n"
     ]
    },
    {
     "name": "stderr",
     "output_type": "stream",
     "text": [
      "[Parallel(n_jobs=1)]: Done  50 out of  50 | elapsed:    0.9s finished\n",
      "[Parallel(n_jobs=1)]: Using backend SequentialBackend with 1 concurrent workers.\n",
      "[Parallel(n_jobs=1)]: Done  50 out of  50 | elapsed:    0.0s finished\n",
      "[Parallel(n_jobs=1)]: Using backend SequentialBackend with 1 concurrent workers.\n"
     ]
    },
    {
     "name": "stdout",
     "output_type": "stream",
     "text": [
      "[CV 5/5] END max_depth=2, min_samples_leaf=1, min_samples_split=6, n_estimators=50, random_state=0, verbose=1;, score=0.421 total time=   0.9s\n"
     ]
    },
    {
     "name": "stderr",
     "output_type": "stream",
     "text": [
      "[Parallel(n_jobs=1)]: Done  50 out of  50 | elapsed:    1.0s finished\n",
      "[Parallel(n_jobs=1)]: Using backend SequentialBackend with 1 concurrent workers.\n",
      "[Parallel(n_jobs=1)]: Done  50 out of  50 | elapsed:    0.0s finished\n",
      "[Parallel(n_jobs=1)]: Using backend SequentialBackend with 1 concurrent workers.\n"
     ]
    },
    {
     "name": "stdout",
     "output_type": "stream",
     "text": [
      "[CV 1/5] END max_depth=2, min_samples_leaf=4, min_samples_split=2, n_estimators=50, random_state=0, verbose=1;, score=0.440 total time=   1.0s\n"
     ]
    },
    {
     "name": "stderr",
     "output_type": "stream",
     "text": [
      "[Parallel(n_jobs=1)]: Done  50 out of  50 | elapsed:    1.0s finished\n",
      "[Parallel(n_jobs=1)]: Using backend SequentialBackend with 1 concurrent workers.\n",
      "[Parallel(n_jobs=1)]: Done  50 out of  50 | elapsed:    0.0s finished\n",
      "[Parallel(n_jobs=1)]: Using backend SequentialBackend with 1 concurrent workers.\n"
     ]
    },
    {
     "name": "stdout",
     "output_type": "stream",
     "text": [
      "[CV 2/5] END max_depth=2, min_samples_leaf=4, min_samples_split=2, n_estimators=50, random_state=0, verbose=1;, score=0.435 total time=   1.0s\n"
     ]
    },
    {
     "name": "stderr",
     "output_type": "stream",
     "text": [
      "[Parallel(n_jobs=1)]: Done  50 out of  50 | elapsed:    1.0s finished\n",
      "[Parallel(n_jobs=1)]: Using backend SequentialBackend with 1 concurrent workers.\n",
      "[Parallel(n_jobs=1)]: Done  50 out of  50 | elapsed:    0.0s finished\n",
      "[Parallel(n_jobs=1)]: Using backend SequentialBackend with 1 concurrent workers.\n"
     ]
    },
    {
     "name": "stdout",
     "output_type": "stream",
     "text": [
      "[CV 3/5] END max_depth=2, min_samples_leaf=4, min_samples_split=2, n_estimators=50, random_state=0, verbose=1;, score=0.376 total time=   1.0s\n"
     ]
    },
    {
     "name": "stderr",
     "output_type": "stream",
     "text": [
      "[Parallel(n_jobs=1)]: Done  50 out of  50 | elapsed:    0.8s finished\n",
      "[Parallel(n_jobs=1)]: Using backend SequentialBackend with 1 concurrent workers.\n",
      "[Parallel(n_jobs=1)]: Done  50 out of  50 | elapsed:    0.0s finished\n",
      "[Parallel(n_jobs=1)]: Using backend SequentialBackend with 1 concurrent workers.\n"
     ]
    },
    {
     "name": "stdout",
     "output_type": "stream",
     "text": [
      "[CV 4/5] END max_depth=2, min_samples_leaf=4, min_samples_split=2, n_estimators=50, random_state=0, verbose=1;, score=0.479 total time=   0.9s\n"
     ]
    },
    {
     "name": "stderr",
     "output_type": "stream",
     "text": [
      "[Parallel(n_jobs=1)]: Done  50 out of  50 | elapsed:    0.8s finished\n",
      "[Parallel(n_jobs=1)]: Using backend SequentialBackend with 1 concurrent workers.\n",
      "[Parallel(n_jobs=1)]: Done  50 out of  50 | elapsed:    0.0s finished\n",
      "[Parallel(n_jobs=1)]: Using backend SequentialBackend with 1 concurrent workers.\n"
     ]
    },
    {
     "name": "stdout",
     "output_type": "stream",
     "text": [
      "[CV 5/5] END max_depth=2, min_samples_leaf=4, min_samples_split=2, n_estimators=50, random_state=0, verbose=1;, score=0.421 total time=   0.8s\n"
     ]
    },
    {
     "name": "stderr",
     "output_type": "stream",
     "text": [
      "[Parallel(n_jobs=1)]: Done  50 out of  50 | elapsed:    0.8s finished\n",
      "[Parallel(n_jobs=1)]: Using backend SequentialBackend with 1 concurrent workers.\n",
      "[Parallel(n_jobs=1)]: Done  50 out of  50 | elapsed:    0.0s finished\n",
      "[Parallel(n_jobs=1)]: Using backend SequentialBackend with 1 concurrent workers.\n"
     ]
    },
    {
     "name": "stdout",
     "output_type": "stream",
     "text": [
      "[CV 1/5] END max_depth=2, min_samples_leaf=4, min_samples_split=4, n_estimators=50, random_state=0, verbose=1;, score=0.440 total time=   0.9s\n"
     ]
    },
    {
     "name": "stderr",
     "output_type": "stream",
     "text": [
      "[Parallel(n_jobs=1)]: Done  50 out of  50 | elapsed:    0.8s finished\n",
      "[Parallel(n_jobs=1)]: Using backend SequentialBackend with 1 concurrent workers.\n",
      "[Parallel(n_jobs=1)]: Done  50 out of  50 | elapsed:    0.0s finished\n",
      "[Parallel(n_jobs=1)]: Using backend SequentialBackend with 1 concurrent workers.\n"
     ]
    },
    {
     "name": "stdout",
     "output_type": "stream",
     "text": [
      "[CV 2/5] END max_depth=2, min_samples_leaf=4, min_samples_split=4, n_estimators=50, random_state=0, verbose=1;, score=0.435 total time=   0.8s\n"
     ]
    },
    {
     "name": "stderr",
     "output_type": "stream",
     "text": [
      "[Parallel(n_jobs=1)]: Done  50 out of  50 | elapsed:    0.8s finished\n",
      "[Parallel(n_jobs=1)]: Using backend SequentialBackend with 1 concurrent workers.\n",
      "[Parallel(n_jobs=1)]: Done  50 out of  50 | elapsed:    0.0s finished\n",
      "[Parallel(n_jobs=1)]: Using backend SequentialBackend with 1 concurrent workers.\n"
     ]
    },
    {
     "name": "stdout",
     "output_type": "stream",
     "text": [
      "[CV 3/5] END max_depth=2, min_samples_leaf=4, min_samples_split=4, n_estimators=50, random_state=0, verbose=1;, score=0.376 total time=   0.8s\n"
     ]
    },
    {
     "name": "stderr",
     "output_type": "stream",
     "text": [
      "[Parallel(n_jobs=1)]: Done  50 out of  50 | elapsed:    0.8s finished\n",
      "[Parallel(n_jobs=1)]: Using backend SequentialBackend with 1 concurrent workers.\n",
      "[Parallel(n_jobs=1)]: Done  50 out of  50 | elapsed:    0.0s finished\n",
      "[Parallel(n_jobs=1)]: Using backend SequentialBackend with 1 concurrent workers.\n"
     ]
    },
    {
     "name": "stdout",
     "output_type": "stream",
     "text": [
      "[CV 4/5] END max_depth=2, min_samples_leaf=4, min_samples_split=4, n_estimators=50, random_state=0, verbose=1;, score=0.479 total time=   0.8s\n"
     ]
    },
    {
     "name": "stderr",
     "output_type": "stream",
     "text": [
      "[Parallel(n_jobs=1)]: Done  50 out of  50 | elapsed:    0.8s finished\n",
      "[Parallel(n_jobs=1)]: Using backend SequentialBackend with 1 concurrent workers.\n",
      "[Parallel(n_jobs=1)]: Done  50 out of  50 | elapsed:    0.0s finished\n",
      "[Parallel(n_jobs=1)]: Using backend SequentialBackend with 1 concurrent workers.\n"
     ]
    },
    {
     "name": "stdout",
     "output_type": "stream",
     "text": [
      "[CV 5/5] END max_depth=2, min_samples_leaf=4, min_samples_split=4, n_estimators=50, random_state=0, verbose=1;, score=0.421 total time=   0.9s\n"
     ]
    },
    {
     "name": "stderr",
     "output_type": "stream",
     "text": [
      "[Parallel(n_jobs=1)]: Done  50 out of  50 | elapsed:    0.8s finished\n",
      "[Parallel(n_jobs=1)]: Using backend SequentialBackend with 1 concurrent workers.\n",
      "[Parallel(n_jobs=1)]: Done  50 out of  50 | elapsed:    0.0s finished\n",
      "[Parallel(n_jobs=1)]: Using backend SequentialBackend with 1 concurrent workers.\n"
     ]
    },
    {
     "name": "stdout",
     "output_type": "stream",
     "text": [
      "[CV 1/5] END max_depth=2, min_samples_leaf=4, min_samples_split=6, n_estimators=50, random_state=0, verbose=1;, score=0.440 total time=   0.8s\n"
     ]
    },
    {
     "name": "stderr",
     "output_type": "stream",
     "text": [
      "[Parallel(n_jobs=1)]: Done  50 out of  50 | elapsed:    0.8s finished\n",
      "[Parallel(n_jobs=1)]: Using backend SequentialBackend with 1 concurrent workers.\n",
      "[Parallel(n_jobs=1)]: Done  50 out of  50 | elapsed:    0.0s finished\n",
      "[Parallel(n_jobs=1)]: Using backend SequentialBackend with 1 concurrent workers.\n"
     ]
    },
    {
     "name": "stdout",
     "output_type": "stream",
     "text": [
      "[CV 2/5] END max_depth=2, min_samples_leaf=4, min_samples_split=6, n_estimators=50, random_state=0, verbose=1;, score=0.435 total time=   0.8s\n"
     ]
    },
    {
     "name": "stderr",
     "output_type": "stream",
     "text": [
      "[Parallel(n_jobs=1)]: Done  50 out of  50 | elapsed:    0.9s finished\n",
      "[Parallel(n_jobs=1)]: Using backend SequentialBackend with 1 concurrent workers.\n",
      "[Parallel(n_jobs=1)]: Done  50 out of  50 | elapsed:    0.0s finished\n",
      "[Parallel(n_jobs=1)]: Using backend SequentialBackend with 1 concurrent workers.\n"
     ]
    },
    {
     "name": "stdout",
     "output_type": "stream",
     "text": [
      "[CV 3/5] END max_depth=2, min_samples_leaf=4, min_samples_split=6, n_estimators=50, random_state=0, verbose=1;, score=0.376 total time=   1.0s\n"
     ]
    },
    {
     "name": "stderr",
     "output_type": "stream",
     "text": [
      "[Parallel(n_jobs=1)]: Done  50 out of  50 | elapsed:    0.8s finished\n",
      "[Parallel(n_jobs=1)]: Using backend SequentialBackend with 1 concurrent workers.\n",
      "[Parallel(n_jobs=1)]: Done  50 out of  50 | elapsed:    0.0s finished\n",
      "[Parallel(n_jobs=1)]: Using backend SequentialBackend with 1 concurrent workers.\n"
     ]
    },
    {
     "name": "stdout",
     "output_type": "stream",
     "text": [
      "[CV 4/5] END max_depth=2, min_samples_leaf=4, min_samples_split=6, n_estimators=50, random_state=0, verbose=1;, score=0.479 total time=   0.9s\n"
     ]
    },
    {
     "name": "stderr",
     "output_type": "stream",
     "text": [
      "[Parallel(n_jobs=1)]: Done  50 out of  50 | elapsed:    0.8s finished\n",
      "[Parallel(n_jobs=1)]: Using backend SequentialBackend with 1 concurrent workers.\n",
      "[Parallel(n_jobs=1)]: Done  50 out of  50 | elapsed:    0.0s finished\n",
      "[Parallel(n_jobs=1)]: Using backend SequentialBackend with 1 concurrent workers.\n"
     ]
    },
    {
     "name": "stdout",
     "output_type": "stream",
     "text": [
      "[CV 5/5] END max_depth=2, min_samples_leaf=4, min_samples_split=6, n_estimators=50, random_state=0, verbose=1;, score=0.421 total time=   0.9s\n"
     ]
    },
    {
     "name": "stderr",
     "output_type": "stream",
     "text": [
      "[Parallel(n_jobs=1)]: Done  50 out of  50 | elapsed:    0.9s finished\n",
      "[Parallel(n_jobs=1)]: Using backend SequentialBackend with 1 concurrent workers.\n",
      "[Parallel(n_jobs=1)]: Done  50 out of  50 | elapsed:    0.0s finished\n",
      "[Parallel(n_jobs=1)]: Using backend SequentialBackend with 1 concurrent workers.\n"
     ]
    },
    {
     "name": "stdout",
     "output_type": "stream",
     "text": [
      "[CV 1/5] END max_depth=2, min_samples_leaf=7, min_samples_split=2, n_estimators=50, random_state=0, verbose=1;, score=0.439 total time=   1.0s\n"
     ]
    },
    {
     "name": "stderr",
     "output_type": "stream",
     "text": [
      "[Parallel(n_jobs=1)]: Done  50 out of  50 | elapsed:    0.8s finished\n",
      "[Parallel(n_jobs=1)]: Using backend SequentialBackend with 1 concurrent workers.\n",
      "[Parallel(n_jobs=1)]: Done  50 out of  50 | elapsed:    0.0s finished\n",
      "[Parallel(n_jobs=1)]: Using backend SequentialBackend with 1 concurrent workers.\n"
     ]
    },
    {
     "name": "stdout",
     "output_type": "stream",
     "text": [
      "[CV 2/5] END max_depth=2, min_samples_leaf=7, min_samples_split=2, n_estimators=50, random_state=0, verbose=1;, score=0.436 total time=   0.8s\n"
     ]
    },
    {
     "name": "stderr",
     "output_type": "stream",
     "text": [
      "[Parallel(n_jobs=1)]: Done  50 out of  50 | elapsed:    0.9s finished\n",
      "[Parallel(n_jobs=1)]: Using backend SequentialBackend with 1 concurrent workers.\n",
      "[Parallel(n_jobs=1)]: Done  50 out of  50 | elapsed:    0.0s finished\n",
      "[Parallel(n_jobs=1)]: Using backend SequentialBackend with 1 concurrent workers.\n"
     ]
    },
    {
     "name": "stdout",
     "output_type": "stream",
     "text": [
      "[CV 3/5] END max_depth=2, min_samples_leaf=7, min_samples_split=2, n_estimators=50, random_state=0, verbose=1;, score=0.376 total time=   0.9s\n"
     ]
    },
    {
     "name": "stderr",
     "output_type": "stream",
     "text": [
      "[Parallel(n_jobs=1)]: Done  50 out of  50 | elapsed:    1.0s finished\n",
      "[Parallel(n_jobs=1)]: Using backend SequentialBackend with 1 concurrent workers.\n",
      "[Parallel(n_jobs=1)]: Done  50 out of  50 | elapsed:    0.0s finished\n",
      "[Parallel(n_jobs=1)]: Using backend SequentialBackend with 1 concurrent workers.\n"
     ]
    },
    {
     "name": "stdout",
     "output_type": "stream",
     "text": [
      "[CV 4/5] END max_depth=2, min_samples_leaf=7, min_samples_split=2, n_estimators=50, random_state=0, verbose=1;, score=0.479 total time=   1.0s\n"
     ]
    },
    {
     "name": "stderr",
     "output_type": "stream",
     "text": [
      "[Parallel(n_jobs=1)]: Done  50 out of  50 | elapsed:    0.9s finished\n",
      "[Parallel(n_jobs=1)]: Using backend SequentialBackend with 1 concurrent workers.\n",
      "[Parallel(n_jobs=1)]: Done  50 out of  50 | elapsed:    0.0s finished\n",
      "[Parallel(n_jobs=1)]: Using backend SequentialBackend with 1 concurrent workers.\n"
     ]
    },
    {
     "name": "stdout",
     "output_type": "stream",
     "text": [
      "[CV 5/5] END max_depth=2, min_samples_leaf=7, min_samples_split=2, n_estimators=50, random_state=0, verbose=1;, score=0.421 total time=   0.9s\n"
     ]
    },
    {
     "name": "stderr",
     "output_type": "stream",
     "text": [
      "[Parallel(n_jobs=1)]: Done  50 out of  50 | elapsed:    1.0s finished\n",
      "[Parallel(n_jobs=1)]: Using backend SequentialBackend with 1 concurrent workers.\n",
      "[Parallel(n_jobs=1)]: Done  50 out of  50 | elapsed:    0.0s finished\n",
      "[Parallel(n_jobs=1)]: Using backend SequentialBackend with 1 concurrent workers.\n"
     ]
    },
    {
     "name": "stdout",
     "output_type": "stream",
     "text": [
      "[CV 1/5] END max_depth=2, min_samples_leaf=7, min_samples_split=4, n_estimators=50, random_state=0, verbose=1;, score=0.439 total time=   1.0s\n"
     ]
    },
    {
     "name": "stderr",
     "output_type": "stream",
     "text": [
      "[Parallel(n_jobs=1)]: Done  50 out of  50 | elapsed:    0.8s finished\n",
      "[Parallel(n_jobs=1)]: Using backend SequentialBackend with 1 concurrent workers.\n",
      "[Parallel(n_jobs=1)]: Done  50 out of  50 | elapsed:    0.0s finished\n",
      "[Parallel(n_jobs=1)]: Using backend SequentialBackend with 1 concurrent workers.\n"
     ]
    },
    {
     "name": "stdout",
     "output_type": "stream",
     "text": [
      "[CV 2/5] END max_depth=2, min_samples_leaf=7, min_samples_split=4, n_estimators=50, random_state=0, verbose=1;, score=0.436 total time=   0.9s\n"
     ]
    },
    {
     "name": "stderr",
     "output_type": "stream",
     "text": [
      "[Parallel(n_jobs=1)]: Done  50 out of  50 | elapsed:    0.8s finished\n",
      "[Parallel(n_jobs=1)]: Using backend SequentialBackend with 1 concurrent workers.\n",
      "[Parallel(n_jobs=1)]: Done  50 out of  50 | elapsed:    0.0s finished\n",
      "[Parallel(n_jobs=1)]: Using backend SequentialBackend with 1 concurrent workers.\n"
     ]
    },
    {
     "name": "stdout",
     "output_type": "stream",
     "text": [
      "[CV 3/5] END max_depth=2, min_samples_leaf=7, min_samples_split=4, n_estimators=50, random_state=0, verbose=1;, score=0.376 total time=   0.8s\n"
     ]
    },
    {
     "name": "stderr",
     "output_type": "stream",
     "text": [
      "[Parallel(n_jobs=1)]: Done  50 out of  50 | elapsed:    0.8s finished\n",
      "[Parallel(n_jobs=1)]: Using backend SequentialBackend with 1 concurrent workers.\n",
      "[Parallel(n_jobs=1)]: Done  50 out of  50 | elapsed:    0.0s finished\n",
      "[Parallel(n_jobs=1)]: Using backend SequentialBackend with 1 concurrent workers.\n"
     ]
    },
    {
     "name": "stdout",
     "output_type": "stream",
     "text": [
      "[CV 4/5] END max_depth=2, min_samples_leaf=7, min_samples_split=4, n_estimators=50, random_state=0, verbose=1;, score=0.479 total time=   0.8s\n"
     ]
    },
    {
     "name": "stderr",
     "output_type": "stream",
     "text": [
      "[Parallel(n_jobs=1)]: Done  50 out of  50 | elapsed:    0.8s finished\n",
      "[Parallel(n_jobs=1)]: Using backend SequentialBackend with 1 concurrent workers.\n",
      "[Parallel(n_jobs=1)]: Done  50 out of  50 | elapsed:    0.0s finished\n",
      "[Parallel(n_jobs=1)]: Using backend SequentialBackend with 1 concurrent workers.\n"
     ]
    },
    {
     "name": "stdout",
     "output_type": "stream",
     "text": [
      "[CV 5/5] END max_depth=2, min_samples_leaf=7, min_samples_split=4, n_estimators=50, random_state=0, verbose=1;, score=0.421 total time=   0.9s\n"
     ]
    },
    {
     "name": "stderr",
     "output_type": "stream",
     "text": [
      "[Parallel(n_jobs=1)]: Done  50 out of  50 | elapsed:    0.8s finished\n",
      "[Parallel(n_jobs=1)]: Using backend SequentialBackend with 1 concurrent workers.\n",
      "[Parallel(n_jobs=1)]: Done  50 out of  50 | elapsed:    0.0s finished\n",
      "[Parallel(n_jobs=1)]: Using backend SequentialBackend with 1 concurrent workers.\n"
     ]
    },
    {
     "name": "stdout",
     "output_type": "stream",
     "text": [
      "[CV 1/5] END max_depth=2, min_samples_leaf=7, min_samples_split=6, n_estimators=50, random_state=0, verbose=1;, score=0.439 total time=   0.9s\n"
     ]
    },
    {
     "name": "stderr",
     "output_type": "stream",
     "text": [
      "[Parallel(n_jobs=1)]: Done  50 out of  50 | elapsed:    0.8s finished\n",
      "[Parallel(n_jobs=1)]: Using backend SequentialBackend with 1 concurrent workers.\n",
      "[Parallel(n_jobs=1)]: Done  50 out of  50 | elapsed:    0.0s finished\n",
      "[Parallel(n_jobs=1)]: Using backend SequentialBackend with 1 concurrent workers.\n"
     ]
    },
    {
     "name": "stdout",
     "output_type": "stream",
     "text": [
      "[CV 2/5] END max_depth=2, min_samples_leaf=7, min_samples_split=6, n_estimators=50, random_state=0, verbose=1;, score=0.436 total time=   0.9s\n"
     ]
    },
    {
     "name": "stderr",
     "output_type": "stream",
     "text": [
      "[Parallel(n_jobs=1)]: Done  50 out of  50 | elapsed:    0.8s finished\n",
      "[Parallel(n_jobs=1)]: Using backend SequentialBackend with 1 concurrent workers.\n",
      "[Parallel(n_jobs=1)]: Done  50 out of  50 | elapsed:    0.0s finished\n",
      "[Parallel(n_jobs=1)]: Using backend SequentialBackend with 1 concurrent workers.\n"
     ]
    },
    {
     "name": "stdout",
     "output_type": "stream",
     "text": [
      "[CV 3/5] END max_depth=2, min_samples_leaf=7, min_samples_split=6, n_estimators=50, random_state=0, verbose=1;, score=0.376 total time=   0.8s\n"
     ]
    },
    {
     "name": "stderr",
     "output_type": "stream",
     "text": [
      "[Parallel(n_jobs=1)]: Done  50 out of  50 | elapsed:    1.0s finished\n",
      "[Parallel(n_jobs=1)]: Using backend SequentialBackend with 1 concurrent workers.\n",
      "[Parallel(n_jobs=1)]: Done  50 out of  50 | elapsed:    0.0s finished\n",
      "[Parallel(n_jobs=1)]: Using backend SequentialBackend with 1 concurrent workers.\n"
     ]
    },
    {
     "name": "stdout",
     "output_type": "stream",
     "text": [
      "[CV 4/5] END max_depth=2, min_samples_leaf=7, min_samples_split=6, n_estimators=50, random_state=0, verbose=1;, score=0.479 total time=   1.0s\n"
     ]
    },
    {
     "name": "stderr",
     "output_type": "stream",
     "text": [
      "[Parallel(n_jobs=1)]: Done  50 out of  50 | elapsed:    0.8s finished\n",
      "[Parallel(n_jobs=1)]: Using backend SequentialBackend with 1 concurrent workers.\n",
      "[Parallel(n_jobs=1)]: Done  50 out of  50 | elapsed:    0.0s finished\n",
      "[Parallel(n_jobs=1)]: Using backend SequentialBackend with 1 concurrent workers.\n"
     ]
    },
    {
     "name": "stdout",
     "output_type": "stream",
     "text": [
      "[CV 5/5] END max_depth=2, min_samples_leaf=7, min_samples_split=6, n_estimators=50, random_state=0, verbose=1;, score=0.421 total time=   0.9s\n"
     ]
    },
    {
     "name": "stderr",
     "output_type": "stream",
     "text": [
      "[Parallel(n_jobs=1)]: Done  50 out of  50 | elapsed:    1.4s finished\n",
      "[Parallel(n_jobs=1)]: Using backend SequentialBackend with 1 concurrent workers.\n",
      "[Parallel(n_jobs=1)]: Done  50 out of  50 | elapsed:    0.0s finished\n",
      "[Parallel(n_jobs=1)]: Using backend SequentialBackend with 1 concurrent workers.\n"
     ]
    },
    {
     "name": "stdout",
     "output_type": "stream",
     "text": [
      "[CV 1/5] END max_depth=4, min_samples_leaf=1, min_samples_split=2, n_estimators=50, random_state=0, verbose=1;, score=0.538 total time=   1.5s\n"
     ]
    },
    {
     "name": "stderr",
     "output_type": "stream",
     "text": [
      "[Parallel(n_jobs=1)]: Done  50 out of  50 | elapsed:    1.6s finished\n",
      "[Parallel(n_jobs=1)]: Using backend SequentialBackend with 1 concurrent workers.\n",
      "[Parallel(n_jobs=1)]: Done  50 out of  50 | elapsed:    0.0s finished\n",
      "[Parallel(n_jobs=1)]: Using backend SequentialBackend with 1 concurrent workers.\n"
     ]
    },
    {
     "name": "stdout",
     "output_type": "stream",
     "text": [
      "[CV 2/5] END max_depth=4, min_samples_leaf=1, min_samples_split=2, n_estimators=50, random_state=0, verbose=1;, score=0.517 total time=   1.7s\n"
     ]
    },
    {
     "name": "stderr",
     "output_type": "stream",
     "text": [
      "[Parallel(n_jobs=1)]: Done  50 out of  50 | elapsed:    1.7s finished\n",
      "[Parallel(n_jobs=1)]: Using backend SequentialBackend with 1 concurrent workers.\n",
      "[Parallel(n_jobs=1)]: Done  50 out of  50 | elapsed:    0.0s finished\n",
      "[Parallel(n_jobs=1)]: Using backend SequentialBackend with 1 concurrent workers.\n"
     ]
    },
    {
     "name": "stdout",
     "output_type": "stream",
     "text": [
      "[CV 3/5] END max_depth=4, min_samples_leaf=1, min_samples_split=2, n_estimators=50, random_state=0, verbose=1;, score=0.511 total time=   1.7s\n"
     ]
    },
    {
     "name": "stderr",
     "output_type": "stream",
     "text": [
      "[Parallel(n_jobs=1)]: Done  50 out of  50 | elapsed:    1.7s finished\n",
      "[Parallel(n_jobs=1)]: Using backend SequentialBackend with 1 concurrent workers.\n",
      "[Parallel(n_jobs=1)]: Done  50 out of  50 | elapsed:    0.0s finished\n",
      "[Parallel(n_jobs=1)]: Using backend SequentialBackend with 1 concurrent workers.\n"
     ]
    },
    {
     "name": "stdout",
     "output_type": "stream",
     "text": [
      "[CV 4/5] END max_depth=4, min_samples_leaf=1, min_samples_split=2, n_estimators=50, random_state=0, verbose=1;, score=0.531 total time=   1.7s\n"
     ]
    },
    {
     "name": "stderr",
     "output_type": "stream",
     "text": [
      "[Parallel(n_jobs=1)]: Done  50 out of  50 | elapsed:    1.4s finished\n",
      "[Parallel(n_jobs=1)]: Using backend SequentialBackend with 1 concurrent workers.\n",
      "[Parallel(n_jobs=1)]: Done  50 out of  50 | elapsed:    0.0s finished\n",
      "[Parallel(n_jobs=1)]: Using backend SequentialBackend with 1 concurrent workers.\n"
     ]
    },
    {
     "name": "stdout",
     "output_type": "stream",
     "text": [
      "[CV 5/5] END max_depth=4, min_samples_leaf=1, min_samples_split=2, n_estimators=50, random_state=0, verbose=1;, score=0.518 total time=   1.5s\n"
     ]
    },
    {
     "name": "stderr",
     "output_type": "stream",
     "text": [
      "[Parallel(n_jobs=1)]: Done  50 out of  50 | elapsed:    1.6s finished\n",
      "[Parallel(n_jobs=1)]: Using backend SequentialBackend with 1 concurrent workers.\n",
      "[Parallel(n_jobs=1)]: Done  50 out of  50 | elapsed:    0.0s finished\n",
      "[Parallel(n_jobs=1)]: Using backend SequentialBackend with 1 concurrent workers.\n"
     ]
    },
    {
     "name": "stdout",
     "output_type": "stream",
     "text": [
      "[CV 1/5] END max_depth=4, min_samples_leaf=1, min_samples_split=4, n_estimators=50, random_state=0, verbose=1;, score=0.539 total time=   1.7s\n"
     ]
    },
    {
     "name": "stderr",
     "output_type": "stream",
     "text": [
      "[Parallel(n_jobs=1)]: Done  50 out of  50 | elapsed:    1.6s finished\n",
      "[Parallel(n_jobs=1)]: Using backend SequentialBackend with 1 concurrent workers.\n",
      "[Parallel(n_jobs=1)]: Done  50 out of  50 | elapsed:    0.0s finished\n",
      "[Parallel(n_jobs=1)]: Using backend SequentialBackend with 1 concurrent workers.\n"
     ]
    },
    {
     "name": "stdout",
     "output_type": "stream",
     "text": [
      "[CV 2/5] END max_depth=4, min_samples_leaf=1, min_samples_split=4, n_estimators=50, random_state=0, verbose=1;, score=0.520 total time=   1.7s\n"
     ]
    },
    {
     "name": "stderr",
     "output_type": "stream",
     "text": [
      "[Parallel(n_jobs=1)]: Done  50 out of  50 | elapsed:    1.5s finished\n",
      "[Parallel(n_jobs=1)]: Using backend SequentialBackend with 1 concurrent workers.\n",
      "[Parallel(n_jobs=1)]: Done  50 out of  50 | elapsed:    0.0s finished\n",
      "[Parallel(n_jobs=1)]: Using backend SequentialBackend with 1 concurrent workers.\n"
     ]
    },
    {
     "name": "stdout",
     "output_type": "stream",
     "text": [
      "[CV 3/5] END max_depth=4, min_samples_leaf=1, min_samples_split=4, n_estimators=50, random_state=0, verbose=1;, score=0.513 total time=   1.5s\n"
     ]
    },
    {
     "name": "stderr",
     "output_type": "stream",
     "text": [
      "[Parallel(n_jobs=1)]: Done  50 out of  50 | elapsed:    1.4s finished\n",
      "[Parallel(n_jobs=1)]: Using backend SequentialBackend with 1 concurrent workers.\n",
      "[Parallel(n_jobs=1)]: Done  50 out of  50 | elapsed:    0.0s finished\n",
      "[Parallel(n_jobs=1)]: Using backend SequentialBackend with 1 concurrent workers.\n"
     ]
    },
    {
     "name": "stdout",
     "output_type": "stream",
     "text": [
      "[CV 4/5] END max_depth=4, min_samples_leaf=1, min_samples_split=4, n_estimators=50, random_state=0, verbose=1;, score=0.531 total time=   1.5s\n"
     ]
    },
    {
     "name": "stderr",
     "output_type": "stream",
     "text": [
      "[Parallel(n_jobs=1)]: Done  50 out of  50 | elapsed:    1.5s finished\n",
      "[Parallel(n_jobs=1)]: Using backend SequentialBackend with 1 concurrent workers.\n",
      "[Parallel(n_jobs=1)]: Done  50 out of  50 | elapsed:    0.0s finished\n",
      "[Parallel(n_jobs=1)]: Using backend SequentialBackend with 1 concurrent workers.\n"
     ]
    },
    {
     "name": "stdout",
     "output_type": "stream",
     "text": [
      "[CV 5/5] END max_depth=4, min_samples_leaf=1, min_samples_split=4, n_estimators=50, random_state=0, verbose=1;, score=0.518 total time=   1.5s\n"
     ]
    },
    {
     "name": "stderr",
     "output_type": "stream",
     "text": [
      "[Parallel(n_jobs=1)]: Done  50 out of  50 | elapsed:    1.4s finished\n",
      "[Parallel(n_jobs=1)]: Using backend SequentialBackend with 1 concurrent workers.\n",
      "[Parallel(n_jobs=1)]: Done  50 out of  50 | elapsed:    0.0s finished\n",
      "[Parallel(n_jobs=1)]: Using backend SequentialBackend with 1 concurrent workers.\n"
     ]
    },
    {
     "name": "stdout",
     "output_type": "stream",
     "text": [
      "[CV 1/5] END max_depth=4, min_samples_leaf=1, min_samples_split=6, n_estimators=50, random_state=0, verbose=1;, score=0.539 total time=   1.5s\n"
     ]
    },
    {
     "name": "stderr",
     "output_type": "stream",
     "text": [
      "[Parallel(n_jobs=1)]: Done  50 out of  50 | elapsed:    1.5s finished\n",
      "[Parallel(n_jobs=1)]: Using backend SequentialBackend with 1 concurrent workers.\n",
      "[Parallel(n_jobs=1)]: Done  50 out of  50 | elapsed:    0.0s finished\n",
      "[Parallel(n_jobs=1)]: Using backend SequentialBackend with 1 concurrent workers.\n"
     ]
    },
    {
     "name": "stdout",
     "output_type": "stream",
     "text": [
      "[CV 2/5] END max_depth=4, min_samples_leaf=1, min_samples_split=6, n_estimators=50, random_state=0, verbose=1;, score=0.518 total time=   1.5s\n"
     ]
    },
    {
     "name": "stderr",
     "output_type": "stream",
     "text": [
      "[Parallel(n_jobs=1)]: Done  50 out of  50 | elapsed:    1.5s finished\n",
      "[Parallel(n_jobs=1)]: Using backend SequentialBackend with 1 concurrent workers.\n",
      "[Parallel(n_jobs=1)]: Done  50 out of  50 | elapsed:    0.0s finished\n",
      "[Parallel(n_jobs=1)]: Using backend SequentialBackend with 1 concurrent workers.\n"
     ]
    },
    {
     "name": "stdout",
     "output_type": "stream",
     "text": [
      "[CV 3/5] END max_depth=4, min_samples_leaf=1, min_samples_split=6, n_estimators=50, random_state=0, verbose=1;, score=0.510 total time=   1.5s\n"
     ]
    },
    {
     "name": "stderr",
     "output_type": "stream",
     "text": [
      "[Parallel(n_jobs=1)]: Done  50 out of  50 | elapsed:    1.5s finished\n",
      "[Parallel(n_jobs=1)]: Using backend SequentialBackend with 1 concurrent workers.\n",
      "[Parallel(n_jobs=1)]: Done  50 out of  50 | elapsed:    0.0s finished\n",
      "[Parallel(n_jobs=1)]: Using backend SequentialBackend with 1 concurrent workers.\n"
     ]
    },
    {
     "name": "stdout",
     "output_type": "stream",
     "text": [
      "[CV 4/5] END max_depth=4, min_samples_leaf=1, min_samples_split=6, n_estimators=50, random_state=0, verbose=1;, score=0.532 total time=   1.5s\n"
     ]
    },
    {
     "name": "stderr",
     "output_type": "stream",
     "text": [
      "[Parallel(n_jobs=1)]: Done  50 out of  50 | elapsed:    1.5s finished\n",
      "[Parallel(n_jobs=1)]: Using backend SequentialBackend with 1 concurrent workers.\n",
      "[Parallel(n_jobs=1)]: Done  50 out of  50 | elapsed:    0.0s finished\n",
      "[Parallel(n_jobs=1)]: Using backend SequentialBackend with 1 concurrent workers.\n"
     ]
    },
    {
     "name": "stdout",
     "output_type": "stream",
     "text": [
      "[CV 5/5] END max_depth=4, min_samples_leaf=1, min_samples_split=6, n_estimators=50, random_state=0, verbose=1;, score=0.519 total time=   1.5s\n"
     ]
    },
    {
     "name": "stderr",
     "output_type": "stream",
     "text": [
      "[Parallel(n_jobs=1)]: Done  50 out of  50 | elapsed:    1.5s finished\n",
      "[Parallel(n_jobs=1)]: Using backend SequentialBackend with 1 concurrent workers.\n",
      "[Parallel(n_jobs=1)]: Done  50 out of  50 | elapsed:    0.0s finished\n",
      "[Parallel(n_jobs=1)]: Using backend SequentialBackend with 1 concurrent workers.\n"
     ]
    },
    {
     "name": "stdout",
     "output_type": "stream",
     "text": [
      "[CV 1/5] END max_depth=4, min_samples_leaf=4, min_samples_split=2, n_estimators=50, random_state=0, verbose=1;, score=0.554 total time=   1.5s\n"
     ]
    },
    {
     "name": "stderr",
     "output_type": "stream",
     "text": [
      "[Parallel(n_jobs=1)]: Done  50 out of  50 | elapsed:    1.5s finished\n",
      "[Parallel(n_jobs=1)]: Using backend SequentialBackend with 1 concurrent workers.\n",
      "[Parallel(n_jobs=1)]: Done  50 out of  50 | elapsed:    0.0s finished\n",
      "[Parallel(n_jobs=1)]: Using backend SequentialBackend with 1 concurrent workers.\n"
     ]
    },
    {
     "name": "stdout",
     "output_type": "stream",
     "text": [
      "[CV 2/5] END max_depth=4, min_samples_leaf=4, min_samples_split=2, n_estimators=50, random_state=0, verbose=1;, score=0.527 total time=   1.5s\n"
     ]
    },
    {
     "name": "stderr",
     "output_type": "stream",
     "text": [
      "[Parallel(n_jobs=1)]: Done  50 out of  50 | elapsed:    1.5s finished\n",
      "[Parallel(n_jobs=1)]: Using backend SequentialBackend with 1 concurrent workers.\n",
      "[Parallel(n_jobs=1)]: Done  50 out of  50 | elapsed:    0.0s finished\n",
      "[Parallel(n_jobs=1)]: Using backend SequentialBackend with 1 concurrent workers.\n"
     ]
    },
    {
     "name": "stdout",
     "output_type": "stream",
     "text": [
      "[CV 3/5] END max_depth=4, min_samples_leaf=4, min_samples_split=2, n_estimators=50, random_state=0, verbose=1;, score=0.499 total time=   1.5s\n"
     ]
    },
    {
     "name": "stderr",
     "output_type": "stream",
     "text": [
      "[Parallel(n_jobs=1)]: Done  50 out of  50 | elapsed:    1.4s finished\n",
      "[Parallel(n_jobs=1)]: Using backend SequentialBackend with 1 concurrent workers.\n",
      "[Parallel(n_jobs=1)]: Done  50 out of  50 | elapsed:    0.0s finished\n",
      "[Parallel(n_jobs=1)]: Using backend SequentialBackend with 1 concurrent workers.\n"
     ]
    },
    {
     "name": "stdout",
     "output_type": "stream",
     "text": [
      "[CV 4/5] END max_depth=4, min_samples_leaf=4, min_samples_split=2, n_estimators=50, random_state=0, verbose=1;, score=0.531 total time=   1.5s\n"
     ]
    },
    {
     "name": "stderr",
     "output_type": "stream",
     "text": [
      "[Parallel(n_jobs=1)]: Done  50 out of  50 | elapsed:    1.4s finished\n",
      "[Parallel(n_jobs=1)]: Using backend SequentialBackend with 1 concurrent workers.\n",
      "[Parallel(n_jobs=1)]: Done  50 out of  50 | elapsed:    0.0s finished\n",
      "[Parallel(n_jobs=1)]: Using backend SequentialBackend with 1 concurrent workers.\n"
     ]
    },
    {
     "name": "stdout",
     "output_type": "stream",
     "text": [
      "[CV 5/5] END max_depth=4, min_samples_leaf=4, min_samples_split=2, n_estimators=50, random_state=0, verbose=1;, score=0.511 total time=   1.5s\n"
     ]
    },
    {
     "name": "stderr",
     "output_type": "stream",
     "text": [
      "[Parallel(n_jobs=1)]: Done  50 out of  50 | elapsed:    1.4s finished\n",
      "[Parallel(n_jobs=1)]: Using backend SequentialBackend with 1 concurrent workers.\n",
      "[Parallel(n_jobs=1)]: Done  50 out of  50 | elapsed:    0.0s finished\n",
      "[Parallel(n_jobs=1)]: Using backend SequentialBackend with 1 concurrent workers.\n"
     ]
    },
    {
     "name": "stdout",
     "output_type": "stream",
     "text": [
      "[CV 1/5] END max_depth=4, min_samples_leaf=4, min_samples_split=4, n_estimators=50, random_state=0, verbose=1;, score=0.554 total time=   1.5s\n"
     ]
    },
    {
     "name": "stderr",
     "output_type": "stream",
     "text": [
      "[Parallel(n_jobs=1)]: Done  50 out of  50 | elapsed:    1.6s finished\n",
      "[Parallel(n_jobs=1)]: Using backend SequentialBackend with 1 concurrent workers.\n",
      "[Parallel(n_jobs=1)]: Done  50 out of  50 | elapsed:    0.0s finished\n",
      "[Parallel(n_jobs=1)]: Using backend SequentialBackend with 1 concurrent workers.\n"
     ]
    },
    {
     "name": "stdout",
     "output_type": "stream",
     "text": [
      "[CV 2/5] END max_depth=4, min_samples_leaf=4, min_samples_split=4, n_estimators=50, random_state=0, verbose=1;, score=0.527 total time=   1.6s\n"
     ]
    },
    {
     "name": "stderr",
     "output_type": "stream",
     "text": [
      "[Parallel(n_jobs=1)]: Done  50 out of  50 | elapsed:    1.6s finished\n",
      "[Parallel(n_jobs=1)]: Using backend SequentialBackend with 1 concurrent workers.\n",
      "[Parallel(n_jobs=1)]: Done  50 out of  50 | elapsed:    0.0s finished\n",
      "[Parallel(n_jobs=1)]: Using backend SequentialBackend with 1 concurrent workers.\n"
     ]
    },
    {
     "name": "stdout",
     "output_type": "stream",
     "text": [
      "[CV 3/5] END max_depth=4, min_samples_leaf=4, min_samples_split=4, n_estimators=50, random_state=0, verbose=1;, score=0.499 total time=   1.6s\n"
     ]
    },
    {
     "name": "stderr",
     "output_type": "stream",
     "text": [
      "[Parallel(n_jobs=1)]: Done  50 out of  50 | elapsed:    1.5s finished\n",
      "[Parallel(n_jobs=1)]: Using backend SequentialBackend with 1 concurrent workers.\n",
      "[Parallel(n_jobs=1)]: Done  50 out of  50 | elapsed:    0.0s finished\n",
      "[Parallel(n_jobs=1)]: Using backend SequentialBackend with 1 concurrent workers.\n"
     ]
    },
    {
     "name": "stdout",
     "output_type": "stream",
     "text": [
      "[CV 4/5] END max_depth=4, min_samples_leaf=4, min_samples_split=4, n_estimators=50, random_state=0, verbose=1;, score=0.531 total time=   1.5s\n"
     ]
    },
    {
     "name": "stderr",
     "output_type": "stream",
     "text": [
      "[Parallel(n_jobs=1)]: Done  50 out of  50 | elapsed:    1.5s finished\n",
      "[Parallel(n_jobs=1)]: Using backend SequentialBackend with 1 concurrent workers.\n",
      "[Parallel(n_jobs=1)]: Done  50 out of  50 | elapsed:    0.0s finished\n",
      "[Parallel(n_jobs=1)]: Using backend SequentialBackend with 1 concurrent workers.\n"
     ]
    },
    {
     "name": "stdout",
     "output_type": "stream",
     "text": [
      "[CV 5/5] END max_depth=4, min_samples_leaf=4, min_samples_split=4, n_estimators=50, random_state=0, verbose=1;, score=0.511 total time=   1.5s\n"
     ]
    },
    {
     "name": "stderr",
     "output_type": "stream",
     "text": [
      "[Parallel(n_jobs=1)]: Done  50 out of  50 | elapsed:    1.4s finished\n",
      "[Parallel(n_jobs=1)]: Using backend SequentialBackend with 1 concurrent workers.\n",
      "[Parallel(n_jobs=1)]: Done  50 out of  50 | elapsed:    0.0s finished\n",
      "[Parallel(n_jobs=1)]: Using backend SequentialBackend with 1 concurrent workers.\n"
     ]
    },
    {
     "name": "stdout",
     "output_type": "stream",
     "text": [
      "[CV 1/5] END max_depth=4, min_samples_leaf=4, min_samples_split=6, n_estimators=50, random_state=0, verbose=1;, score=0.554 total time=   1.5s\n"
     ]
    },
    {
     "name": "stderr",
     "output_type": "stream",
     "text": [
      "[Parallel(n_jobs=1)]: Done  50 out of  50 | elapsed:    1.4s finished\n",
      "[Parallel(n_jobs=1)]: Using backend SequentialBackend with 1 concurrent workers.\n",
      "[Parallel(n_jobs=1)]: Done  50 out of  50 | elapsed:    0.0s finished\n",
      "[Parallel(n_jobs=1)]: Using backend SequentialBackend with 1 concurrent workers.\n"
     ]
    },
    {
     "name": "stdout",
     "output_type": "stream",
     "text": [
      "[CV 2/5] END max_depth=4, min_samples_leaf=4, min_samples_split=6, n_estimators=50, random_state=0, verbose=1;, score=0.527 total time=   1.5s\n"
     ]
    },
    {
     "name": "stderr",
     "output_type": "stream",
     "text": [
      "[Parallel(n_jobs=1)]: Done  50 out of  50 | elapsed:    1.5s finished\n",
      "[Parallel(n_jobs=1)]: Using backend SequentialBackend with 1 concurrent workers.\n",
      "[Parallel(n_jobs=1)]: Done  50 out of  50 | elapsed:    0.0s finished\n",
      "[Parallel(n_jobs=1)]: Using backend SequentialBackend with 1 concurrent workers.\n"
     ]
    },
    {
     "name": "stdout",
     "output_type": "stream",
     "text": [
      "[CV 3/5] END max_depth=4, min_samples_leaf=4, min_samples_split=6, n_estimators=50, random_state=0, verbose=1;, score=0.499 total time=   1.5s\n"
     ]
    },
    {
     "name": "stderr",
     "output_type": "stream",
     "text": [
      "[Parallel(n_jobs=1)]: Done  50 out of  50 | elapsed:    1.7s finished\n",
      "[Parallel(n_jobs=1)]: Using backend SequentialBackend with 1 concurrent workers.\n",
      "[Parallel(n_jobs=1)]: Done  50 out of  50 | elapsed:    0.0s finished\n",
      "[Parallel(n_jobs=1)]: Using backend SequentialBackend with 1 concurrent workers.\n"
     ]
    },
    {
     "name": "stdout",
     "output_type": "stream",
     "text": [
      "[CV 4/5] END max_depth=4, min_samples_leaf=4, min_samples_split=6, n_estimators=50, random_state=0, verbose=1;, score=0.531 total time=   1.7s\n"
     ]
    },
    {
     "name": "stderr",
     "output_type": "stream",
     "text": [
      "[Parallel(n_jobs=1)]: Done  50 out of  50 | elapsed:    1.6s finished\n",
      "[Parallel(n_jobs=1)]: Using backend SequentialBackend with 1 concurrent workers.\n",
      "[Parallel(n_jobs=1)]: Done  50 out of  50 | elapsed:    0.0s finished\n",
      "[Parallel(n_jobs=1)]: Using backend SequentialBackend with 1 concurrent workers.\n"
     ]
    },
    {
     "name": "stdout",
     "output_type": "stream",
     "text": [
      "[CV 5/5] END max_depth=4, min_samples_leaf=4, min_samples_split=6, n_estimators=50, random_state=0, verbose=1;, score=0.511 total time=   1.6s\n"
     ]
    },
    {
     "name": "stderr",
     "output_type": "stream",
     "text": [
      "[Parallel(n_jobs=1)]: Done  50 out of  50 | elapsed:    1.4s finished\n",
      "[Parallel(n_jobs=1)]: Using backend SequentialBackend with 1 concurrent workers.\n",
      "[Parallel(n_jobs=1)]: Done  50 out of  50 | elapsed:    0.0s finished\n",
      "[Parallel(n_jobs=1)]: Using backend SequentialBackend with 1 concurrent workers.\n"
     ]
    },
    {
     "name": "stdout",
     "output_type": "stream",
     "text": [
      "[CV 1/5] END max_depth=4, min_samples_leaf=7, min_samples_split=2, n_estimators=50, random_state=0, verbose=1;, score=0.555 total time=   1.5s\n"
     ]
    },
    {
     "name": "stderr",
     "output_type": "stream",
     "text": [
      "[Parallel(n_jobs=1)]: Done  50 out of  50 | elapsed:    1.6s finished\n",
      "[Parallel(n_jobs=1)]: Using backend SequentialBackend with 1 concurrent workers.\n",
      "[Parallel(n_jobs=1)]: Done  50 out of  50 | elapsed:    0.0s finished\n",
      "[Parallel(n_jobs=1)]: Using backend SequentialBackend with 1 concurrent workers.\n"
     ]
    },
    {
     "name": "stdout",
     "output_type": "stream",
     "text": [
      "[CV 2/5] END max_depth=4, min_samples_leaf=7, min_samples_split=2, n_estimators=50, random_state=0, verbose=1;, score=0.531 total time=   1.6s\n"
     ]
    },
    {
     "name": "stderr",
     "output_type": "stream",
     "text": [
      "[Parallel(n_jobs=1)]: Done  50 out of  50 | elapsed:    1.5s finished\n",
      "[Parallel(n_jobs=1)]: Using backend SequentialBackend with 1 concurrent workers.\n",
      "[Parallel(n_jobs=1)]: Done  50 out of  50 | elapsed:    0.0s finished\n",
      "[Parallel(n_jobs=1)]: Using backend SequentialBackend with 1 concurrent workers.\n"
     ]
    },
    {
     "name": "stdout",
     "output_type": "stream",
     "text": [
      "[CV 3/5] END max_depth=4, min_samples_leaf=7, min_samples_split=2, n_estimators=50, random_state=0, verbose=1;, score=0.492 total time=   1.6s\n"
     ]
    },
    {
     "name": "stderr",
     "output_type": "stream",
     "text": [
      "[Parallel(n_jobs=1)]: Done  50 out of  50 | elapsed:    1.4s finished\n",
      "[Parallel(n_jobs=1)]: Using backend SequentialBackend with 1 concurrent workers.\n",
      "[Parallel(n_jobs=1)]: Done  50 out of  50 | elapsed:    0.0s finished\n",
      "[Parallel(n_jobs=1)]: Using backend SequentialBackend with 1 concurrent workers.\n"
     ]
    },
    {
     "name": "stdout",
     "output_type": "stream",
     "text": [
      "[CV 4/5] END max_depth=4, min_samples_leaf=7, min_samples_split=2, n_estimators=50, random_state=0, verbose=1;, score=0.534 total time=   1.5s\n"
     ]
    },
    {
     "name": "stderr",
     "output_type": "stream",
     "text": [
      "[Parallel(n_jobs=1)]: Done  50 out of  50 | elapsed:    1.4s finished\n",
      "[Parallel(n_jobs=1)]: Using backend SequentialBackend with 1 concurrent workers.\n",
      "[Parallel(n_jobs=1)]: Done  50 out of  50 | elapsed:    0.0s finished\n",
      "[Parallel(n_jobs=1)]: Using backend SequentialBackend with 1 concurrent workers.\n"
     ]
    },
    {
     "name": "stdout",
     "output_type": "stream",
     "text": [
      "[CV 5/5] END max_depth=4, min_samples_leaf=7, min_samples_split=2, n_estimators=50, random_state=0, verbose=1;, score=0.516 total time=   1.4s\n"
     ]
    },
    {
     "name": "stderr",
     "output_type": "stream",
     "text": [
      "[Parallel(n_jobs=1)]: Done  50 out of  50 | elapsed:    1.4s finished\n",
      "[Parallel(n_jobs=1)]: Using backend SequentialBackend with 1 concurrent workers.\n",
      "[Parallel(n_jobs=1)]: Done  50 out of  50 | elapsed:    0.0s finished\n",
      "[Parallel(n_jobs=1)]: Using backend SequentialBackend with 1 concurrent workers.\n"
     ]
    },
    {
     "name": "stdout",
     "output_type": "stream",
     "text": [
      "[CV 1/5] END max_depth=4, min_samples_leaf=7, min_samples_split=4, n_estimators=50, random_state=0, verbose=1;, score=0.555 total time=   1.5s\n"
     ]
    },
    {
     "name": "stderr",
     "output_type": "stream",
     "text": [
      "[Parallel(n_jobs=1)]: Done  50 out of  50 | elapsed:    1.4s finished\n",
      "[Parallel(n_jobs=1)]: Using backend SequentialBackend with 1 concurrent workers.\n",
      "[Parallel(n_jobs=1)]: Done  50 out of  50 | elapsed:    0.0s finished\n",
      "[Parallel(n_jobs=1)]: Using backend SequentialBackend with 1 concurrent workers.\n"
     ]
    },
    {
     "name": "stdout",
     "output_type": "stream",
     "text": [
      "[CV 2/5] END max_depth=4, min_samples_leaf=7, min_samples_split=4, n_estimators=50, random_state=0, verbose=1;, score=0.531 total time=   1.5s\n"
     ]
    },
    {
     "name": "stderr",
     "output_type": "stream",
     "text": [
      "[Parallel(n_jobs=1)]: Done  50 out of  50 | elapsed:    1.4s finished\n",
      "[Parallel(n_jobs=1)]: Using backend SequentialBackend with 1 concurrent workers.\n",
      "[Parallel(n_jobs=1)]: Done  50 out of  50 | elapsed:    0.0s finished\n",
      "[Parallel(n_jobs=1)]: Using backend SequentialBackend with 1 concurrent workers.\n"
     ]
    },
    {
     "name": "stdout",
     "output_type": "stream",
     "text": [
      "[CV 3/5] END max_depth=4, min_samples_leaf=7, min_samples_split=4, n_estimators=50, random_state=0, verbose=1;, score=0.492 total time=   1.5s\n"
     ]
    },
    {
     "name": "stderr",
     "output_type": "stream",
     "text": [
      "[Parallel(n_jobs=1)]: Done  50 out of  50 | elapsed:    1.4s finished\n",
      "[Parallel(n_jobs=1)]: Using backend SequentialBackend with 1 concurrent workers.\n",
      "[Parallel(n_jobs=1)]: Done  50 out of  50 | elapsed:    0.0s finished\n",
      "[Parallel(n_jobs=1)]: Using backend SequentialBackend with 1 concurrent workers.\n"
     ]
    },
    {
     "name": "stdout",
     "output_type": "stream",
     "text": [
      "[CV 4/5] END max_depth=4, min_samples_leaf=7, min_samples_split=4, n_estimators=50, random_state=0, verbose=1;, score=0.534 total time=   1.5s\n"
     ]
    },
    {
     "name": "stderr",
     "output_type": "stream",
     "text": [
      "[Parallel(n_jobs=1)]: Done  50 out of  50 | elapsed:    1.5s finished\n",
      "[Parallel(n_jobs=1)]: Using backend SequentialBackend with 1 concurrent workers.\n",
      "[Parallel(n_jobs=1)]: Done  50 out of  50 | elapsed:    0.0s finished\n",
      "[Parallel(n_jobs=1)]: Using backend SequentialBackend with 1 concurrent workers.\n"
     ]
    },
    {
     "name": "stdout",
     "output_type": "stream",
     "text": [
      "[CV 5/5] END max_depth=4, min_samples_leaf=7, min_samples_split=4, n_estimators=50, random_state=0, verbose=1;, score=0.516 total time=   1.5s\n"
     ]
    },
    {
     "name": "stderr",
     "output_type": "stream",
     "text": [
      "[Parallel(n_jobs=1)]: Done  50 out of  50 | elapsed:    1.7s finished\n",
      "[Parallel(n_jobs=1)]: Using backend SequentialBackend with 1 concurrent workers.\n",
      "[Parallel(n_jobs=1)]: Done  50 out of  50 | elapsed:    0.0s finished\n",
      "[Parallel(n_jobs=1)]: Using backend SequentialBackend with 1 concurrent workers.\n"
     ]
    },
    {
     "name": "stdout",
     "output_type": "stream",
     "text": [
      "[CV 1/5] END max_depth=4, min_samples_leaf=7, min_samples_split=6, n_estimators=50, random_state=0, verbose=1;, score=0.555 total time=   1.8s\n"
     ]
    },
    {
     "name": "stderr",
     "output_type": "stream",
     "text": [
      "[Parallel(n_jobs=1)]: Done  50 out of  50 | elapsed:    1.6s finished\n",
      "[Parallel(n_jobs=1)]: Using backend SequentialBackend with 1 concurrent workers.\n",
      "[Parallel(n_jobs=1)]: Done  50 out of  50 | elapsed:    0.0s finished\n",
      "[Parallel(n_jobs=1)]: Using backend SequentialBackend with 1 concurrent workers.\n"
     ]
    },
    {
     "name": "stdout",
     "output_type": "stream",
     "text": [
      "[CV 2/5] END max_depth=4, min_samples_leaf=7, min_samples_split=6, n_estimators=50, random_state=0, verbose=1;, score=0.531 total time=   1.7s\n"
     ]
    },
    {
     "name": "stderr",
     "output_type": "stream",
     "text": [
      "[Parallel(n_jobs=1)]: Done  50 out of  50 | elapsed:    1.5s finished\n",
      "[Parallel(n_jobs=1)]: Using backend SequentialBackend with 1 concurrent workers.\n",
      "[Parallel(n_jobs=1)]: Done  50 out of  50 | elapsed:    0.0s finished\n",
      "[Parallel(n_jobs=1)]: Using backend SequentialBackend with 1 concurrent workers.\n"
     ]
    },
    {
     "name": "stdout",
     "output_type": "stream",
     "text": [
      "[CV 3/5] END max_depth=4, min_samples_leaf=7, min_samples_split=6, n_estimators=50, random_state=0, verbose=1;, score=0.492 total time=   1.5s\n"
     ]
    },
    {
     "name": "stderr",
     "output_type": "stream",
     "text": [
      "[Parallel(n_jobs=1)]: Done  50 out of  50 | elapsed:    1.4s finished\n",
      "[Parallel(n_jobs=1)]: Using backend SequentialBackend with 1 concurrent workers.\n",
      "[Parallel(n_jobs=1)]: Done  50 out of  50 | elapsed:    0.0s finished\n",
      "[Parallel(n_jobs=1)]: Using backend SequentialBackend with 1 concurrent workers.\n"
     ]
    },
    {
     "name": "stdout",
     "output_type": "stream",
     "text": [
      "[CV 4/5] END max_depth=4, min_samples_leaf=7, min_samples_split=6, n_estimators=50, random_state=0, verbose=1;, score=0.534 total time=   1.5s\n"
     ]
    },
    {
     "name": "stderr",
     "output_type": "stream",
     "text": [
      "[Parallel(n_jobs=1)]: Done  50 out of  50 | elapsed:    1.5s finished\n",
      "[Parallel(n_jobs=1)]: Using backend SequentialBackend with 1 concurrent workers.\n",
      "[Parallel(n_jobs=1)]: Done  50 out of  50 | elapsed:    0.0s finished\n",
      "[Parallel(n_jobs=1)]: Using backend SequentialBackend with 1 concurrent workers.\n"
     ]
    },
    {
     "name": "stdout",
     "output_type": "stream",
     "text": [
      "[CV 5/5] END max_depth=4, min_samples_leaf=7, min_samples_split=6, n_estimators=50, random_state=0, verbose=1;, score=0.516 total time=   1.5s\n"
     ]
    },
    {
     "name": "stderr",
     "output_type": "stream",
     "text": [
      "[Parallel(n_jobs=1)]: Done  50 out of  50 | elapsed:    2.3s finished\n",
      "[Parallel(n_jobs=1)]: Using backend SequentialBackend with 1 concurrent workers.\n",
      "[Parallel(n_jobs=1)]: Done  50 out of  50 | elapsed:    0.0s finished\n",
      "[Parallel(n_jobs=1)]: Using backend SequentialBackend with 1 concurrent workers.\n"
     ]
    },
    {
     "name": "stdout",
     "output_type": "stream",
     "text": [
      "[CV 1/5] END max_depth=6, min_samples_leaf=1, min_samples_split=2, n_estimators=50, random_state=0, verbose=1;, score=0.587 total time=   2.3s\n"
     ]
    },
    {
     "name": "stderr",
     "output_type": "stream",
     "text": [
      "[Parallel(n_jobs=1)]: Done  50 out of  50 | elapsed:    2.0s finished\n",
      "[Parallel(n_jobs=1)]: Using backend SequentialBackend with 1 concurrent workers.\n",
      "[Parallel(n_jobs=1)]: Done  50 out of  50 | elapsed:    0.0s finished\n",
      "[Parallel(n_jobs=1)]: Using backend SequentialBackend with 1 concurrent workers.\n"
     ]
    },
    {
     "name": "stdout",
     "output_type": "stream",
     "text": [
      "[CV 2/5] END max_depth=6, min_samples_leaf=1, min_samples_split=2, n_estimators=50, random_state=0, verbose=1;, score=0.546 total time=   2.0s\n"
     ]
    },
    {
     "name": "stderr",
     "output_type": "stream",
     "text": [
      "[Parallel(n_jobs=1)]: Done  50 out of  50 | elapsed:    2.0s finished\n",
      "[Parallel(n_jobs=1)]: Using backend SequentialBackend with 1 concurrent workers.\n",
      "[Parallel(n_jobs=1)]: Done  50 out of  50 | elapsed:    0.0s finished\n",
      "[Parallel(n_jobs=1)]: Using backend SequentialBackend with 1 concurrent workers.\n"
     ]
    },
    {
     "name": "stdout",
     "output_type": "stream",
     "text": [
      "[CV 3/5] END max_depth=6, min_samples_leaf=1, min_samples_split=2, n_estimators=50, random_state=0, verbose=1;, score=0.535 total time=   2.1s\n"
     ]
    },
    {
     "name": "stderr",
     "output_type": "stream",
     "text": [
      "[Parallel(n_jobs=1)]: Done  50 out of  50 | elapsed:    2.0s finished\n",
      "[Parallel(n_jobs=1)]: Using backend SequentialBackend with 1 concurrent workers.\n",
      "[Parallel(n_jobs=1)]: Done  50 out of  50 | elapsed:    0.0s finished\n",
      "[Parallel(n_jobs=1)]: Using backend SequentialBackend with 1 concurrent workers.\n"
     ]
    },
    {
     "name": "stdout",
     "output_type": "stream",
     "text": [
      "[CV 4/5] END max_depth=6, min_samples_leaf=1, min_samples_split=2, n_estimators=50, random_state=0, verbose=1;, score=0.568 total time=   2.0s\n"
     ]
    },
    {
     "name": "stderr",
     "output_type": "stream",
     "text": [
      "[Parallel(n_jobs=1)]: Done  50 out of  50 | elapsed:    2.0s finished\n",
      "[Parallel(n_jobs=1)]: Using backend SequentialBackend with 1 concurrent workers.\n",
      "[Parallel(n_jobs=1)]: Done  50 out of  50 | elapsed:    0.0s finished\n",
      "[Parallel(n_jobs=1)]: Using backend SequentialBackend with 1 concurrent workers.\n"
     ]
    },
    {
     "name": "stdout",
     "output_type": "stream",
     "text": [
      "[CV 5/5] END max_depth=6, min_samples_leaf=1, min_samples_split=2, n_estimators=50, random_state=0, verbose=1;, score=0.559 total time=   2.0s\n"
     ]
    },
    {
     "name": "stderr",
     "output_type": "stream",
     "text": [
      "[Parallel(n_jobs=1)]: Done  50 out of  50 | elapsed:    2.0s finished\n",
      "[Parallel(n_jobs=1)]: Using backend SequentialBackend with 1 concurrent workers.\n",
      "[Parallel(n_jobs=1)]: Done  50 out of  50 | elapsed:    0.0s finished\n",
      "[Parallel(n_jobs=1)]: Using backend SequentialBackend with 1 concurrent workers.\n"
     ]
    },
    {
     "name": "stdout",
     "output_type": "stream",
     "text": [
      "[CV 1/5] END max_depth=6, min_samples_leaf=1, min_samples_split=4, n_estimators=50, random_state=0, verbose=1;, score=0.599 total time=   2.0s\n"
     ]
    },
    {
     "name": "stderr",
     "output_type": "stream",
     "text": [
      "[Parallel(n_jobs=1)]: Done  50 out of  50 | elapsed:    2.0s finished\n",
      "[Parallel(n_jobs=1)]: Using backend SequentialBackend with 1 concurrent workers.\n",
      "[Parallel(n_jobs=1)]: Done  50 out of  50 | elapsed:    0.0s finished\n",
      "[Parallel(n_jobs=1)]: Using backend SequentialBackend with 1 concurrent workers.\n"
     ]
    },
    {
     "name": "stdout",
     "output_type": "stream",
     "text": [
      "[CV 2/5] END max_depth=6, min_samples_leaf=1, min_samples_split=4, n_estimators=50, random_state=0, verbose=1;, score=0.540 total time=   2.0s\n"
     ]
    },
    {
     "name": "stderr",
     "output_type": "stream",
     "text": [
      "[Parallel(n_jobs=1)]: Done  50 out of  50 | elapsed:    2.0s finished\n",
      "[Parallel(n_jobs=1)]: Using backend SequentialBackend with 1 concurrent workers.\n",
      "[Parallel(n_jobs=1)]: Done  50 out of  50 | elapsed:    0.0s finished\n",
      "[Parallel(n_jobs=1)]: Using backend SequentialBackend with 1 concurrent workers.\n"
     ]
    },
    {
     "name": "stdout",
     "output_type": "stream",
     "text": [
      "[CV 3/5] END max_depth=6, min_samples_leaf=1, min_samples_split=4, n_estimators=50, random_state=0, verbose=1;, score=0.534 total time=   2.0s\n"
     ]
    },
    {
     "name": "stderr",
     "output_type": "stream",
     "text": [
      "[Parallel(n_jobs=1)]: Done  50 out of  50 | elapsed:    2.0s finished\n",
      "[Parallel(n_jobs=1)]: Using backend SequentialBackend with 1 concurrent workers.\n",
      "[Parallel(n_jobs=1)]: Done  50 out of  50 | elapsed:    0.0s finished\n",
      "[Parallel(n_jobs=1)]: Using backend SequentialBackend with 1 concurrent workers.\n"
     ]
    },
    {
     "name": "stdout",
     "output_type": "stream",
     "text": [
      "[CV 4/5] END max_depth=6, min_samples_leaf=1, min_samples_split=4, n_estimators=50, random_state=0, verbose=1;, score=0.570 total time=   2.0s\n"
     ]
    },
    {
     "name": "stderr",
     "output_type": "stream",
     "text": [
      "[Parallel(n_jobs=1)]: Done  50 out of  50 | elapsed:    2.0s finished\n",
      "[Parallel(n_jobs=1)]: Using backend SequentialBackend with 1 concurrent workers.\n",
      "[Parallel(n_jobs=1)]: Done  50 out of  50 | elapsed:    0.0s finished\n",
      "[Parallel(n_jobs=1)]: Using backend SequentialBackend with 1 concurrent workers.\n"
     ]
    },
    {
     "name": "stdout",
     "output_type": "stream",
     "text": [
      "[CV 5/5] END max_depth=6, min_samples_leaf=1, min_samples_split=4, n_estimators=50, random_state=0, verbose=1;, score=0.559 total time=   2.0s\n"
     ]
    },
    {
     "name": "stderr",
     "output_type": "stream",
     "text": [
      "[Parallel(n_jobs=1)]: Done  50 out of  50 | elapsed:    2.1s finished\n",
      "[Parallel(n_jobs=1)]: Using backend SequentialBackend with 1 concurrent workers.\n",
      "[Parallel(n_jobs=1)]: Done  50 out of  50 | elapsed:    0.0s finished\n",
      "[Parallel(n_jobs=1)]: Using backend SequentialBackend with 1 concurrent workers.\n"
     ]
    },
    {
     "name": "stdout",
     "output_type": "stream",
     "text": [
      "[CV 1/5] END max_depth=6, min_samples_leaf=1, min_samples_split=6, n_estimators=50, random_state=0, verbose=1;, score=0.597 total time=   2.1s\n"
     ]
    },
    {
     "name": "stderr",
     "output_type": "stream",
     "text": [
      "[Parallel(n_jobs=1)]: Done  50 out of  50 | elapsed:    2.2s finished\n",
      "[Parallel(n_jobs=1)]: Using backend SequentialBackend with 1 concurrent workers.\n",
      "[Parallel(n_jobs=1)]: Done  50 out of  50 | elapsed:    0.0s finished\n",
      "[Parallel(n_jobs=1)]: Using backend SequentialBackend with 1 concurrent workers.\n"
     ]
    },
    {
     "name": "stdout",
     "output_type": "stream",
     "text": [
      "[CV 2/5] END max_depth=6, min_samples_leaf=1, min_samples_split=6, n_estimators=50, random_state=0, verbose=1;, score=0.542 total time=   2.3s\n"
     ]
    },
    {
     "name": "stderr",
     "output_type": "stream",
     "text": [
      "[Parallel(n_jobs=1)]: Done  50 out of  50 | elapsed:    2.0s finished\n",
      "[Parallel(n_jobs=1)]: Using backend SequentialBackend with 1 concurrent workers.\n",
      "[Parallel(n_jobs=1)]: Done  50 out of  50 | elapsed:    0.0s finished\n",
      "[Parallel(n_jobs=1)]: Using backend SequentialBackend with 1 concurrent workers.\n"
     ]
    },
    {
     "name": "stdout",
     "output_type": "stream",
     "text": [
      "[CV 3/5] END max_depth=6, min_samples_leaf=1, min_samples_split=6, n_estimators=50, random_state=0, verbose=1;, score=0.531 total time=   2.1s\n"
     ]
    },
    {
     "name": "stderr",
     "output_type": "stream",
     "text": [
      "[Parallel(n_jobs=1)]: Done  50 out of  50 | elapsed:    2.0s finished\n",
      "[Parallel(n_jobs=1)]: Using backend SequentialBackend with 1 concurrent workers.\n",
      "[Parallel(n_jobs=1)]: Done  50 out of  50 | elapsed:    0.0s finished\n",
      "[Parallel(n_jobs=1)]: Using backend SequentialBackend with 1 concurrent workers.\n"
     ]
    },
    {
     "name": "stdout",
     "output_type": "stream",
     "text": [
      "[CV 4/5] END max_depth=6, min_samples_leaf=1, min_samples_split=6, n_estimators=50, random_state=0, verbose=1;, score=0.571 total time=   2.0s\n"
     ]
    },
    {
     "name": "stderr",
     "output_type": "stream",
     "text": [
      "[Parallel(n_jobs=1)]: Done  50 out of  50 | elapsed:    2.0s finished\n",
      "[Parallel(n_jobs=1)]: Using backend SequentialBackend with 1 concurrent workers.\n",
      "[Parallel(n_jobs=1)]: Done  50 out of  50 | elapsed:    0.0s finished\n",
      "[Parallel(n_jobs=1)]: Using backend SequentialBackend with 1 concurrent workers.\n"
     ]
    },
    {
     "name": "stdout",
     "output_type": "stream",
     "text": [
      "[CV 5/5] END max_depth=6, min_samples_leaf=1, min_samples_split=6, n_estimators=50, random_state=0, verbose=1;, score=0.554 total time=   2.0s\n"
     ]
    },
    {
     "name": "stderr",
     "output_type": "stream",
     "text": [
      "[Parallel(n_jobs=1)]: Done  50 out of  50 | elapsed:    2.0s finished\n",
      "[Parallel(n_jobs=1)]: Using backend SequentialBackend with 1 concurrent workers.\n",
      "[Parallel(n_jobs=1)]: Done  50 out of  50 | elapsed:    0.0s finished\n",
      "[Parallel(n_jobs=1)]: Using backend SequentialBackend with 1 concurrent workers.\n"
     ]
    },
    {
     "name": "stdout",
     "output_type": "stream",
     "text": [
      "[CV 1/5] END max_depth=6, min_samples_leaf=4, min_samples_split=2, n_estimators=50, random_state=0, verbose=1;, score=0.621 total time=   2.0s\n"
     ]
    },
    {
     "name": "stderr",
     "output_type": "stream",
     "text": [
      "[Parallel(n_jobs=1)]: Done  50 out of  50 | elapsed:    1.9s finished\n",
      "[Parallel(n_jobs=1)]: Using backend SequentialBackend with 1 concurrent workers.\n",
      "[Parallel(n_jobs=1)]: Done  50 out of  50 | elapsed:    0.0s finished\n",
      "[Parallel(n_jobs=1)]: Using backend SequentialBackend with 1 concurrent workers.\n"
     ]
    },
    {
     "name": "stdout",
     "output_type": "stream",
     "text": [
      "[CV 2/5] END max_depth=6, min_samples_leaf=4, min_samples_split=2, n_estimators=50, random_state=0, verbose=1;, score=0.552 total time=   2.0s\n"
     ]
    },
    {
     "name": "stderr",
     "output_type": "stream",
     "text": [
      "[Parallel(n_jobs=1)]: Done  50 out of  50 | elapsed:    1.9s finished\n",
      "[Parallel(n_jobs=1)]: Using backend SequentialBackend with 1 concurrent workers.\n",
      "[Parallel(n_jobs=1)]: Done  50 out of  50 | elapsed:    0.0s finished\n",
      "[Parallel(n_jobs=1)]: Using backend SequentialBackend with 1 concurrent workers.\n"
     ]
    },
    {
     "name": "stdout",
     "output_type": "stream",
     "text": [
      "[CV 3/5] END max_depth=6, min_samples_leaf=4, min_samples_split=2, n_estimators=50, random_state=0, verbose=1;, score=0.526 total time=   2.0s\n"
     ]
    },
    {
     "name": "stderr",
     "output_type": "stream",
     "text": [
      "[Parallel(n_jobs=1)]: Done  50 out of  50 | elapsed:    1.9s finished\n",
      "[Parallel(n_jobs=1)]: Using backend SequentialBackend with 1 concurrent workers.\n",
      "[Parallel(n_jobs=1)]: Done  50 out of  50 | elapsed:    0.0s finished\n",
      "[Parallel(n_jobs=1)]: Using backend SequentialBackend with 1 concurrent workers.\n"
     ]
    },
    {
     "name": "stdout",
     "output_type": "stream",
     "text": [
      "[CV 4/5] END max_depth=6, min_samples_leaf=4, min_samples_split=2, n_estimators=50, random_state=0, verbose=1;, score=0.562 total time=   2.0s\n"
     ]
    },
    {
     "name": "stderr",
     "output_type": "stream",
     "text": [
      "[Parallel(n_jobs=1)]: Done  50 out of  50 | elapsed:    2.0s finished\n",
      "[Parallel(n_jobs=1)]: Using backend SequentialBackend with 1 concurrent workers.\n",
      "[Parallel(n_jobs=1)]: Done  50 out of  50 | elapsed:    0.0s finished\n",
      "[Parallel(n_jobs=1)]: Using backend SequentialBackend with 1 concurrent workers.\n"
     ]
    },
    {
     "name": "stdout",
     "output_type": "stream",
     "text": [
      "[CV 5/5] END max_depth=6, min_samples_leaf=4, min_samples_split=2, n_estimators=50, random_state=0, verbose=1;, score=0.558 total time=   2.0s\n"
     ]
    },
    {
     "name": "stderr",
     "output_type": "stream",
     "text": [
      "[Parallel(n_jobs=1)]: Done  50 out of  50 | elapsed:    1.9s finished\n",
      "[Parallel(n_jobs=1)]: Using backend SequentialBackend with 1 concurrent workers.\n",
      "[Parallel(n_jobs=1)]: Done  50 out of  50 | elapsed:    0.0s finished\n",
      "[Parallel(n_jobs=1)]: Using backend SequentialBackend with 1 concurrent workers.\n"
     ]
    },
    {
     "name": "stdout",
     "output_type": "stream",
     "text": [
      "[CV 1/5] END max_depth=6, min_samples_leaf=4, min_samples_split=4, n_estimators=50, random_state=0, verbose=1;, score=0.621 total time=   2.0s\n"
     ]
    },
    {
     "name": "stderr",
     "output_type": "stream",
     "text": [
      "[Parallel(n_jobs=1)]: Done  50 out of  50 | elapsed:    1.9s finished\n",
      "[Parallel(n_jobs=1)]: Using backend SequentialBackend with 1 concurrent workers.\n",
      "[Parallel(n_jobs=1)]: Done  50 out of  50 | elapsed:    0.0s finished\n",
      "[Parallel(n_jobs=1)]: Using backend SequentialBackend with 1 concurrent workers.\n"
     ]
    },
    {
     "name": "stdout",
     "output_type": "stream",
     "text": [
      "[CV 2/5] END max_depth=6, min_samples_leaf=4, min_samples_split=4, n_estimators=50, random_state=0, verbose=1;, score=0.552 total time=   2.0s\n"
     ]
    },
    {
     "name": "stderr",
     "output_type": "stream",
     "text": [
      "[Parallel(n_jobs=1)]: Done  50 out of  50 | elapsed:    1.9s finished\n",
      "[Parallel(n_jobs=1)]: Using backend SequentialBackend with 1 concurrent workers.\n",
      "[Parallel(n_jobs=1)]: Done  50 out of  50 | elapsed:    0.0s finished\n",
      "[Parallel(n_jobs=1)]: Using backend SequentialBackend with 1 concurrent workers.\n"
     ]
    },
    {
     "name": "stdout",
     "output_type": "stream",
     "text": [
      "[CV 3/5] END max_depth=6, min_samples_leaf=4, min_samples_split=4, n_estimators=50, random_state=0, verbose=1;, score=0.526 total time=   2.0s\n"
     ]
    },
    {
     "name": "stderr",
     "output_type": "stream",
     "text": [
      "[Parallel(n_jobs=1)]: Done  50 out of  50 | elapsed:    1.9s finished\n",
      "[Parallel(n_jobs=1)]: Using backend SequentialBackend with 1 concurrent workers.\n",
      "[Parallel(n_jobs=1)]: Done  50 out of  50 | elapsed:    0.0s finished\n",
      "[Parallel(n_jobs=1)]: Using backend SequentialBackend with 1 concurrent workers.\n"
     ]
    },
    {
     "name": "stdout",
     "output_type": "stream",
     "text": [
      "[CV 4/5] END max_depth=6, min_samples_leaf=4, min_samples_split=4, n_estimators=50, random_state=0, verbose=1;, score=0.562 total time=   2.0s\n"
     ]
    },
    {
     "name": "stderr",
     "output_type": "stream",
     "text": [
      "[Parallel(n_jobs=1)]: Done  50 out of  50 | elapsed:    1.9s finished\n",
      "[Parallel(n_jobs=1)]: Using backend SequentialBackend with 1 concurrent workers.\n",
      "[Parallel(n_jobs=1)]: Done  50 out of  50 | elapsed:    0.0s finished\n",
      "[Parallel(n_jobs=1)]: Using backend SequentialBackend with 1 concurrent workers.\n"
     ]
    },
    {
     "name": "stdout",
     "output_type": "stream",
     "text": [
      "[CV 5/5] END max_depth=6, min_samples_leaf=4, min_samples_split=4, n_estimators=50, random_state=0, verbose=1;, score=0.558 total time=   2.0s\n"
     ]
    },
    {
     "name": "stderr",
     "output_type": "stream",
     "text": [
      "[Parallel(n_jobs=1)]: Done  50 out of  50 | elapsed:    2.0s finished\n",
      "[Parallel(n_jobs=1)]: Using backend SequentialBackend with 1 concurrent workers.\n",
      "[Parallel(n_jobs=1)]: Done  50 out of  50 | elapsed:    0.0s finished\n",
      "[Parallel(n_jobs=1)]: Using backend SequentialBackend with 1 concurrent workers.\n"
     ]
    },
    {
     "name": "stdout",
     "output_type": "stream",
     "text": [
      "[CV 1/5] END max_depth=6, min_samples_leaf=4, min_samples_split=6, n_estimators=50, random_state=0, verbose=1;, score=0.621 total time=   2.0s\n"
     ]
    },
    {
     "name": "stderr",
     "output_type": "stream",
     "text": [
      "[Parallel(n_jobs=1)]: Done  50 out of  50 | elapsed:    2.0s finished\n",
      "[Parallel(n_jobs=1)]: Using backend SequentialBackend with 1 concurrent workers.\n",
      "[Parallel(n_jobs=1)]: Done  50 out of  50 | elapsed:    0.0s finished\n",
      "[Parallel(n_jobs=1)]: Using backend SequentialBackend with 1 concurrent workers.\n"
     ]
    },
    {
     "name": "stdout",
     "output_type": "stream",
     "text": [
      "[CV 2/5] END max_depth=6, min_samples_leaf=4, min_samples_split=6, n_estimators=50, random_state=0, verbose=1;, score=0.552 total time=   2.0s\n"
     ]
    },
    {
     "name": "stderr",
     "output_type": "stream",
     "text": [
      "[Parallel(n_jobs=1)]: Done  50 out of  50 | elapsed:    2.0s finished\n",
      "[Parallel(n_jobs=1)]: Using backend SequentialBackend with 1 concurrent workers.\n",
      "[Parallel(n_jobs=1)]: Done  50 out of  50 | elapsed:    0.0s finished\n",
      "[Parallel(n_jobs=1)]: Using backend SequentialBackend with 1 concurrent workers.\n"
     ]
    },
    {
     "name": "stdout",
     "output_type": "stream",
     "text": [
      "[CV 3/5] END max_depth=6, min_samples_leaf=4, min_samples_split=6, n_estimators=50, random_state=0, verbose=1;, score=0.526 total time=   2.0s\n"
     ]
    },
    {
     "name": "stderr",
     "output_type": "stream",
     "text": [
      "[Parallel(n_jobs=1)]: Done  50 out of  50 | elapsed:    2.0s finished\n",
      "[Parallel(n_jobs=1)]: Using backend SequentialBackend with 1 concurrent workers.\n",
      "[Parallel(n_jobs=1)]: Done  50 out of  50 | elapsed:    0.0s finished\n",
      "[Parallel(n_jobs=1)]: Using backend SequentialBackend with 1 concurrent workers.\n"
     ]
    },
    {
     "name": "stdout",
     "output_type": "stream",
     "text": [
      "[CV 4/5] END max_depth=6, min_samples_leaf=4, min_samples_split=6, n_estimators=50, random_state=0, verbose=1;, score=0.562 total time=   2.0s\n"
     ]
    },
    {
     "name": "stderr",
     "output_type": "stream",
     "text": [
      "[Parallel(n_jobs=1)]: Done  50 out of  50 | elapsed:    2.3s finished\n",
      "[Parallel(n_jobs=1)]: Using backend SequentialBackend with 1 concurrent workers.\n",
      "[Parallel(n_jobs=1)]: Done  50 out of  50 | elapsed:    0.0s finished\n",
      "[Parallel(n_jobs=1)]: Using backend SequentialBackend with 1 concurrent workers.\n"
     ]
    },
    {
     "name": "stdout",
     "output_type": "stream",
     "text": [
      "[CV 5/5] END max_depth=6, min_samples_leaf=4, min_samples_split=6, n_estimators=50, random_state=0, verbose=1;, score=0.558 total time=   2.3s\n"
     ]
    },
    {
     "name": "stderr",
     "output_type": "stream",
     "text": [
      "[Parallel(n_jobs=1)]: Done  50 out of  50 | elapsed:    2.0s finished\n",
      "[Parallel(n_jobs=1)]: Using backend SequentialBackend with 1 concurrent workers.\n",
      "[Parallel(n_jobs=1)]: Done  50 out of  50 | elapsed:    0.0s finished\n",
      "[Parallel(n_jobs=1)]: Using backend SequentialBackend with 1 concurrent workers.\n"
     ]
    },
    {
     "name": "stdout",
     "output_type": "stream",
     "text": [
      "[CV 1/5] END max_depth=6, min_samples_leaf=7, min_samples_split=2, n_estimators=50, random_state=0, verbose=1;, score=0.609 total time=   2.1s\n"
     ]
    },
    {
     "name": "stderr",
     "output_type": "stream",
     "text": [
      "[Parallel(n_jobs=1)]: Done  50 out of  50 | elapsed:    2.1s finished\n",
      "[Parallel(n_jobs=1)]: Using backend SequentialBackend with 1 concurrent workers.\n",
      "[Parallel(n_jobs=1)]: Done  50 out of  50 | elapsed:    0.0s finished\n",
      "[Parallel(n_jobs=1)]: Using backend SequentialBackend with 1 concurrent workers.\n"
     ]
    },
    {
     "name": "stdout",
     "output_type": "stream",
     "text": [
      "[CV 2/5] END max_depth=6, min_samples_leaf=7, min_samples_split=2, n_estimators=50, random_state=0, verbose=1;, score=0.568 total time=   2.1s\n"
     ]
    },
    {
     "name": "stderr",
     "output_type": "stream",
     "text": [
      "[Parallel(n_jobs=1)]: Done  50 out of  50 | elapsed:    2.2s finished\n",
      "[Parallel(n_jobs=1)]: Using backend SequentialBackend with 1 concurrent workers.\n",
      "[Parallel(n_jobs=1)]: Done  50 out of  50 | elapsed:    0.0s finished\n",
      "[Parallel(n_jobs=1)]: Using backend SequentialBackend with 1 concurrent workers.\n"
     ]
    },
    {
     "name": "stdout",
     "output_type": "stream",
     "text": [
      "[CV 3/5] END max_depth=6, min_samples_leaf=7, min_samples_split=2, n_estimators=50, random_state=0, verbose=1;, score=0.517 total time=   2.3s\n"
     ]
    },
    {
     "name": "stderr",
     "output_type": "stream",
     "text": [
      "[Parallel(n_jobs=1)]: Done  50 out of  50 | elapsed:    2.1s finished\n",
      "[Parallel(n_jobs=1)]: Using backend SequentialBackend with 1 concurrent workers.\n",
      "[Parallel(n_jobs=1)]: Done  50 out of  50 | elapsed:    0.0s finished\n",
      "[Parallel(n_jobs=1)]: Using backend SequentialBackend with 1 concurrent workers.\n"
     ]
    },
    {
     "name": "stdout",
     "output_type": "stream",
     "text": [
      "[CV 4/5] END max_depth=6, min_samples_leaf=7, min_samples_split=2, n_estimators=50, random_state=0, verbose=1;, score=0.567 total time=   2.1s\n"
     ]
    },
    {
     "name": "stderr",
     "output_type": "stream",
     "text": [
      "[Parallel(n_jobs=1)]: Done  50 out of  50 | elapsed:    2.1s finished\n",
      "[Parallel(n_jobs=1)]: Using backend SequentialBackend with 1 concurrent workers.\n",
      "[Parallel(n_jobs=1)]: Done  50 out of  50 | elapsed:    0.0s finished\n",
      "[Parallel(n_jobs=1)]: Using backend SequentialBackend with 1 concurrent workers.\n"
     ]
    },
    {
     "name": "stdout",
     "output_type": "stream",
     "text": [
      "[CV 5/5] END max_depth=6, min_samples_leaf=7, min_samples_split=2, n_estimators=50, random_state=0, verbose=1;, score=0.553 total time=   2.1s\n"
     ]
    },
    {
     "name": "stderr",
     "output_type": "stream",
     "text": [
      "[Parallel(n_jobs=1)]: Done  50 out of  50 | elapsed:    2.2s finished\n",
      "[Parallel(n_jobs=1)]: Using backend SequentialBackend with 1 concurrent workers.\n",
      "[Parallel(n_jobs=1)]: Done  50 out of  50 | elapsed:    0.0s finished\n",
      "[Parallel(n_jobs=1)]: Using backend SequentialBackend with 1 concurrent workers.\n"
     ]
    },
    {
     "name": "stdout",
     "output_type": "stream",
     "text": [
      "[CV 1/5] END max_depth=6, min_samples_leaf=7, min_samples_split=4, n_estimators=50, random_state=0, verbose=1;, score=0.609 total time=   2.2s\n"
     ]
    },
    {
     "name": "stderr",
     "output_type": "stream",
     "text": [
      "[Parallel(n_jobs=1)]: Done  50 out of  50 | elapsed:    2.0s finished\n",
      "[Parallel(n_jobs=1)]: Using backend SequentialBackend with 1 concurrent workers.\n",
      "[Parallel(n_jobs=1)]: Done  50 out of  50 | elapsed:    0.0s finished\n",
      "[Parallel(n_jobs=1)]: Using backend SequentialBackend with 1 concurrent workers.\n"
     ]
    },
    {
     "name": "stdout",
     "output_type": "stream",
     "text": [
      "[CV 2/5] END max_depth=6, min_samples_leaf=7, min_samples_split=4, n_estimators=50, random_state=0, verbose=1;, score=0.568 total time=   2.1s\n"
     ]
    },
    {
     "name": "stderr",
     "output_type": "stream",
     "text": [
      "[Parallel(n_jobs=1)]: Done  50 out of  50 | elapsed:    2.0s finished\n",
      "[Parallel(n_jobs=1)]: Using backend SequentialBackend with 1 concurrent workers.\n",
      "[Parallel(n_jobs=1)]: Done  50 out of  50 | elapsed:    0.0s finished\n",
      "[Parallel(n_jobs=1)]: Using backend SequentialBackend with 1 concurrent workers.\n"
     ]
    },
    {
     "name": "stdout",
     "output_type": "stream",
     "text": [
      "[CV 3/5] END max_depth=6, min_samples_leaf=7, min_samples_split=4, n_estimators=50, random_state=0, verbose=1;, score=0.517 total time=   2.0s\n"
     ]
    },
    {
     "name": "stderr",
     "output_type": "stream",
     "text": [
      "[Parallel(n_jobs=1)]: Done  50 out of  50 | elapsed:    1.9s finished\n",
      "[Parallel(n_jobs=1)]: Using backend SequentialBackend with 1 concurrent workers.\n",
      "[Parallel(n_jobs=1)]: Done  50 out of  50 | elapsed:    0.0s finished\n",
      "[Parallel(n_jobs=1)]: Using backend SequentialBackend with 1 concurrent workers.\n"
     ]
    },
    {
     "name": "stdout",
     "output_type": "stream",
     "text": [
      "[CV 4/5] END max_depth=6, min_samples_leaf=7, min_samples_split=4, n_estimators=50, random_state=0, verbose=1;, score=0.567 total time=   1.9s\n"
     ]
    },
    {
     "name": "stderr",
     "output_type": "stream",
     "text": [
      "[Parallel(n_jobs=1)]: Done  50 out of  50 | elapsed:    1.9s finished\n",
      "[Parallel(n_jobs=1)]: Using backend SequentialBackend with 1 concurrent workers.\n",
      "[Parallel(n_jobs=1)]: Done  50 out of  50 | elapsed:    0.0s finished\n",
      "[Parallel(n_jobs=1)]: Using backend SequentialBackend with 1 concurrent workers.\n"
     ]
    },
    {
     "name": "stdout",
     "output_type": "stream",
     "text": [
      "[CV 5/5] END max_depth=6, min_samples_leaf=7, min_samples_split=4, n_estimators=50, random_state=0, verbose=1;, score=0.553 total time=   1.9s\n"
     ]
    },
    {
     "name": "stderr",
     "output_type": "stream",
     "text": [
      "[Parallel(n_jobs=1)]: Done  50 out of  50 | elapsed:    1.9s finished\n",
      "[Parallel(n_jobs=1)]: Using backend SequentialBackend with 1 concurrent workers.\n",
      "[Parallel(n_jobs=1)]: Done  50 out of  50 | elapsed:    0.0s finished\n",
      "[Parallel(n_jobs=1)]: Using backend SequentialBackend with 1 concurrent workers.\n"
     ]
    },
    {
     "name": "stdout",
     "output_type": "stream",
     "text": [
      "[CV 1/5] END max_depth=6, min_samples_leaf=7, min_samples_split=6, n_estimators=50, random_state=0, verbose=1;, score=0.609 total time=   1.9s\n"
     ]
    },
    {
     "name": "stderr",
     "output_type": "stream",
     "text": [
      "[Parallel(n_jobs=1)]: Done  50 out of  50 | elapsed:    2.2s finished\n",
      "[Parallel(n_jobs=1)]: Using backend SequentialBackend with 1 concurrent workers.\n",
      "[Parallel(n_jobs=1)]: Done  50 out of  50 | elapsed:    0.0s finished\n",
      "[Parallel(n_jobs=1)]: Using backend SequentialBackend with 1 concurrent workers.\n"
     ]
    },
    {
     "name": "stdout",
     "output_type": "stream",
     "text": [
      "[CV 2/5] END max_depth=6, min_samples_leaf=7, min_samples_split=6, n_estimators=50, random_state=0, verbose=1;, score=0.568 total time=   2.3s\n"
     ]
    },
    {
     "name": "stderr",
     "output_type": "stream",
     "text": [
      "[Parallel(n_jobs=1)]: Done  50 out of  50 | elapsed:    2.1s finished\n",
      "[Parallel(n_jobs=1)]: Using backend SequentialBackend with 1 concurrent workers.\n",
      "[Parallel(n_jobs=1)]: Done  50 out of  50 | elapsed:    0.0s finished\n",
      "[Parallel(n_jobs=1)]: Using backend SequentialBackend with 1 concurrent workers.\n"
     ]
    },
    {
     "name": "stdout",
     "output_type": "stream",
     "text": [
      "[CV 3/5] END max_depth=6, min_samples_leaf=7, min_samples_split=6, n_estimators=50, random_state=0, verbose=1;, score=0.517 total time=   2.1s\n"
     ]
    },
    {
     "name": "stderr",
     "output_type": "stream",
     "text": [
      "[Parallel(n_jobs=1)]: Done  50 out of  50 | elapsed:    1.9s finished\n",
      "[Parallel(n_jobs=1)]: Using backend SequentialBackend with 1 concurrent workers.\n",
      "[Parallel(n_jobs=1)]: Done  50 out of  50 | elapsed:    0.0s finished\n",
      "[Parallel(n_jobs=1)]: Using backend SequentialBackend with 1 concurrent workers.\n"
     ]
    },
    {
     "name": "stdout",
     "output_type": "stream",
     "text": [
      "[CV 4/5] END max_depth=6, min_samples_leaf=7, min_samples_split=6, n_estimators=50, random_state=0, verbose=1;, score=0.567 total time=   1.9s\n"
     ]
    },
    {
     "name": "stderr",
     "output_type": "stream",
     "text": [
      "[Parallel(n_jobs=1)]: Done  50 out of  50 | elapsed:    1.9s finished\n",
      "[Parallel(n_jobs=1)]: Using backend SequentialBackend with 1 concurrent workers.\n",
      "[Parallel(n_jobs=1)]: Done  50 out of  50 | elapsed:    0.0s finished\n",
      "[Parallel(n_jobs=1)]: Using backend SequentialBackend with 1 concurrent workers.\n"
     ]
    },
    {
     "name": "stdout",
     "output_type": "stream",
     "text": [
      "[CV 5/5] END max_depth=6, min_samples_leaf=7, min_samples_split=6, n_estimators=50, random_state=0, verbose=1;, score=0.553 total time=   1.9s\n",
      "The best validation score obtained is 0.56360 with\n",
      "    \tn_estimators: 50\n",
      "    \tmax_depth: 6\n",
      "    \tmin_samples_split: 2\n",
      "    \tmin_samples_leaf: 4\n",
      "    \n"
     ]
    },
    {
     "name": "stderr",
     "output_type": "stream",
     "text": [
      "[Parallel(n_jobs=1)]: Done  50 out of  50 | elapsed:    2.5s finished\n"
     ]
    }
   ],
   "source": [
    "rf = best_random_forest(X_train, np.array(y_train).ravel())"
   ]
  },
  {
   "cell_type": "markdown",
   "id": "4484e0aa",
   "metadata": {},
   "source": [
    "---\n",
    "### Creation of the submission file"
   ]
  },
  {
   "cell_type": "code",
   "execution_count": 27,
   "id": "aeeb561f",
   "metadata": {},
   "outputs": [
    {
     "name": "stdout",
     "output_type": "stream",
     "text": [
      "      Iter       Train Loss      OOB Improve   Remaining Time \n",
      "         1          97.7730           2.5554           18.01s\n",
      "         2          89.8895           2.4894           17.59s\n",
      "         3          88.9794           2.0935           17.67s\n",
      "         4          83.1467           2.1793           16.97s\n",
      "         5          78.4563           2.4727           16.68s\n",
      "         6          75.3896           2.1491           16.56s\n",
      "         7          78.2836           1.4117           16.43s\n",
      "         8          74.2986           1.6049           16.39s\n",
      "         9          67.6230           1.8295           16.40s\n",
      "        10          65.9404           1.7289           16.34s\n",
      "        20          47.6636           1.2911           16.05s\n",
      "        30          35.7572           0.4711           15.04s\n",
      "        40          25.3411           0.3355           14.21s\n",
      "        50          20.2724           0.2128           13.52s\n",
      "        60          15.2808           0.1796           12.84s\n",
      "        70          11.8235           0.0776           12.24s\n",
      "        80           9.1517           0.0806           11.60s\n",
      "        90           7.7498           0.0350           11.02s\n",
      "       100           6.1976           0.0187           10.38s\n",
      "       200           1.2308           0.0005            3.68s\n",
      "[CV] END ................................ score: (test=0.615) total time=  19.3s\n",
      "      Iter       Train Loss      OOB Improve   Remaining Time \n",
      "         1          90.9401           2.5190           17.88s\n",
      "         2          85.9348           2.2887           17.37s\n",
      "         3          85.5366           2.0829           17.49s\n",
      "         4          80.8027           2.2152           16.78s\n",
      "         5          79.0494           1.8096           16.49s\n",
      "         6          72.3464           2.1615           16.89s\n",
      "         7          75.7281           1.7890           16.87s\n",
      "         8          67.8789           2.0543           16.72s\n",
      "         9          69.6805           1.7332           16.64s\n",
      "        10          65.7975           1.8188           16.52s\n",
      "        20          47.2566           1.1049           16.05s\n",
      "        30          36.0108           0.5858           14.95s\n",
      "        40          26.5980           0.3802           14.09s\n",
      "        50          19.8196           0.2605           13.45s\n",
      "        60          15.9114           0.1316           12.83s\n",
      "        70          11.5344           0.0382           12.16s\n",
      "        80           9.5537           0.0177           11.54s\n",
      "        90           7.7543           0.0514           10.98s\n",
      "       100           6.4965           0.0215           10.31s\n",
      "       200           1.3020          -0.0011            3.68s\n",
      "[CV] END ................................ score: (test=0.539) total time=  19.4s\n",
      "      Iter       Train Loss      OOB Improve   Remaining Time \n",
      "         1          92.4990           2.4244           16.82s\n",
      "         2          89.3505           2.3918           16.61s\n",
      "         3          88.5630           2.2737           16.92s\n",
      "         4          84.2525           2.1316           16.58s\n",
      "         5          81.7394           2.0335           16.44s\n",
      "         6          74.6927           2.3290           16.73s\n",
      "         7          75.5033           1.8368           16.51s\n",
      "         8          70.0145           2.0239           16.37s\n",
      "         9          71.2737           1.7630           16.22s\n",
      "        10          63.3309           1.8422           16.01s\n",
      "        20          48.2151           1.1063           15.69s\n",
      "        30          35.7734           0.6707           14.88s\n",
      "        40          25.8479           0.4319           14.01s\n",
      "        50          20.8346           0.2651           13.41s\n",
      "        60          16.0788           0.0909           12.97s\n",
      "        70          11.3233           0.0749           12.33s\n",
      "        80           9.8243           0.0680           11.67s\n",
      "        90           7.7490           0.0423           11.09s\n",
      "       100           6.6373           0.0066           10.41s\n",
      "       200           1.2965          -0.0011            3.69s\n",
      "[CV] END ................................ score: (test=0.613) total time=  19.4s\n",
      "      Iter       Train Loss      OOB Improve   Remaining Time \n",
      "         1          93.5643           2.3335           16.93s\n",
      "         2          89.5745           2.3069           16.70s\n",
      "         3          86.4567           1.7846           16.68s\n",
      "         4          82.3297           2.1379           16.28s\n",
      "         5          80.1339           2.3156           16.41s\n",
      "         6          75.5825           1.9163           16.30s\n",
      "         7          78.6492           1.4861           16.06s\n",
      "         8          72.5333           1.5463           16.11s\n",
      "         9          68.8496           2.0445           16.16s\n",
      "        10          66.8512           1.4742           15.98s\n",
      "        20          48.0012           0.9347           15.60s\n",
      "        30          34.9132           0.4802           14.71s\n",
      "        40          24.6121           0.3891           13.98s\n",
      "        50          20.9107           0.1584           13.32s\n",
      "        60          15.3042           0.1525           12.66s\n",
      "        70          11.5382           0.1249           12.04s\n",
      "        80           9.5252           0.0364           11.43s\n",
      "        90           7.8177           0.0246           10.88s\n",
      "       100           6.2578           0.0399           10.22s\n",
      "       200           1.1383          -0.0027            3.63s\n",
      "[CV] END ................................ score: (test=0.712) total time=  17.9s\n",
      "      Iter       Train Loss      OOB Improve   Remaining Time \n",
      "         1          88.2199           2.1771           17.59s\n",
      "         2          85.8630           2.1165           18.31s\n",
      "         3          83.1629           2.2306           21.72s\n",
      "         4          80.4735           2.1390           21.15s\n",
      "         5          80.0447           1.4508           21.59s\n",
      "         6          74.0085           1.8593           21.48s\n",
      "         7          74.2917           1.7649           20.89s\n",
      "         8          68.6570           1.7803           20.33s\n",
      "         9          67.5265           1.5522           20.20s\n",
      "        10          62.5383           1.7560           19.71s\n",
      "        20          48.4431           0.9194           18.09s\n",
      "        30          34.6065           0.5309           15.12s\n",
      "        40          25.3367           0.2347           13.67s\n",
      "        50          21.0857           0.1451           12.24s\n",
      "        60          15.4717           0.0856           11.17s\n",
      "        70          12.0757           0.0751           10.24s\n",
      "        80           9.9565           0.0614            9.42s\n",
      "        90           7.9817           0.0455            8.69s\n",
      "       100           6.7878           0.0204            8.03s\n",
      "       200           1.3238           0.0044            2.59s\n",
      "[CV] END ................................ score: (test=0.650) total time=  12.8s\n"
     ]
    }
   ],
   "source": [
    "prediction = pd.DataFrame(svr.predict(X_test)) # modify here\n",
    "sub_id = 19 # modify here\n",
    "create_submission(prediction, sub_id)"
   ]
  },
  {
   "cell_type": "markdown",
   "id": "ae690721",
   "metadata": {},
   "source": [
    "Link where to submit: https://aml.ise.inf.ethz.ch/task1/#submission"
   ]
  }
 ],
 "metadata": {
  "kernelspec": {
   "display_name": "Python 3 (ipykernel)",
   "language": "python",
   "name": "python3"
  },
  "language_info": {
   "codemirror_mode": {
    "name": "ipython",
    "version": 3
   },
   "file_extension": ".py",
   "mimetype": "text/x-python",
   "name": "python",
   "nbconvert_exporter": "python",
   "pygments_lexer": "ipython3",
   "version": "3.7.11"
  }
 },
 "nbformat": 4,
 "nbformat_minor": 5
}
