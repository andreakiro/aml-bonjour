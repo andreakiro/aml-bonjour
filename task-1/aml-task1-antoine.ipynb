{
 "cells": [
  {
   "cell_type": "markdown",
   "id": "be0bfb96",
   "metadata": {},
   "source": [
    "# AML — Task 1\n",
    "## Predict the age of a brain from MRI features\n",
    "---"
   ]
  },
  {
   "cell_type": "code",
   "execution_count": 1,
   "id": "f2b7547c",
   "metadata": {},
   "outputs": [],
   "source": [
    "import numpy as np\n",
    "import pandas as pd\n",
    "import seaborn as sns\n",
    "import matplotlib.pyplot as plt\n",
    "from scipy.stats import zscore\n",
    "from pandas_profiling import ProfileReport"
   ]
  },
  {
   "cell_type": "code",
   "execution_count": 21,
   "id": "774c3504",
   "metadata": {},
   "outputs": [],
   "source": [
    "from sklearn.pipeline import Pipeline\n",
    "from sklearn.experimental import enable_iterative_imputer\n",
    "from sklearn.impute import SimpleImputer, KNNImputer, IterativeImputer\n",
    "from sklearn.linear_model import Ridge, Lasso\n",
    "from sklearn.svm import SVR\n",
    "from sklearn.metrics import r2_score\n",
    "from sklearn.preprocessing import StandardScaler\n",
    "from sklearn.feature_selection import SelectPercentile, f_regression\n",
    "from sklearn.model_selection import GridSearchCV, train_test_split, cross_val_score\n",
    "from sklearn.ensemble import IsolationForest, GradientBoostingRegressor\n",
    "from sklearn.neighbors import LocalOutlierFactor"
   ]
  },
  {
   "cell_type": "markdown",
   "id": "8408a978",
   "metadata": {},
   "source": [
    "---\n",
    "## Function definition"
   ]
  },
  {
   "cell_type": "markdown",
   "id": "da3fad40",
   "metadata": {},
   "source": [
    "---\n",
    "### Load datasets"
   ]
  },
  {
   "cell_type": "code",
   "execution_count": 3,
   "id": "47110725",
   "metadata": {},
   "outputs": [],
   "source": [
    "def load_raw_data():\n",
    "    X_train = pd.read_csv('data/X_train.csv').drop(columns=['id'])\n",
    "    y_train = pd.read_csv('data/y_train.csv').drop(columns=['id'])\n",
    "    X_test = pd.read_csv('data/X_test.csv').drop(columns=['id'])\n",
    "    return X_train, y_train, X_test"
   ]
  },
  {
   "cell_type": "markdown",
   "id": "855a816b",
   "metadata": {},
   "source": [
    "---\n",
    "### Export datasets"
   ]
  },
  {
   "cell_type": "code",
   "execution_count": 4,
   "id": "23120b22",
   "metadata": {},
   "outputs": [],
   "source": [
    "def export_to_csv(X_train_cleaned, y_train_cleaned, X_test_cleaned):\n",
    "    X_train_cleaned.to_csv('data/X_train_cleaned.csv', index=False)\n",
    "    y_train_cleaned.to_csv('data/y_train_cleaned.csv', index=False)\n",
    "    X_test_cleaned.to_csv('data/X_test_cleaned.csv', index=False)"
   ]
  },
  {
   "cell_type": "markdown",
   "id": "e38f4de4",
   "metadata": {},
   "source": [
    "---\n",
    "### Outlier detection"
   ]
  },
  {
   "cell_type": "code",
   "execution_count": 5,
   "id": "c789017b",
   "metadata": {},
   "outputs": [],
   "source": [
    "def remove_outliers(X_train, y_train, contamination='auto', verbose=1):\n",
    "    \"\"\"\n",
    "    Remove the ouliers from our dataset. Temporarily replace the nan values by \n",
    "    the median to perform the outlier detection.\n",
    "\n",
    "    Parameters\n",
    "    ----------\n",
    "    X_train : pd.df\n",
    "        The features (what we will use to see the outliers)\n",
    "    y_train : pd.df\n",
    "        The labels\n",
    "    contamination : int, optional\n",
    "        The percent of outliers found by the isolation forest if it is used.\n",
    "\n",
    "    Return\n",
    "    ------\n",
    "    (pd.df, pd.df)\n",
    "        The data with the outliers rows removed\n",
    "    \"\"\"\n",
    "    # Save a mask of the imputed values to be able to redo the imputation once the outlier detection is done\n",
    "    X_train_null_mask = X_train.isna()\n",
    "    \n",
    "    # Need to impute nan values for the outlier detection to work (cannot deal with nan)\n",
    "    X_train_imputed = pd.DataFrame(SimpleImputer(strategy=\"median\", verbose=verbose).fit_transform(X_train))\n",
    "    \n",
    "#     clf = IsolationForest(contamination=contamination, random_state=0) # modify here\n",
    "    clf = LocalOutlierFactor(contamination=contamination) # modify here\n",
    "    outliers_mask = pd.Series(clf.fit_predict(X_train_imputed))\n",
    "    \n",
    "    if verbose:\n",
    "        print(f\"Detected {(outliers_mask == -1).sum()} outliers, out of {outliers_mask.shape[0]} samples ({100 * (outliers_mask == -1).sum() / outliers_mask.shape[0]:.2f}%).\")\n",
    "    \n",
    "    # Put back the nan values\n",
    "    # convert the null mask to np.array so it is correctly applied since X_train indexes have changed\n",
    "    X_train_no_outliers = X_train_imputed.mask(np.array(X_train_null_mask))\n",
    "    \n",
    "    # Remove outliers from the training set\n",
    "    X_train_no_outliers = X_train_no_outliers.loc[outliers_mask == 1, :]\n",
    "    y_train_no_outliers = y_train.loc[outliers_mask == 1, :]\n",
    "    \n",
    "    return (X_train_no_outliers, y_train_no_outliers)"
   ]
  },
  {
   "cell_type": "markdown",
   "id": "615112e3",
   "metadata": {},
   "source": [
    "---\n",
    "### Data scaling\n",
    "Should be done as soon as possible because can have an effect (e.g. on distances for `KNNImputer`)"
   ]
  },
  {
   "cell_type": "code",
   "execution_count": 6,
   "id": "3bde22ca",
   "metadata": {},
   "outputs": [],
   "source": [
    "def scale(X_train, X_test):\n",
    "    # Do the scaling, saving the scaler to use it for X_test too. No need for imputation, just ignore nan values.\n",
    "    scaler = StandardScaler().fit(X_train)\n",
    "    X_train_scaled = pd.DataFrame(scaler.transform(X_train))\n",
    "    # Cast X_test to np.array to avoid warning of model trained without feature names but X having some.\n",
    "    X_test_scaled = pd.DataFrame(scaler.transform(np.array(X_test)))\n",
    "    return (X_train_scaled, X_test_scaled)"
   ]
  },
  {
   "cell_type": "markdown",
   "id": "9012dc74",
   "metadata": {},
   "source": [
    "---\n",
    "### Imputation of values"
   ]
  },
  {
   "cell_type": "code",
   "execution_count": 59,
   "id": "e213b2f8",
   "metadata": {},
   "outputs": [],
   "source": [
    "def impute_values(X_train, X_test, method='knn'):\n",
    "    print(f\"For the train dataset, there are {np.array(X_train.isna()).sum().sum()} nan values, out of {X_train.shape[0]*X_train.shape[1]} ({100*np.array(X_train.isna()).sum().sum()/(X_train.shape[0]*X_train.shape[1]):.2f}%).\")\n",
    "    \n",
    "    imputer = None\n",
    "    if method == 'knn':\n",
    "        imputer = KNNImputer(n_neighbors=6, weights='uniform').fit(X_train)\n",
    "    elif method == 'iterative':\n",
    "        # Runs VERY slowly\n",
    "        imputer = IterativeImputer(random_state=0, max_iter=15, verbose=2).fit(X_train)\n",
    "    \n",
    "    X_train_imputed = pd.DataFrame(imputer.transform(X_train))\n",
    "    X_test_imputed = pd.DataFrame(imputer.transform(X_test))\n",
    "    return (X_train_imputed, X_test_imputed)"
   ]
  },
  {
   "cell_type": "markdown",
   "id": "163b71de",
   "metadata": {},
   "source": [
    "---\n",
    "### Feature selection"
   ]
  },
  {
   "cell_type": "code",
   "execution_count": 8,
   "id": "905e22b8",
   "metadata": {},
   "outputs": [],
   "source": [
    "def select_features(X_train, y_train, X_test):\n",
    "    X_train_selected_features, X_test_selected_features = remove_constant_features(X_train, X_test)\n",
    "    X_train_selected_features, X_test_selected_features = remove_too_correlated_features(X_train_selected_features, X_test_selected_features)\n",
    "    X_train_selected_features, X_test_selected_features = remove_random_features(X_train_selected_features, y_train, X_test_selected_features, percentile=80)\n",
    "    \n",
    "    return X_train_selected_features, X_test_selected_features"
   ]
  },
  {
   "cell_type": "code",
   "execution_count": 9,
   "id": "ed739797",
   "metadata": {},
   "outputs": [],
   "source": [
    "def remove_constant_features(X_train, X_test, verbose=1):\n",
    "    X_train_selected_features = X_train.loc[:, (X_train != X_train.iloc[0]).any()]\n",
    "    X_test_selected_features = X_test.loc[:, (X_train != X_train.iloc[0]).any()]\n",
    "    \n",
    "    if verbose:\n",
    "        print(f\"{X_train.shape[1]-X_train_selected_features.shape[1]} features removed because of constant values ({100*(X_train.shape[1]-X_train_selected_features.shape[1])/X_train.shape[1]:.2f}%).\")\n",
    "    \n",
    "    return X_train_selected_features, X_test_selected_features"
   ]
  },
  {
   "cell_type": "code",
   "execution_count": 10,
   "id": "f9496408",
   "metadata": {},
   "outputs": [],
   "source": [
    "def remove_too_correlated_features(X_train, X_test, threshold=0.7, verbose=1):\n",
    "    X_train_corr_ = X_train.corr()\n",
    "\n",
    "    X_train_too_correlated = (X_train_corr_.mask(\n",
    "        np.tril(np.ones([len(X_train_corr_)]*2, dtype=bool))).abs() > threshold).any()\n",
    "    \n",
    "    X_train_selected_features = X_train.loc[:, (~X_train_too_correlated)]\n",
    "    X_test_selected_features = X_test.loc[:, (~X_train_too_correlated)]\n",
    "    \n",
    "    if verbose:\n",
    "        print(f\"{X_train.shape[1]-X_train_selected_features.shape[1]} features removed because of correlation with another feature > {threshold} ({100*(X_train.shape[1]-X_train_selected_features.shape[1])/X_train.shape[1]:.2f}%).\")\n",
    "\n",
    "    return X_train_selected_features, X_test_selected_features"
   ]
  },
  {
   "cell_type": "code",
   "execution_count": 11,
   "id": "f1347a0a",
   "metadata": {},
   "outputs": [],
   "source": [
    "def remove_random_features(X_train, y_train, X_test, Xtrm, Xtem, percentile=80, verbose=1):\n",
    "    selector = SelectPercentile(f_regression, percentile=percentile) # modify here\n",
    "    selector.fit(X_train, np.array(y_train).ravel())\n",
    "    X_train_selected_features = pd.DataFrame(selector.transform(X_train))\n",
    "    X_test_selected_features = pd.DataFrame(selector.transform(X_test))\n",
    "    Xtrm_selected_features = pd.DataFrame(selector.transform(Xtrm))\n",
    "    Xtem_selected_features = pd.DataFrame(selector.transform(Xtem))\n",
    "    \n",
    "    if verbose:\n",
    "        print(f\"{X_train.shape[1]-X_train_selected_features.shape[1]} features removed because of low correlation with target ({100*(X_train.shape[1]-X_train_selected_features.shape[1])/X_train.shape[1]:.2f}%).\")\n",
    "        \n",
    "    return X_train_selected_features, X_test_selected_features, Xtrm_selected_features, Xtem_selected_features"
   ]
  },
  {
   "cell_type": "markdown",
   "id": "ff76713b",
   "metadata": {},
   "source": [
    "---\n",
    "### Models"
   ]
  },
  {
   "cell_type": "code",
   "execution_count": 12,
   "id": "98e953cf",
   "metadata": {},
   "outputs": [],
   "source": [
    "def best_lasso(X_train, y_train):\n",
    "    lasso = Lasso(max_iter=100000)\n",
    "    gs_lasso_params = {\n",
    "        'alpha': np.logspace(-2, 0, 20),\n",
    "    }\n",
    "    gs_lasso = GridSearchCV(lasso, gs_lasso_params, cv=5, verbose=3)\n",
    "    gs_lasso.fit(X_train, y_train)\n",
    "    \n",
    "    print(f\"The best validation score obtained is {gs_lasso.best_score_:.5f} with\\n\\talpha: {gs_lasso.best_params_['alpha']}\")\n",
    "    \n",
    "    return gs_lasso"
   ]
  },
  {
   "cell_type": "code",
   "execution_count": 13,
   "id": "32755f1e",
   "metadata": {},
   "outputs": [],
   "source": [
    "def best_svr(X_train, y_train):\n",
    "    svr = SVR()\n",
    "    gs_svr_params = {\n",
    "        'kernel': ['poly', 'rbf', 'sigmoid'],\n",
    "        'C': np.logspace(-1, 2.2, 4),\n",
    "        'epsilon': np.logspace(-2, 1, 3),\n",
    "    }\n",
    "    gs_svr = GridSearchCV(svr, gs_svr_params, cv=5, verbose=3)\n",
    "    gs_svr.fit(X_train, y_train)\n",
    "    \n",
    "    print(f\"\"\"The best validation score obtained is {gs_svr.best_score_:.5f} with\n",
    "    \\tkernel: {gs_svr.best_params_['kernel']}\n",
    "    \\tC: {gs_svr.best_params_['C']}\n",
    "    \\tepsilon: {gs_svr.best_params_['epsilon']}\"\"\")\n",
    "    \n",
    "    return gs_svr"
   ]
  },
  {
   "cell_type": "code",
   "execution_count": 48,
   "id": "5e54c62a",
   "metadata": {
    "scrolled": true
   },
   "outputs": [],
   "source": [
    "def best_gbr(X_train, y_train):\n",
    "#     gbr = GradientBoostingRegressor(random_state=0)\n",
    "#     gs_gbr_params = {\n",
    "#         \"learning_rate\": np.logspace(-3, -1, 3),\n",
    "#         \"n_estimators\": np.logspace(1, 3, 3),\n",
    "#         \"subsample\": [0.7, 1],\n",
    "#         \"max_depth\": [3, 4, 5],\n",
    "#     }\n",
    "#     gs_gbr = GridSearchCV(gbr, gs_gbr_params, cv=5, verbose=3, error_score='raise')\n",
    "#     gs_gbr.fit(X_train, y_train)\n",
    "#     return gs_gbr\n",
    "\n",
    "    params = {\n",
    "        \"loss\": \"squared_error\",\n",
    "        \"n_estimators\": 250,\n",
    "        \"learning_rate\": 0.025,\n",
    "        \"subsample\": 0.75,\n",
    "        \"max_depth\": 6,\n",
    "        \"min_samples_split\": 5,\n",
    "        \"n_iter_no_change\": 100,\n",
    "        \"validation_fraction\": 0.1,\n",
    "        \"random_state\": 0, \n",
    "        \"verbose\": 1,\n",
    "    }\n",
    "\n",
    "    gbr = GradientBoostingRegressor(**params)\n",
    "    \n",
    "    # Get the validation score\n",
    "    gbr_cv_scores = cross_val_score(gbr, X_train, y_train, n_jobs=-1, verbose=3)\n",
    "    print(f\"\"\"Validation score obtained is {np.mean(gbr_cv_scores):.4f} with\n",
    "    \\t{params}\"\"\")\n",
    "    \n",
    "    # Fit model (because previous function does not return fitted model)\n",
    "    X_train, X_test, y_train, y_test = train_test_split(X_train, y_train, test_size=0.2, random_state=0)\n",
    "    gbr.fit(X_train, y_train)\n",
    "    \n",
    "    test_score = np.zeros(gbr.n_estimators_, dtype=np.float64)\n",
    "    for i, y_pred in enumerate(gbr.staged_predict(X_test)):\n",
    "        test_score[i] = gbr.loss_(y_test, y_pred)\n",
    "\n",
    "    fig = plt.figure(figsize=(6, 6))\n",
    "    plt.subplot(1, 1, 1)\n",
    "    plt.title(\"Deviance\")\n",
    "    plt.plot(\n",
    "        np.arange(gbr.n_estimators_),\n",
    "        gbr.train_score_,\n",
    "        \"b-\",\n",
    "        label=\"Training Set Deviance\",\n",
    "    )\n",
    "    plt.plot(\n",
    "        np.arange(gbr.n_estimators_), test_score, \"r-\", label=\"Test Set Deviance\"\n",
    "    )\n",
    "    plt.legend(loc=\"upper right\")\n",
    "    plt.xlabel(\"Boosting Iterations\")\n",
    "    plt.ylabel(\"Deviance\")\n",
    "    fig.tight_layout()\n",
    "    plt.show()\n",
    "    \n",
    "    return gbr"
   ]
  },
  {
   "cell_type": "markdown",
   "id": "09bc46d2",
   "metadata": {},
   "source": [
    "---\n",
    "### Submission file"
   ]
  },
  {
   "cell_type": "code",
   "execution_count": 15,
   "id": "dd4ba4a8",
   "metadata": {},
   "outputs": [],
   "source": [
    "def create_submission(prediction, sub_id, basepath='submissions/task1-sub'):\n",
    "    result = prediction.copy()\n",
    "    result = result.rename(columns={0: 'y'})\n",
    "    result['id'] = range(0, len(result))\n",
    "    result = result[['id', 'y']]\n",
    "    result.to_csv(basepath + str(sub_id) + '.csv', index=False)"
   ]
  },
  {
   "cell_type": "markdown",
   "id": "8dd1f3bc",
   "metadata": {},
   "source": [
    "---\n",
    "## Run pipeline"
   ]
  },
  {
   "cell_type": "markdown",
   "id": "27f0466f",
   "metadata": {},
   "source": [
    "---\n",
    "### Data preprocessing"
   ]
  },
  {
   "cell_type": "code",
   "execution_count": 16,
   "id": "44968a0b",
   "metadata": {
    "scrolled": false
   },
   "outputs": [],
   "source": [
    "# print(\"Loading raw data...\")\n",
    "# X_train, y_train, X_test = load_raw_data()\n",
    "\n",
    "# print(\"Removing outliers...\")\n",
    "# X_train_no_outliers, y_train_no_outliers = remove_outliers(X_train, y_train)\n",
    "\n",
    "# print(\"Scaling data...\")\n",
    "# X_train_scaled, X_test_scaled = scale(X_train_no_outliers, X_test)\n",
    "\n",
    "# print(\"Imputing nan values...\")\n",
    "# X_train_imputed, X_test_imputed = impute_values(X_train_scaled, X_test_scaled, method=knn')\n",
    "\n",
    "# print(\"Selecting features...\")\n",
    "# X_train_selected_features, X_test_selected_features = select_features(X_train_imputed, y_train_no_outliers, X_test_imputed)\n",
    "\n",
    "# print(\"Exporting clean data to csv...\")\n",
    "# X_train_cleaned, y_train_cleaned, X_test_cleaned = X_train_selected_features, y_train_no_outliers, X_test_selected_features\n",
    "# export_to_csv(X_train_cleaned, y_train_cleaned, X_test_cleaned)\n",
    "\n",
    "# print(\"All done!\")"
   ]
  },
  {
   "cell_type": "code",
   "execution_count": 65,
   "id": "3bf407c2",
   "metadata": {
    "scrolled": false
   },
   "outputs": [
    {
     "name": "stdout",
     "output_type": "stream",
     "text": [
      "Loading raw data...\n",
      "Removing outliers...\n",
      "Detected 50 outliers, out of 1212 samples (4.13%).\n",
      "Scaling data...\n",
      "Selecting features...\n",
      "0 features removed because of constant values (0.00%)\n",
      "146 features removed because of correlation > 0.7 (17.55%)\n",
      "For the train dataset, there are 60781 nan values, out of 797132 (7.62%).\n"
     ]
    },
    {
     "name": "stderr",
     "output_type": "stream",
     "text": [
      "/Users/antoine/miniconda3/lib/python3.7/site-packages/sklearn/feature_selection/_univariate_selection.py:289: RuntimeWarning: invalid value encountered in true_divide\n",
      "  correlation_coefficient /= X_norms\n"
     ]
    },
    {
     "name": "stdout",
     "output_type": "stream",
     "text": [
      "549 features removed because of low correlation with target (80.03%)\n",
      "Imputing nan values...\n",
      "For the train dataset, there are 12065 nan values, out of 159194 (7.58%).\n",
      "[IterativeImputer] Completing matrix with shape (1162, 137)\n",
      "[IterativeImputer] Ending imputation round 1/15, elapsed time 1.89\n",
      "[IterativeImputer] Change: 23.347691166114693, scaled tolerance: 0.013896992902987433 \n",
      "[IterativeImputer] Ending imputation round 2/15, elapsed time 3.82\n",
      "[IterativeImputer] Change: 2.0044169947193318, scaled tolerance: 0.013896992902987433 \n",
      "[IterativeImputer] Ending imputation round 3/15, elapsed time 5.95\n",
      "[IterativeImputer] Change: 0.3507866998585426, scaled tolerance: 0.013896992902987433 \n",
      "[IterativeImputer] Ending imputation round 4/15, elapsed time 8.33\n",
      "[IterativeImputer] Change: 0.1477798955071734, scaled tolerance: 0.013896992902987433 \n",
      "[IterativeImputer] Ending imputation round 5/15, elapsed time 10.45\n",
      "[IterativeImputer] Change: 0.08213196633380365, scaled tolerance: 0.013896992902987433 \n",
      "[IterativeImputer] Ending imputation round 6/15, elapsed time 12.67\n",
      "[IterativeImputer] Change: 0.045762605835757274, scaled tolerance: 0.013896992902987433 \n",
      "[IterativeImputer] Ending imputation round 7/15, elapsed time 14.64\n",
      "[IterativeImputer] Change: 0.025541635740883896, scaled tolerance: 0.013896992902987433 \n",
      "[IterativeImputer] Ending imputation round 8/15, elapsed time 16.57\n",
      "[IterativeImputer] Change: 0.014267741341644519, scaled tolerance: 0.013896992902987433 \n",
      "[IterativeImputer] Ending imputation round 9/15, elapsed time 18.53\n",
      "[IterativeImputer] Change: 0.007973268852482882, scaled tolerance: 0.013896992902987433 \n",
      "[IterativeImputer] Early stopping criterion reached.\n",
      "[IterativeImputer] Completing matrix with shape (1162, 137)\n",
      "[IterativeImputer] Ending imputation round 1/9, elapsed time 0.04\n",
      "[IterativeImputer] Ending imputation round 2/9, elapsed time 0.07\n",
      "[IterativeImputer] Ending imputation round 3/9, elapsed time 0.11\n",
      "[IterativeImputer] Ending imputation round 4/9, elapsed time 0.14\n",
      "[IterativeImputer] Ending imputation round 5/9, elapsed time 0.19\n",
      "[IterativeImputer] Ending imputation round 6/9, elapsed time 0.24\n",
      "[IterativeImputer] Ending imputation round 7/9, elapsed time 0.28\n",
      "[IterativeImputer] Ending imputation round 8/9, elapsed time 0.32\n",
      "[IterativeImputer] Ending imputation round 9/9, elapsed time 0.35\n",
      "[IterativeImputer] Completing matrix with shape (776, 137)\n",
      "[IterativeImputer] Ending imputation round 1/9, elapsed time 0.03\n",
      "[IterativeImputer] Ending imputation round 2/9, elapsed time 0.05\n",
      "[IterativeImputer] Ending imputation round 3/9, elapsed time 0.08\n",
      "[IterativeImputer] Ending imputation round 4/9, elapsed time 0.12\n",
      "[IterativeImputer] Ending imputation round 5/9, elapsed time 0.15\n",
      "[IterativeImputer] Ending imputation round 6/9, elapsed time 0.18\n",
      "[IterativeImputer] Ending imputation round 7/9, elapsed time 0.21\n",
      "[IterativeImputer] Ending imputation round 8/9, elapsed time 0.23\n",
      "[IterativeImputer] Ending imputation round 9/9, elapsed time 0.26\n",
      "Exporting clean data to csv...\n",
      "All done!\n"
     ]
    }
   ],
   "source": [
    "print(\"Loading raw data...\")\n",
    "X_train, y_train, X_test = load_raw_data()\n",
    "\n",
    "print(\"Removing outliers...\")\n",
    "X_train, y_train = remove_outliers(X_train, y_train)\n",
    "\n",
    "print(\"Scaling data...\")\n",
    "X_train, X_test = scale(X_train, X_test)\n",
    "\n",
    "print(\"Selecting features...\")\n",
    "X_train, X_test = remove_constant_features(X_train, X_test)\n",
    "X_train, X_test = remove_too_correlated_features(X_train, X_test)\n",
    "\n",
    "#TODO: Clean pipeline\n",
    "# If we want iterative imputation, and don't want to run it for one hour (should try at one point though), need to\n",
    "# do feature selection before we do imputation. Except biggest filter for feature selection is f_regression which\n",
    "# cannot deal with nan values. Therefore, intermediary dumb knn imputation was quickly/dirtily \n",
    "# implemented to see results.\n",
    "# Conclusion: we achieve ~same or better validation scores with a LOT less features, seems like an \n",
    "# interresting way forward (even though test scores are a bit lower once submitted, but to not \n",
    "# overfit on the public ones and fail on the secret ones, should only watch validation score)\n",
    "X_train_mask = X_train.isna()\n",
    "X_test_mask = X_test.isna()\n",
    "X_train, X_test = impute_values(X_train, X_test, method='knn')\n",
    "X_train, X_test, X_train_mask, X_test_mask = remove_random_features(X_train, y_train, X_test, X_train_mask, X_test_mask, percentile=20)\n",
    "X_train = X_train.mask(np.array(X_train_mask))\n",
    "X_test = X_test.mask(np.array(X_test_mask))\n",
    "\n",
    "print(\"Imputing nan values...\")\n",
    "X_train, X_test = impute_values(X_train, X_test, method='iterative')\n",
    "\n",
    "print(\"Exporting clean data to csv...\")\n",
    "export_to_csv(X_train, y_train, X_test)\n",
    "\n",
    "print(\"All done!\")"
   ]
  },
  {
   "cell_type": "markdown",
   "id": "d849332e",
   "metadata": {},
   "source": [
    "---\n",
    "### Model training"
   ]
  },
  {
   "cell_type": "code",
   "execution_count": 66,
   "id": "8fdcf188",
   "metadata": {
    "scrolled": false
   },
   "outputs": [
    {
     "name": "stdout",
     "output_type": "stream",
     "text": [
      "Fitting 5 folds for each of 20 candidates, totalling 100 fits\n",
      "[CV 1/5] END ........................alpha=0.01;, score=0.452 total time=   0.0s\n",
      "[CV 2/5] END ........................alpha=0.01;, score=0.436 total time=   0.0s\n",
      "[CV 3/5] END ........................alpha=0.01;, score=0.428 total time=   0.0s\n",
      "[CV 4/5] END ........................alpha=0.01;, score=0.498 total time=   0.0s\n",
      "[CV 5/5] END ........................alpha=0.01;, score=0.385 total time=   0.0s\n",
      "[CV 1/5] END ........alpha=0.012742749857031334;, score=0.454 total time=   0.0s\n",
      "[CV 2/5] END ........alpha=0.012742749857031334;, score=0.438 total time=   0.0s\n",
      "[CV 3/5] END ........alpha=0.012742749857031334;, score=0.429 total time=   0.0s\n",
      "[CV 4/5] END ........alpha=0.012742749857031334;, score=0.500 total time=   0.0s\n",
      "[CV 5/5] END ........alpha=0.012742749857031334;, score=0.386 total time=   0.0s\n",
      "[CV 1/5] END ........alpha=0.016237767391887217;, score=0.456 total time=   0.0s\n",
      "[CV 2/5] END ........alpha=0.016237767391887217;, score=0.440 total time=   0.0s\n",
      "[CV 3/5] END ........alpha=0.016237767391887217;, score=0.431 total time=   0.0s\n",
      "[CV 4/5] END ........alpha=0.016237767391887217;, score=0.501 total time=   0.0s\n",
      "[CV 5/5] END ........alpha=0.016237767391887217;, score=0.388 total time=   0.0s\n",
      "[CV 1/5] END ..........alpha=0.0206913808111479;, score=0.457 total time=   0.0s\n",
      "[CV 2/5] END ..........alpha=0.0206913808111479;, score=0.442 total time=   0.0s\n",
      "[CV 3/5] END ..........alpha=0.0206913808111479;, score=0.433 total time=   0.0s\n",
      "[CV 4/5] END ..........alpha=0.0206913808111479;, score=0.503 total time=   0.0s\n",
      "[CV 5/5] END ..........alpha=0.0206913808111479;, score=0.390 total time=   0.0s\n",
      "[CV 1/5] END ........alpha=0.026366508987303583;, score=0.459 total time=   0.0s\n",
      "[CV 2/5] END ........alpha=0.026366508987303583;, score=0.445 total time=   0.0s\n",
      "[CV 3/5] END ........alpha=0.026366508987303583;, score=0.436 total time=   0.0s\n",
      "[CV 4/5] END ........alpha=0.026366508987303583;, score=0.505 total time=   0.0s\n",
      "[CV 5/5] END ........alpha=0.026366508987303583;, score=0.392 total time=   0.0s\n",
      "[CV 1/5] END .........alpha=0.03359818286283781;, score=0.462 total time=   0.0s\n",
      "[CV 2/5] END .........alpha=0.03359818286283781;, score=0.447 total time=   0.0s\n",
      "[CV 3/5] END .........alpha=0.03359818286283781;, score=0.439 total time=   0.0s\n",
      "[CV 4/5] END .........alpha=0.03359818286283781;, score=0.507 total time=   0.1s\n",
      "[CV 5/5] END .........alpha=0.03359818286283781;, score=0.395 total time=   0.0s\n",
      "[CV 1/5] END .........alpha=0.04281332398719394;, score=0.465 total time=   0.0s\n",
      "[CV 2/5] END .........alpha=0.04281332398719394;, score=0.450 total time=   0.0s\n",
      "[CV 3/5] END .........alpha=0.04281332398719394;, score=0.441 total time=   0.0s\n",
      "[CV 4/5] END .........alpha=0.04281332398719394;, score=0.509 total time=   0.0s\n",
      "[CV 5/5] END .........alpha=0.04281332398719394;, score=0.397 total time=   0.0s\n",
      "[CV 1/5] END ..........alpha=0.0545559478116852;, score=0.467 total time=   0.0s\n",
      "[CV 2/5] END ..........alpha=0.0545559478116852;, score=0.453 total time=   0.1s\n",
      "[CV 3/5] END ..........alpha=0.0545559478116852;, score=0.443 total time=   0.0s\n",
      "[CV 4/5] END ..........alpha=0.0545559478116852;, score=0.510 total time=   0.0s\n",
      "[CV 5/5] END ..........alpha=0.0545559478116852;, score=0.400 total time=   0.0s\n",
      "[CV 1/5] END .........alpha=0.06951927961775606;, score=0.469 total time=   0.0s\n",
      "[CV 2/5] END .........alpha=0.06951927961775606;, score=0.455 total time=   0.0s\n",
      "[CV 3/5] END .........alpha=0.06951927961775606;, score=0.444 total time=   0.0s\n",
      "[CV 4/5] END .........alpha=0.06951927961775606;, score=0.510 total time=   0.0s\n",
      "[CV 5/5] END .........alpha=0.06951927961775606;, score=0.402 total time=   0.0s\n",
      "[CV 1/5] END .........alpha=0.08858667904100823;, score=0.469 total time=   0.0s\n",
      "[CV 2/5] END .........alpha=0.08858667904100823;, score=0.455 total time=   0.0s\n",
      "[CV 3/5] END .........alpha=0.08858667904100823;, score=0.444 total time=   0.0s\n",
      "[CV 4/5] END .........alpha=0.08858667904100823;, score=0.507 total time=   0.0s\n",
      "[CV 5/5] END .........alpha=0.08858667904100823;, score=0.403 total time=   0.0s\n",
      "[CV 1/5] END .........alpha=0.11288378916846889;, score=0.470 total time=   0.0s\n",
      "[CV 2/5] END .........alpha=0.11288378916846889;, score=0.453 total time=   0.0s\n",
      "[CV 3/5] END .........alpha=0.11288378916846889;, score=0.443 total time=   0.0s\n",
      "[CV 4/5] END .........alpha=0.11288378916846889;, score=0.501 total time=   0.0s\n",
      "[CV 5/5] END .........alpha=0.11288378916846889;, score=0.401 total time=   0.0s\n",
      "[CV 1/5] END .........alpha=0.14384498882876628;, score=0.470 total time=   0.0s\n",
      "[CV 2/5] END .........alpha=0.14384498882876628;, score=0.448 total time=   0.0s\n",
      "[CV 3/5] END .........alpha=0.14384498882876628;, score=0.440 total time=   0.0s\n",
      "[CV 4/5] END .........alpha=0.14384498882876628;, score=0.494 total time=   0.0s\n",
      "[CV 5/5] END .........alpha=0.14384498882876628;, score=0.398 total time=   0.0s\n",
      "[CV 1/5] END .........alpha=0.18329807108324356;, score=0.469 total time=   0.0s\n",
      "[CV 2/5] END .........alpha=0.18329807108324356;, score=0.441 total time=   0.0s\n",
      "[CV 3/5] END .........alpha=0.18329807108324356;, score=0.434 total time=   0.0s\n",
      "[CV 4/5] END .........alpha=0.18329807108324356;, score=0.488 total time=   0.0s\n",
      "[CV 5/5] END .........alpha=0.18329807108324356;, score=0.392 total time=   0.0s\n",
      "[CV 1/5] END .........alpha=0.23357214690901212;, score=0.465 total time=   0.0s\n",
      "[CV 2/5] END .........alpha=0.23357214690901212;, score=0.432 total time=   0.0s\n",
      "[CV 3/5] END .........alpha=0.23357214690901212;, score=0.428 total time=   0.0s\n",
      "[CV 4/5] END .........alpha=0.23357214690901212;, score=0.481 total time=   0.0s\n",
      "[CV 5/5] END .........alpha=0.23357214690901212;, score=0.389 total time=   0.0s\n",
      "[CV 1/5] END .........alpha=0.29763514416313175;, score=0.462 total time=   0.0s\n",
      "[CV 2/5] END .........alpha=0.29763514416313175;, score=0.419 total time=   0.0s\n",
      "[CV 3/5] END .........alpha=0.29763514416313175;, score=0.421 total time=   0.0s\n",
      "[CV 4/5] END .........alpha=0.29763514416313175;, score=0.471 total time=   0.0s\n",
      "[CV 5/5] END .........alpha=0.29763514416313175;, score=0.384 total time=   0.0s\n",
      "[CV 1/5] END .........alpha=0.37926901907322497;, score=0.461 total time=   0.0s\n",
      "[CV 2/5] END .........alpha=0.37926901907322497;, score=0.403 total time=   0.0s\n",
      "[CV 3/5] END .........alpha=0.37926901907322497;, score=0.413 total time=   0.0s\n",
      "[CV 4/5] END .........alpha=0.37926901907322497;, score=0.457 total time=   0.0s\n",
      "[CV 5/5] END .........alpha=0.37926901907322497;, score=0.374 total time=   0.0s\n",
      "[CV 1/5] END ..........alpha=0.4832930238571752;, score=0.458 total time=   0.0s\n",
      "[CV 2/5] END ..........alpha=0.4832930238571752;, score=0.396 total time=   0.0s\n",
      "[CV 3/5] END ..........alpha=0.4832930238571752;, score=0.404 total time=   0.0s\n",
      "[CV 4/5] END ..........alpha=0.4832930238571752;, score=0.444 total time=   0.0s\n",
      "[CV 5/5] END ..........alpha=0.4832930238571752;, score=0.368 total time=   0.0s\n",
      "[CV 1/5] END ...........alpha=0.615848211066026;, score=0.449 total time=   0.0s\n",
      "[CV 2/5] END ...........alpha=0.615848211066026;, score=0.391 total time=   0.0s\n",
      "[CV 3/5] END ...........alpha=0.615848211066026;, score=0.392 total time=   0.0s\n",
      "[CV 4/5] END ...........alpha=0.615848211066026;, score=0.435 total time=   0.0s\n",
      "[CV 5/5] END ...........alpha=0.615848211066026;, score=0.358 total time=   0.0s\n",
      "[CV 1/5] END ..........alpha=0.7847599703514611;, score=0.435 total time=   0.0s\n",
      "[CV 2/5] END ..........alpha=0.7847599703514611;, score=0.384 total time=   0.0s\n",
      "[CV 3/5] END ..........alpha=0.7847599703514611;, score=0.376 total time=   0.0s\n",
      "[CV 4/5] END ..........alpha=0.7847599703514611;, score=0.423 total time=   0.0s\n",
      "[CV 5/5] END ..........alpha=0.7847599703514611;, score=0.349 total time=   0.0s\n",
      "[CV 1/5] END .........................alpha=1.0;, score=0.414 total time=   0.0s\n",
      "[CV 2/5] END .........................alpha=1.0;, score=0.369 total time=   0.0s\n",
      "[CV 3/5] END .........................alpha=1.0;, score=0.352 total time=   0.0s\n",
      "[CV 4/5] END .........................alpha=1.0;, score=0.404 total time=   0.0s\n",
      "[CV 5/5] END .........................alpha=1.0;, score=0.334 total time=   0.0s\n",
      "The best validation score obtained is 0.45596 with\n",
      "\talpha: 0.06951927961775606\n"
     ]
    }
   ],
   "source": [
    "lasso = best_lasso(X_train, y_train)"
   ]
  },
  {
   "cell_type": "code",
   "execution_count": 67,
   "id": "753572c1",
   "metadata": {
    "scrolled": false
   },
   "outputs": [
    {
     "name": "stdout",
     "output_type": "stream",
     "text": [
      "Fitting 5 folds for each of 36 candidates, totalling 180 fits\n",
      "[CV 1/5] END ..C=0.1, epsilon=0.01, kernel=poly;, score=0.084 total time=   0.1s\n",
      "[CV 2/5] END ..C=0.1, epsilon=0.01, kernel=poly;, score=0.054 total time=   0.1s\n",
      "[CV 3/5] END ..C=0.1, epsilon=0.01, kernel=poly;, score=0.045 total time=   0.1s\n",
      "[CV 4/5] END ..C=0.1, epsilon=0.01, kernel=poly;, score=0.051 total time=   0.1s\n",
      "[CV 5/5] END ..C=0.1, epsilon=0.01, kernel=poly;, score=0.021 total time=   0.1s\n",
      "[CV 1/5] END ...C=0.1, epsilon=0.01, kernel=rbf;, score=0.131 total time=   0.1s\n",
      "[CV 2/5] END ...C=0.1, epsilon=0.01, kernel=rbf;, score=0.106 total time=   0.1s\n",
      "[CV 3/5] END ...C=0.1, epsilon=0.01, kernel=rbf;, score=0.104 total time=   0.3s\n",
      "[CV 4/5] END ...C=0.1, epsilon=0.01, kernel=rbf;, score=0.118 total time=   0.1s\n",
      "[CV 5/5] END ...C=0.1, epsilon=0.01, kernel=rbf;, score=0.112 total time=   0.1s\n",
      "[CV 1/5] END C=0.1, epsilon=0.01, kernel=sigmoid;, score=0.323 total time=   0.1s\n",
      "[CV 2/5] END C=0.1, epsilon=0.01, kernel=sigmoid;, score=0.283 total time=   0.1s\n",
      "[CV 3/5] END C=0.1, epsilon=0.01, kernel=sigmoid;, score=0.246 total time=   0.1s\n",
      "[CV 4/5] END C=0.1, epsilon=0.01, kernel=sigmoid;, score=0.270 total time=   0.1s\n",
      "[CV 5/5] END C=0.1, epsilon=0.01, kernel=sigmoid;, score=0.250 total time=   0.1s\n",
      "[CV 1/5] END C=0.1, epsilon=0.31622776601683794, kernel=poly;, score=0.085 total time=   0.1s\n",
      "[CV 2/5] END C=0.1, epsilon=0.31622776601683794, kernel=poly;, score=0.050 total time=   0.1s\n",
      "[CV 3/5] END C=0.1, epsilon=0.31622776601683794, kernel=poly;, score=0.045 total time=   0.1s\n",
      "[CV 4/5] END C=0.1, epsilon=0.31622776601683794, kernel=poly;, score=0.050 total time=   0.1s\n",
      "[CV 5/5] END C=0.1, epsilon=0.31622776601683794, kernel=poly;, score=0.016 total time=   0.1s\n",
      "[CV 1/5] END C=0.1, epsilon=0.31622776601683794, kernel=rbf;, score=0.129 total time=   0.1s\n",
      "[CV 2/5] END C=0.1, epsilon=0.31622776601683794, kernel=rbf;, score=0.106 total time=   0.1s\n",
      "[CV 3/5] END C=0.1, epsilon=0.31622776601683794, kernel=rbf;, score=0.101 total time=   0.1s\n",
      "[CV 4/5] END C=0.1, epsilon=0.31622776601683794, kernel=rbf;, score=0.119 total time=   0.1s\n",
      "[CV 5/5] END C=0.1, epsilon=0.31622776601683794, kernel=rbf;, score=0.112 total time=   0.1s\n",
      "[CV 1/5] END C=0.1, epsilon=0.31622776601683794, kernel=sigmoid;, score=0.321 total time=   0.1s\n",
      "[CV 2/5] END C=0.1, epsilon=0.31622776601683794, kernel=sigmoid;, score=0.281 total time=   0.1s\n",
      "[CV 3/5] END C=0.1, epsilon=0.31622776601683794, kernel=sigmoid;, score=0.249 total time=   0.1s\n",
      "[CV 4/5] END C=0.1, epsilon=0.31622776601683794, kernel=sigmoid;, score=0.271 total time=   0.1s\n",
      "[CV 5/5] END C=0.1, epsilon=0.31622776601683794, kernel=sigmoid;, score=0.249 total time=   0.1s\n",
      "[CV 1/5] END ..C=0.1, epsilon=10.0, kernel=poly;, score=0.042 total time=   0.0s\n",
      "[CV 2/5] END ..C=0.1, epsilon=10.0, kernel=poly;, score=0.052 total time=   0.0s\n",
      "[CV 3/5] END ..C=0.1, epsilon=10.0, kernel=poly;, score=0.036 total time=   0.0s\n",
      "[CV 4/5] END ..C=0.1, epsilon=10.0, kernel=poly;, score=0.037 total time=   0.0s\n",
      "[CV 5/5] END ..C=0.1, epsilon=10.0, kernel=poly;, score=0.018 total time=   0.0s\n",
      "[CV 1/5] END ...C=0.1, epsilon=10.0, kernel=rbf;, score=0.060 total time=   0.0s\n",
      "[CV 2/5] END ...C=0.1, epsilon=10.0, kernel=rbf;, score=0.062 total time=   0.0s\n",
      "[CV 3/5] END ...C=0.1, epsilon=10.0, kernel=rbf;, score=0.064 total time=   0.0s\n",
      "[CV 4/5] END ...C=0.1, epsilon=10.0, kernel=rbf;, score=0.065 total time=   0.0s\n",
      "[CV 5/5] END ...C=0.1, epsilon=10.0, kernel=rbf;, score=0.071 total time=   0.0s\n",
      "[CV 1/5] END C=0.1, epsilon=10.0, kernel=sigmoid;, score=0.220 total time=   0.0s\n",
      "[CV 2/5] END C=0.1, epsilon=10.0, kernel=sigmoid;, score=0.193 total time=   0.0s\n",
      "[CV 3/5] END C=0.1, epsilon=10.0, kernel=sigmoid;, score=0.191 total time=   0.0s\n",
      "[CV 4/5] END C=0.1, epsilon=10.0, kernel=sigmoid;, score=0.187 total time=   0.0s\n",
      "[CV 5/5] END C=0.1, epsilon=10.0, kernel=sigmoid;, score=0.201 total time=   0.0s\n",
      "[CV 1/5] END C=1.1659144011798317, epsilon=0.01, kernel=poly;, score=0.308 total time=   0.1s\n",
      "[CV 2/5] END C=1.1659144011798317, epsilon=0.01, kernel=poly;, score=0.161 total time=   0.1s\n",
      "[CV 3/5] END C=1.1659144011798317, epsilon=0.01, kernel=poly;, score=0.163 total time=   0.1s\n",
      "[CV 4/5] END C=1.1659144011798317, epsilon=0.01, kernel=poly;, score=0.181 total time=   0.1s\n",
      "[CV 5/5] END C=1.1659144011798317, epsilon=0.01, kernel=poly;, score=0.138 total time=   0.1s\n",
      "[CV 1/5] END C=1.1659144011798317, epsilon=0.01, kernel=rbf;, score=0.460 total time=   0.1s\n",
      "[CV 2/5] END C=1.1659144011798317, epsilon=0.01, kernel=rbf;, score=0.389 total time=   0.1s\n",
      "[CV 3/5] END C=1.1659144011798317, epsilon=0.01, kernel=rbf;, score=0.364 total time=   0.1s\n",
      "[CV 4/5] END C=1.1659144011798317, epsilon=0.01, kernel=rbf;, score=0.412 total time=   0.1s\n",
      "[CV 5/5] END C=1.1659144011798317, epsilon=0.01, kernel=rbf;, score=0.416 total time=   0.1s\n",
      "[CV 1/5] END C=1.1659144011798317, epsilon=0.01, kernel=sigmoid;, score=0.308 total time=   0.1s\n",
      "[CV 2/5] END C=1.1659144011798317, epsilon=0.01, kernel=sigmoid;, score=0.360 total time=   0.1s\n",
      "[CV 3/5] END C=1.1659144011798317, epsilon=0.01, kernel=sigmoid;, score=0.268 total time=   0.1s\n",
      "[CV 4/5] END C=1.1659144011798317, epsilon=0.01, kernel=sigmoid;, score=0.413 total time=   0.2s\n",
      "[CV 5/5] END C=1.1659144011798317, epsilon=0.01, kernel=sigmoid;, score=0.258 total time=   0.2s\n",
      "[CV 1/5] END C=1.1659144011798317, epsilon=0.31622776601683794, kernel=poly;, score=0.310 total time=   0.1s\n",
      "[CV 2/5] END C=1.1659144011798317, epsilon=0.31622776601683794, kernel=poly;, score=0.159 total time=   0.1s\n",
      "[CV 3/5] END C=1.1659144011798317, epsilon=0.31622776601683794, kernel=poly;, score=0.166 total time=   0.1s\n",
      "[CV 4/5] END C=1.1659144011798317, epsilon=0.31622776601683794, kernel=poly;, score=0.181 total time=   0.1s\n",
      "[CV 5/5] END C=1.1659144011798317, epsilon=0.31622776601683794, kernel=poly;, score=0.137 total time=   0.1s\n",
      "[CV 1/5] END C=1.1659144011798317, epsilon=0.31622776601683794, kernel=rbf;, score=0.461 total time=   0.2s\n",
      "[CV 2/5] END C=1.1659144011798317, epsilon=0.31622776601683794, kernel=rbf;, score=0.388 total time=   0.1s\n",
      "[CV 3/5] END C=1.1659144011798317, epsilon=0.31622776601683794, kernel=rbf;, score=0.367 total time=   0.1s\n",
      "[CV 4/5] END C=1.1659144011798317, epsilon=0.31622776601683794, kernel=rbf;, score=0.413 total time=   0.1s\n",
      "[CV 5/5] END C=1.1659144011798317, epsilon=0.31622776601683794, kernel=rbf;, score=0.415 total time=   0.1s\n",
      "[CV 1/5] END C=1.1659144011798317, epsilon=0.31622776601683794, kernel=sigmoid;, score=0.308 total time=   0.1s\n",
      "[CV 2/5] END C=1.1659144011798317, epsilon=0.31622776601683794, kernel=sigmoid;, score=0.344 total time=   0.1s\n",
      "[CV 3/5] END C=1.1659144011798317, epsilon=0.31622776601683794, kernel=sigmoid;, score=0.262 total time=   0.1s\n",
      "[CV 4/5] END C=1.1659144011798317, epsilon=0.31622776601683794, kernel=sigmoid;, score=0.416 total time=   0.1s\n",
      "[CV 5/5] END C=1.1659144011798317, epsilon=0.31622776601683794, kernel=sigmoid;, score=0.265 total time=   0.1s\n",
      "[CV 1/5] END C=1.1659144011798317, epsilon=10.0, kernel=poly;, score=0.180 total time=   0.0s\n",
      "[CV 2/5] END C=1.1659144011798317, epsilon=10.0, kernel=poly;, score=0.127 total time=   0.1s\n",
      "[CV 3/5] END C=1.1659144011798317, epsilon=10.0, kernel=poly;, score=0.112 total time=   0.0s\n",
      "[CV 4/5] END C=1.1659144011798317, epsilon=10.0, kernel=poly;, score=0.109 total time=   0.0s\n",
      "[CV 5/5] END C=1.1659144011798317, epsilon=10.0, kernel=poly;, score=0.065 total time=   0.0s\n",
      "[CV 1/5] END C=1.1659144011798317, epsilon=10.0, kernel=rbf;, score=0.333 total time=   0.0s\n",
      "[CV 2/5] END C=1.1659144011798317, epsilon=10.0, kernel=rbf;, score=0.293 total time=   0.1s\n",
      "[CV 3/5] END C=1.1659144011798317, epsilon=10.0, kernel=rbf;, score=0.297 total time=   0.0s\n",
      "[CV 4/5] END C=1.1659144011798317, epsilon=10.0, kernel=rbf;, score=0.307 total time=   0.0s\n",
      "[CV 5/5] END C=1.1659144011798317, epsilon=10.0, kernel=rbf;, score=0.340 total time=   0.0s\n",
      "[CV 1/5] END C=1.1659144011798317, epsilon=10.0, kernel=sigmoid;, score=0.333 total time=   0.0s\n",
      "[CV 2/5] END C=1.1659144011798317, epsilon=10.0, kernel=sigmoid;, score=0.343 total time=   0.0s\n",
      "[CV 3/5] END C=1.1659144011798317, epsilon=10.0, kernel=sigmoid;, score=0.330 total time=   0.0s\n"
     ]
    },
    {
     "name": "stdout",
     "output_type": "stream",
     "text": [
      "[CV 4/5] END C=1.1659144011798317, epsilon=10.0, kernel=sigmoid;, score=0.365 total time=   0.0s\n",
      "[CV 5/5] END C=1.1659144011798317, epsilon=10.0, kernel=sigmoid;, score=0.312 total time=   0.0s\n",
      "[CV 1/5] END C=13.593563908785255, epsilon=0.01, kernel=poly;, score=0.482 total time=   0.1s\n",
      "[CV 2/5] END C=13.593563908785255, epsilon=0.01, kernel=poly;, score=0.363 total time=   0.1s\n",
      "[CV 3/5] END C=13.593563908785255, epsilon=0.01, kernel=poly;, score=0.406 total time=   0.1s\n",
      "[CV 4/5] END C=13.593563908785255, epsilon=0.01, kernel=poly;, score=0.386 total time=   0.2s\n",
      "[CV 5/5] END C=13.593563908785255, epsilon=0.01, kernel=poly;, score=0.368 total time=   0.1s\n",
      "[CV 1/5] END C=13.593563908785255, epsilon=0.01, kernel=rbf;, score=0.612 total time=   0.2s\n",
      "[CV 2/5] END C=13.593563908785255, epsilon=0.01, kernel=rbf;, score=0.517 total time=   0.2s\n",
      "[CV 3/5] END C=13.593563908785255, epsilon=0.01, kernel=rbf;, score=0.508 total time=   0.2s\n",
      "[CV 4/5] END C=13.593563908785255, epsilon=0.01, kernel=rbf;, score=0.559 total time=   0.2s\n",
      "[CV 5/5] END C=13.593563908785255, epsilon=0.01, kernel=rbf;, score=0.567 total time=   0.2s\n",
      "[CV 1/5] END C=13.593563908785255, epsilon=0.01, kernel=sigmoid;, score=-50.577 total time=   0.1s\n",
      "[CV 2/5] END C=13.593563908785255, epsilon=0.01, kernel=sigmoid;, score=-80.875 total time=   0.1s\n",
      "[CV 3/5] END C=13.593563908785255, epsilon=0.01, kernel=sigmoid;, score=-29.330 total time=   0.1s\n",
      "[CV 4/5] END C=13.593563908785255, epsilon=0.01, kernel=sigmoid;, score=-19.189 total time=   0.1s\n",
      "[CV 5/5] END C=13.593563908785255, epsilon=0.01, kernel=sigmoid;, score=-36.311 total time=   0.1s\n",
      "[CV 1/5] END C=13.593563908785255, epsilon=0.31622776601683794, kernel=poly;, score=0.479 total time=   0.1s\n",
      "[CV 2/5] END C=13.593563908785255, epsilon=0.31622776601683794, kernel=poly;, score=0.361 total time=   0.1s\n",
      "[CV 3/5] END C=13.593563908785255, epsilon=0.31622776601683794, kernel=poly;, score=0.402 total time=   0.1s\n",
      "[CV 4/5] END C=13.593563908785255, epsilon=0.31622776601683794, kernel=poly;, score=0.383 total time=   0.1s\n",
      "[CV 5/5] END C=13.593563908785255, epsilon=0.31622776601683794, kernel=poly;, score=0.364 total time=   0.1s\n",
      "[CV 1/5] END C=13.593563908785255, epsilon=0.31622776601683794, kernel=rbf;, score=0.612 total time=   0.1s\n",
      "[CV 2/5] END C=13.593563908785255, epsilon=0.31622776601683794, kernel=rbf;, score=0.517 total time=   0.1s\n",
      "[CV 3/5] END C=13.593563908785255, epsilon=0.31622776601683794, kernel=rbf;, score=0.510 total time=   0.2s\n",
      "[CV 4/5] END C=13.593563908785255, epsilon=0.31622776601683794, kernel=rbf;, score=0.558 total time=   0.2s\n",
      "[CV 5/5] END C=13.593563908785255, epsilon=0.31622776601683794, kernel=rbf;, score=0.567 total time=   0.2s\n",
      "[CV 1/5] END C=13.593563908785255, epsilon=0.31622776601683794, kernel=sigmoid;, score=-49.875 total time=   0.1s\n",
      "[CV 2/5] END C=13.593563908785255, epsilon=0.31622776601683794, kernel=sigmoid;, score=-81.417 total time=   0.1s\n",
      "[CV 3/5] END C=13.593563908785255, epsilon=0.31622776601683794, kernel=sigmoid;, score=-29.613 total time=   0.1s\n",
      "[CV 4/5] END C=13.593563908785255, epsilon=0.31622776601683794, kernel=sigmoid;, score=-18.860 total time=   0.1s\n",
      "[CV 5/5] END C=13.593563908785255, epsilon=0.31622776601683794, kernel=sigmoid;, score=-36.474 total time=   0.1s\n",
      "[CV 1/5] END C=13.593563908785255, epsilon=10.0, kernel=poly;, score=0.260 total time=   0.0s\n",
      "[CV 2/5] END C=13.593563908785255, epsilon=10.0, kernel=poly;, score=0.121 total time=   0.0s\n",
      "[CV 3/5] END C=13.593563908785255, epsilon=10.0, kernel=poly;, score=0.186 total time=   0.0s\n",
      "[CV 4/5] END C=13.593563908785255, epsilon=10.0, kernel=poly;, score=0.154 total time=   0.0s\n",
      "[CV 5/5] END C=13.593563908785255, epsilon=10.0, kernel=poly;, score=0.121 total time=   0.0s\n",
      "[CV 1/5] END C=13.593563908785255, epsilon=10.0, kernel=rbf;, score=0.439 total time=   0.0s\n",
      "[CV 2/5] END C=13.593563908785255, epsilon=10.0, kernel=rbf;, score=0.371 total time=   0.0s\n",
      "[CV 3/5] END C=13.593563908785255, epsilon=10.0, kernel=rbf;, score=0.443 total time=   0.0s\n",
      "[CV 4/5] END C=13.593563908785255, epsilon=10.0, kernel=rbf;, score=0.403 total time=   0.0s\n",
      "[CV 5/5] END C=13.593563908785255, epsilon=10.0, kernel=rbf;, score=0.460 total time=   0.0s\n",
      "[CV 1/5] END C=13.593563908785255, epsilon=10.0, kernel=sigmoid;, score=-36.281 total time=   0.1s\n",
      "[CV 2/5] END C=13.593563908785255, epsilon=10.0, kernel=sigmoid;, score=-60.253 total time=   0.1s\n",
      "[CV 3/5] END C=13.593563908785255, epsilon=10.0, kernel=sigmoid;, score=-22.571 total time=   0.1s\n",
      "[CV 4/5] END C=13.593563908785255, epsilon=10.0, kernel=sigmoid;, score=-14.755 total time=   0.1s\n",
      "[CV 5/5] END C=13.593563908785255, epsilon=10.0, kernel=sigmoid;, score=-27.586 total time=   0.1s\n",
      "[CV 1/5] END C=158.48931924611142, epsilon=0.01, kernel=poly;, score=0.344 total time=   0.3s\n",
      "[CV 2/5] END C=158.48931924611142, epsilon=0.01, kernel=poly;, score=0.039 total time=   0.2s\n",
      "[CV 3/5] END C=158.48931924611142, epsilon=0.01, kernel=poly;, score=0.327 total time=   0.2s\n",
      "[CV 4/5] END C=158.48931924611142, epsilon=0.01, kernel=poly;, score=0.276 total time=   0.2s\n",
      "[CV 5/5] END C=158.48931924611142, epsilon=0.01, kernel=poly;, score=0.253 total time=   0.2s\n",
      "[CV 1/5] END C=158.48931924611142, epsilon=0.01, kernel=rbf;, score=0.566 total time=   0.2s\n",
      "[CV 2/5] END C=158.48931924611142, epsilon=0.01, kernel=rbf;, score=0.499 total time=   0.2s\n",
      "[CV 3/5] END C=158.48931924611142, epsilon=0.01, kernel=rbf;, score=0.521 total time=   0.2s\n",
      "[CV 4/5] END C=158.48931924611142, epsilon=0.01, kernel=rbf;, score=0.546 total time=   0.2s\n",
      "[CV 5/5] END C=158.48931924611142, epsilon=0.01, kernel=rbf;, score=0.587 total time=   0.2s\n",
      "[CV 1/5] END C=158.48931924611142, epsilon=0.01, kernel=sigmoid;, score=-7576.328 total time=   0.1s\n",
      "[CV 2/5] END C=158.48931924611142, epsilon=0.01, kernel=sigmoid;, score=-12679.697 total time=   0.2s\n",
      "[CV 3/5] END C=158.48931924611142, epsilon=0.01, kernel=sigmoid;, score=-4264.284 total time=   0.1s\n",
      "[CV 4/5] END C=158.48931924611142, epsilon=0.01, kernel=sigmoid;, score=-3047.998 total time=   0.1s\n",
      "[CV 5/5] END C=158.48931924611142, epsilon=0.01, kernel=sigmoid;, score=-5061.205 total time=   0.1s\n",
      "[CV 1/5] END C=158.48931924611142, epsilon=0.31622776601683794, kernel=poly;, score=0.351 total time=   0.2s\n",
      "[CV 2/5] END C=158.48931924611142, epsilon=0.31622776601683794, kernel=poly;, score=0.052 total time=   0.2s\n",
      "[CV 3/5] END C=158.48931924611142, epsilon=0.31622776601683794, kernel=poly;, score=0.332 total time=   0.2s\n",
      "[CV 4/5] END C=158.48931924611142, epsilon=0.31622776601683794, kernel=poly;, score=0.274 total time=   0.2s\n",
      "[CV 5/5] END C=158.48931924611142, epsilon=0.31622776601683794, kernel=poly;, score=0.252 total time=   0.2s\n",
      "[CV 1/5] END C=158.48931924611142, epsilon=0.31622776601683794, kernel=rbf;, score=0.564 total time=   0.1s\n",
      "[CV 2/5] END C=158.48931924611142, epsilon=0.31622776601683794, kernel=rbf;, score=0.498 total time=   0.1s\n",
      "[CV 3/5] END C=158.48931924611142, epsilon=0.31622776601683794, kernel=rbf;, score=0.523 total time=   0.2s\n",
      "[CV 4/5] END C=158.48931924611142, epsilon=0.31622776601683794, kernel=rbf;, score=0.545 total time=   0.1s\n",
      "[CV 5/5] END C=158.48931924611142, epsilon=0.31622776601683794, kernel=rbf;, score=0.587 total time=   0.1s\n",
      "[CV 1/5] END C=158.48931924611142, epsilon=0.31622776601683794, kernel=sigmoid;, score=-7548.272 total time=   0.1s\n",
      "[CV 2/5] END C=158.48931924611142, epsilon=0.31622776601683794, kernel=sigmoid;, score=-5111.577 total time=   0.1s\n",
      "[CV 3/5] END C=158.48931924611142, epsilon=0.31622776601683794, kernel=sigmoid;, score=-4229.185 total time=   0.1s\n",
      "[CV 4/5] END C=158.48931924611142, epsilon=0.31622776601683794, kernel=sigmoid;, score=-2999.862 total time=   0.1s\n",
      "[CV 5/5] END C=158.48931924611142, epsilon=0.31622776601683794, kernel=sigmoid;, score=-5039.680 total time=   0.1s\n",
      "[CV 1/5] END C=158.48931924611142, epsilon=10.0, kernel=poly;, score=0.219 total time=   0.0s\n",
      "[CV 2/5] END C=158.48931924611142, epsilon=10.0, kernel=poly;, score=0.022 total time=   0.0s\n",
      "[CV 3/5] END C=158.48931924611142, epsilon=10.0, kernel=poly;, score=0.158 total time=   0.1s\n",
      "[CV 4/5] END C=158.48931924611142, epsilon=10.0, kernel=poly;, score=0.059 total time=   0.1s\n",
      "[CV 5/5] END C=158.48931924611142, epsilon=10.0, kernel=poly;, score=0.136 total time=   0.0s\n",
      "[CV 1/5] END C=158.48931924611142, epsilon=10.0, kernel=rbf;, score=0.420 total time=   0.0s\n"
     ]
    },
    {
     "name": "stdout",
     "output_type": "stream",
     "text": [
      "[CV 2/5] END C=158.48931924611142, epsilon=10.0, kernel=rbf;, score=0.377 total time=   0.0s\n",
      "[CV 3/5] END C=158.48931924611142, epsilon=10.0, kernel=rbf;, score=0.440 total time=   0.0s\n",
      "[CV 4/5] END C=158.48931924611142, epsilon=10.0, kernel=rbf;, score=0.391 total time=   0.0s\n",
      "[CV 5/5] END C=158.48931924611142, epsilon=10.0, kernel=rbf;, score=0.456 total time=   0.0s\n",
      "[CV 1/5] END C=158.48931924611142, epsilon=10.0, kernel=sigmoid;, score=-7529.159 total time=   0.1s\n",
      "[CV 2/5] END C=158.48931924611142, epsilon=10.0, kernel=sigmoid;, score=-5314.672 total time=   0.2s\n",
      "[CV 3/5] END C=158.48931924611142, epsilon=10.0, kernel=sigmoid;, score=-4091.563 total time=   0.1s\n",
      "[CV 4/5] END C=158.48931924611142, epsilon=10.0, kernel=sigmoid;, score=-3055.399 total time=   0.1s\n",
      "[CV 5/5] END C=158.48931924611142, epsilon=10.0, kernel=sigmoid;, score=-4950.710 total time=   0.1s\n",
      "The best validation score obtained is 0.55284 with\n",
      "    \tkernel: rbf\n",
      "    \tC: 13.593563908785255\n",
      "    \tepsilon: 0.31622776601683794\n"
     ]
    }
   ],
   "source": [
    "svr = best_svr(X_train, np.array(y_train).ravel())"
   ]
  },
  {
   "cell_type": "code",
   "execution_count": 68,
   "id": "25f33dfe",
   "metadata": {
    "scrolled": false
   },
   "outputs": [
    {
     "name": "stderr",
     "output_type": "stream",
     "text": [
      "[Parallel(n_jobs=-1)]: Using backend LokyBackend with 4 concurrent workers.\n",
      "[Parallel(n_jobs=-1)]: Done   2 out of   5 | elapsed:   12.9s remaining:   19.4s\n",
      "[Parallel(n_jobs=-1)]: Done   5 out of   5 | elapsed:   20.4s finished\n"
     ]
    },
    {
     "name": "stdout",
     "output_type": "stream",
     "text": [
      "Validation score obtained is 0.5904 with\n",
      "    \t{'loss': 'squared_error', 'n_estimators': 250, 'learning_rate': 0.025, 'subsample': 0.75, 'max_depth': 6, 'min_samples_split': 5, 'n_iter_no_change': 100, 'validation_fraction': 0.1, 'random_state': 0, 'verbose': 1}\n",
      "      Iter       Train Loss      OOB Improve   Remaining Time \n",
      "         1          91.3713           2.7151            8.69s\n",
      "         2          90.4951           2.4329            8.24s\n",
      "         3          87.5395           1.8259            8.23s\n",
      "         4          84.9354           1.7079            8.17s\n",
      "         5          81.1857           1.5119            8.14s\n",
      "         6          77.7074           1.7922            8.21s\n",
      "         7          78.0268           1.6303            8.35s\n",
      "         8          73.7842           1.7695           10.68s\n",
      "         9          72.9198           1.3300           10.44s\n",
      "        10          69.6703           1.6567           10.24s\n",
      "        20          49.8719           0.7727           10.13s\n",
      "        30          37.4365           0.6052            8.95s\n",
      "        40          28.4774           0.4223            8.19s\n",
      "        50          22.2246           0.2451            7.62s\n",
      "        60          17.3187           0.1576            7.18s\n",
      "        70          13.3941           0.1034            6.76s\n",
      "        80          10.6298           0.0306            6.32s\n",
      "        90           8.8260           0.0156            5.86s\n",
      "       100           7.0520           0.0228            5.44s\n"
     ]
    },
    {
     "data": {
      "image/png": "[encoded data removed]",
      "text/plain": [
       "<Figure size 432x432 with 1 Axes>"
      ]
     },
     "metadata": {
      "needs_background": "light"
     },
     "output_type": "display_data"
    }
   ],
   "source": [
    "#TODO: could not manage to get grid search to work with this, should look into it as there are a lot of\n",
    "# hyperparameters at play\n",
    "gbr = best_gbr(X_train, np.array(y_train).ravel())"
   ]
  },
  {
   "cell_type": "markdown",
   "id": "4484e0aa",
   "metadata": {},
   "source": [
    "---\n",
    "### Creation of the submission file"
   ]
  },
  {
   "cell_type": "code",
   "execution_count": 69,
   "id": "aeeb561f",
   "metadata": {},
   "outputs": [],
   "source": [
    "prediction = pd.DataFrame(gbr.predict(X_test)) # modify here\n",
    "sub_id = 13 # modify here\n",
    "create_submission(prediction, sub_id)"
   ]
  },
  {
   "cell_type": "markdown",
   "id": "ae690721",
   "metadata": {},
   "source": [
    "Link where to submit: https://aml.ise.inf.ethz.ch/task1/#submission"
   ]
  }
 ],
 "metadata": {
  "kernelspec": {
   "display_name": "Python 3 (ipykernel)",
   "language": "python",
   "name": "python3"
  },
  "language_info": {
   "codemirror_mode": {
    "name": "ipython",
    "version": 3
   },
   "file_extension": ".py",
   "mimetype": "text/x-python",
   "name": "python",
   "nbconvert_exporter": "python",
   "pygments_lexer": "ipython3",
   "version": "3.7.11"
  }
 },
 "nbformat": 4,
 "nbformat_minor": 5
}
