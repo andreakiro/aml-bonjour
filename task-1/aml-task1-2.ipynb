{
 "cells": [
  {
   "cell_type": "markdown",
   "id": "3b29a996",
   "metadata": {},
   "source": [
    "# AML — Task 1\n",
    "## Predict the age of a brain from MRI features\n",
    "---"
   ]
  },
  {
   "cell_type": "code",
   "execution_count": 1,
   "id": "60c096f1",
   "metadata": {},
   "outputs": [],
   "source": [
    "import numpy as np\n",
    "import pandas as pd\n",
    "import seaborn as sns\n",
    "from scipy.stats import zscore\n",
    "from pandas_profiling import ProfileReport"
   ]
  },
  {
   "cell_type": "code",
   "execution_count": 2,
   "id": "8f415c99",
   "metadata": {},
   "outputs": [],
   "source": [
    "from sklearn.pipeline import Pipeline\n",
    "from sklearn.impute import SimpleImputer, KNNImputer\n",
    "from sklearn.linear_model import Ridge, Lasso\n",
    "from sklearn.svm import SVR\n",
    "from sklearn.metrics import r2_score\n",
    "from sklearn.preprocessing import StandardScaler\n",
    "from sklearn.feature_selection import SelectPercentile, f_regression\n",
    "from sklearn.model_selection import GridSearchCV\n",
    "from sklearn.ensemble import IsolationForest"
   ]
  },
  {
   "cell_type": "code",
   "execution_count": 3,
   "id": "04381057",
   "metadata": {},
   "outputs": [],
   "source": [
    "from warnings import simplefilter\n",
    "from sklearn.exceptions import ConvergenceWarning"
   ]
  },
  {
   "cell_type": "markdown",
   "id": "e93bf9ea",
   "metadata": {},
   "source": [
    "## Import datasets"
   ]
  },
  {
   "cell_type": "code",
   "execution_count": 55,
   "id": "55477a67",
   "metadata": {},
   "outputs": [],
   "source": [
    "X_train = pd.read_csv('data/X_train.csv').drop(columns=['id'])\n",
    "y_train = pd.read_csv('data/y_train.csv').drop(columns=['id'])"
   ]
  },
  {
   "cell_type": "code",
   "execution_count": 56,
   "id": "92636b3b",
   "metadata": {},
   "outputs": [],
   "source": [
    "X_test = pd.read_csv('data/X_test.csv').drop(columns=['id'])"
   ]
  },
  {
   "cell_type": "code",
   "execution_count": 57,
   "id": "d320157d",
   "metadata": {},
   "outputs": [
    {
     "name": "stdout",
     "output_type": "stream",
     "text": [
      "<class 'pandas.core.frame.DataFrame'>\n",
      "RangeIndex: 1212 entries, 0 to 1211\n",
      "Columns: 832 entries, x0 to x831\n",
      "dtypes: float64(832)\n",
      "memory usage: 7.7 MB\n"
     ]
    }
   ],
   "source": [
    "X_train.info()"
   ]
  },
  {
   "cell_type": "code",
   "execution_count": 58,
   "id": "4e8a495a",
   "metadata": {
    "scrolled": true
   },
   "outputs": [
    {
     "data": {
      "text/html": [
       "<div>\n",
       "<style scoped>\n",
       "    .dataframe tbody tr th:only-of-type {\n",
       "        vertical-align: middle;\n",
       "    }\n",
       "\n",
       "    .dataframe tbody tr th {\n",
       "        vertical-align: top;\n",
       "    }\n",
       "\n",
       "    .dataframe thead th {\n",
       "        text-align: right;\n",
       "    }\n",
       "</style>\n",
       "<table border=\"1\" class=\"dataframe\">\n",
       "  <thead>\n",
       "    <tr style=\"text-align: right;\">\n",
       "      <th></th>\n",
       "      <th>x0</th>\n",
       "      <th>x1</th>\n",
       "      <th>x2</th>\n",
       "      <th>x3</th>\n",
       "      <th>x4</th>\n",
       "      <th>x5</th>\n",
       "      <th>x6</th>\n",
       "      <th>x7</th>\n",
       "      <th>x8</th>\n",
       "      <th>x9</th>\n",
       "      <th>...</th>\n",
       "      <th>x822</th>\n",
       "      <th>x823</th>\n",
       "      <th>x824</th>\n",
       "      <th>x825</th>\n",
       "      <th>x826</th>\n",
       "      <th>x827</th>\n",
       "      <th>x828</th>\n",
       "      <th>x829</th>\n",
       "      <th>x830</th>\n",
       "      <th>x831</th>\n",
       "    </tr>\n",
       "  </thead>\n",
       "  <tbody>\n",
       "    <tr>\n",
       "      <th>count</th>\n",
       "      <td>1118.000000</td>\n",
       "      <td>1114.000000</td>\n",
       "      <td>1117.000000</td>\n",
       "      <td>1106.000000</td>\n",
       "      <td>1.117000e+03</td>\n",
       "      <td>1128.000000</td>\n",
       "      <td>1105.000000</td>\n",
       "      <td>1127.000000</td>\n",
       "      <td>1.116000e+03</td>\n",
       "      <td>1124.000000</td>\n",
       "      <td>...</td>\n",
       "      <td>1.134000e+03</td>\n",
       "      <td>1125.000000</td>\n",
       "      <td>1098.000000</td>\n",
       "      <td>1121.000000</td>\n",
       "      <td>1120.000000</td>\n",
       "      <td>1109.000000</td>\n",
       "      <td>1115.000000</td>\n",
       "      <td>1.112000e+03</td>\n",
       "      <td>1124.000000</td>\n",
       "      <td>1091.000000</td>\n",
       "    </tr>\n",
       "    <tr>\n",
       "      <th>mean</th>\n",
       "      <td>10.026057</td>\n",
       "      <td>832442.859290</td>\n",
       "      <td>20585.524887</td>\n",
       "      <td>1048.958235</td>\n",
       "      <td>1.000291e+06</td>\n",
       "      <td>10.085010</td>\n",
       "      <td>597900.429955</td>\n",
       "      <td>10389.657239</td>\n",
       "      <td>9.998422e+05</td>\n",
       "      <td>785176.225858</td>\n",
       "      <td>...</td>\n",
       "      <td>1.049674e+06</td>\n",
       "      <td>-876.044006</td>\n",
       "      <td>13492.600186</td>\n",
       "      <td>10.554762</td>\n",
       "      <td>10.057767</td>\n",
       "      <td>1066.141107</td>\n",
       "      <td>10.008269</td>\n",
       "      <td>1.050199e+06</td>\n",
       "      <td>99798.480171</td>\n",
       "      <td>104903.905758</td>\n",
       "    </tr>\n",
       "    <tr>\n",
       "      <th>std</th>\n",
       "      <td>0.968347</td>\n",
       "      <td>0.028258</td>\n",
       "      <td>0.029051</td>\n",
       "      <td>28.430733</td>\n",
       "      <td>9.740891e+04</td>\n",
       "      <td>0.968026</td>\n",
       "      <td>0.028128</td>\n",
       "      <td>1655.843472</td>\n",
       "      <td>1.022441e+05</td>\n",
       "      <td>0.028799</td>\n",
       "      <td>...</td>\n",
       "      <td>2.839579e+04</td>\n",
       "      <td>164.585576</td>\n",
       "      <td>2519.835006</td>\n",
       "      <td>0.283844</td>\n",
       "      <td>0.982656</td>\n",
       "      <td>226.606986</td>\n",
       "      <td>1.018930</td>\n",
       "      <td>2.814210e+04</td>\n",
       "      <td>9576.128720</td>\n",
       "      <td>2768.405350</td>\n",
       "    </tr>\n",
       "    <tr>\n",
       "      <th>min</th>\n",
       "      <td>6.672068</td>\n",
       "      <td>832442.808579</td>\n",
       "      <td>20585.473808</td>\n",
       "      <td>1000.063783</td>\n",
       "      <td>6.800215e+05</td>\n",
       "      <td>6.984052</td>\n",
       "      <td>597900.381003</td>\n",
       "      <td>3644.074892</td>\n",
       "      <td>6.095730e+05</td>\n",
       "      <td>785176.176297</td>\n",
       "      <td>...</td>\n",
       "      <td>1.000105e+06</td>\n",
       "      <td>-1597.766964</td>\n",
       "      <td>2536.030655</td>\n",
       "      <td>10.010366</td>\n",
       "      <td>6.841039</td>\n",
       "      <td>496.007706</td>\n",
       "      <td>6.466963</td>\n",
       "      <td>1.000002e+06</td>\n",
       "      <td>73207.994891</td>\n",
       "      <td>100012.896777</td>\n",
       "    </tr>\n",
       "    <tr>\n",
       "      <th>25%</th>\n",
       "      <td>9.381273</td>\n",
       "      <td>832442.835941</td>\n",
       "      <td>20585.501013</td>\n",
       "      <td>1024.969967</td>\n",
       "      <td>9.360882e+05</td>\n",
       "      <td>9.470582</td>\n",
       "      <td>597900.406110</td>\n",
       "      <td>9339.537887</td>\n",
       "      <td>9.322937e+05</td>\n",
       "      <td>785176.201279</td>\n",
       "      <td>...</td>\n",
       "      <td>1.025054e+06</td>\n",
       "      <td>-975.398714</td>\n",
       "      <td>11947.954006</td>\n",
       "      <td>10.321039</td>\n",
       "      <td>9.379001</td>\n",
       "      <td>899.067501</td>\n",
       "      <td>9.325229</td>\n",
       "      <td>1.027575e+06</td>\n",
       "      <td>93416.252400</td>\n",
       "      <td>102596.190683</td>\n",
       "    </tr>\n",
       "    <tr>\n",
       "      <th>50%</th>\n",
       "      <td>10.000079</td>\n",
       "      <td>832442.860041</td>\n",
       "      <td>20585.524817</td>\n",
       "      <td>1047.985497</td>\n",
       "      <td>1.000557e+06</td>\n",
       "      <td>10.089601</td>\n",
       "      <td>597900.429787</td>\n",
       "      <td>10295.013382</td>\n",
       "      <td>1.001261e+06</td>\n",
       "      <td>785176.225608</td>\n",
       "      <td>...</td>\n",
       "      <td>1.049296e+06</td>\n",
       "      <td>-875.508235</td>\n",
       "      <td>13352.186179</td>\n",
       "      <td>10.554260</td>\n",
       "      <td>10.114370</td>\n",
       "      <td>1049.027077</td>\n",
       "      <td>10.005684</td>\n",
       "      <td>1.050262e+06</td>\n",
       "      <td>99802.127899</td>\n",
       "      <td>104846.235709</td>\n",
       "    </tr>\n",
       "    <tr>\n",
       "      <th>75%</th>\n",
       "      <td>10.664998</td>\n",
       "      <td>832442.882951</td>\n",
       "      <td>20585.550525</td>\n",
       "      <td>1073.180317</td>\n",
       "      <td>1.064617e+06</td>\n",
       "      <td>10.752707</td>\n",
       "      <td>597900.452983</td>\n",
       "      <td>11304.073469</td>\n",
       "      <td>1.068359e+06</td>\n",
       "      <td>785176.250421</td>\n",
       "      <td>...</td>\n",
       "      <td>1.074354e+06</td>\n",
       "      <td>-773.174562</td>\n",
       "      <td>14893.726023</td>\n",
       "      <td>10.792195</td>\n",
       "      <td>10.745370</td>\n",
       "      <td>1215.057985</td>\n",
       "      <td>10.658120</td>\n",
       "      <td>1.073831e+06</td>\n",
       "      <td>106400.748441</td>\n",
       "      <td>107098.669350</td>\n",
       "    </tr>\n",
       "    <tr>\n",
       "      <th>max</th>\n",
       "      <td>12.956099</td>\n",
       "      <td>832442.908334</td>\n",
       "      <td>20585.573514</td>\n",
       "      <td>1099.977638</td>\n",
       "      <td>1.331630e+06</td>\n",
       "      <td>12.747734</td>\n",
       "      <td>597900.480810</td>\n",
       "      <td>17347.531573</td>\n",
       "      <td>1.284804e+06</td>\n",
       "      <td>785176.276168</td>\n",
       "      <td>...</td>\n",
       "      <td>1.099771e+06</td>\n",
       "      <td>-281.030205</td>\n",
       "      <td>24815.260375</td>\n",
       "      <td>11.091050</td>\n",
       "      <td>13.530204</td>\n",
       "      <td>2122.032859</td>\n",
       "      <td>13.163113</td>\n",
       "      <td>1.099918e+06</td>\n",
       "      <td>130694.436443</td>\n",
       "      <td>109984.169649</td>\n",
       "    </tr>\n",
       "  </tbody>\n",
       "</table>\n",
       "<p>8 rows × 832 columns</p>\n",
       "</div>"
      ],
      "text/plain": [
       "                x0             x1            x2           x3            x4  \\\n",
       "count  1118.000000    1114.000000   1117.000000  1106.000000  1.117000e+03   \n",
       "mean     10.026057  832442.859290  20585.524887  1048.958235  1.000291e+06   \n",
       "std       0.968347       0.028258      0.029051    28.430733  9.740891e+04   \n",
       "min       6.672068  832442.808579  20585.473808  1000.063783  6.800215e+05   \n",
       "25%       9.381273  832442.835941  20585.501013  1024.969967  9.360882e+05   \n",
       "50%      10.000079  832442.860041  20585.524817  1047.985497  1.000557e+06   \n",
       "75%      10.664998  832442.882951  20585.550525  1073.180317  1.064617e+06   \n",
       "max      12.956099  832442.908334  20585.573514  1099.977638  1.331630e+06   \n",
       "\n",
       "                x5             x6            x7            x8             x9  \\\n",
       "count  1128.000000    1105.000000   1127.000000  1.116000e+03    1124.000000   \n",
       "mean     10.085010  597900.429955  10389.657239  9.998422e+05  785176.225858   \n",
       "std       0.968026       0.028128   1655.843472  1.022441e+05       0.028799   \n",
       "min       6.984052  597900.381003   3644.074892  6.095730e+05  785176.176297   \n",
       "25%       9.470582  597900.406110   9339.537887  9.322937e+05  785176.201279   \n",
       "50%      10.089601  597900.429787  10295.013382  1.001261e+06  785176.225608   \n",
       "75%      10.752707  597900.452983  11304.073469  1.068359e+06  785176.250421   \n",
       "max      12.747734  597900.480810  17347.531573  1.284804e+06  785176.276168   \n",
       "\n",
       "       ...          x822         x823          x824         x825         x826  \\\n",
       "count  ...  1.134000e+03  1125.000000   1098.000000  1121.000000  1120.000000   \n",
       "mean   ...  1.049674e+06  -876.044006  13492.600186    10.554762    10.057767   \n",
       "std    ...  2.839579e+04   164.585576   2519.835006     0.283844     0.982656   \n",
       "min    ...  1.000105e+06 -1597.766964   2536.030655    10.010366     6.841039   \n",
       "25%    ...  1.025054e+06  -975.398714  11947.954006    10.321039     9.379001   \n",
       "50%    ...  1.049296e+06  -875.508235  13352.186179    10.554260    10.114370   \n",
       "75%    ...  1.074354e+06  -773.174562  14893.726023    10.792195    10.745370   \n",
       "max    ...  1.099771e+06  -281.030205  24815.260375    11.091050    13.530204   \n",
       "\n",
       "              x827         x828          x829           x830           x831  \n",
       "count  1109.000000  1115.000000  1.112000e+03    1124.000000    1091.000000  \n",
       "mean   1066.141107    10.008269  1.050199e+06   99798.480171  104903.905758  \n",
       "std     226.606986     1.018930  2.814210e+04    9576.128720    2768.405350  \n",
       "min     496.007706     6.466963  1.000002e+06   73207.994891  100012.896777  \n",
       "25%     899.067501     9.325229  1.027575e+06   93416.252400  102596.190683  \n",
       "50%    1049.027077    10.005684  1.050262e+06   99802.127899  104846.235709  \n",
       "75%    1215.057985    10.658120  1.073831e+06  106400.748441  107098.669350  \n",
       "max    2122.032859    13.163113  1.099918e+06  130694.436443  109984.169649  \n",
       "\n",
       "[8 rows x 832 columns]"
      ]
     },
     "execution_count": 58,
     "metadata": {},
     "output_type": "execute_result"
    }
   ],
   "source": [
    "X_train.describe()"
   ]
  },
  {
   "cell_type": "markdown",
   "id": "d11e7354",
   "metadata": {},
   "source": [
    "---\n",
    "## Outlier detection: Isolation Forest"
   ]
  },
  {
   "cell_type": "markdown",
   "id": "7503e596",
   "metadata": {},
   "source": [
    "### Imputation for outlier detection"
   ]
  },
  {
   "cell_type": "code",
   "execution_count": 59,
   "id": "b16c4c3a",
   "metadata": {},
   "outputs": [],
   "source": [
    "# Save a mask of the imputed values to be able to redo the imputation once the outlier detection is done\n",
    "X_train_null_mask = np.array(X_train.isna())"
   ]
  },
  {
   "cell_type": "code",
   "execution_count": 60,
   "id": "6da576fc",
   "metadata": {},
   "outputs": [],
   "source": [
    "# Need to impute nan values for the outlier detection to work (cannot deal with nan)\n",
    "X_train = SimpleImputer(strategy=\"median\", verbose=1).fit_transform(X_train)"
   ]
  },
  {
   "cell_type": "code",
   "execution_count": 61,
   "id": "76750e2d",
   "metadata": {},
   "outputs": [
    {
     "name": "stderr",
     "output_type": "stream",
     "text": [
      "[Parallel(n_jobs=1)]: Using backend SequentialBackend with 1 concurrent workers.\n",
      "[Parallel(n_jobs=1)]: Done   1 out of   1 | elapsed:    0.7s finished\n"
     ]
    }
   ],
   "source": [
    "clf = IsolationForest(random_state=0, verbose=1).fit(X_train)"
   ]
  },
  {
   "cell_type": "code",
   "execution_count": 62,
   "id": "f19c01e7",
   "metadata": {},
   "outputs": [],
   "source": [
    "X_train_outliers_prediction = clf.predict(X_train)"
   ]
  },
  {
   "cell_type": "code",
   "execution_count": 63,
   "id": "790aaeb9",
   "metadata": {},
   "outputs": [
    {
     "name": "stdout",
     "output_type": "stream",
     "text": [
      "Detected 5 outliers, out of 1212 samples (0.41%).\n"
     ]
    }
   ],
   "source": [
    "print(f\"Detected {(X_train_outliers_prediction == -1).sum()} outliers, out of {X_train_outliers_prediction.shape[0]} samples ({100 * (X_train_outliers_prediction == -1).sum() / X_train_outliers_prediction.shape[0]:.2f}%).\")"
   ]
  },
  {
   "cell_type": "code",
   "execution_count": 64,
   "id": "1a211037",
   "metadata": {},
   "outputs": [],
   "source": [
    "# Remove outliers from the training set\n",
    "X_train = X_train[X_train_outliers_prediction == 1, :]\n",
    "y_train = np.array(y_train)[X_train_outliers_prediction == 1, :].reshape((-1,))\n",
    "\n",
    "# Update the null mask\n",
    "X_train_null_mask = X_train_null_mask[X_train_outliers_prediction == 1, :]"
   ]
  },
  {
   "cell_type": "markdown",
   "id": "5ff03631",
   "metadata": {},
   "source": [
    "---\n",
    "## Data scaling\n",
    "Done as soon as possible because can have an effect (e.g. on distances for `KNNImputer`)"
   ]
  },
  {
   "cell_type": "code",
   "execution_count": 65,
   "id": "757f4968",
   "metadata": {},
   "outputs": [],
   "source": [
    "# Do the scaling, saving the scaler to use it for X_test too\n",
    "scaler = StandardScaler().fit(X_train)\n",
    "X_train = scaler.transform(X_train)\n",
    "X_test = scaler.transform(np.array(X_test))"
   ]
  },
  {
   "cell_type": "markdown",
   "id": "f760e923",
   "metadata": {},
   "source": [
    "---\n",
    "## Feature selection"
   ]
  },
  {
   "cell_type": "code",
   "execution_count": 66,
   "id": "3903ec70",
   "metadata": {},
   "outputs": [],
   "source": [
    "# Use correlation to lose correlated features\n",
    "corr_threshold = 0.7\n",
    "X_train_corr_ = pd.DataFrame(X_train).corr()\n",
    "X_train_not_correlated = ~(X_train_corr_.mask(\n",
    "    np.tril(np.ones([len(X_train_corr_)]*2, dtype=bool))).abs() > corr_threshold).any()\n",
    "X_train_not_corr_columns = X_train_not_correlated.loc[\n",
    "    X_train_not_correlated[X_train_not_correlated.index] == True].index"
   ]
  },
  {
   "cell_type": "code",
   "execution_count": 67,
   "id": "e17c00cd",
   "metadata": {},
   "outputs": [
    {
     "name": "stdout",
     "output_type": "stream",
     "text": [
      "With a correlation threshold of 0.7, there are 707 uncorrelated columns, out of 832 (84.98%).\n"
     ]
    }
   ],
   "source": [
    "print(f\"With a correlation threshold of {corr_threshold}, there are {len(X_train_not_corr_columns)} uncorrelated columns, out of {X_train.shape[1]} ({100*len(X_train_not_corr_columns)/X_train.shape[1]:.2f}%).\")"
   ]
  },
  {
   "cell_type": "code",
   "execution_count": 70,
   "id": "18b86584",
   "metadata": {},
   "outputs": [],
   "source": [
    "X_test_null_mask = np.array(pd.DataFrame(X_test).isna())\n",
    "X_test = SimpleImputer(strategy=\"median\", verbose=1).fit_transform(X_test)"
   ]
  },
  {
   "cell_type": "code",
   "execution_count": 72,
   "id": "0642b48e",
   "metadata": {},
   "outputs": [],
   "source": [
    "X_train = pd.DataFrame(X_train).loc[:, X_train_not_correlated]\n",
    "X_test = pd.DataFrame(X_test).loc[:, X_train_not_correlated]\n",
    "\n",
    "X_train_null_mask = pd.DataFrame(X_train_null_mask).loc[:, X_train_not_correlated]\n",
    "X_test_null_mask = pd.DataFrame(X_test_null_mask).loc[:, X_train_not_correlated]"
   ]
  },
  {
   "cell_type": "code",
   "execution_count": 73,
   "id": "56b3a0d5",
   "metadata": {
    "scrolled": true
   },
   "outputs": [
    {
     "name": "stderr",
     "output_type": "stream",
     "text": [
      "/Users/antoine/miniconda3/lib/python3.7/site-packages/sklearn/feature_selection/_univariate_selection.py:289: RuntimeWarning: invalid value encountered in true_divide\n",
      "  correlation_coefficient /= X_norms\n"
     ]
    }
   ],
   "source": [
    "# Use f_regression to lose random features\n",
    "selector = SelectPercentile(f_regression, percentile=80)\n",
    "selector.fit(X_train, y_train)\n",
    "X_train = selector.transform(X_train)\n",
    "X_train_null_mask = selector.transform(X_train_null_mask)\n",
    "X_test = selector.transform(X_test)\n",
    "X_test_null_mask = selector.transform(X_test_null_mask)"
   ]
  },
  {
   "cell_type": "code",
   "execution_count": 74,
   "id": "70fbbde6",
   "metadata": {},
   "outputs": [],
   "source": [
    "X_test = np.where(X_test_null_mask, np.nan, X_test)"
   ]
  },
  {
   "cell_type": "markdown",
   "id": "78459100",
   "metadata": {},
   "source": [
    "---\n",
    "## Imputation of missing values"
   ]
  },
  {
   "cell_type": "code",
   "execution_count": 75,
   "id": "16e98cd8",
   "metadata": {
    "scrolled": true
   },
   "outputs": [
    {
     "name": "stdout",
     "output_type": "stream",
     "text": [
      "For the train dataset, there are 51933 nan values, out of 681955 (7.62%).\n"
     ]
    }
   ],
   "source": [
    "print(f\"For the train dataset, there are {X_train_null_mask.sum().sum()} nan values, out of {X_train_null_mask.shape[0]*X_train_null_mask.shape[1]} ({100*X_train_null_mask.sum().sum()/(X_train_null_mask.shape[0]*X_train_null_mask.shape[1]):.2f}%).\")"
   ]
  },
  {
   "cell_type": "code",
   "execution_count": 76,
   "id": "cfc6a701",
   "metadata": {},
   "outputs": [],
   "source": [
    "# Put back nan values where we previously imputed for the outlier detection\n",
    "X_train = np.where(X_train_null_mask, np.nan, X_train)"
   ]
  },
  {
   "cell_type": "code",
   "execution_count": 77,
   "id": "8b9f207d",
   "metadata": {},
   "outputs": [],
   "source": [
    "# Do the imputation\n",
    "X_train = KNNImputer(n_neighbors=5, weights='uniform').fit_transform(X_train)\n",
    "X_test = KNNImputer(n_neighbors=5, weights='uniform').fit_transform(X_test)"
   ]
  },
  {
   "cell_type": "markdown",
   "id": "6da3f1cc",
   "metadata": {},
   "source": [
    "---\n",
    "## Models"
   ]
  },
  {
   "cell_type": "markdown",
   "id": "5d56b410",
   "metadata": {},
   "source": [
    "### Model 1: Lasso"
   ]
  },
  {
   "cell_type": "code",
   "execution_count": 83,
   "id": "2fbc69ce",
   "metadata": {},
   "outputs": [],
   "source": [
    "lasso = Lasso(max_iter=100000)"
   ]
  },
  {
   "cell_type": "code",
   "execution_count": 84,
   "id": "e17ed6e5",
   "metadata": {},
   "outputs": [],
   "source": [
    "gs_lasso_params = {\n",
    "    'alpha': np.logspace(-1, 0, 20),\n",
    "}"
   ]
  },
  {
   "cell_type": "code",
   "execution_count": 85,
   "id": "31b4a4a6",
   "metadata": {},
   "outputs": [],
   "source": [
    "gs_lasso = GridSearchCV(lasso, gs_lasso_params, cv=5, verbose=3)"
   ]
  },
  {
   "cell_type": "code",
   "execution_count": 86,
   "id": "830c30e9",
   "metadata": {
    "scrolled": true
   },
   "outputs": [
    {
     "name": "stdout",
     "output_type": "stream",
     "text": [
      "Fitting 5 folds for each of 20 candidates, totalling 100 fits\n",
      "[CV 1/5] END .........................alpha=0.1;, score=0.358 total time=   0.1s\n",
      "[CV 2/5] END .........................alpha=0.1;, score=0.208 total time=   0.1s\n",
      "[CV 3/5] END .........................alpha=0.1;, score=0.334 total time=   0.1s\n",
      "[CV 4/5] END .........................alpha=0.1;, score=0.311 total time=   0.1s\n",
      "[CV 5/5] END .........................alpha=0.1;, score=0.346 total time=   0.1s\n",
      "[CV 1/5] END .........alpha=0.11288378916846889;, score=0.372 total time=   0.1s\n",
      "[CV 2/5] END .........alpha=0.11288378916846889;, score=0.222 total time=   0.1s\n",
      "[CV 3/5] END .........alpha=0.11288378916846889;, score=0.342 total time=   0.1s\n",
      "[CV 4/5] END .........alpha=0.11288378916846889;, score=0.318 total time=   0.1s\n",
      "[CV 5/5] END .........alpha=0.11288378916846889;, score=0.354 total time=   0.1s\n",
      "[CV 1/5] END .........alpha=0.12742749857031338;, score=0.383 total time=   0.1s\n",
      "[CV 2/5] END .........alpha=0.12742749857031338;, score=0.236 total time=   0.1s\n",
      "[CV 3/5] END .........alpha=0.12742749857031338;, score=0.349 total time=   0.1s\n",
      "[CV 4/5] END .........alpha=0.12742749857031338;, score=0.323 total time=   0.1s\n",
      "[CV 5/5] END .........alpha=0.12742749857031338;, score=0.360 total time=   0.1s\n",
      "[CV 1/5] END .........alpha=0.14384498882876628;, score=0.389 total time=   0.0s\n",
      "[CV 2/5] END .........alpha=0.14384498882876628;, score=0.252 total time=   0.0s\n",
      "[CV 3/5] END .........alpha=0.14384498882876628;, score=0.356 total time=   0.1s\n",
      "[CV 4/5] END .........alpha=0.14384498882876628;, score=0.327 total time=   0.1s\n",
      "[CV 5/5] END .........alpha=0.14384498882876628;, score=0.362 total time=   0.0s\n",
      "[CV 1/5] END .........alpha=0.16237767391887217;, score=0.392 total time=   0.0s\n",
      "[CV 2/5] END .........alpha=0.16237767391887217;, score=0.265 total time=   0.0s\n",
      "[CV 3/5] END .........alpha=0.16237767391887217;, score=0.362 total time=   0.1s\n",
      "[CV 4/5] END .........alpha=0.16237767391887217;, score=0.331 total time=   0.0s\n",
      "[CV 5/5] END .........alpha=0.16237767391887217;, score=0.362 total time=   0.0s\n",
      "[CV 1/5] END .........alpha=0.18329807108324356;, score=0.395 total time=   0.0s\n",
      "[CV 2/5] END .........alpha=0.18329807108324356;, score=0.274 total time=   0.0s\n",
      "[CV 3/5] END .........alpha=0.18329807108324356;, score=0.368 total time=   0.0s\n",
      "[CV 4/5] END .........alpha=0.18329807108324356;, score=0.333 total time=   0.0s\n",
      "[CV 5/5] END .........alpha=0.18329807108324356;, score=0.360 total time=   0.0s\n",
      "[CV 1/5] END .........alpha=0.20691380811147897;, score=0.397 total time=   0.0s\n",
      "[CV 2/5] END .........alpha=0.20691380811147897;, score=0.281 total time=   0.0s\n",
      "[CV 3/5] END .........alpha=0.20691380811147897;, score=0.372 total time=   0.0s\n",
      "[CV 4/5] END .........alpha=0.20691380811147897;, score=0.335 total time=   0.0s\n",
      "[CV 5/5] END .........alpha=0.20691380811147897;, score=0.358 total time=   0.0s\n",
      "[CV 1/5] END .........alpha=0.23357214690901226;, score=0.399 total time=   0.0s\n",
      "[CV 2/5] END .........alpha=0.23357214690901226;, score=0.287 total time=   0.0s\n",
      "[CV 3/5] END .........alpha=0.23357214690901226;, score=0.374 total time=   0.0s\n",
      "[CV 4/5] END .........alpha=0.23357214690901226;, score=0.339 total time=   0.0s\n",
      "[CV 5/5] END .........alpha=0.23357214690901226;, score=0.356 total time=   0.0s\n",
      "[CV 1/5] END .........alpha=0.26366508987303583;, score=0.401 total time=   0.0s\n",
      "[CV 2/5] END .........alpha=0.26366508987303583;, score=0.293 total time=   0.0s\n",
      "[CV 3/5] END .........alpha=0.26366508987303583;, score=0.374 total time=   0.0s\n",
      "[CV 4/5] END .........alpha=0.26366508987303583;, score=0.342 total time=   0.0s\n",
      "[CV 5/5] END .........alpha=0.26366508987303583;, score=0.355 total time=   0.0s\n",
      "[CV 1/5] END .........alpha=0.29763514416313175;, score=0.402 total time=   0.0s\n",
      "[CV 2/5] END .........alpha=0.29763514416313175;, score=0.296 total time=   0.0s\n",
      "[CV 3/5] END .........alpha=0.29763514416313175;, score=0.372 total time=   0.0s\n",
      "[CV 4/5] END .........alpha=0.29763514416313175;, score=0.345 total time=   0.0s\n",
      "[CV 5/5] END .........alpha=0.29763514416313175;, score=0.352 total time=   0.0s\n",
      "[CV 1/5] END .........alpha=0.33598182862837817;, score=0.403 total time=   0.0s\n",
      "[CV 2/5] END .........alpha=0.33598182862837817;, score=0.297 total time=   0.0s\n",
      "[CV 3/5] END .........alpha=0.33598182862837817;, score=0.369 total time=   0.0s\n",
      "[CV 4/5] END .........alpha=0.33598182862837817;, score=0.347 total time=   0.0s\n",
      "[CV 5/5] END .........alpha=0.33598182862837817;, score=0.349 total time=   0.0s\n",
      "[CV 1/5] END .........alpha=0.37926901907322497;, score=0.405 total time=   0.0s\n",
      "[CV 2/5] END .........alpha=0.37926901907322497;, score=0.298 total time=   0.0s\n",
      "[CV 3/5] END .........alpha=0.37926901907322497;, score=0.366 total time=   0.0s\n",
      "[CV 4/5] END .........alpha=0.37926901907322497;, score=0.352 total time=   0.0s\n",
      "[CV 5/5] END .........alpha=0.37926901907322497;, score=0.348 total time=   0.0s\n",
      "[CV 1/5] END .........alpha=0.42813323987193935;, score=0.406 total time=   0.0s\n",
      "[CV 2/5] END .........alpha=0.42813323987193935;, score=0.297 total time=   0.0s\n",
      "[CV 3/5] END .........alpha=0.42813323987193935;, score=0.364 total time=   0.0s\n",
      "[CV 4/5] END .........alpha=0.42813323987193935;, score=0.357 total time=   0.0s\n",
      "[CV 5/5] END .........alpha=0.42813323987193935;, score=0.347 total time=   0.0s\n",
      "[CV 1/5] END ..........alpha=0.4832930238571752;, score=0.405 total time=   0.0s\n",
      "[CV 2/5] END ..........alpha=0.4832930238571752;, score=0.295 total time=   0.0s\n",
      "[CV 3/5] END ..........alpha=0.4832930238571752;, score=0.361 total time=   0.0s\n",
      "[CV 4/5] END ..........alpha=0.4832930238571752;, score=0.361 total time=   0.0s\n",
      "[CV 5/5] END ..........alpha=0.4832930238571752;, score=0.345 total time=   0.0s\n",
      "[CV 1/5] END ..........alpha=0.5455594781168519;, score=0.403 total time=   0.0s\n",
      "[CV 2/5] END ..........alpha=0.5455594781168519;, score=0.293 total time=   0.0s\n",
      "[CV 3/5] END ..........alpha=0.5455594781168519;, score=0.357 total time=   0.0s\n",
      "[CV 4/5] END ..........alpha=0.5455594781168519;, score=0.362 total time=   0.0s\n",
      "[CV 5/5] END ..........alpha=0.5455594781168519;, score=0.343 total time=   0.0s\n",
      "[CV 1/5] END ..........alpha=0.6158482110660264;, score=0.398 total time=   0.0s\n",
      "[CV 2/5] END ..........alpha=0.6158482110660264;, score=0.289 total time=   0.0s\n",
      "[CV 3/5] END ..........alpha=0.6158482110660264;, score=0.353 total time=   0.0s\n",
      "[CV 4/5] END ..........alpha=0.6158482110660264;, score=0.360 total time=   0.0s\n",
      "[CV 5/5] END ..........alpha=0.6158482110660264;, score=0.338 total time=   0.0s\n",
      "[CV 1/5] END ..........alpha=0.6951927961775606;, score=0.391 total time=   0.0s\n",
      "[CV 2/5] END ..........alpha=0.6951927961775606;, score=0.285 total time=   0.0s\n",
      "[CV 3/5] END ..........alpha=0.6951927961775606;, score=0.345 total time=   0.0s\n",
      "[CV 4/5] END ..........alpha=0.6951927961775606;, score=0.356 total time=   0.0s\n",
      "[CV 5/5] END ..........alpha=0.6951927961775606;, score=0.330 total time=   0.0s\n",
      "[CV 1/5] END ..........alpha=0.7847599703514611;, score=0.384 total time=   0.0s\n",
      "[CV 2/5] END ..........alpha=0.7847599703514611;, score=0.282 total time=   0.0s\n",
      "[CV 3/5] END ..........alpha=0.7847599703514611;, score=0.337 total time=   0.0s\n",
      "[CV 4/5] END ..........alpha=0.7847599703514611;, score=0.353 total time=   0.0s\n",
      "[CV 5/5] END ..........alpha=0.7847599703514611;, score=0.324 total time=   0.0s\n",
      "[CV 1/5] END ..........alpha=0.8858667904100825;, score=0.375 total time=   0.0s\n",
      "[CV 2/5] END ..........alpha=0.8858667904100825;, score=0.278 total time=   0.0s\n",
      "[CV 3/5] END ..........alpha=0.8858667904100825;, score=0.328 total time=   0.0s\n",
      "[CV 4/5] END ..........alpha=0.8858667904100825;, score=0.348 total time=   0.0s\n",
      "[CV 5/5] END ..........alpha=0.8858667904100825;, score=0.318 total time=   0.0s\n",
      "[CV 1/5] END .........................alpha=1.0;, score=0.369 total time=   0.0s\n",
      "[CV 2/5] END .........................alpha=1.0;, score=0.272 total time=   0.0s\n",
      "[CV 3/5] END .........................alpha=1.0;, score=0.321 total time=   0.0s\n",
      "[CV 4/5] END .........................alpha=1.0;, score=0.341 total time=   0.0s\n",
      "[CV 5/5] END .........................alpha=1.0;, score=0.311 total time=   0.0s\n"
     ]
    },
    {
     "data": {
      "text/plain": [
       "GridSearchCV(cv=5, estimator=Lasso(max_iter=100000),\n",
       "             param_grid={'alpha': array([0.1       , 0.11288379, 0.1274275 , 0.14384499, 0.16237767,\n",
       "       0.18329807, 0.20691381, 0.23357215, 0.26366509, 0.29763514,\n",
       "       0.33598183, 0.37926902, 0.42813324, 0.48329302, 0.54555948,\n",
       "       0.61584821, 0.6951928 , 0.78475997, 0.88586679, 1.        ])},\n",
       "             verbose=3)"
      ]
     },
     "execution_count": 86,
     "metadata": {},
     "output_type": "execute_result"
    }
   ],
   "source": [
    "gs_lasso.fit(X_train, y_train)"
   ]
  },
  {
   "cell_type": "code",
   "execution_count": 87,
   "id": "e29c3a55",
   "metadata": {
    "scrolled": true
   },
   "outputs": [
    {
     "name": "stdout",
     "output_type": "stream",
     "text": [
      "The best validation score obtained is 0.35426 with\n",
      "\talpha: 0.42813323987193935\n"
     ]
    }
   ],
   "source": [
    "print(f\"The best validation score obtained is {gs_lasso.best_score_:.5f} with\\n\\talpha: {gs_lasso.best_params_['alpha']}\")"
   ]
  },
  {
   "cell_type": "markdown",
   "id": "a72e3b95",
   "metadata": {},
   "source": [
    "### Model 2: SVR (SVM for regression)"
   ]
  },
  {
   "cell_type": "code",
   "execution_count": 78,
   "id": "41b2ea2f",
   "metadata": {
    "scrolled": true
   },
   "outputs": [],
   "source": [
    "svr = SVR()"
   ]
  },
  {
   "cell_type": "code",
   "execution_count": 79,
   "id": "d436779c",
   "metadata": {},
   "outputs": [],
   "source": [
    "gs_svr_params = {\n",
    "    'kernel': ['poly', 'rbf', 'sigmoid'],\n",
    "    'C': np.logspace(-1, 2.2, 4),\n",
    "    'epsilon': np.logspace(-2, 1, 3),\n",
    "}"
   ]
  },
  {
   "cell_type": "code",
   "execution_count": 80,
   "id": "7db02bd4",
   "metadata": {},
   "outputs": [],
   "source": [
    "gs_svr = GridSearchCV(svr, gs_svr_params, cv=5, verbose=3)"
   ]
  },
  {
   "cell_type": "code",
   "execution_count": 81,
   "id": "251bd312",
   "metadata": {
    "scrolled": true
   },
   "outputs": [
    {
     "name": "stdout",
     "output_type": "stream",
     "text": [
      "Fitting 5 folds for each of 36 candidates, totalling 180 fits\n",
      "[CV 1/5] END ..C=0.1, epsilon=0.01, kernel=poly;, score=0.005 total time=   0.4s\n",
      "[CV 2/5] END .C=0.1, epsilon=0.01, kernel=poly;, score=-0.003 total time=   0.3s\n",
      "[CV 3/5] END ..C=0.1, epsilon=0.01, kernel=poly;, score=0.004 total time=   0.2s\n",
      "[CV 4/5] END ..C=0.1, epsilon=0.01, kernel=poly;, score=0.004 total time=   0.3s\n",
      "[CV 5/5] END .C=0.1, epsilon=0.01, kernel=poly;, score=-0.003 total time=   0.2s\n",
      "[CV 1/5] END ...C=0.1, epsilon=0.01, kernel=rbf;, score=0.060 total time=   0.3s\n",
      "[CV 2/5] END ...C=0.1, epsilon=0.01, kernel=rbf;, score=0.037 total time=   0.3s\n",
      "[CV 3/5] END ...C=0.1, epsilon=0.01, kernel=rbf;, score=0.050 total time=   0.3s\n",
      "[CV 4/5] END ...C=0.1, epsilon=0.01, kernel=rbf;, score=0.050 total time=   0.3s\n",
      "[CV 5/5] END ...C=0.1, epsilon=0.01, kernel=rbf;, score=0.035 total time=   0.3s\n",
      "[CV 1/5] END C=0.1, epsilon=0.01, kernel=sigmoid;, score=0.185 total time=   0.2s\n",
      "[CV 2/5] END C=0.1, epsilon=0.01, kernel=sigmoid;, score=0.122 total time=   0.2s\n",
      "[CV 3/5] END C=0.1, epsilon=0.01, kernel=sigmoid;, score=0.140 total time=   0.2s\n",
      "[CV 4/5] END C=0.1, epsilon=0.01, kernel=sigmoid;, score=0.142 total time=   0.2s\n",
      "[CV 5/5] END C=0.1, epsilon=0.01, kernel=sigmoid;, score=0.129 total time=   0.2s\n",
      "[CV 1/5] END C=0.1, epsilon=0.31622776601683794, kernel=poly;, score=0.001 total time=   0.3s\n",
      "[CV 2/5] END C=0.1, epsilon=0.31622776601683794, kernel=poly;, score=-0.008 total time=   0.2s\n",
      "[CV 3/5] END C=0.1, epsilon=0.31622776601683794, kernel=poly;, score=0.001 total time=   0.3s\n",
      "[CV 4/5] END C=0.1, epsilon=0.31622776601683794, kernel=poly;, score=0.001 total time=   0.3s\n",
      "[CV 5/5] END C=0.1, epsilon=0.31622776601683794, kernel=poly;, score=-0.008 total time=   0.3s\n",
      "[CV 1/5] END C=0.1, epsilon=0.31622776601683794, kernel=rbf;, score=0.062 total time=   0.4s\n",
      "[CV 2/5] END C=0.1, epsilon=0.31622776601683794, kernel=rbf;, score=0.037 total time=   0.3s\n",
      "[CV 3/5] END C=0.1, epsilon=0.31622776601683794, kernel=rbf;, score=0.051 total time=   0.3s\n",
      "[CV 4/5] END C=0.1, epsilon=0.31622776601683794, kernel=rbf;, score=0.050 total time=   0.3s\n",
      "[CV 5/5] END C=0.1, epsilon=0.31622776601683794, kernel=rbf;, score=0.037 total time=   0.4s\n",
      "[CV 1/5] END C=0.1, epsilon=0.31622776601683794, kernel=sigmoid;, score=0.183 total time=   0.3s\n",
      "[CV 2/5] END C=0.1, epsilon=0.31622776601683794, kernel=sigmoid;, score=0.122 total time=   0.3s\n",
      "[CV 3/5] END C=0.1, epsilon=0.31622776601683794, kernel=sigmoid;, score=0.139 total time=   0.3s\n",
      "[CV 4/5] END C=0.1, epsilon=0.31622776601683794, kernel=sigmoid;, score=0.142 total time=   0.3s\n",
      "[CV 5/5] END C=0.1, epsilon=0.31622776601683794, kernel=sigmoid;, score=0.126 total time=   0.3s\n",
      "[CV 1/5] END .C=0.1, epsilon=10.0, kernel=poly;, score=-0.014 total time=   0.1s\n",
      "[CV 2/5] END .C=0.1, epsilon=10.0, kernel=poly;, score=-0.003 total time=   0.1s\n",
      "[CV 3/5] END .C=0.1, epsilon=10.0, kernel=poly;, score=-0.002 total time=   0.1s\n",
      "[CV 4/5] END ..C=0.1, epsilon=10.0, kernel=poly;, score=0.003 total time=   0.1s\n",
      "[CV 5/5] END .C=0.1, epsilon=10.0, kernel=poly;, score=-0.001 total time=   0.1s\n",
      "[CV 1/5] END ...C=0.1, epsilon=10.0, kernel=rbf;, score=0.027 total time=   0.1s\n",
      "[CV 2/5] END ...C=0.1, epsilon=10.0, kernel=rbf;, score=0.023 total time=   0.1s\n",
      "[CV 3/5] END ...C=0.1, epsilon=10.0, kernel=rbf;, score=0.030 total time=   0.1s\n",
      "[CV 4/5] END ...C=0.1, epsilon=10.0, kernel=rbf;, score=0.033 total time=   0.1s\n",
      "[CV 5/5] END ...C=0.1, epsilon=10.0, kernel=rbf;, score=0.028 total time=   0.1s\n",
      "[CV 1/5] END C=0.1, epsilon=10.0, kernel=sigmoid;, score=0.112 total time=   0.1s\n",
      "[CV 2/5] END C=0.1, epsilon=10.0, kernel=sigmoid;, score=0.080 total time=   0.1s\n",
      "[CV 3/5] END C=0.1, epsilon=10.0, kernel=sigmoid;, score=0.097 total time=   0.1s\n",
      "[CV 4/5] END C=0.1, epsilon=10.0, kernel=sigmoid;, score=0.097 total time=   0.1s\n",
      "[CV 5/5] END C=0.1, epsilon=10.0, kernel=sigmoid;, score=0.100 total time=   0.1s\n",
      "[CV 1/5] END C=1.1659144011798317, epsilon=0.01, kernel=poly;, score=0.055 total time=   0.3s\n",
      "[CV 2/5] END C=1.1659144011798317, epsilon=0.01, kernel=poly;, score=-0.008 total time=   0.3s\n",
      "[CV 3/5] END C=1.1659144011798317, epsilon=0.01, kernel=poly;, score=0.040 total time=   0.3s\n",
      "[CV 4/5] END C=1.1659144011798317, epsilon=0.01, kernel=poly;, score=0.040 total time=   0.3s\n",
      "[CV 5/5] END C=1.1659144011798317, epsilon=0.01, kernel=poly;, score=0.012 total time=   0.3s\n",
      "[CV 1/5] END C=1.1659144011798317, epsilon=0.01, kernel=rbf;, score=0.303 total time=   0.3s\n",
      "[CV 2/5] END C=1.1659144011798317, epsilon=0.01, kernel=rbf;, score=0.189 total time=   0.3s\n",
      "[CV 3/5] END C=1.1659144011798317, epsilon=0.01, kernel=rbf;, score=0.228 total time=   0.4s\n",
      "[CV 4/5] END C=1.1659144011798317, epsilon=0.01, kernel=rbf;, score=0.230 total time=   0.3s\n",
      "[CV 5/5] END C=1.1659144011798317, epsilon=0.01, kernel=rbf;, score=0.203 total time=   0.3s\n",
      "[CV 1/5] END C=1.1659144011798317, epsilon=0.01, kernel=sigmoid;, score=0.370 total time=   0.3s\n",
      "[CV 2/5] END C=1.1659144011798317, epsilon=0.01, kernel=sigmoid;, score=0.277 total time=   0.3s\n",
      "[CV 3/5] END C=1.1659144011798317, epsilon=0.01, kernel=sigmoid;, score=0.308 total time=   0.3s\n",
      "[CV 4/5] END C=1.1659144011798317, epsilon=0.01, kernel=sigmoid;, score=0.307 total time=   0.3s\n",
      "[CV 5/5] END C=1.1659144011798317, epsilon=0.01, kernel=sigmoid;, score=0.316 total time=   0.3s\n",
      "[CV 1/5] END C=1.1659144011798317, epsilon=0.31622776601683794, kernel=poly;, score=0.056 total time=   0.2s\n",
      "[CV 2/5] END C=1.1659144011798317, epsilon=0.31622776601683794, kernel=poly;, score=-0.009 total time=   0.2s\n",
      "[CV 3/5] END C=1.1659144011798317, epsilon=0.31622776601683794, kernel=poly;, score=0.040 total time=   0.2s\n",
      "[CV 4/5] END C=1.1659144011798317, epsilon=0.31622776601683794, kernel=poly;, score=0.040 total time=   0.3s\n",
      "[CV 5/5] END C=1.1659144011798317, epsilon=0.31622776601683794, kernel=poly;, score=0.012 total time=   0.3s\n",
      "[CV 1/5] END C=1.1659144011798317, epsilon=0.31622776601683794, kernel=rbf;, score=0.305 total time=   0.3s\n",
      "[CV 2/5] END C=1.1659144011798317, epsilon=0.31622776601683794, kernel=rbf;, score=0.192 total time=   0.3s\n",
      "[CV 3/5] END C=1.1659144011798317, epsilon=0.31622776601683794, kernel=rbf;, score=0.228 total time=   0.3s\n",
      "[CV 4/5] END C=1.1659144011798317, epsilon=0.31622776601683794, kernel=rbf;, score=0.231 total time=   0.4s\n",
      "[CV 5/5] END C=1.1659144011798317, epsilon=0.31622776601683794, kernel=rbf;, score=0.203 total time=   0.3s\n",
      "[CV 1/5] END C=1.1659144011798317, epsilon=0.31622776601683794, kernel=sigmoid;, score=0.371 total time=   0.3s\n",
      "[CV 2/5] END C=1.1659144011798317, epsilon=0.31622776601683794, kernel=sigmoid;, score=0.278 total time=   0.3s\n",
      "[CV 3/5] END C=1.1659144011798317, epsilon=0.31622776601683794, kernel=sigmoid;, score=0.311 total time=   0.3s\n",
      "[CV 4/5] END C=1.1659144011798317, epsilon=0.31622776601683794, kernel=sigmoid;, score=0.303 total time=   0.3s\n",
      "[CV 5/5] END C=1.1659144011798317, epsilon=0.31622776601683794, kernel=sigmoid;, score=0.317 total time=   0.3s\n",
      "[CV 1/5] END C=1.1659144011798317, epsilon=10.0, kernel=poly;, score=0.018 total time=   0.1s\n",
      "[CV 2/5] END C=1.1659144011798317, epsilon=10.0, kernel=poly;, score=-0.001 total time=   0.1s\n",
      "[CV 3/5] END C=1.1659144011798317, epsilon=10.0, kernel=poly;, score=0.023 total time=   0.1s\n",
      "[CV 4/5] END C=1.1659144011798317, epsilon=10.0, kernel=poly;, score=0.029 total time=   0.1s\n",
      "[CV 5/5] END C=1.1659144011798317, epsilon=10.0, kernel=poly;, score=0.018 total time=   0.1s\n",
      "[CV 1/5] END C=1.1659144011798317, epsilon=10.0, kernel=rbf;, score=0.203 total time=   0.1s\n",
      "[CV 2/5] END C=1.1659144011798317, epsilon=10.0, kernel=rbf;, score=0.124 total time=   0.1s\n",
      "[CV 3/5] END C=1.1659144011798317, epsilon=10.0, kernel=rbf;, score=0.172 total time=   0.1s\n",
      "[CV 4/5] END C=1.1659144011798317, epsilon=10.0, kernel=rbf;, score=0.166 total time=   0.1s\n",
      "[CV 5/5] END C=1.1659144011798317, epsilon=10.0, kernel=rbf;, score=0.165 total time=   0.1s\n",
      "[CV 1/5] END C=1.1659144011798317, epsilon=10.0, kernel=sigmoid;, score=0.299 total time=   0.1s\n",
      "[CV 2/5] END C=1.1659144011798317, epsilon=10.0, kernel=sigmoid;, score=0.214 total time=   0.1s\n",
      "[CV 3/5] END C=1.1659144011798317, epsilon=10.0, kernel=sigmoid;, score=0.268 total time=   0.1s\n",
      "[CV 4/5] END C=1.1659144011798317, epsilon=10.0, kernel=sigmoid;, score=0.259 total time=   0.1s\n"
     ]
    },
    {
     "name": "stdout",
     "output_type": "stream",
     "text": [
      "[CV 5/5] END C=1.1659144011798317, epsilon=10.0, kernel=sigmoid;, score=0.278 total time=   0.1s\n",
      "[CV 1/5] END C=13.593563908785255, epsilon=0.01, kernel=poly;, score=0.174 total time=   0.3s\n",
      "[CV 2/5] END C=13.593563908785255, epsilon=0.01, kernel=poly;, score=-0.011 total time=   0.4s\n",
      "[CV 3/5] END C=13.593563908785255, epsilon=0.01, kernel=poly;, score=0.142 total time=   0.3s\n",
      "[CV 4/5] END C=13.593563908785255, epsilon=0.01, kernel=poly;, score=0.125 total time=   0.3s\n",
      "[CV 5/5] END C=13.593563908785255, epsilon=0.01, kernel=poly;, score=0.097 total time=   0.4s\n",
      "[CV 1/5] END C=13.593563908785255, epsilon=0.01, kernel=rbf;, score=0.487 total time=   0.4s\n",
      "[CV 2/5] END C=13.593563908785255, epsilon=0.01, kernel=rbf;, score=0.335 total time=   0.3s\n",
      "[CV 3/5] END C=13.593563908785255, epsilon=0.01, kernel=rbf;, score=0.378 total time=   0.3s\n",
      "[CV 4/5] END C=13.593563908785255, epsilon=0.01, kernel=rbf;, score=0.377 total time=   0.4s\n",
      "[CV 5/5] END C=13.593563908785255, epsilon=0.01, kernel=rbf;, score=0.410 total time=   0.4s\n",
      "[CV 1/5] END C=13.593563908785255, epsilon=0.01, kernel=sigmoid;, score=-0.372 total time=   0.3s\n",
      "[CV 2/5] END C=13.593563908785255, epsilon=0.01, kernel=sigmoid;, score=-0.447 total time=   0.5s\n",
      "[CV 3/5] END C=13.593563908785255, epsilon=0.01, kernel=sigmoid;, score=-0.261 total time=   0.4s\n",
      "[CV 4/5] END C=13.593563908785255, epsilon=0.01, kernel=sigmoid;, score=-0.239 total time=   0.4s\n",
      "[CV 5/5] END C=13.593563908785255, epsilon=0.01, kernel=sigmoid;, score=-0.186 total time=   0.4s\n",
      "[CV 1/5] END C=13.593563908785255, epsilon=0.31622776601683794, kernel=poly;, score=0.171 total time=   0.3s\n",
      "[CV 2/5] END C=13.593563908785255, epsilon=0.31622776601683794, kernel=poly;, score=-0.012 total time=   0.3s\n",
      "[CV 3/5] END C=13.593563908785255, epsilon=0.31622776601683794, kernel=poly;, score=0.140 total time=   0.3s\n",
      "[CV 4/5] END C=13.593563908785255, epsilon=0.31622776601683794, kernel=poly;, score=0.123 total time=   0.3s\n",
      "[CV 5/5] END C=13.593563908785255, epsilon=0.31622776601683794, kernel=poly;, score=0.096 total time=   0.3s\n",
      "[CV 1/5] END C=13.593563908785255, epsilon=0.31622776601683794, kernel=rbf;, score=0.486 total time=   0.4s\n",
      "[CV 2/5] END C=13.593563908785255, epsilon=0.31622776601683794, kernel=rbf;, score=0.334 total time=   0.3s\n",
      "[CV 3/5] END C=13.593563908785255, epsilon=0.31622776601683794, kernel=rbf;, score=0.379 total time=   0.3s\n",
      "[CV 4/5] END C=13.593563908785255, epsilon=0.31622776601683794, kernel=rbf;, score=0.376 total time=   0.3s\n",
      "[CV 5/5] END C=13.593563908785255, epsilon=0.31622776601683794, kernel=rbf;, score=0.412 total time=   0.3s\n",
      "[CV 1/5] END C=13.593563908785255, epsilon=0.31622776601683794, kernel=sigmoid;, score=-0.388 total time=   0.3s\n",
      "[CV 2/5] END C=13.593563908785255, epsilon=0.31622776601683794, kernel=sigmoid;, score=-0.413 total time=   0.3s\n",
      "[CV 3/5] END C=13.593563908785255, epsilon=0.31622776601683794, kernel=sigmoid;, score=-0.235 total time=   0.4s\n",
      "[CV 4/5] END C=13.593563908785255, epsilon=0.31622776601683794, kernel=sigmoid;, score=-0.275 total time=   0.3s\n",
      "[CV 5/5] END C=13.593563908785255, epsilon=0.31622776601683794, kernel=sigmoid;, score=-0.167 total time=   0.3s\n",
      "[CV 1/5] END C=13.593563908785255, epsilon=10.0, kernel=poly;, score=0.032 total time=   0.1s\n",
      "[CV 2/5] END C=13.593563908785255, epsilon=10.0, kernel=poly;, score=-0.023 total time=   0.1s\n",
      "[CV 3/5] END C=13.593563908785255, epsilon=10.0, kernel=poly;, score=0.042 total time=   0.1s\n",
      "[CV 4/5] END C=13.593563908785255, epsilon=10.0, kernel=poly;, score=0.043 total time=   0.1s\n",
      "[CV 5/5] END C=13.593563908785255, epsilon=10.0, kernel=poly;, score=0.036 total time=   0.1s\n",
      "[CV 1/5] END C=13.593563908785255, epsilon=10.0, kernel=rbf;, score=0.304 total time=   0.1s\n",
      "[CV 2/5] END C=13.593563908785255, epsilon=10.0, kernel=rbf;, score=0.177 total time=   0.1s\n",
      "[CV 3/5] END C=13.593563908785255, epsilon=10.0, kernel=rbf;, score=0.271 total time=   0.1s\n",
      "[CV 4/5] END C=13.593563908785255, epsilon=10.0, kernel=rbf;, score=0.230 total time=   0.1s\n",
      "[CV 5/5] END C=13.593563908785255, epsilon=10.0, kernel=rbf;, score=0.286 total time=   0.1s\n",
      "[CV 1/5] END C=13.593563908785255, epsilon=10.0, kernel=sigmoid;, score=0.037 total time=   0.1s\n",
      "[CV 2/5] END C=13.593563908785255, epsilon=10.0, kernel=sigmoid;, score=-0.059 total time=   0.1s\n",
      "[CV 3/5] END C=13.593563908785255, epsilon=10.0, kernel=sigmoid;, score=0.088 total time=   0.1s\n",
      "[CV 4/5] END C=13.593563908785255, epsilon=10.0, kernel=sigmoid;, score=0.080 total time=   0.1s\n",
      "[CV 5/5] END C=13.593563908785255, epsilon=10.0, kernel=sigmoid;, score=0.101 total time=   0.1s\n",
      "[CV 1/5] END C=158.48931924611142, epsilon=0.01, kernel=poly;, score=0.130 total time=   0.3s\n",
      "[CV 2/5] END C=158.48931924611142, epsilon=0.01, kernel=poly;, score=-0.077 total time=   0.3s\n",
      "[CV 3/5] END C=158.48931924611142, epsilon=0.01, kernel=poly;, score=0.157 total time=   0.3s\n",
      "[CV 4/5] END C=158.48931924611142, epsilon=0.01, kernel=poly;, score=0.070 total time=   0.3s\n",
      "[CV 5/5] END C=158.48931924611142, epsilon=0.01, kernel=poly;, score=0.125 total time=   0.3s\n",
      "[CV 1/5] END C=158.48931924611142, epsilon=0.01, kernel=rbf;, score=0.422 total time=   0.4s\n",
      "[CV 2/5] END C=158.48931924611142, epsilon=0.01, kernel=rbf;, score=0.232 total time=   0.3s\n",
      "[CV 3/5] END C=158.48931924611142, epsilon=0.01, kernel=rbf;, score=0.375 total time=   0.4s\n",
      "[CV 4/5] END C=158.48931924611142, epsilon=0.01, kernel=rbf;, score=0.316 total time=   0.4s\n",
      "[CV 5/5] END C=158.48931924611142, epsilon=0.01, kernel=rbf;, score=0.435 total time=   0.4s\n",
      "[CV 1/5] END C=158.48931924611142, epsilon=0.01, kernel=sigmoid;, score=-69.838 total time=   0.7s\n",
      "[CV 2/5] END C=158.48931924611142, epsilon=0.01, kernel=sigmoid;, score=-90.366 total time=   1.0s\n",
      "[CV 3/5] END C=158.48931924611142, epsilon=0.01, kernel=sigmoid;, score=-55.078 total time=   0.6s\n",
      "[CV 4/5] END C=158.48931924611142, epsilon=0.01, kernel=sigmoid;, score=-54.634 total time=   0.8s\n",
      "[CV 5/5] END C=158.48931924611142, epsilon=0.01, kernel=sigmoid;, score=-47.153 total time=   0.6s\n",
      "[CV 1/5] END C=158.48931924611142, epsilon=0.31622776601683794, kernel=poly;, score=0.126 total time=   0.3s\n",
      "[CV 2/5] END C=158.48931924611142, epsilon=0.31622776601683794, kernel=poly;, score=-0.077 total time=   0.3s\n",
      "[CV 3/5] END C=158.48931924611142, epsilon=0.31622776601683794, kernel=poly;, score=0.154 total time=   0.3s\n",
      "[CV 4/5] END C=158.48931924611142, epsilon=0.31622776601683794, kernel=poly;, score=0.067 total time=   0.3s\n",
      "[CV 5/5] END C=158.48931924611142, epsilon=0.31622776601683794, kernel=poly;, score=0.122 total time=   0.3s\n",
      "[CV 1/5] END C=158.48931924611142, epsilon=0.31622776601683794, kernel=rbf;, score=0.420 total time=   0.3s\n",
      "[CV 2/5] END C=158.48931924611142, epsilon=0.31622776601683794, kernel=rbf;, score=0.233 total time=   0.3s\n",
      "[CV 3/5] END C=158.48931924611142, epsilon=0.31622776601683794, kernel=rbf;, score=0.374 total time=   0.3s\n",
      "[CV 4/5] END C=158.48931924611142, epsilon=0.31622776601683794, kernel=rbf;, score=0.315 total time=   0.4s\n",
      "[CV 5/5] END C=158.48931924611142, epsilon=0.31622776601683794, kernel=rbf;, score=0.435 total time=   0.4s\n",
      "[CV 1/5] END C=158.48931924611142, epsilon=0.31622776601683794, kernel=sigmoid;, score=-78.373 total time=   0.6s\n",
      "[CV 2/5] END C=158.48931924611142, epsilon=0.31622776601683794, kernel=sigmoid;, score=-85.684 total time=   0.6s\n",
      "[CV 3/5] END C=158.48931924611142, epsilon=0.31622776601683794, kernel=sigmoid;, score=-49.572 total time=   0.6s\n",
      "[CV 4/5] END C=158.48931924611142, epsilon=0.31622776601683794, kernel=sigmoid;, score=-57.383 total time=   0.8s\n",
      "[CV 5/5] END C=158.48931924611142, epsilon=0.31622776601683794, kernel=sigmoid;, score=-47.908 total time=   0.8s\n",
      "[CV 1/5] END C=158.48931924611142, epsilon=10.0, kernel=poly;, score=-0.065 total time=   0.1s\n",
      "[CV 2/5] END C=158.48931924611142, epsilon=10.0, kernel=poly;, score=-0.091 total time=   0.1s\n",
      "[CV 3/5] END C=158.48931924611142, epsilon=10.0, kernel=poly;, score=0.014 total time=   0.1s\n",
      "[CV 4/5] END C=158.48931924611142, epsilon=10.0, kernel=poly;, score=-0.064 total time=   0.1s\n",
      "[CV 5/5] END C=158.48931924611142, epsilon=10.0, kernel=poly;, score=0.017 total time=   0.1s\n",
      "[CV 1/5] END C=158.48931924611142, epsilon=10.0, kernel=rbf;, score=0.251 total time=   0.1s\n"
     ]
    },
    {
     "name": "stdout",
     "output_type": "stream",
     "text": [
      "[CV 2/5] END C=158.48931924611142, epsilon=10.0, kernel=rbf;, score=0.129 total time=   0.1s\n",
      "[CV 3/5] END C=158.48931924611142, epsilon=10.0, kernel=rbf;, score=0.232 total time=   0.1s\n",
      "[CV 4/5] END C=158.48931924611142, epsilon=10.0, kernel=rbf;, score=0.176 total time=   0.1s\n",
      "[CV 5/5] END C=158.48931924611142, epsilon=10.0, kernel=rbf;, score=0.271 total time=   0.1s\n",
      "[CV 1/5] END C=158.48931924611142, epsilon=10.0, kernel=sigmoid;, score=-75.512 total time=   0.6s\n",
      "[CV 2/5] END C=158.48931924611142, epsilon=10.0, kernel=sigmoid;, score=-87.774 total time=   0.7s\n",
      "[CV 3/5] END C=158.48931924611142, epsilon=10.0, kernel=sigmoid;, score=-47.749 total time=   0.7s\n",
      "[CV 4/5] END C=158.48931924611142, epsilon=10.0, kernel=sigmoid;, score=-58.056 total time=   0.8s\n",
      "[CV 5/5] END C=158.48931924611142, epsilon=10.0, kernel=sigmoid;, score=-43.129 total time=   0.6s\n"
     ]
    },
    {
     "data": {
      "text/plain": [
       "GridSearchCV(cv=5, estimator=SVR(),\n",
       "             param_grid={'C': array([1.00000000e-01, 1.16591440e+00, 1.35935639e+01, 1.58489319e+02]),\n",
       "                         'epsilon': array([ 0.01      ,  0.31622777, 10.        ]),\n",
       "                         'kernel': ['poly', 'rbf', 'sigmoid']},\n",
       "             verbose=3)"
      ]
     },
     "execution_count": 81,
     "metadata": {},
     "output_type": "execute_result"
    }
   ],
   "source": [
    "gs_svr.fit(X_train, y_train)"
   ]
  },
  {
   "cell_type": "code",
   "execution_count": 82,
   "id": "4ab8de2f",
   "metadata": {},
   "outputs": [
    {
     "name": "stdout",
     "output_type": "stream",
     "text": [
      "The best validation score obtained is 0.39749 with\n",
      "\tkernel: rbf\n",
      "\tC: 13.593563908785255\n",
      "\tepsilon: 0.31622776601683794\n"
     ]
    }
   ],
   "source": [
    "print(f\"\"\"The best validation score obtained is {gs_svr.best_score_:.5f} with\n",
    "\\tkernel: {gs_svr.best_params_['kernel']}\n",
    "\\tC: {gs_svr.best_params_['C']}\n",
    "\\tepsilon: {gs_svr.best_params_['epsilon']}\"\"\")"
   ]
  },
  {
   "cell_type": "markdown",
   "id": "2f926126",
   "metadata": {},
   "source": [
    "---\n",
    "## Prediction"
   ]
  },
  {
   "cell_type": "code",
   "execution_count": null,
   "id": "421e56a2",
   "metadata": {},
   "outputs": [],
   "source": [
    "best_pipe = gs_lasso ## modify here"
   ]
  },
  {
   "cell_type": "code",
   "execution_count": null,
   "id": "3ff3b596",
   "metadata": {},
   "outputs": [],
   "source": [
    "prediction = pd.DataFrame(best_pipe.predict(X_test))"
   ]
  },
  {
   "cell_type": "code",
   "execution_count": null,
   "id": "de743799",
   "metadata": {},
   "outputs": [],
   "source": [
    "sub_id = 6 ## modify here\n",
    "basepath = 'submissions/task1-sub' "
   ]
  },
  {
   "cell_type": "code",
   "execution_count": null,
   "id": "7c535f1b",
   "metadata": {},
   "outputs": [],
   "source": [
    "result = prediction.copy()\n",
    "result = result.rename(columns={0: 'y'})\n",
    "result['id'] = range(0, len(result))\n",
    "result = result[['id', 'y']]"
   ]
  },
  {
   "cell_type": "code",
   "execution_count": null,
   "id": "4ead8651",
   "metadata": {},
   "outputs": [],
   "source": [
    "#result.to_csv(basepath+str(sub_id) + '.csv', index=False)"
   ]
  }
 ],
 "metadata": {
  "kernelspec": {
   "display_name": "Python 3 (ipykernel)",
   "language": "python",
   "name": "python3"
  },
  "language_info": {
   "codemirror_mode": {
    "name": "ipython",
    "version": 3
   },
   "file_extension": ".py",
   "mimetype": "text/x-python",
   "name": "python",
   "nbconvert_exporter": "python",
   "pygments_lexer": "ipython3",
   "version": "3.7.11"
  }
 },
 "nbformat": 4,
 "nbformat_minor": 5
}
