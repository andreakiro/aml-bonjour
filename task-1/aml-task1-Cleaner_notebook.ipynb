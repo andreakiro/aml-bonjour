{
 "cells": [
  {
   "cell_type": "markdown",
   "id": "several-indian",
   "metadata": {},
   "source": [
    "# AML — Task 1\n",
    "## Predict the age of a brain from MRI features\n",
    "---"
   ]
  },
  {
   "cell_type": "code",
   "execution_count": 1,
   "id": "wired-extra",
   "metadata": {},
   "outputs": [],
   "source": [
    "import numpy as np\n",
    "import pandas as pd\n",
    "import seaborn as sns\n",
    "from scipy.stats import zscore\n",
    "from pandas_profiling import ProfileReport"
   ]
  },
  {
   "cell_type": "code",
   "execution_count": 2,
   "id": "exposed-guarantee",
   "metadata": {},
   "outputs": [],
   "source": [
    "from sklearn.pipeline import Pipeline\n",
    "from sklearn.impute import SimpleImputer, KNNImputer\n",
    "from sklearn.linear_model import Ridge, Lasso\n",
    "from sklearn.svm import SVR\n",
    "from sklearn.metrics import r2_score\n",
    "from sklearn.preprocessing import StandardScaler\n",
    "from sklearn.feature_selection import SelectPercentile, f_regression\n",
    "from sklearn.model_selection import GridSearchCV\n",
    "from sklearn.ensemble import IsolationForest as IF"
   ]
  },
  {
   "cell_type": "code",
   "execution_count": 3,
   "id": "personalized-parameter",
   "metadata": {},
   "outputs": [],
   "source": [
    "from warnings import simplefilter\n",
    "from sklearn.exceptions import ConvergenceWarning"
   ]
  },
  {
   "cell_type": "markdown",
   "id": "extraordinary-immunology",
   "metadata": {},
   "source": [
    "## Import datasets"
   ]
  },
  {
   "cell_type": "code",
   "execution_count": 4,
   "id": "white-institution",
   "metadata": {},
   "outputs": [],
   "source": [
    "def import_data():\n",
    "    X_train = pd.read_csv('data/X_train.csv').drop(columns=['id'])\n",
    "    y_train = pd.read_csv('data/y_train.csv').drop(columns=['id'])\n",
    "    X_test = pd.read_csv('data/X_test.csv').drop(columns=['id'])\n",
    "    return X_train, y_train, X_test"
   ]
  },
  {
   "cell_type": "markdown",
   "id": "indonesian-palmer",
   "metadata": {},
   "source": [
    "---\n",
    "## Exporting Data as csv"
   ]
  },
  {
   "cell_type": "code",
   "execution_count": 5,
   "id": "accessible-league",
   "metadata": {},
   "outputs": [],
   "source": [
    "def export_csv(X_train_cleaned, y_train_cleaned, X_test_cleaned):\n",
    "    X_train_cleaned.to_csv('X_train_cleaned.csv', index=False)\n",
    "    y_train_cleaned.to_csv('y_train_cleaned.csv', index=False)\n",
    "    X_test_cleaned.to_csv('X_test_cleaned.csv', index=False)"
   ]
  },
  {
   "cell_type": "markdown",
   "id": "cognitive-excellence",
   "metadata": {},
   "source": [
    "---\n",
    "## Task 1: Outlier detection"
   ]
  },
  {
   "cell_type": "code",
   "execution_count": 6,
   "id": "wicked-villa",
   "metadata": {},
   "outputs": [],
   "source": [
    "\"\"\"Remove the ouliers from our dataset. Replace temporarily the Nan values by the mean to perform outlier selection\n",
    "\n",
    "Parameters\n",
    "----------\n",
    "X_train : pd.df\n",
    "    The features (what we will use to see the outliers)\n",
    "y_train : pd.df\n",
    "    The labels\n",
    "contamination : int, optional\n",
    "    The percent of outliers found by the isolation forest if it's used.\n",
    "    \n",
    "Return\n",
    "------\n",
    "(pd.df, pd.df)\n",
    "    The data with the outliers rows removed\n",
    "\"\"\"\n",
    "def remove_outliers(X_train, y_train, contamination='auto'):\n",
    "    # Save a mask of the imputed values to be able to redo the imputation once the outlier detection is done\n",
    "    X_train_null_mask = np.array(X_train.isna())\n",
    "    \n",
    "    # Need to impute nan values for the outlier detection to work (cannot deal with nan)\n",
    "    X_train = SimpleImputer(strategy=\"median\", verbose=1).fit_transform(X_train)\n",
    "    \n",
    "    outliers_mask=IForest(X_train,contamination=contamination)\n",
    "    \n",
    "    #Replace the Nan values (The outlier detection shouldn't replace NaN values by itself)\n",
    "    X_train = pd.DataFrame(X_train).mask(X_train_null_mask, other=np.NaN, inplace=False)\n",
    "    \n",
    "    # Remove outliers from the training set\n",
    "    X_train = np.array(X_train)[outliers_mask == 1, :]\n",
    "    y_train = np.array(y_train)[outliers_mask == 1, :]\n",
    "    \n",
    "    X_train = pd.DataFrame(X_train)\n",
    "    y_train = pd.DataFrame(y_train)\n",
    "    \n",
    "    return (X_train, y_train)"
   ]
  },
  {
   "cell_type": "markdown",
   "id": "running-bronze",
   "metadata": {},
   "source": [
    "### Method 1: Isolation Forest"
   ]
  },
  {
   "cell_type": "code",
   "execution_count": 7,
   "id": "featured-hometown",
   "metadata": {},
   "outputs": [],
   "source": [
    "\"\"\"Use Isolation Forest to compute mask of outliers\n",
    "\n",
    "Parameters\n",
    "----------\n",
    "X_train : pd.df\n",
    "    The features\n",
    "contamination : int, optional\n",
    "    The percent of outliers found by the isolation forest if it's used.\n",
    "verbose : int, optional\n",
    "    If not set to 0, print messages\n",
    "\n",
    "Return\n",
    "------\n",
    "pd.Series\n",
    "    The mask with 0 for the outliers and 1 for the normal values\n",
    "\"\"\"\n",
    "def IForest(X_train, contamination='auto', verbose=1):\n",
    "    clf = IF(contamination=contamination, random_state=0, verbose=verbose).fit(X_train)\n",
    "    outliers_mask = pd.Series(clf.predict(X_train)).map({1:1, -1:0}) #Mask with 0 for outliers and 1 for non outliers\n",
    "    \n",
    "    if verbose:\n",
    "        print(f\"Detected {(outliers_mask == 0).sum()} outliers, out of {outliers_mask.shape[0]} samples ({100 * (outliers_mask == 0).sum() / outliers_mask.shape[0]:.2f}%).\")\n",
    "    \n",
    "    return outliers_mask"
   ]
  },
  {
   "cell_type": "markdown",
   "id": "modular-leonard",
   "metadata": {},
   "source": [
    "---\n",
    "## Task 2: Data scaling\n",
    "Done as soon as possible because can have an effect (e.g. on distances for `KNNImputer`)"
   ]
  },
  {
   "cell_type": "code",
   "execution_count": 8,
   "id": "burning-composition",
   "metadata": {},
   "outputs": [],
   "source": [
    "def scale(X_train_no_outliers, X_test):\n",
    "    # Do the scaling, saving the scaler to use it for X_test too. No need imputation, just ignore Nan values\n",
    "    scaler = StandardScaler().fit(X_train)\n",
    "    X_train_scaled = pd.DataFrame(scaler.transform(X_train_no_outliers))\n",
    "    X_test_scaled = pd.DataFrame(scaler.transform(X_test))\n",
    "    return (X_train_scaled, X_test_scaled)"
   ]
  },
  {
   "cell_type": "markdown",
   "id": "featured-proxy",
   "metadata": {},
   "source": [
    "---\n",
    "## Task 3: impute values"
   ]
  },
  {
   "cell_type": "code",
   "execution_count": 9,
   "id": "stretch-surface",
   "metadata": {},
   "outputs": [],
   "source": [
    "def impute_values(X_train_scaled, X_test_scaled):\n",
    "    print(f\"For the train dataset, there are {np.array(X_train_scaled.isna()).sum().sum()} nan values, out of {X_train_scaled.shape[0]*X_train_scaled.shape[1]} ({100*np.array(X_train_scaled.isna()).sum().sum()/(X_train_scaled.shape[0]*X_train_scaled.shape[1]):.2f}%).\")\n",
    "    imputer = KNNImputer(n_neighbors=8, weights='uniform').fit(X_train_scaled)\n",
    "    X_train_imputed = pd.DataFrame(imputer.transform(X_train_scaled))\n",
    "    X_test_imputed = pd.DataFrame(imputer.transform(X_test_scaled))\n",
    "    return (X_train_imputed, X_test_imputed)"
   ]
  },
  {
   "cell_type": "markdown",
   "id": "golden-external",
   "metadata": {},
   "source": [
    "---\n",
    "## Task 4: Feature selection"
   ]
  },
  {
   "cell_type": "code",
   "execution_count": 10,
   "id": "funny-washer",
   "metadata": {},
   "outputs": [],
   "source": [
    "def select_features(X_train_imputed, X_test_imputed):\n",
    "    X_train_selected_features, X_test_selected_features = remove_constant_features(X_train_imputed, X_test_imputed)\n",
    "    X_train_selected_features, X_test_selected_features = remove_too_coorelated_features(X_train_selected_features, X_test_selected_features)\n",
    "    X_train_selected_features, X_test_selected_features = remove_too_uncoorelated_features(X_train_selected_features, X_test_selected_features)\n",
    "\n",
    "    return X_train_selected_features, X_test_selected_features"
   ]
  },
  {
   "cell_type": "code",
   "execution_count": 11,
   "id": "reliable-holly",
   "metadata": {},
   "outputs": [],
   "source": [
    "def remove_constant_features(X_train_imputed, X_test_imputed, verbose=1):\n",
    "    X_train_selected_features = X_train_imputed.loc[:, (X_train_imputed != X_train_imputed.iloc[0]).any()]\n",
    "    X_test_selected_features = X_test_imputed.loc[:, (X_train_imputed != X_train_imputed.iloc[0]).any()]\n",
    "    \n",
    "    if verbose:\n",
    "        print(f\"{X_train_imputed.shape[1]-X_train_selected_features.shape[1]} features removed because of constant values ({100*(X_train_imputed.shape[1]-X_train_selected_features.shape[1])/X_train_imputed.shape[1]:.2f}%)\")\n",
    "    \n",
    "    return X_train_selected_features, X_test_selected_features"
   ]
  },
  {
   "cell_type": "code",
   "execution_count": 12,
   "id": "solid-consistency",
   "metadata": {},
   "outputs": [],
   "source": [
    "def remove_too_coorelated_features(X_train, X_test, threshold=0.8, verbose=1):\n",
    "    X_train_corr_ = X_train.corr()\n",
    "\n",
    "    X_train_too_correlated = (X_train_corr_.mask(\n",
    "        np.tril(np.ones([len(X_train_corr_)]*2, dtype=bool))).abs() > threshold).any()\n",
    "    \n",
    "    \n",
    "    X_train_selected_features = X_train.loc[:, (~X_train_too_correlated)]\n",
    "    X_test_selected_features = X_test.loc[:, (~X_train_too_correlated)]\n",
    "    \n",
    "    if verbose:\n",
    "        print(f\"{X_train.shape[1]-X_train_selected_features.shape[1]} features removed because of correlation > {threshold} ({100*(X_train.shape[1]-X_train_selected_features.shape[1])/X_train.shape[1]:.2f}%)\")\n",
    "\n",
    "    return X_train_selected_features, X_test_selected_features"
   ]
  },
  {
   "cell_type": "code",
   "execution_count": 13,
   "id": "aging-account",
   "metadata": {},
   "outputs": [],
   "source": [
    "def remove_too_uncoorelated_features(X_train, X_test, threshold=0.08, verbose=1):\n",
    "    X_train_corr_ = X_train.corr()\n",
    "\n",
    "    X_train_too_uncorrelated = (X_train_corr_.replace(1, 0).abs() < threshold).all()\n",
    "    \n",
    "    X_train_selected_features = X_train.loc[:, (~X_train_too_uncorrelated)]\n",
    "    X_test_selected_features = X_test.loc[:, (~X_train_too_uncorrelated)]\n",
    "    \n",
    "    if verbose:\n",
    "        print(f\"{X_train.shape[1]-X_train_selected_features.shape[1]} features removed because of correlation < {threshold} ({100*(X_train.shape[1]-X_train_selected_features.shape[1])/X_train.shape[1]:.2f}%) with every other features\")\n",
    "\n",
    "    return X_train_selected_features, X_test_selected_features"
   ]
  },
  {
   "cell_type": "markdown",
   "id": "motivated-contribution",
   "metadata": {},
   "source": [
    "---\n",
    "## Task 5 Models"
   ]
  },
  {
   "cell_type": "code",
   "execution_count": 14,
   "id": "accompanied-saudi",
   "metadata": {},
   "outputs": [],
   "source": [
    "def model(X_train_cleaned, y_train_cleaned):\n",
    "    gs_lasso = Lasso_model(X_train_cleaned, y_train_cleaned)\n",
    "    gs_svr = SVR_model(X_train_cleaned, y_train_cleaned)\n",
    "    \n",
    "    return gs_lasso if gs_lasso.best_score_ > gs_svr.best_score_ else gs_svr"
   ]
  },
  {
   "cell_type": "markdown",
   "id": "macro-immunology",
   "metadata": {},
   "source": [
    "### Model 1: Lasso"
   ]
  },
  {
   "cell_type": "code",
   "execution_count": 15,
   "id": "circular-addiction",
   "metadata": {},
   "outputs": [],
   "source": [
    "def Lasso_model(X_train_cleaned, y_train_cleaned):\n",
    "    lasso = Lasso(max_iter=100000)\n",
    "    gs_lasso_params = {\n",
    "    'alpha': np.logspace(-1, 0, 20),\n",
    "    }\n",
    "    gs_lasso = GridSearchCV(lasso, gs_lasso_params, cv=5, verbose=3)\n",
    "    gs_lasso.fit(X_train_cleaned, y_train_cleaned)\n",
    "    print(f\"The best validation score obtained is {gs_lasso.best_score_:.5f} with\\n\\talpha: {gs_lasso.best_params_['alpha']}\")\n",
    "    return gs_lasso;"
   ]
  },
  {
   "cell_type": "markdown",
   "id": "negative-reaction",
   "metadata": {},
   "source": [
    "### Model 2: SVR (SVM for regression)"
   ]
  },
  {
   "cell_type": "code",
   "execution_count": 16,
   "id": "simplified-store",
   "metadata": {},
   "outputs": [],
   "source": [
    "def SVR_model(X_train_cleaned, y_train_cleaned):\n",
    "    svr = SVR()\n",
    "    gs_svr_params = {\n",
    "    'kernel': ['poly', 'rbf', 'sigmoid'],\n",
    "    'C': np.logspace(-1, 2.2, 4),\n",
    "    'epsilon': np.logspace(-2, 1, 3),\n",
    "    }\n",
    "    gs_svr = GridSearchCV(svr, gs_svr_params, cv=5, verbose=3)\n",
    "    gs_svr.fit(X_train_cleaned, y_train_cleaned)\n",
    "    print(f\"\"\"The best validation score obtained is {gs_svr.best_score_:.5f} with\n",
    "    \\tkernel: {gs_svr.best_params_['kernel']}\n",
    "    \\tC: {gs_svr.best_params_['C']}\n",
    "    \\tepsilon: {gs_svr.best_params_['epsilon']}\"\"\")\n",
    "    return gs_svr"
   ]
  },
  {
   "cell_type": "markdown",
   "id": "julian-brunswick",
   "metadata": {},
   "source": [
    "---\n",
    "## Create CSV for submission"
   ]
  },
  {
   "cell_type": "code",
   "execution_count": 17,
   "id": "actual-ranch",
   "metadata": {},
   "outputs": [],
   "source": [
    "def create_submission(prediction, sub_id, basepath = 'submissions/task1-sub'):\n",
    "    result = prediction.copy()\n",
    "    result = result.rename(columns={0: 'y'})\n",
    "    result['id'] = range(0, len(result))\n",
    "    result = result[['id', 'y']]\n",
    "    result.to_csv(basepath+str(sub_id) + '.csv', index=False)"
   ]
  },
  {
   "cell_type": "markdown",
   "id": "virgin-major",
   "metadata": {},
   "source": [
    "---\n",
    "## Final Pipeline"
   ]
  },
  {
   "cell_type": "code",
   "execution_count": 18,
   "id": "configured-burns",
   "metadata": {},
   "outputs": [
    {
     "name": "stdout",
     "output_type": "stream",
     "text": [
      "Loading data\n",
      "\n",
      "Removing outliers from x:\n"
     ]
    },
    {
     "name": "stderr",
     "output_type": "stream",
     "text": [
      "[Parallel(n_jobs=1)]: Using backend SequentialBackend with 1 concurrent workers.\n",
      "[Parallel(n_jobs=1)]: Done   1 out of   1 | elapsed:    0.4s finished\n"
     ]
    },
    {
     "name": "stdout",
     "output_type": "stream",
     "text": [
      "Detected 25 outliers, out of 1212 samples (2.06%).\n",
      "\n",
      "Removing outliers from y:\n"
     ]
    },
    {
     "name": "stderr",
     "output_type": "stream",
     "text": [
      "[Parallel(n_jobs=1)]: Using backend SequentialBackend with 1 concurrent workers.\n",
      "[Parallel(n_jobs=1)]: Done   1 out of   1 | elapsed:    0.1s finished\n"
     ]
    },
    {
     "name": "stdout",
     "output_type": "stream",
     "text": [
      "Detected 5 outliers, out of 1187 samples (0.42%).\n",
      "\n",
      "Scaling data\n",
      "\n",
      "\n",
      "Imputing Nan Values:\n",
      "For the train dataset, there are 75010 nan values, out of 983424 (7.63%).\n",
      "\n",
      "Selecting features:\n",
      "4 features removed because of constant values (0.48%)\n",
      "95 features removed because of correlation > 0.8 (11.47%)\n",
      "8 features removed because of correlation < 0.08 (1.09%) with every other features\n"
     ]
    }
   ],
   "source": [
    "print(\"Loading data\\n\")\n",
    "X_train, y_train, X_test = import_data()\n",
    "\n",
    "\n",
    "print(\"Removing outliers from x:\")\n",
    "X_train_no_outliers, y_train_no_outliers = remove_outliers(X_train, y_train, 0.02) #Remove outliers in x\n",
    "print(\"\\nRemoving outliers from y:\")\n",
    "y_train_no_outliers, X_train_no_outliers = remove_outliers(y_train_no_outliers, X_train_no_outliers, contamination=0.005) #Remove outliers in y\n",
    "\n",
    "print(\"\\nScaling data\\n\")\n",
    "X_train_scaled, X_test_scaled= scale(X_train_no_outliers, X_test)\n",
    "\n",
    "print(\"\\nImputing Nan Values:\")\n",
    "X_train_imputed, X_test_imputed = impute_values(X_train_scaled, X_test_scaled)\n",
    "\n",
    "print(\"\\nSelecting features:\")\n",
    "X_train_selected_features, X_test_selected_features = select_features(X_train_imputed, X_test_imputed)"
   ]
  },
  {
   "cell_type": "code",
   "execution_count": 19,
   "id": "banner-collar",
   "metadata": {},
   "outputs": [
    {
     "name": "stdout",
     "output_type": "stream",
     "text": [
      "Fitting 5 folds for each of 20 candidates, totalling 100 fits\n",
      "[CV 1/5] END .........................alpha=0.1;, score=0.275 total time=   0.2s\n",
      "[CV 2/5] END .........................alpha=0.1;, score=0.268 total time=   0.1s\n",
      "[CV 3/5] END .........................alpha=0.1;, score=0.315 total time=   0.1s\n",
      "[CV 4/5] END .........................alpha=0.1;, score=0.305 total time=   0.1s\n",
      "[CV 5/5] END .........................alpha=0.1;, score=0.332 total time=   0.1s\n",
      "[CV 1/5] END .........alpha=0.11288378916846889;, score=0.299 total time=   0.1s\n",
      "[CV 2/5] END .........alpha=0.11288378916846889;, score=0.286 total time=   0.1s\n",
      "[CV 3/5] END .........alpha=0.11288378916846889;, score=0.331 total time=   0.1s\n",
      "[CV 4/5] END .........alpha=0.11288378916846889;, score=0.323 total time=   0.1s\n",
      "[CV 5/5] END .........alpha=0.11288378916846889;, score=0.340 total time=   0.1s\n",
      "[CV 1/5] END .........alpha=0.12742749857031338;, score=0.319 total time=   0.1s\n",
      "[CV 2/5] END .........alpha=0.12742749857031338;, score=0.304 total time=   0.1s\n",
      "[CV 3/5] END .........alpha=0.12742749857031338;, score=0.345 total time=   0.1s\n",
      "[CV 4/5] END .........alpha=0.12742749857031338;, score=0.335 total time=   0.1s\n",
      "[CV 5/5] END .........alpha=0.12742749857031338;, score=0.345 total time=   0.1s\n",
      "[CV 1/5] END .........alpha=0.14384498882876628;, score=0.337 total time=   0.1s\n",
      "[CV 2/5] END .........alpha=0.14384498882876628;, score=0.319 total time=   0.1s\n",
      "[CV 3/5] END .........alpha=0.14384498882876628;, score=0.355 total time=   0.1s\n",
      "[CV 4/5] END .........alpha=0.14384498882876628;, score=0.343 total time=   0.1s\n",
      "[CV 5/5] END .........alpha=0.14384498882876628;, score=0.348 total time=   0.1s\n",
      "[CV 1/5] END .........alpha=0.16237767391887217;, score=0.356 total time=   0.1s\n",
      "[CV 2/5] END .........alpha=0.16237767391887217;, score=0.332 total time=   0.1s\n",
      "[CV 3/5] END .........alpha=0.16237767391887217;, score=0.363 total time=   0.1s\n",
      "[CV 4/5] END .........alpha=0.16237767391887217;, score=0.350 total time=   0.1s\n",
      "[CV 5/5] END .........alpha=0.16237767391887217;, score=0.350 total time=   0.1s\n",
      "[CV 1/5] END .........alpha=0.18329807108324356;, score=0.374 total time=   0.1s\n",
      "[CV 2/5] END .........alpha=0.18329807108324356;, score=0.343 total time=   0.1s\n",
      "[CV 3/5] END .........alpha=0.18329807108324356;, score=0.370 total time=   0.1s\n",
      "[CV 4/5] END .........alpha=0.18329807108324356;, score=0.357 total time=   0.1s\n",
      "[CV 5/5] END .........alpha=0.18329807108324356;, score=0.350 total time=   0.1s\n",
      "[CV 1/5] END .........alpha=0.20691380811147897;, score=0.387 total time=   0.1s\n",
      "[CV 2/5] END .........alpha=0.20691380811147897;, score=0.349 total time=   0.1s\n",
      "[CV 3/5] END .........alpha=0.20691380811147897;, score=0.374 total time=   0.1s\n",
      "[CV 4/5] END .........alpha=0.20691380811147897;, score=0.363 total time=   0.1s\n",
      "[CV 5/5] END .........alpha=0.20691380811147897;, score=0.350 total time=   0.1s\n",
      "[CV 1/5] END .........alpha=0.23357214690901226;, score=0.395 total time=   0.1s\n",
      "[CV 2/5] END .........alpha=0.23357214690901226;, score=0.351 total time=   0.0s\n",
      "[CV 3/5] END .........alpha=0.23357214690901226;, score=0.377 total time=   0.0s\n",
      "[CV 4/5] END .........alpha=0.23357214690901226;, score=0.370 total time=   0.0s\n",
      "[CV 5/5] END .........alpha=0.23357214690901226;, score=0.347 total time=   0.0s\n",
      "[CV 1/5] END .........alpha=0.26366508987303583;, score=0.404 total time=   0.0s\n",
      "[CV 2/5] END .........alpha=0.26366508987303583;, score=0.353 total time=   0.0s\n",
      "[CV 3/5] END .........alpha=0.26366508987303583;, score=0.378 total time=   0.0s\n",
      "[CV 4/5] END .........alpha=0.26366508987303583;, score=0.376 total time=   0.0s\n",
      "[CV 5/5] END .........alpha=0.26366508987303583;, score=0.343 total time=   0.0s\n",
      "[CV 1/5] END .........alpha=0.29763514416313175;, score=0.410 total time=   0.1s\n",
      "[CV 2/5] END .........alpha=0.29763514416313175;, score=0.352 total time=   0.1s\n",
      "[CV 3/5] END .........alpha=0.29763514416313175;, score=0.376 total time=   0.1s\n",
      "[CV 4/5] END .........alpha=0.29763514416313175;, score=0.380 total time=   0.1s\n",
      "[CV 5/5] END .........alpha=0.29763514416313175;, score=0.339 total time=   0.0s\n",
      "[CV 1/5] END .........alpha=0.33598182862837817;, score=0.414 total time=   0.0s\n",
      "[CV 2/5] END .........alpha=0.33598182862837817;, score=0.348 total time=   0.0s\n",
      "[CV 3/5] END .........alpha=0.33598182862837817;, score=0.374 total time=   0.0s\n",
      "[CV 4/5] END .........alpha=0.33598182862837817;, score=0.385 total time=   0.1s\n",
      "[CV 5/5] END .........alpha=0.33598182862837817;, score=0.338 total time=   0.0s\n",
      "[CV 1/5] END .........alpha=0.37926901907322497;, score=0.416 total time=   0.0s\n",
      "[CV 2/5] END .........alpha=0.37926901907322497;, score=0.346 total time=   0.0s\n",
      "[CV 3/5] END .........alpha=0.37926901907322497;, score=0.372 total time=   0.0s\n",
      "[CV 4/5] END .........alpha=0.37926901907322497;, score=0.389 total time=   0.0s\n",
      "[CV 5/5] END .........alpha=0.37926901907322497;, score=0.339 total time=   0.0s\n",
      "[CV 1/5] END .........alpha=0.42813323987193935;, score=0.415 total time=   0.0s\n",
      "[CV 2/5] END .........alpha=0.42813323987193935;, score=0.346 total time=   0.0s\n",
      "[CV 3/5] END .........alpha=0.42813323987193935;, score=0.370 total time=   0.0s\n",
      "[CV 4/5] END .........alpha=0.42813323987193935;, score=0.391 total time=   0.0s\n",
      "[CV 5/5] END .........alpha=0.42813323987193935;, score=0.339 total time=   0.0s\n",
      "[CV 1/5] END ..........alpha=0.4832930238571752;, score=0.413 total time=   0.0s\n",
      "[CV 2/5] END ..........alpha=0.4832930238571752;, score=0.345 total time=   0.0s\n",
      "[CV 3/5] END ..........alpha=0.4832930238571752;, score=0.368 total time=   0.0s\n",
      "[CV 4/5] END ..........alpha=0.4832930238571752;, score=0.391 total time=   0.0s\n",
      "[CV 5/5] END ..........alpha=0.4832930238571752;, score=0.338 total time=   0.0s\n",
      "[CV 1/5] END ..........alpha=0.5455594781168519;, score=0.409 total time=   0.0s\n",
      "[CV 2/5] END ..........alpha=0.5455594781168519;, score=0.343 total time=   0.0s\n",
      "[CV 3/5] END ..........alpha=0.5455594781168519;, score=0.364 total time=   0.0s\n",
      "[CV 4/5] END ..........alpha=0.5455594781168519;, score=0.389 total time=   0.1s\n",
      "[CV 5/5] END ..........alpha=0.5455594781168519;, score=0.336 total time=   0.0s\n",
      "[CV 1/5] END ..........alpha=0.6158482110660264;, score=0.401 total time=   0.0s\n",
      "[CV 2/5] END ..........alpha=0.6158482110660264;, score=0.341 total time=   0.0s\n",
      "[CV 3/5] END ..........alpha=0.6158482110660264;, score=0.358 total time=   0.0s\n",
      "[CV 4/5] END ..........alpha=0.6158482110660264;, score=0.385 total time=   0.0s\n",
      "[CV 5/5] END ..........alpha=0.6158482110660264;, score=0.332 total time=   0.0s\n",
      "[CV 1/5] END ..........alpha=0.6951927961775606;, score=0.392 total time=   0.1s\n",
      "[CV 2/5] END ..........alpha=0.6951927961775606;, score=0.338 total time=   0.0s\n",
      "[CV 3/5] END ..........alpha=0.6951927961775606;, score=0.350 total time=   0.0s\n",
      "[CV 4/5] END ..........alpha=0.6951927961775606;, score=0.379 total time=   0.0s\n",
      "[CV 5/5] END ..........alpha=0.6951927961775606;, score=0.328 total time=   0.0s\n",
      "[CV 1/5] END ..........alpha=0.7847599703514611;, score=0.380 total time=   0.0s\n",
      "[CV 2/5] END ..........alpha=0.7847599703514611;, score=0.332 total time=   0.0s\n",
      "[CV 3/5] END ..........alpha=0.7847599703514611;, score=0.341 total time=   0.0s\n",
      "[CV 4/5] END ..........alpha=0.7847599703514611;, score=0.372 total time=   0.0s\n",
      "[CV 5/5] END ..........alpha=0.7847599703514611;, score=0.322 total time=   0.0s\n",
      "[CV 1/5] END ..........alpha=0.8858667904100825;, score=0.366 total time=   0.0s\n",
      "[CV 2/5] END ..........alpha=0.8858667904100825;, score=0.325 total time=   0.0s\n",
      "[CV 3/5] END ..........alpha=0.8858667904100825;, score=0.331 total time=   0.0s\n",
      "[CV 4/5] END ..........alpha=0.8858667904100825;, score=0.363 total time=   0.0s\n",
      "[CV 5/5] END ..........alpha=0.8858667904100825;, score=0.315 total time=   0.0s\n",
      "[CV 1/5] END .........................alpha=1.0;, score=0.350 total time=   0.0s\n",
      "[CV 2/5] END .........................alpha=1.0;, score=0.317 total time=   0.0s\n",
      "[CV 3/5] END .........................alpha=1.0;, score=0.319 total time=   0.0s\n",
      "[CV 4/5] END .........................alpha=1.0;, score=0.352 total time=   0.0s\n",
      "[CV 5/5] END .........................alpha=1.0;, score=0.307 total time=   0.0s\n",
      "The best validation score obtained is 0.37228 with\n",
      "\talpha: 0.37926901907322497\n",
      "Fitting 5 folds for each of 36 candidates, totalling 180 fits\n"
     ]
    },
    {
     "name": "stderr",
     "output_type": "stream",
     "text": [
      "/home/loic/Enter/envs/InternetAnalytics/lib/python3.9/site-packages/sklearn/utils/validation.py:63: DataConversionWarning: A column-vector y was passed when a 1d array was expected. Please change the shape of y to (n_samples, ), for example using ravel().\n",
      "  return f(*args, **kwargs)\n"
     ]
    },
    {
     "name": "stdout",
     "output_type": "stream",
     "text": [
      "[CV 1/5] END ..C=0.1, epsilon=0.01, kernel=poly;, score=0.003 total time=   0.3s\n"
     ]
    },
    {
     "name": "stderr",
     "output_type": "stream",
     "text": [
      "/home/loic/Enter/envs/InternetAnalytics/lib/python3.9/site-packages/sklearn/utils/validation.py:63: DataConversionWarning: A column-vector y was passed when a 1d array was expected. Please change the shape of y to (n_samples, ), for example using ravel().\n",
      "  return f(*args, **kwargs)\n"
     ]
    },
    {
     "name": "stdout",
     "output_type": "stream",
     "text": [
      "[CV 2/5] END .C=0.1, epsilon=0.01, kernel=poly;, score=-0.007 total time=   0.3s\n"
     ]
    },
    {
     "name": "stderr",
     "output_type": "stream",
     "text": [
      "/home/loic/Enter/envs/InternetAnalytics/lib/python3.9/site-packages/sklearn/utils/validation.py:63: DataConversionWarning: A column-vector y was passed when a 1d array was expected. Please change the shape of y to (n_samples, ), for example using ravel().\n",
      "  return f(*args, **kwargs)\n"
     ]
    },
    {
     "name": "stdout",
     "output_type": "stream",
     "text": [
      "[CV 3/5] END ..C=0.1, epsilon=0.01, kernel=poly;, score=0.003 total time=   0.3s\n"
     ]
    },
    {
     "name": "stderr",
     "output_type": "stream",
     "text": [
      "/home/loic/Enter/envs/InternetAnalytics/lib/python3.9/site-packages/sklearn/utils/validation.py:63: DataConversionWarning: A column-vector y was passed when a 1d array was expected. Please change the shape of y to (n_samples, ), for example using ravel().\n",
      "  return f(*args, **kwargs)\n"
     ]
    },
    {
     "name": "stdout",
     "output_type": "stream",
     "text": [
      "[CV 4/5] END ..C=0.1, epsilon=0.01, kernel=poly;, score=0.003 total time=   0.3s\n"
     ]
    },
    {
     "name": "stderr",
     "output_type": "stream",
     "text": [
      "/home/loic/Enter/envs/InternetAnalytics/lib/python3.9/site-packages/sklearn/utils/validation.py:63: DataConversionWarning: A column-vector y was passed when a 1d array was expected. Please change the shape of y to (n_samples, ), for example using ravel().\n",
      "  return f(*args, **kwargs)\n"
     ]
    },
    {
     "name": "stdout",
     "output_type": "stream",
     "text": [
      "[CV 5/5] END .C=0.1, epsilon=0.01, kernel=poly;, score=-0.009 total time=   0.3s\n"
     ]
    },
    {
     "name": "stderr",
     "output_type": "stream",
     "text": [
      "/home/loic/Enter/envs/InternetAnalytics/lib/python3.9/site-packages/sklearn/utils/validation.py:63: DataConversionWarning: A column-vector y was passed when a 1d array was expected. Please change the shape of y to (n_samples, ), for example using ravel().\n",
      "  return f(*args, **kwargs)\n"
     ]
    },
    {
     "name": "stdout",
     "output_type": "stream",
     "text": [
      "[CV 1/5] END ...C=0.1, epsilon=0.01, kernel=rbf;, score=0.058 total time=   0.4s\n"
     ]
    },
    {
     "name": "stderr",
     "output_type": "stream",
     "text": [
      "/home/loic/Enter/envs/InternetAnalytics/lib/python3.9/site-packages/sklearn/utils/validation.py:63: DataConversionWarning: A column-vector y was passed when a 1d array was expected. Please change the shape of y to (n_samples, ), for example using ravel().\n",
      "  return f(*args, **kwargs)\n"
     ]
    },
    {
     "name": "stdout",
     "output_type": "stream",
     "text": [
      "[CV 2/5] END ...C=0.1, epsilon=0.01, kernel=rbf;, score=0.035 total time=   0.3s\n"
     ]
    },
    {
     "name": "stderr",
     "output_type": "stream",
     "text": [
      "/home/loic/Enter/envs/InternetAnalytics/lib/python3.9/site-packages/sklearn/utils/validation.py:63: DataConversionWarning: A column-vector y was passed when a 1d array was expected. Please change the shape of y to (n_samples, ), for example using ravel().\n",
      "  return f(*args, **kwargs)\n"
     ]
    },
    {
     "name": "stdout",
     "output_type": "stream",
     "text": [
      "[CV 3/5] END ...C=0.1, epsilon=0.01, kernel=rbf;, score=0.049 total time=   0.4s\n"
     ]
    },
    {
     "name": "stderr",
     "output_type": "stream",
     "text": [
      "/home/loic/Enter/envs/InternetAnalytics/lib/python3.9/site-packages/sklearn/utils/validation.py:63: DataConversionWarning: A column-vector y was passed when a 1d array was expected. Please change the shape of y to (n_samples, ), for example using ravel().\n",
      "  return f(*args, **kwargs)\n"
     ]
    },
    {
     "name": "stdout",
     "output_type": "stream",
     "text": [
      "[CV 4/5] END ...C=0.1, epsilon=0.01, kernel=rbf;, score=0.048 total time=   0.4s\n"
     ]
    },
    {
     "name": "stderr",
     "output_type": "stream",
     "text": [
      "/home/loic/Enter/envs/InternetAnalytics/lib/python3.9/site-packages/sklearn/utils/validation.py:63: DataConversionWarning: A column-vector y was passed when a 1d array was expected. Please change the shape of y to (n_samples, ), for example using ravel().\n",
      "  return f(*args, **kwargs)\n"
     ]
    },
    {
     "name": "stdout",
     "output_type": "stream",
     "text": [
      "[CV 5/5] END ...C=0.1, epsilon=0.01, kernel=rbf;, score=0.029 total time=   0.4s\n"
     ]
    },
    {
     "name": "stderr",
     "output_type": "stream",
     "text": [
      "/home/loic/Enter/envs/InternetAnalytics/lib/python3.9/site-packages/sklearn/utils/validation.py:63: DataConversionWarning: A column-vector y was passed when a 1d array was expected. Please change the shape of y to (n_samples, ), for example using ravel().\n",
      "  return f(*args, **kwargs)\n"
     ]
    },
    {
     "name": "stdout",
     "output_type": "stream",
     "text": [
      "[CV 1/5] END C=0.1, epsilon=0.01, kernel=sigmoid;, score=0.174 total time=   0.3s\n"
     ]
    },
    {
     "name": "stderr",
     "output_type": "stream",
     "text": [
      "/home/loic/Enter/envs/InternetAnalytics/lib/python3.9/site-packages/sklearn/utils/validation.py:63: DataConversionWarning: A column-vector y was passed when a 1d array was expected. Please change the shape of y to (n_samples, ), for example using ravel().\n",
      "  return f(*args, **kwargs)\n"
     ]
    },
    {
     "name": "stdout",
     "output_type": "stream",
     "text": [
      "[CV 2/5] END C=0.1, epsilon=0.01, kernel=sigmoid;, score=0.127 total time=   0.3s\n"
     ]
    },
    {
     "name": "stderr",
     "output_type": "stream",
     "text": [
      "/home/loic/Enter/envs/InternetAnalytics/lib/python3.9/site-packages/sklearn/utils/validation.py:63: DataConversionWarning: A column-vector y was passed when a 1d array was expected. Please change the shape of y to (n_samples, ), for example using ravel().\n",
      "  return f(*args, **kwargs)\n"
     ]
    },
    {
     "name": "stdout",
     "output_type": "stream",
     "text": [
      "[CV 3/5] END C=0.1, epsilon=0.01, kernel=sigmoid;, score=0.139 total time=   0.3s\n"
     ]
    },
    {
     "name": "stderr",
     "output_type": "stream",
     "text": [
      "/home/loic/Enter/envs/InternetAnalytics/lib/python3.9/site-packages/sklearn/utils/validation.py:63: DataConversionWarning: A column-vector y was passed when a 1d array was expected. Please change the shape of y to (n_samples, ), for example using ravel().\n",
      "  return f(*args, **kwargs)\n"
     ]
    },
    {
     "name": "stdout",
     "output_type": "stream",
     "text": [
      "[CV 4/5] END C=0.1, epsilon=0.01, kernel=sigmoid;, score=0.136 total time=   0.3s\n"
     ]
    },
    {
     "name": "stderr",
     "output_type": "stream",
     "text": [
      "/home/loic/Enter/envs/InternetAnalytics/lib/python3.9/site-packages/sklearn/utils/validation.py:63: DataConversionWarning: A column-vector y was passed when a 1d array was expected. Please change the shape of y to (n_samples, ), for example using ravel().\n",
      "  return f(*args, **kwargs)\n"
     ]
    },
    {
     "name": "stdout",
     "output_type": "stream",
     "text": [
      "[CV 5/5] END C=0.1, epsilon=0.01, kernel=sigmoid;, score=0.116 total time=   0.3s\n"
     ]
    },
    {
     "name": "stderr",
     "output_type": "stream",
     "text": [
      "/home/loic/Enter/envs/InternetAnalytics/lib/python3.9/site-packages/sklearn/utils/validation.py:63: DataConversionWarning: A column-vector y was passed when a 1d array was expected. Please change the shape of y to (n_samples, ), for example using ravel().\n",
      "  return f(*args, **kwargs)\n"
     ]
    },
    {
     "name": "stdout",
     "output_type": "stream",
     "text": [
      "[CV 1/5] END C=0.1, epsilon=0.31622776601683794, kernel=poly;, score=-0.000 total time=   0.3s\n"
     ]
    },
    {
     "name": "stderr",
     "output_type": "stream",
     "text": [
      "/home/loic/Enter/envs/InternetAnalytics/lib/python3.9/site-packages/sklearn/utils/validation.py:63: DataConversionWarning: A column-vector y was passed when a 1d array was expected. Please change the shape of y to (n_samples, ), for example using ravel().\n",
      "  return f(*args, **kwargs)\n"
     ]
    },
    {
     "name": "stdout",
     "output_type": "stream",
     "text": [
      "[CV 2/5] END C=0.1, epsilon=0.31622776601683794, kernel=poly;, score=-0.013 total time=   0.3s\n"
     ]
    },
    {
     "name": "stderr",
     "output_type": "stream",
     "text": [
      "/home/loic/Enter/envs/InternetAnalytics/lib/python3.9/site-packages/sklearn/utils/validation.py:63: DataConversionWarning: A column-vector y was passed when a 1d array was expected. Please change the shape of y to (n_samples, ), for example using ravel().\n",
      "  return f(*args, **kwargs)\n"
     ]
    },
    {
     "name": "stdout",
     "output_type": "stream",
     "text": [
      "[CV 3/5] END C=0.1, epsilon=0.31622776601683794, kernel=poly;, score=-0.000 total time=   0.3s\n"
     ]
    },
    {
     "name": "stderr",
     "output_type": "stream",
     "text": [
      "/home/loic/Enter/envs/InternetAnalytics/lib/python3.9/site-packages/sklearn/utils/validation.py:63: DataConversionWarning: A column-vector y was passed when a 1d array was expected. Please change the shape of y to (n_samples, ), for example using ravel().\n",
      "  return f(*args, **kwargs)\n"
     ]
    },
    {
     "name": "stdout",
     "output_type": "stream",
     "text": [
      "[CV 4/5] END C=0.1, epsilon=0.31622776601683794, kernel=poly;, score=0.000 total time=   0.2s\n"
     ]
    },
    {
     "name": "stderr",
     "output_type": "stream",
     "text": [
      "/home/loic/Enter/envs/InternetAnalytics/lib/python3.9/site-packages/sklearn/utils/validation.py:63: DataConversionWarning: A column-vector y was passed when a 1d array was expected. Please change the shape of y to (n_samples, ), for example using ravel().\n",
      "  return f(*args, **kwargs)\n"
     ]
    },
    {
     "name": "stdout",
     "output_type": "stream",
     "text": [
      "[CV 5/5] END C=0.1, epsilon=0.31622776601683794, kernel=poly;, score=-0.016 total time=   0.3s\n"
     ]
    },
    {
     "name": "stderr",
     "output_type": "stream",
     "text": [
      "/home/loic/Enter/envs/InternetAnalytics/lib/python3.9/site-packages/sklearn/utils/validation.py:63: DataConversionWarning: A column-vector y was passed when a 1d array was expected. Please change the shape of y to (n_samples, ), for example using ravel().\n",
      "  return f(*args, **kwargs)\n"
     ]
    },
    {
     "name": "stdout",
     "output_type": "stream",
     "text": [
      "[CV 1/5] END C=0.1, epsilon=0.31622776601683794, kernel=rbf;, score=0.058 total time=   0.3s\n"
     ]
    },
    {
     "name": "stderr",
     "output_type": "stream",
     "text": [
      "/home/loic/Enter/envs/InternetAnalytics/lib/python3.9/site-packages/sklearn/utils/validation.py:63: DataConversionWarning: A column-vector y was passed when a 1d array was expected. Please change the shape of y to (n_samples, ), for example using ravel().\n",
      "  return f(*args, **kwargs)\n"
     ]
    },
    {
     "name": "stdout",
     "output_type": "stream",
     "text": [
      "[CV 2/5] END C=0.1, epsilon=0.31622776601683794, kernel=rbf;, score=0.037 total time=   0.4s\n"
     ]
    },
    {
     "name": "stderr",
     "output_type": "stream",
     "text": [
      "/home/loic/Enter/envs/InternetAnalytics/lib/python3.9/site-packages/sklearn/utils/validation.py:63: DataConversionWarning: A column-vector y was passed when a 1d array was expected. Please change the shape of y to (n_samples, ), for example using ravel().\n",
      "  return f(*args, **kwargs)\n"
     ]
    },
    {
     "name": "stdout",
     "output_type": "stream",
     "text": [
      "[CV 3/5] END C=0.1, epsilon=0.31622776601683794, kernel=rbf;, score=0.050 total time=   0.4s\n"
     ]
    },
    {
     "name": "stderr",
     "output_type": "stream",
     "text": [
      "/home/loic/Enter/envs/InternetAnalytics/lib/python3.9/site-packages/sklearn/utils/validation.py:63: DataConversionWarning: A column-vector y was passed when a 1d array was expected. Please change the shape of y to (n_samples, ), for example using ravel().\n",
      "  return f(*args, **kwargs)\n"
     ]
    },
    {
     "name": "stdout",
     "output_type": "stream",
     "text": [
      "[CV 4/5] END C=0.1, epsilon=0.31622776601683794, kernel=rbf;, score=0.048 total time=   0.4s\n"
     ]
    },
    {
     "name": "stderr",
     "output_type": "stream",
     "text": [
      "/home/loic/Enter/envs/InternetAnalytics/lib/python3.9/site-packages/sklearn/utils/validation.py:63: DataConversionWarning: A column-vector y was passed when a 1d array was expected. Please change the shape of y to (n_samples, ), for example using ravel().\n",
      "  return f(*args, **kwargs)\n"
     ]
    },
    {
     "name": "stdout",
     "output_type": "stream",
     "text": [
      "[CV 5/5] END C=0.1, epsilon=0.31622776601683794, kernel=rbf;, score=0.030 total time=   0.4s\n"
     ]
    },
    {
     "name": "stderr",
     "output_type": "stream",
     "text": [
      "/home/loic/Enter/envs/InternetAnalytics/lib/python3.9/site-packages/sklearn/utils/validation.py:63: DataConversionWarning: A column-vector y was passed when a 1d array was expected. Please change the shape of y to (n_samples, ), for example using ravel().\n",
      "  return f(*args, **kwargs)\n"
     ]
    },
    {
     "name": "stdout",
     "output_type": "stream",
     "text": [
      "[CV 1/5] END C=0.1, epsilon=0.31622776601683794, kernel=sigmoid;, score=0.170 total time=   0.3s\n"
     ]
    },
    {
     "name": "stderr",
     "output_type": "stream",
     "text": [
      "/home/loic/Enter/envs/InternetAnalytics/lib/python3.9/site-packages/sklearn/utils/validation.py:63: DataConversionWarning: A column-vector y was passed when a 1d array was expected. Please change the shape of y to (n_samples, ), for example using ravel().\n",
      "  return f(*args, **kwargs)\n"
     ]
    },
    {
     "name": "stdout",
     "output_type": "stream",
     "text": [
      "[CV 2/5] END C=0.1, epsilon=0.31622776601683794, kernel=sigmoid;, score=0.126 total time=   0.3s\n"
     ]
    },
    {
     "name": "stderr",
     "output_type": "stream",
     "text": [
      "/home/loic/Enter/envs/InternetAnalytics/lib/python3.9/site-packages/sklearn/utils/validation.py:63: DataConversionWarning: A column-vector y was passed when a 1d array was expected. Please change the shape of y to (n_samples, ), for example using ravel().\n",
      "  return f(*args, **kwargs)\n"
     ]
    },
    {
     "name": "stdout",
     "output_type": "stream",
     "text": [
      "[CV 3/5] END C=0.1, epsilon=0.31622776601683794, kernel=sigmoid;, score=0.137 total time=   0.3s\n"
     ]
    },
    {
     "name": "stderr",
     "output_type": "stream",
     "text": [
      "/home/loic/Enter/envs/InternetAnalytics/lib/python3.9/site-packages/sklearn/utils/validation.py:63: DataConversionWarning: A column-vector y was passed when a 1d array was expected. Please change the shape of y to (n_samples, ), for example using ravel().\n",
      "  return f(*args, **kwargs)\n"
     ]
    },
    {
     "name": "stdout",
     "output_type": "stream",
     "text": [
      "[CV 4/5] END C=0.1, epsilon=0.31622776601683794, kernel=sigmoid;, score=0.133 total time=   0.3s\n"
     ]
    },
    {
     "name": "stderr",
     "output_type": "stream",
     "text": [
      "/home/loic/Enter/envs/InternetAnalytics/lib/python3.9/site-packages/sklearn/utils/validation.py:63: DataConversionWarning: A column-vector y was passed when a 1d array was expected. Please change the shape of y to (n_samples, ), for example using ravel().\n",
      "  return f(*args, **kwargs)\n"
     ]
    },
    {
     "name": "stdout",
     "output_type": "stream",
     "text": [
      "[CV 5/5] END C=0.1, epsilon=0.31622776601683794, kernel=sigmoid;, score=0.113 total time=   0.3s\n",
      "[CV 1/5] END .C=0.1, epsilon=10.0, kernel=poly;, score=-0.017 total time=   0.1s\n",
      "[CV 2/5] END .C=0.1, epsilon=10.0, kernel=poly;, score=-0.005 total time=   0.1s\n"
     ]
    },
    {
     "name": "stderr",
     "output_type": "stream",
     "text": [
      "/home/loic/Enter/envs/InternetAnalytics/lib/python3.9/site-packages/sklearn/utils/validation.py:63: DataConversionWarning: A column-vector y was passed when a 1d array was expected. Please change the shape of y to (n_samples, ), for example using ravel().\n",
      "  return f(*args, **kwargs)\n",
      "/home/loic/Enter/envs/InternetAnalytics/lib/python3.9/site-packages/sklearn/utils/validation.py:63: DataConversionWarning: A column-vector y was passed when a 1d array was expected. Please change the shape of y to (n_samples, ), for example using ravel().\n",
      "  return f(*args, **kwargs)\n",
      "/home/loic/Enter/envs/InternetAnalytics/lib/python3.9/site-packages/sklearn/utils/validation.py:63: DataConversionWarning: A column-vector y was passed when a 1d array was expected. Please change the shape of y to (n_samples, ), for example using ravel().\n",
      "  return f(*args, **kwargs)\n"
     ]
    },
    {
     "name": "stdout",
     "output_type": "stream",
     "text": [
      "[CV 3/5] END .C=0.1, epsilon=10.0, kernel=poly;, score=-0.003 total time=   0.1s\n",
      "[CV 4/5] END .C=0.1, epsilon=10.0, kernel=poly;, score=-0.001 total time=   0.1s\n",
      "[CV 5/5] END .C=0.1, epsilon=10.0, kernel=poly;, score=-0.006 total time=   0.1s\n"
     ]
    },
    {
     "name": "stderr",
     "output_type": "stream",
     "text": [
      "/home/loic/Enter/envs/InternetAnalytics/lib/python3.9/site-packages/sklearn/utils/validation.py:63: DataConversionWarning: A column-vector y was passed when a 1d array was expected. Please change the shape of y to (n_samples, ), for example using ravel().\n",
      "  return f(*args, **kwargs)\n",
      "/home/loic/Enter/envs/InternetAnalytics/lib/python3.9/site-packages/sklearn/utils/validation.py:63: DataConversionWarning: A column-vector y was passed when a 1d array was expected. Please change the shape of y to (n_samples, ), for example using ravel().\n",
      "  return f(*args, **kwargs)\n",
      "/home/loic/Enter/envs/InternetAnalytics/lib/python3.9/site-packages/sklearn/utils/validation.py:63: DataConversionWarning: A column-vector y was passed when a 1d array was expected. Please change the shape of y to (n_samples, ), for example using ravel().\n",
      "  return f(*args, **kwargs)\n"
     ]
    },
    {
     "name": "stdout",
     "output_type": "stream",
     "text": [
      "[CV 1/5] END ...C=0.1, epsilon=10.0, kernel=rbf;, score=0.020 total time=   0.1s\n",
      "[CV 2/5] END ...C=0.1, epsilon=10.0, kernel=rbf;, score=0.021 total time=   0.1s\n"
     ]
    },
    {
     "name": "stderr",
     "output_type": "stream",
     "text": [
      "/home/loic/Enter/envs/InternetAnalytics/lib/python3.9/site-packages/sklearn/utils/validation.py:63: DataConversionWarning: A column-vector y was passed when a 1d array was expected. Please change the shape of y to (n_samples, ), for example using ravel().\n",
      "  return f(*args, **kwargs)\n",
      "/home/loic/Enter/envs/InternetAnalytics/lib/python3.9/site-packages/sklearn/utils/validation.py:63: DataConversionWarning: A column-vector y was passed when a 1d array was expected. Please change the shape of y to (n_samples, ), for example using ravel().\n",
      "  return f(*args, **kwargs)\n"
     ]
    },
    {
     "name": "stdout",
     "output_type": "stream",
     "text": [
      "[CV 3/5] END ...C=0.1, epsilon=10.0, kernel=rbf;, score=0.025 total time=   0.1s\n",
      "[CV 4/5] END ...C=0.1, epsilon=10.0, kernel=rbf;, score=0.028 total time=   0.1s\n"
     ]
    },
    {
     "name": "stderr",
     "output_type": "stream",
     "text": [
      "/home/loic/Enter/envs/InternetAnalytics/lib/python3.9/site-packages/sklearn/utils/validation.py:63: DataConversionWarning: A column-vector y was passed when a 1d array was expected. Please change the shape of y to (n_samples, ), for example using ravel().\n",
      "  return f(*args, **kwargs)\n",
      "/home/loic/Enter/envs/InternetAnalytics/lib/python3.9/site-packages/sklearn/utils/validation.py:63: DataConversionWarning: A column-vector y was passed when a 1d array was expected. Please change the shape of y to (n_samples, ), for example using ravel().\n",
      "  return f(*args, **kwargs)\n"
     ]
    },
    {
     "name": "stdout",
     "output_type": "stream",
     "text": [
      "[CV 5/5] END ...C=0.1, epsilon=10.0, kernel=rbf;, score=0.024 total time=   0.1s\n",
      "[CV 1/5] END C=0.1, epsilon=10.0, kernel=sigmoid;, score=0.094 total time=   0.1s\n"
     ]
    },
    {
     "name": "stderr",
     "output_type": "stream",
     "text": [
      "/home/loic/Enter/envs/InternetAnalytics/lib/python3.9/site-packages/sklearn/utils/validation.py:63: DataConversionWarning: A column-vector y was passed when a 1d array was expected. Please change the shape of y to (n_samples, ), for example using ravel().\n",
      "  return f(*args, **kwargs)\n",
      "/home/loic/Enter/envs/InternetAnalytics/lib/python3.9/site-packages/sklearn/utils/validation.py:63: DataConversionWarning: A column-vector y was passed when a 1d array was expected. Please change the shape of y to (n_samples, ), for example using ravel().\n",
      "  return f(*args, **kwargs)\n"
     ]
    },
    {
     "name": "stdout",
     "output_type": "stream",
     "text": [
      "[CV 2/5] END C=0.1, epsilon=10.0, kernel=sigmoid;, score=0.080 total time=   0.1s\n",
      "[CV 3/5] END C=0.1, epsilon=10.0, kernel=sigmoid;, score=0.087 total time=   0.1s\n"
     ]
    },
    {
     "name": "stderr",
     "output_type": "stream",
     "text": [
      "/home/loic/Enter/envs/InternetAnalytics/lib/python3.9/site-packages/sklearn/utils/validation.py:63: DataConversionWarning: A column-vector y was passed when a 1d array was expected. Please change the shape of y to (n_samples, ), for example using ravel().\n",
      "  return f(*args, **kwargs)\n",
      "/home/loic/Enter/envs/InternetAnalytics/lib/python3.9/site-packages/sklearn/utils/validation.py:63: DataConversionWarning: A column-vector y was passed when a 1d array was expected. Please change the shape of y to (n_samples, ), for example using ravel().\n",
      "  return f(*args, **kwargs)\n"
     ]
    },
    {
     "name": "stdout",
     "output_type": "stream",
     "text": [
      "[CV 4/5] END C=0.1, epsilon=10.0, kernel=sigmoid;, score=0.088 total time=   0.1s\n",
      "[CV 5/5] END C=0.1, epsilon=10.0, kernel=sigmoid;, score=0.089 total time=   0.1s\n"
     ]
    },
    {
     "name": "stderr",
     "output_type": "stream",
     "text": [
      "/home/loic/Enter/envs/InternetAnalytics/lib/python3.9/site-packages/sklearn/utils/validation.py:63: DataConversionWarning: A column-vector y was passed when a 1d array was expected. Please change the shape of y to (n_samples, ), for example using ravel().\n",
      "  return f(*args, **kwargs)\n",
      "/home/loic/Enter/envs/InternetAnalytics/lib/python3.9/site-packages/sklearn/utils/validation.py:63: DataConversionWarning: A column-vector y was passed when a 1d array was expected. Please change the shape of y to (n_samples, ), for example using ravel().\n",
      "  return f(*args, **kwargs)\n"
     ]
    },
    {
     "name": "stdout",
     "output_type": "stream",
     "text": [
      "[CV 1/5] END C=1.1659144011798317, epsilon=0.01, kernel=poly;, score=0.034 total time=   0.3s\n"
     ]
    },
    {
     "name": "stderr",
     "output_type": "stream",
     "text": [
      "/home/loic/Enter/envs/InternetAnalytics/lib/python3.9/site-packages/sklearn/utils/validation.py:63: DataConversionWarning: A column-vector y was passed when a 1d array was expected. Please change the shape of y to (n_samples, ), for example using ravel().\n",
      "  return f(*args, **kwargs)\n"
     ]
    },
    {
     "name": "stdout",
     "output_type": "stream",
     "text": [
      "[CV 2/5] END C=1.1659144011798317, epsilon=0.01, kernel=poly;, score=-0.005 total time=   0.3s\n"
     ]
    },
    {
     "name": "stderr",
     "output_type": "stream",
     "text": [
      "/home/loic/Enter/envs/InternetAnalytics/lib/python3.9/site-packages/sklearn/utils/validation.py:63: DataConversionWarning: A column-vector y was passed when a 1d array was expected. Please change the shape of y to (n_samples, ), for example using ravel().\n",
      "  return f(*args, **kwargs)\n"
     ]
    },
    {
     "name": "stdout",
     "output_type": "stream",
     "text": [
      "[CV 3/5] END C=1.1659144011798317, epsilon=0.01, kernel=poly;, score=0.029 total time=   0.3s\n"
     ]
    },
    {
     "name": "stderr",
     "output_type": "stream",
     "text": [
      "/home/loic/Enter/envs/InternetAnalytics/lib/python3.9/site-packages/sklearn/utils/validation.py:63: DataConversionWarning: A column-vector y was passed when a 1d array was expected. Please change the shape of y to (n_samples, ), for example using ravel().\n",
      "  return f(*args, **kwargs)\n"
     ]
    },
    {
     "name": "stdout",
     "output_type": "stream",
     "text": [
      "[CV 4/5] END C=1.1659144011798317, epsilon=0.01, kernel=poly;, score=0.030 total time=   0.3s\n"
     ]
    },
    {
     "name": "stderr",
     "output_type": "stream",
     "text": [
      "/home/loic/Enter/envs/InternetAnalytics/lib/python3.9/site-packages/sklearn/utils/validation.py:63: DataConversionWarning: A column-vector y was passed when a 1d array was expected. Please change the shape of y to (n_samples, ), for example using ravel().\n",
      "  return f(*args, **kwargs)\n"
     ]
    },
    {
     "name": "stdout",
     "output_type": "stream",
     "text": [
      "[CV 5/5] END C=1.1659144011798317, epsilon=0.01, kernel=poly;, score=-0.005 total time=   0.3s\n"
     ]
    },
    {
     "name": "stderr",
     "output_type": "stream",
     "text": [
      "/home/loic/Enter/envs/InternetAnalytics/lib/python3.9/site-packages/sklearn/utils/validation.py:63: DataConversionWarning: A column-vector y was passed when a 1d array was expected. Please change the shape of y to (n_samples, ), for example using ravel().\n",
      "  return f(*args, **kwargs)\n"
     ]
    },
    {
     "name": "stdout",
     "output_type": "stream",
     "text": [
      "[CV 1/5] END C=1.1659144011798317, epsilon=0.01, kernel=rbf;, score=0.295 total time=   0.4s\n"
     ]
    },
    {
     "name": "stderr",
     "output_type": "stream",
     "text": [
      "/home/loic/Enter/envs/InternetAnalytics/lib/python3.9/site-packages/sklearn/utils/validation.py:63: DataConversionWarning: A column-vector y was passed when a 1d array was expected. Please change the shape of y to (n_samples, ), for example using ravel().\n",
      "  return f(*args, **kwargs)\n"
     ]
    },
    {
     "name": "stdout",
     "output_type": "stream",
     "text": [
      "[CV 2/5] END C=1.1659144011798317, epsilon=0.01, kernel=rbf;, score=0.207 total time=   0.4s\n"
     ]
    },
    {
     "name": "stderr",
     "output_type": "stream",
     "text": [
      "/home/loic/Enter/envs/InternetAnalytics/lib/python3.9/site-packages/sklearn/utils/validation.py:63: DataConversionWarning: A column-vector y was passed when a 1d array was expected. Please change the shape of y to (n_samples, ), for example using ravel().\n",
      "  return f(*args, **kwargs)\n"
     ]
    },
    {
     "name": "stdout",
     "output_type": "stream",
     "text": [
      "[CV 3/5] END C=1.1659144011798317, epsilon=0.01, kernel=rbf;, score=0.227 total time=   0.4s\n"
     ]
    },
    {
     "name": "stderr",
     "output_type": "stream",
     "text": [
      "/home/loic/Enter/envs/InternetAnalytics/lib/python3.9/site-packages/sklearn/utils/validation.py:63: DataConversionWarning: A column-vector y was passed when a 1d array was expected. Please change the shape of y to (n_samples, ), for example using ravel().\n",
      "  return f(*args, **kwargs)\n"
     ]
    },
    {
     "name": "stdout",
     "output_type": "stream",
     "text": [
      "[CV 4/5] END C=1.1659144011798317, epsilon=0.01, kernel=rbf;, score=0.228 total time=   0.4s\n"
     ]
    },
    {
     "name": "stderr",
     "output_type": "stream",
     "text": [
      "/home/loic/Enter/envs/InternetAnalytics/lib/python3.9/site-packages/sklearn/utils/validation.py:63: DataConversionWarning: A column-vector y was passed when a 1d array was expected. Please change the shape of y to (n_samples, ), for example using ravel().\n",
      "  return f(*args, **kwargs)\n"
     ]
    },
    {
     "name": "stdout",
     "output_type": "stream",
     "text": [
      "[CV 5/5] END C=1.1659144011798317, epsilon=0.01, kernel=rbf;, score=0.195 total time=   0.4s\n"
     ]
    },
    {
     "name": "stderr",
     "output_type": "stream",
     "text": [
      "/home/loic/Enter/envs/InternetAnalytics/lib/python3.9/site-packages/sklearn/utils/validation.py:63: DataConversionWarning: A column-vector y was passed when a 1d array was expected. Please change the shape of y to (n_samples, ), for example using ravel().\n",
      "  return f(*args, **kwargs)\n"
     ]
    },
    {
     "name": "stdout",
     "output_type": "stream",
     "text": [
      "[CV 1/5] END C=1.1659144011798317, epsilon=0.01, kernel=sigmoid;, score=0.334 total time=   0.3s\n"
     ]
    },
    {
     "name": "stderr",
     "output_type": "stream",
     "text": [
      "/home/loic/Enter/envs/InternetAnalytics/lib/python3.9/site-packages/sklearn/utils/validation.py:63: DataConversionWarning: A column-vector y was passed when a 1d array was expected. Please change the shape of y to (n_samples, ), for example using ravel().\n",
      "  return f(*args, **kwargs)\n"
     ]
    },
    {
     "name": "stdout",
     "output_type": "stream",
     "text": [
      "[CV 2/5] END C=1.1659144011798317, epsilon=0.01, kernel=sigmoid;, score=0.305 total time=   0.3s\n"
     ]
    },
    {
     "name": "stderr",
     "output_type": "stream",
     "text": [
      "/home/loic/Enter/envs/InternetAnalytics/lib/python3.9/site-packages/sklearn/utils/validation.py:63: DataConversionWarning: A column-vector y was passed when a 1d array was expected. Please change the shape of y to (n_samples, ), for example using ravel().\n",
      "  return f(*args, **kwargs)\n"
     ]
    },
    {
     "name": "stdout",
     "output_type": "stream",
     "text": [
      "[CV 3/5] END C=1.1659144011798317, epsilon=0.01, kernel=sigmoid;, score=0.294 total time=   0.3s\n"
     ]
    },
    {
     "name": "stderr",
     "output_type": "stream",
     "text": [
      "/home/loic/Enter/envs/InternetAnalytics/lib/python3.9/site-packages/sklearn/utils/validation.py:63: DataConversionWarning: A column-vector y was passed when a 1d array was expected. Please change the shape of y to (n_samples, ), for example using ravel().\n",
      "  return f(*args, **kwargs)\n"
     ]
    },
    {
     "name": "stdout",
     "output_type": "stream",
     "text": [
      "[CV 4/5] END C=1.1659144011798317, epsilon=0.01, kernel=sigmoid;, score=0.283 total time=   0.3s\n"
     ]
    },
    {
     "name": "stderr",
     "output_type": "stream",
     "text": [
      "/home/loic/Enter/envs/InternetAnalytics/lib/python3.9/site-packages/sklearn/utils/validation.py:63: DataConversionWarning: A column-vector y was passed when a 1d array was expected. Please change the shape of y to (n_samples, ), for example using ravel().\n",
      "  return f(*args, **kwargs)\n"
     ]
    },
    {
     "name": "stdout",
     "output_type": "stream",
     "text": [
      "[CV 5/5] END C=1.1659144011798317, epsilon=0.01, kernel=sigmoid;, score=0.279 total time=   0.3s\n"
     ]
    },
    {
     "name": "stderr",
     "output_type": "stream",
     "text": [
      "/home/loic/Enter/envs/InternetAnalytics/lib/python3.9/site-packages/sklearn/utils/validation.py:63: DataConversionWarning: A column-vector y was passed when a 1d array was expected. Please change the shape of y to (n_samples, ), for example using ravel().\n",
      "  return f(*args, **kwargs)\n"
     ]
    },
    {
     "name": "stdout",
     "output_type": "stream",
     "text": [
      "[CV 1/5] END C=1.1659144011798317, epsilon=0.31622776601683794, kernel=poly;, score=0.035 total time=   0.2s\n"
     ]
    },
    {
     "name": "stderr",
     "output_type": "stream",
     "text": [
      "/home/loic/Enter/envs/InternetAnalytics/lib/python3.9/site-packages/sklearn/utils/validation.py:63: DataConversionWarning: A column-vector y was passed when a 1d array was expected. Please change the shape of y to (n_samples, ), for example using ravel().\n",
      "  return f(*args, **kwargs)\n"
     ]
    },
    {
     "name": "stdout",
     "output_type": "stream",
     "text": [
      "[CV 2/5] END C=1.1659144011798317, epsilon=0.31622776601683794, kernel=poly;, score=-0.006 total time=   0.2s\n"
     ]
    },
    {
     "name": "stderr",
     "output_type": "stream",
     "text": [
      "/home/loic/Enter/envs/InternetAnalytics/lib/python3.9/site-packages/sklearn/utils/validation.py:63: DataConversionWarning: A column-vector y was passed when a 1d array was expected. Please change the shape of y to (n_samples, ), for example using ravel().\n",
      "  return f(*args, **kwargs)\n"
     ]
    },
    {
     "name": "stdout",
     "output_type": "stream",
     "text": [
      "[CV 3/5] END C=1.1659144011798317, epsilon=0.31622776601683794, kernel=poly;, score=0.028 total time=   0.2s\n"
     ]
    },
    {
     "name": "stderr",
     "output_type": "stream",
     "text": [
      "/home/loic/Enter/envs/InternetAnalytics/lib/python3.9/site-packages/sklearn/utils/validation.py:63: DataConversionWarning: A column-vector y was passed when a 1d array was expected. Please change the shape of y to (n_samples, ), for example using ravel().\n",
      "  return f(*args, **kwargs)\n"
     ]
    },
    {
     "name": "stdout",
     "output_type": "stream",
     "text": [
      "[CV 4/5] END C=1.1659144011798317, epsilon=0.31622776601683794, kernel=poly;, score=0.029 total time=   0.2s\n"
     ]
    },
    {
     "name": "stderr",
     "output_type": "stream",
     "text": [
      "/home/loic/Enter/envs/InternetAnalytics/lib/python3.9/site-packages/sklearn/utils/validation.py:63: DataConversionWarning: A column-vector y was passed when a 1d array was expected. Please change the shape of y to (n_samples, ), for example using ravel().\n",
      "  return f(*args, **kwargs)\n"
     ]
    },
    {
     "name": "stdout",
     "output_type": "stream",
     "text": [
      "[CV 5/5] END C=1.1659144011798317, epsilon=0.31622776601683794, kernel=poly;, score=-0.005 total time=   0.2s\n"
     ]
    },
    {
     "name": "stderr",
     "output_type": "stream",
     "text": [
      "/home/loic/Enter/envs/InternetAnalytics/lib/python3.9/site-packages/sklearn/utils/validation.py:63: DataConversionWarning: A column-vector y was passed when a 1d array was expected. Please change the shape of y to (n_samples, ), for example using ravel().\n",
      "  return f(*args, **kwargs)\n"
     ]
    },
    {
     "name": "stdout",
     "output_type": "stream",
     "text": [
      "[CV 1/5] END C=1.1659144011798317, epsilon=0.31622776601683794, kernel=rbf;, score=0.297 total time=   0.3s\n"
     ]
    },
    {
     "name": "stderr",
     "output_type": "stream",
     "text": [
      "/home/loic/Enter/envs/InternetAnalytics/lib/python3.9/site-packages/sklearn/utils/validation.py:63: DataConversionWarning: A column-vector y was passed when a 1d array was expected. Please change the shape of y to (n_samples, ), for example using ravel().\n",
      "  return f(*args, **kwargs)\n"
     ]
    },
    {
     "name": "stdout",
     "output_type": "stream",
     "text": [
      "[CV 2/5] END C=1.1659144011798317, epsilon=0.31622776601683794, kernel=rbf;, score=0.208 total time=   0.3s\n"
     ]
    },
    {
     "name": "stderr",
     "output_type": "stream",
     "text": [
      "/home/loic/Enter/envs/InternetAnalytics/lib/python3.9/site-packages/sklearn/utils/validation.py:63: DataConversionWarning: A column-vector y was passed when a 1d array was expected. Please change the shape of y to (n_samples, ), for example using ravel().\n",
      "  return f(*args, **kwargs)\n"
     ]
    },
    {
     "name": "stdout",
     "output_type": "stream",
     "text": [
      "[CV 3/5] END C=1.1659144011798317, epsilon=0.31622776601683794, kernel=rbf;, score=0.230 total time=   0.3s\n"
     ]
    },
    {
     "name": "stderr",
     "output_type": "stream",
     "text": [
      "/home/loic/Enter/envs/InternetAnalytics/lib/python3.9/site-packages/sklearn/utils/validation.py:63: DataConversionWarning: A column-vector y was passed when a 1d array was expected. Please change the shape of y to (n_samples, ), for example using ravel().\n",
      "  return f(*args, **kwargs)\n"
     ]
    },
    {
     "name": "stdout",
     "output_type": "stream",
     "text": [
      "[CV 4/5] END C=1.1659144011798317, epsilon=0.31622776601683794, kernel=rbf;, score=0.229 total time=   0.3s\n"
     ]
    },
    {
     "name": "stderr",
     "output_type": "stream",
     "text": [
      "/home/loic/Enter/envs/InternetAnalytics/lib/python3.9/site-packages/sklearn/utils/validation.py:63: DataConversionWarning: A column-vector y was passed when a 1d array was expected. Please change the shape of y to (n_samples, ), for example using ravel().\n",
      "  return f(*args, **kwargs)\n"
     ]
    },
    {
     "name": "stdout",
     "output_type": "stream",
     "text": [
      "[CV 5/5] END C=1.1659144011798317, epsilon=0.31622776601683794, kernel=rbf;, score=0.194 total time=   0.3s\n"
     ]
    },
    {
     "name": "stderr",
     "output_type": "stream",
     "text": [
      "/home/loic/Enter/envs/InternetAnalytics/lib/python3.9/site-packages/sklearn/utils/validation.py:63: DataConversionWarning: A column-vector y was passed when a 1d array was expected. Please change the shape of y to (n_samples, ), for example using ravel().\n",
      "  return f(*args, **kwargs)\n"
     ]
    },
    {
     "name": "stdout",
     "output_type": "stream",
     "text": [
      "[CV 1/5] END C=1.1659144011798317, epsilon=0.31622776601683794, kernel=sigmoid;, score=0.335 total time=   0.3s\n"
     ]
    },
    {
     "name": "stderr",
     "output_type": "stream",
     "text": [
      "/home/loic/Enter/envs/InternetAnalytics/lib/python3.9/site-packages/sklearn/utils/validation.py:63: DataConversionWarning: A column-vector y was passed when a 1d array was expected. Please change the shape of y to (n_samples, ), for example using ravel().\n",
      "  return f(*args, **kwargs)\n"
     ]
    },
    {
     "name": "stdout",
     "output_type": "stream",
     "text": [
      "[CV 2/5] END C=1.1659144011798317, epsilon=0.31622776601683794, kernel=sigmoid;, score=0.304 total time=   0.3s\n"
     ]
    },
    {
     "name": "stderr",
     "output_type": "stream",
     "text": [
      "/home/loic/Enter/envs/InternetAnalytics/lib/python3.9/site-packages/sklearn/utils/validation.py:63: DataConversionWarning: A column-vector y was passed when a 1d array was expected. Please change the shape of y to (n_samples, ), for example using ravel().\n",
      "  return f(*args, **kwargs)\n"
     ]
    },
    {
     "name": "stdout",
     "output_type": "stream",
     "text": [
      "[CV 3/5] END C=1.1659144011798317, epsilon=0.31622776601683794, kernel=sigmoid;, score=0.293 total time=   0.3s\n"
     ]
    },
    {
     "name": "stderr",
     "output_type": "stream",
     "text": [
      "/home/loic/Enter/envs/InternetAnalytics/lib/python3.9/site-packages/sklearn/utils/validation.py:63: DataConversionWarning: A column-vector y was passed when a 1d array was expected. Please change the shape of y to (n_samples, ), for example using ravel().\n",
      "  return f(*args, **kwargs)\n"
     ]
    },
    {
     "name": "stdout",
     "output_type": "stream",
     "text": [
      "[CV 4/5] END C=1.1659144011798317, epsilon=0.31622776601683794, kernel=sigmoid;, score=0.281 total time=   0.3s\n"
     ]
    },
    {
     "name": "stderr",
     "output_type": "stream",
     "text": [
      "/home/loic/Enter/envs/InternetAnalytics/lib/python3.9/site-packages/sklearn/utils/validation.py:63: DataConversionWarning: A column-vector y was passed when a 1d array was expected. Please change the shape of y to (n_samples, ), for example using ravel().\n",
      "  return f(*args, **kwargs)\n"
     ]
    },
    {
     "name": "stdout",
     "output_type": "stream",
     "text": [
      "[CV 5/5] END C=1.1659144011798317, epsilon=0.31622776601683794, kernel=sigmoid;, score=0.278 total time=   0.3s\n",
      "[CV 1/5] END C=1.1659144011798317, epsilon=10.0, kernel=poly;, score=-0.001 total time=   0.1s\n",
      "[CV 2/5] END C=1.1659144011798317, epsilon=10.0, kernel=poly;, score=0.002 total time=   0.1s\n"
     ]
    },
    {
     "name": "stderr",
     "output_type": "stream",
     "text": [
      "/home/loic/Enter/envs/InternetAnalytics/lib/python3.9/site-packages/sklearn/utils/validation.py:63: DataConversionWarning: A column-vector y was passed when a 1d array was expected. Please change the shape of y to (n_samples, ), for example using ravel().\n",
      "  return f(*args, **kwargs)\n",
      "/home/loic/Enter/envs/InternetAnalytics/lib/python3.9/site-packages/sklearn/utils/validation.py:63: DataConversionWarning: A column-vector y was passed when a 1d array was expected. Please change the shape of y to (n_samples, ), for example using ravel().\n",
      "  return f(*args, **kwargs)\n",
      "/home/loic/Enter/envs/InternetAnalytics/lib/python3.9/site-packages/sklearn/utils/validation.py:63: DataConversionWarning: A column-vector y was passed when a 1d array was expected. Please change the shape of y to (n_samples, ), for example using ravel().\n",
      "  return f(*args, **kwargs)\n"
     ]
    },
    {
     "name": "stdout",
     "output_type": "stream",
     "text": [
      "[CV 3/5] END C=1.1659144011798317, epsilon=10.0, kernel=poly;, score=0.010 total time=   0.1s\n",
      "[CV 4/5] END C=1.1659144011798317, epsilon=10.0, kernel=poly;, score=0.015 total time=   0.1s\n",
      "[CV 5/5] END C=1.1659144011798317, epsilon=10.0, kernel=poly;, score=0.006 total time=   0.1s\n"
     ]
    },
    {
     "name": "stderr",
     "output_type": "stream",
     "text": [
      "/home/loic/Enter/envs/InternetAnalytics/lib/python3.9/site-packages/sklearn/utils/validation.py:63: DataConversionWarning: A column-vector y was passed when a 1d array was expected. Please change the shape of y to (n_samples, ), for example using ravel().\n",
      "  return f(*args, **kwargs)\n",
      "/home/loic/Enter/envs/InternetAnalytics/lib/python3.9/site-packages/sklearn/utils/validation.py:63: DataConversionWarning: A column-vector y was passed when a 1d array was expected. Please change the shape of y to (n_samples, ), for example using ravel().\n",
      "  return f(*args, **kwargs)\n",
      "/home/loic/Enter/envs/InternetAnalytics/lib/python3.9/site-packages/sklearn/utils/validation.py:63: DataConversionWarning: A column-vector y was passed when a 1d array was expected. Please change the shape of y to (n_samples, ), for example using ravel().\n",
      "  return f(*args, **kwargs)\n"
     ]
    },
    {
     "name": "stdout",
     "output_type": "stream",
     "text": [
      "[CV 1/5] END C=1.1659144011798317, epsilon=10.0, kernel=rbf;, score=0.183 total time=   0.1s\n",
      "[CV 2/5] END C=1.1659144011798317, epsilon=10.0, kernel=rbf;, score=0.134 total time=   0.1s\n",
      "[CV 3/5] END C=1.1659144011798317, epsilon=10.0, kernel=rbf;, score=0.166 total time=   0.1s\n"
     ]
    },
    {
     "name": "stderr",
     "output_type": "stream",
     "text": [
      "/home/loic/Enter/envs/InternetAnalytics/lib/python3.9/site-packages/sklearn/utils/validation.py:63: DataConversionWarning: A column-vector y was passed when a 1d array was expected. Please change the shape of y to (n_samples, ), for example using ravel().\n",
      "  return f(*args, **kwargs)\n",
      "/home/loic/Enter/envs/InternetAnalytics/lib/python3.9/site-packages/sklearn/utils/validation.py:63: DataConversionWarning: A column-vector y was passed when a 1d array was expected. Please change the shape of y to (n_samples, ), for example using ravel().\n",
      "  return f(*args, **kwargs)\n",
      "/home/loic/Enter/envs/InternetAnalytics/lib/python3.9/site-packages/sklearn/utils/validation.py:63: DataConversionWarning: A column-vector y was passed when a 1d array was expected. Please change the shape of y to (n_samples, ), for example using ravel().\n",
      "  return f(*args, **kwargs)\n"
     ]
    },
    {
     "name": "stdout",
     "output_type": "stream",
     "text": [
      "[CV 4/5] END C=1.1659144011798317, epsilon=10.0, kernel=rbf;, score=0.159 total time=   0.1s\n",
      "[CV 5/5] END C=1.1659144011798317, epsilon=10.0, kernel=rbf;, score=0.153 total time=   0.1s\n",
      "[CV 1/5] END C=1.1659144011798317, epsilon=10.0, kernel=sigmoid;, score=0.257 total time=   0.1s\n"
     ]
    },
    {
     "name": "stderr",
     "output_type": "stream",
     "text": [
      "/home/loic/Enter/envs/InternetAnalytics/lib/python3.9/site-packages/sklearn/utils/validation.py:63: DataConversionWarning: A column-vector y was passed when a 1d array was expected. Please change the shape of y to (n_samples, ), for example using ravel().\n",
      "  return f(*args, **kwargs)\n",
      "/home/loic/Enter/envs/InternetAnalytics/lib/python3.9/site-packages/sklearn/utils/validation.py:63: DataConversionWarning: A column-vector y was passed when a 1d array was expected. Please change the shape of y to (n_samples, ), for example using ravel().\n",
      "  return f(*args, **kwargs)\n",
      "/home/loic/Enter/envs/InternetAnalytics/lib/python3.9/site-packages/sklearn/utils/validation.py:63: DataConversionWarning: A column-vector y was passed when a 1d array was expected. Please change the shape of y to (n_samples, ), for example using ravel().\n",
      "  return f(*args, **kwargs)\n"
     ]
    },
    {
     "name": "stdout",
     "output_type": "stream",
     "text": [
      "[CV 2/5] END C=1.1659144011798317, epsilon=10.0, kernel=sigmoid;, score=0.233 total time=   0.1s\n",
      "[CV 3/5] END C=1.1659144011798317, epsilon=10.0, kernel=sigmoid;, score=0.251 total time=   0.1s\n",
      "[CV 4/5] END C=1.1659144011798317, epsilon=10.0, kernel=sigmoid;, score=0.242 total time=   0.1s\n"
     ]
    },
    {
     "name": "stderr",
     "output_type": "stream",
     "text": [
      "/home/loic/Enter/envs/InternetAnalytics/lib/python3.9/site-packages/sklearn/utils/validation.py:63: DataConversionWarning: A column-vector y was passed when a 1d array was expected. Please change the shape of y to (n_samples, ), for example using ravel().\n",
      "  return f(*args, **kwargs)\n",
      "/home/loic/Enter/envs/InternetAnalytics/lib/python3.9/site-packages/sklearn/utils/validation.py:63: DataConversionWarning: A column-vector y was passed when a 1d array was expected. Please change the shape of y to (n_samples, ), for example using ravel().\n",
      "  return f(*args, **kwargs)\n",
      "/home/loic/Enter/envs/InternetAnalytics/lib/python3.9/site-packages/sklearn/utils/validation.py:63: DataConversionWarning: A column-vector y was passed when a 1d array was expected. Please change the shape of y to (n_samples, ), for example using ravel().\n",
      "  return f(*args, **kwargs)\n"
     ]
    },
    {
     "name": "stdout",
     "output_type": "stream",
     "text": [
      "[CV 5/5] END C=1.1659144011798317, epsilon=10.0, kernel=sigmoid;, score=0.252 total time=   0.1s\n"
     ]
    },
    {
     "name": "stderr",
     "output_type": "stream",
     "text": [
      "/home/loic/Enter/envs/InternetAnalytics/lib/python3.9/site-packages/sklearn/utils/validation.py:63: DataConversionWarning: A column-vector y was passed when a 1d array was expected. Please change the shape of y to (n_samples, ), for example using ravel().\n",
      "  return f(*args, **kwargs)\n"
     ]
    },
    {
     "name": "stdout",
     "output_type": "stream",
     "text": [
      "[CV 1/5] END C=13.593563908785255, epsilon=0.01, kernel=poly;, score=0.128 total time=   0.3s\n"
     ]
    },
    {
     "name": "stderr",
     "output_type": "stream",
     "text": [
      "/home/loic/Enter/envs/InternetAnalytics/lib/python3.9/site-packages/sklearn/utils/validation.py:63: DataConversionWarning: A column-vector y was passed when a 1d array was expected. Please change the shape of y to (n_samples, ), for example using ravel().\n",
      "  return f(*args, **kwargs)\n"
     ]
    },
    {
     "name": "stdout",
     "output_type": "stream",
     "text": [
      "[CV 2/5] END C=13.593563908785255, epsilon=0.01, kernel=poly;, score=-0.007 total time=   0.3s\n"
     ]
    },
    {
     "name": "stderr",
     "output_type": "stream",
     "text": [
      "/home/loic/Enter/envs/InternetAnalytics/lib/python3.9/site-packages/sklearn/utils/validation.py:63: DataConversionWarning: A column-vector y was passed when a 1d array was expected. Please change the shape of y to (n_samples, ), for example using ravel().\n",
      "  return f(*args, **kwargs)\n"
     ]
    },
    {
     "name": "stdout",
     "output_type": "stream",
     "text": [
      "[CV 3/5] END C=13.593563908785255, epsilon=0.01, kernel=poly;, score=0.101 total time=   0.3s\n"
     ]
    },
    {
     "name": "stderr",
     "output_type": "stream",
     "text": [
      "/home/loic/Enter/envs/InternetAnalytics/lib/python3.9/site-packages/sklearn/utils/validation.py:63: DataConversionWarning: A column-vector y was passed when a 1d array was expected. Please change the shape of y to (n_samples, ), for example using ravel().\n",
      "  return f(*args, **kwargs)\n"
     ]
    },
    {
     "name": "stdout",
     "output_type": "stream",
     "text": [
      "[CV 4/5] END C=13.593563908785255, epsilon=0.01, kernel=poly;, score=0.097 total time=   0.3s\n"
     ]
    },
    {
     "name": "stderr",
     "output_type": "stream",
     "text": [
      "/home/loic/Enter/envs/InternetAnalytics/lib/python3.9/site-packages/sklearn/utils/validation.py:63: DataConversionWarning: A column-vector y was passed when a 1d array was expected. Please change the shape of y to (n_samples, ), for example using ravel().\n",
      "  return f(*args, **kwargs)\n"
     ]
    },
    {
     "name": "stdout",
     "output_type": "stream",
     "text": [
      "[CV 5/5] END C=13.593563908785255, epsilon=0.01, kernel=poly;, score=0.065 total time=   0.3s\n"
     ]
    },
    {
     "name": "stderr",
     "output_type": "stream",
     "text": [
      "/home/loic/Enter/envs/InternetAnalytics/lib/python3.9/site-packages/sklearn/utils/validation.py:63: DataConversionWarning: A column-vector y was passed when a 1d array was expected. Please change the shape of y to (n_samples, ), for example using ravel().\n",
      "  return f(*args, **kwargs)\n"
     ]
    },
    {
     "name": "stdout",
     "output_type": "stream",
     "text": [
      "[CV 1/5] END C=13.593563908785255, epsilon=0.01, kernel=rbf;, score=0.474 total time=   0.4s\n"
     ]
    },
    {
     "name": "stderr",
     "output_type": "stream",
     "text": [
      "/home/loic/Enter/envs/InternetAnalytics/lib/python3.9/site-packages/sklearn/utils/validation.py:63: DataConversionWarning: A column-vector y was passed when a 1d array was expected. Please change the shape of y to (n_samples, ), for example using ravel().\n",
      "  return f(*args, **kwargs)\n"
     ]
    },
    {
     "name": "stdout",
     "output_type": "stream",
     "text": [
      "[CV 2/5] END C=13.593563908785255, epsilon=0.01, kernel=rbf;, score=0.363 total time=   0.4s\n"
     ]
    },
    {
     "name": "stderr",
     "output_type": "stream",
     "text": [
      "/home/loic/Enter/envs/InternetAnalytics/lib/python3.9/site-packages/sklearn/utils/validation.py:63: DataConversionWarning: A column-vector y was passed when a 1d array was expected. Please change the shape of y to (n_samples, ), for example using ravel().\n",
      "  return f(*args, **kwargs)\n"
     ]
    },
    {
     "name": "stdout",
     "output_type": "stream",
     "text": [
      "[CV 3/5] END C=13.593563908785255, epsilon=0.01, kernel=rbf;, score=0.378 total time=   0.5s\n"
     ]
    },
    {
     "name": "stderr",
     "output_type": "stream",
     "text": [
      "/home/loic/Enter/envs/InternetAnalytics/lib/python3.9/site-packages/sklearn/utils/validation.py:63: DataConversionWarning: A column-vector y was passed when a 1d array was expected. Please change the shape of y to (n_samples, ), for example using ravel().\n",
      "  return f(*args, **kwargs)\n"
     ]
    },
    {
     "name": "stdout",
     "output_type": "stream",
     "text": [
      "[CV 4/5] END C=13.593563908785255, epsilon=0.01, kernel=rbf;, score=0.371 total time=   0.4s\n"
     ]
    },
    {
     "name": "stderr",
     "output_type": "stream",
     "text": [
      "/home/loic/Enter/envs/InternetAnalytics/lib/python3.9/site-packages/sklearn/utils/validation.py:63: DataConversionWarning: A column-vector y was passed when a 1d array was expected. Please change the shape of y to (n_samples, ), for example using ravel().\n",
      "  return f(*args, **kwargs)\n"
     ]
    },
    {
     "name": "stdout",
     "output_type": "stream",
     "text": [
      "[CV 5/5] END C=13.593563908785255, epsilon=0.01, kernel=rbf;, score=0.401 total time=   0.4s\n"
     ]
    },
    {
     "name": "stderr",
     "output_type": "stream",
     "text": [
      "/home/loic/Enter/envs/InternetAnalytics/lib/python3.9/site-packages/sklearn/utils/validation.py:63: DataConversionWarning: A column-vector y was passed when a 1d array was expected. Please change the shape of y to (n_samples, ), for example using ravel().\n",
      "  return f(*args, **kwargs)\n"
     ]
    },
    {
     "name": "stdout",
     "output_type": "stream",
     "text": [
      "[CV 1/5] END C=13.593563908785255, epsilon=0.01, kernel=sigmoid;, score=-0.736 total time=   0.5s\n"
     ]
    },
    {
     "name": "stderr",
     "output_type": "stream",
     "text": [
      "/home/loic/Enter/envs/InternetAnalytics/lib/python3.9/site-packages/sklearn/utils/validation.py:63: DataConversionWarning: A column-vector y was passed when a 1d array was expected. Please change the shape of y to (n_samples, ), for example using ravel().\n",
      "  return f(*args, **kwargs)\n"
     ]
    },
    {
     "name": "stdout",
     "output_type": "stream",
     "text": [
      "[CV 2/5] END C=13.593563908785255, epsilon=0.01, kernel=sigmoid;, score=-0.447 total time=   0.4s\n"
     ]
    },
    {
     "name": "stderr",
     "output_type": "stream",
     "text": [
      "/home/loic/Enter/envs/InternetAnalytics/lib/python3.9/site-packages/sklearn/utils/validation.py:63: DataConversionWarning: A column-vector y was passed when a 1d array was expected. Please change the shape of y to (n_samples, ), for example using ravel().\n",
      "  return f(*args, **kwargs)\n"
     ]
    },
    {
     "name": "stdout",
     "output_type": "stream",
     "text": [
      "[CV 3/5] END C=13.593563908785255, epsilon=0.01, kernel=sigmoid;, score=-0.441 total time=   0.5s\n"
     ]
    },
    {
     "name": "stderr",
     "output_type": "stream",
     "text": [
      "/home/loic/Enter/envs/InternetAnalytics/lib/python3.9/site-packages/sklearn/utils/validation.py:63: DataConversionWarning: A column-vector y was passed when a 1d array was expected. Please change the shape of y to (n_samples, ), for example using ravel().\n",
      "  return f(*args, **kwargs)\n"
     ]
    },
    {
     "name": "stdout",
     "output_type": "stream",
     "text": [
      "[CV 4/5] END C=13.593563908785255, epsilon=0.01, kernel=sigmoid;, score=-0.508 total time=   0.3s\n"
     ]
    },
    {
     "name": "stderr",
     "output_type": "stream",
     "text": [
      "/home/loic/Enter/envs/InternetAnalytics/lib/python3.9/site-packages/sklearn/utils/validation.py:63: DataConversionWarning: A column-vector y was passed when a 1d array was expected. Please change the shape of y to (n_samples, ), for example using ravel().\n",
      "  return f(*args, **kwargs)\n"
     ]
    },
    {
     "name": "stdout",
     "output_type": "stream",
     "text": [
      "[CV 5/5] END C=13.593563908785255, epsilon=0.01, kernel=sigmoid;, score=-0.384 total time=   0.4s\n"
     ]
    },
    {
     "name": "stderr",
     "output_type": "stream",
     "text": [
      "/home/loic/Enter/envs/InternetAnalytics/lib/python3.9/site-packages/sklearn/utils/validation.py:63: DataConversionWarning: A column-vector y was passed when a 1d array was expected. Please change the shape of y to (n_samples, ), for example using ravel().\n",
      "  return f(*args, **kwargs)\n"
     ]
    },
    {
     "name": "stdout",
     "output_type": "stream",
     "text": [
      "[CV 1/5] END C=13.593563908785255, epsilon=0.31622776601683794, kernel=poly;, score=0.126 total time=   0.3s\n"
     ]
    },
    {
     "name": "stderr",
     "output_type": "stream",
     "text": [
      "/home/loic/Enter/envs/InternetAnalytics/lib/python3.9/site-packages/sklearn/utils/validation.py:63: DataConversionWarning: A column-vector y was passed when a 1d array was expected. Please change the shape of y to (n_samples, ), for example using ravel().\n",
      "  return f(*args, **kwargs)\n"
     ]
    },
    {
     "name": "stdout",
     "output_type": "stream",
     "text": [
      "[CV 2/5] END C=13.593563908785255, epsilon=0.31622776601683794, kernel=poly;, score=-0.008 total time=   0.4s\n"
     ]
    },
    {
     "name": "stderr",
     "output_type": "stream",
     "text": [
      "/home/loic/Enter/envs/InternetAnalytics/lib/python3.9/site-packages/sklearn/utils/validation.py:63: DataConversionWarning: A column-vector y was passed when a 1d array was expected. Please change the shape of y to (n_samples, ), for example using ravel().\n",
      "  return f(*args, **kwargs)\n"
     ]
    },
    {
     "name": "stdout",
     "output_type": "stream",
     "text": [
      "[CV 3/5] END C=13.593563908785255, epsilon=0.31622776601683794, kernel=poly;, score=0.099 total time=   0.3s\n"
     ]
    },
    {
     "name": "stderr",
     "output_type": "stream",
     "text": [
      "/home/loic/Enter/envs/InternetAnalytics/lib/python3.9/site-packages/sklearn/utils/validation.py:63: DataConversionWarning: A column-vector y was passed when a 1d array was expected. Please change the shape of y to (n_samples, ), for example using ravel().\n",
      "  return f(*args, **kwargs)\n"
     ]
    },
    {
     "name": "stdout",
     "output_type": "stream",
     "text": [
      "[CV 4/5] END C=13.593563908785255, epsilon=0.31622776601683794, kernel=poly;, score=0.095 total time=   0.3s\n"
     ]
    },
    {
     "name": "stderr",
     "output_type": "stream",
     "text": [
      "/home/loic/Enter/envs/InternetAnalytics/lib/python3.9/site-packages/sklearn/utils/validation.py:63: DataConversionWarning: A column-vector y was passed when a 1d array was expected. Please change the shape of y to (n_samples, ), for example using ravel().\n",
      "  return f(*args, **kwargs)\n"
     ]
    },
    {
     "name": "stdout",
     "output_type": "stream",
     "text": [
      "[CV 5/5] END C=13.593563908785255, epsilon=0.31622776601683794, kernel=poly;, score=0.064 total time=   0.3s\n"
     ]
    },
    {
     "name": "stderr",
     "output_type": "stream",
     "text": [
      "/home/loic/Enter/envs/InternetAnalytics/lib/python3.9/site-packages/sklearn/utils/validation.py:63: DataConversionWarning: A column-vector y was passed when a 1d array was expected. Please change the shape of y to (n_samples, ), for example using ravel().\n",
      "  return f(*args, **kwargs)\n"
     ]
    },
    {
     "name": "stdout",
     "output_type": "stream",
     "text": [
      "[CV 1/5] END C=13.593563908785255, epsilon=0.31622776601683794, kernel=rbf;, score=0.476 total time=   0.4s\n"
     ]
    },
    {
     "name": "stderr",
     "output_type": "stream",
     "text": [
      "/home/loic/Enter/envs/InternetAnalytics/lib/python3.9/site-packages/sklearn/utils/validation.py:63: DataConversionWarning: A column-vector y was passed when a 1d array was expected. Please change the shape of y to (n_samples, ), for example using ravel().\n",
      "  return f(*args, **kwargs)\n"
     ]
    },
    {
     "name": "stdout",
     "output_type": "stream",
     "text": [
      "[CV 2/5] END C=13.593563908785255, epsilon=0.31622776601683794, kernel=rbf;, score=0.362 total time=   0.4s\n"
     ]
    },
    {
     "name": "stderr",
     "output_type": "stream",
     "text": [
      "/home/loic/Enter/envs/InternetAnalytics/lib/python3.9/site-packages/sklearn/utils/validation.py:63: DataConversionWarning: A column-vector y was passed when a 1d array was expected. Please change the shape of y to (n_samples, ), for example using ravel().\n",
      "  return f(*args, **kwargs)\n"
     ]
    },
    {
     "name": "stdout",
     "output_type": "stream",
     "text": [
      "[CV 3/5] END C=13.593563908785255, epsilon=0.31622776601683794, kernel=rbf;, score=0.379 total time=   0.3s\n"
     ]
    },
    {
     "name": "stderr",
     "output_type": "stream",
     "text": [
      "/home/loic/Enter/envs/InternetAnalytics/lib/python3.9/site-packages/sklearn/utils/validation.py:63: DataConversionWarning: A column-vector y was passed when a 1d array was expected. Please change the shape of y to (n_samples, ), for example using ravel().\n",
      "  return f(*args, **kwargs)\n"
     ]
    },
    {
     "name": "stdout",
     "output_type": "stream",
     "text": [
      "[CV 4/5] END C=13.593563908785255, epsilon=0.31622776601683794, kernel=rbf;, score=0.371 total time=   0.3s\n"
     ]
    },
    {
     "name": "stderr",
     "output_type": "stream",
     "text": [
      "/home/loic/Enter/envs/InternetAnalytics/lib/python3.9/site-packages/sklearn/utils/validation.py:63: DataConversionWarning: A column-vector y was passed when a 1d array was expected. Please change the shape of y to (n_samples, ), for example using ravel().\n",
      "  return f(*args, **kwargs)\n"
     ]
    },
    {
     "name": "stdout",
     "output_type": "stream",
     "text": [
      "[CV 5/5] END C=13.593563908785255, epsilon=0.31622776601683794, kernel=rbf;, score=0.401 total time=   0.4s\n"
     ]
    },
    {
     "name": "stderr",
     "output_type": "stream",
     "text": [
      "/home/loic/Enter/envs/InternetAnalytics/lib/python3.9/site-packages/sklearn/utils/validation.py:63: DataConversionWarning: A column-vector y was passed when a 1d array was expected. Please change the shape of y to (n_samples, ), for example using ravel().\n",
      "  return f(*args, **kwargs)\n"
     ]
    },
    {
     "name": "stdout",
     "output_type": "stream",
     "text": [
      "[CV 1/5] END C=13.593563908785255, epsilon=0.31622776601683794, kernel=sigmoid;, score=-0.690 total time=   0.5s\n"
     ]
    },
    {
     "name": "stderr",
     "output_type": "stream",
     "text": [
      "/home/loic/Enter/envs/InternetAnalytics/lib/python3.9/site-packages/sklearn/utils/validation.py:63: DataConversionWarning: A column-vector y was passed when a 1d array was expected. Please change the shape of y to (n_samples, ), for example using ravel().\n",
      "  return f(*args, **kwargs)\n"
     ]
    },
    {
     "name": "stdout",
     "output_type": "stream",
     "text": [
      "[CV 2/5] END C=13.593563908785255, epsilon=0.31622776601683794, kernel=sigmoid;, score=-0.443 total time=   0.4s\n"
     ]
    },
    {
     "name": "stderr",
     "output_type": "stream",
     "text": [
      "/home/loic/Enter/envs/InternetAnalytics/lib/python3.9/site-packages/sklearn/utils/validation.py:63: DataConversionWarning: A column-vector y was passed when a 1d array was expected. Please change the shape of y to (n_samples, ), for example using ravel().\n",
      "  return f(*args, **kwargs)\n"
     ]
    },
    {
     "name": "stdout",
     "output_type": "stream",
     "text": [
      "[CV 3/5] END C=13.593563908785255, epsilon=0.31622776601683794, kernel=sigmoid;, score=-0.436 total time=   0.4s\n"
     ]
    },
    {
     "name": "stderr",
     "output_type": "stream",
     "text": [
      "/home/loic/Enter/envs/InternetAnalytics/lib/python3.9/site-packages/sklearn/utils/validation.py:63: DataConversionWarning: A column-vector y was passed when a 1d array was expected. Please change the shape of y to (n_samples, ), for example using ravel().\n",
      "  return f(*args, **kwargs)\n"
     ]
    },
    {
     "name": "stdout",
     "output_type": "stream",
     "text": [
      "[CV 4/5] END C=13.593563908785255, epsilon=0.31622776601683794, kernel=sigmoid;, score=-0.477 total time=   0.4s\n"
     ]
    },
    {
     "name": "stderr",
     "output_type": "stream",
     "text": [
      "/home/loic/Enter/envs/InternetAnalytics/lib/python3.9/site-packages/sklearn/utils/validation.py:63: DataConversionWarning: A column-vector y was passed when a 1d array was expected. Please change the shape of y to (n_samples, ), for example using ravel().\n",
      "  return f(*args, **kwargs)\n"
     ]
    },
    {
     "name": "stdout",
     "output_type": "stream",
     "text": [
      "[CV 5/5] END C=13.593563908785255, epsilon=0.31622776601683794, kernel=sigmoid;, score=-0.382 total time=   0.3s\n",
      "[CV 1/5] END C=13.593563908785255, epsilon=10.0, kernel=poly;, score=-0.023 total time=   0.1s\n",
      "[CV 2/5] END C=13.593563908785255, epsilon=10.0, kernel=poly;, score=-0.021 total time=   0.1s\n"
     ]
    },
    {
     "name": "stderr",
     "output_type": "stream",
     "text": [
      "/home/loic/Enter/envs/InternetAnalytics/lib/python3.9/site-packages/sklearn/utils/validation.py:63: DataConversionWarning: A column-vector y was passed when a 1d array was expected. Please change the shape of y to (n_samples, ), for example using ravel().\n",
      "  return f(*args, **kwargs)\n",
      "/home/loic/Enter/envs/InternetAnalytics/lib/python3.9/site-packages/sklearn/utils/validation.py:63: DataConversionWarning: A column-vector y was passed when a 1d array was expected. Please change the shape of y to (n_samples, ), for example using ravel().\n",
      "  return f(*args, **kwargs)\n",
      "/home/loic/Enter/envs/InternetAnalytics/lib/python3.9/site-packages/sklearn/utils/validation.py:63: DataConversionWarning: A column-vector y was passed when a 1d array was expected. Please change the shape of y to (n_samples, ), for example using ravel().\n",
      "  return f(*args, **kwargs)\n"
     ]
    },
    {
     "name": "stdout",
     "output_type": "stream",
     "text": [
      "[CV 3/5] END C=13.593563908785255, epsilon=10.0, kernel=poly;, score=0.009 total time=   0.1s\n",
      "[CV 4/5] END C=13.593563908785255, epsilon=10.0, kernel=poly;, score=0.010 total time=   0.1s\n",
      "[CV 5/5] END C=13.593563908785255, epsilon=10.0, kernel=poly;, score=0.017 total time=   0.1s\n"
     ]
    },
    {
     "name": "stderr",
     "output_type": "stream",
     "text": [
      "/home/loic/Enter/envs/InternetAnalytics/lib/python3.9/site-packages/sklearn/utils/validation.py:63: DataConversionWarning: A column-vector y was passed when a 1d array was expected. Please change the shape of y to (n_samples, ), for example using ravel().\n",
      "  return f(*args, **kwargs)\n",
      "/home/loic/Enter/envs/InternetAnalytics/lib/python3.9/site-packages/sklearn/utils/validation.py:63: DataConversionWarning: A column-vector y was passed when a 1d array was expected. Please change the shape of y to (n_samples, ), for example using ravel().\n",
      "  return f(*args, **kwargs)\n",
      "/home/loic/Enter/envs/InternetAnalytics/lib/python3.9/site-packages/sklearn/utils/validation.py:63: DataConversionWarning: A column-vector y was passed when a 1d array was expected. Please change the shape of y to (n_samples, ), for example using ravel().\n",
      "  return f(*args, **kwargs)\n"
     ]
    },
    {
     "name": "stdout",
     "output_type": "stream",
     "text": [
      "[CV 1/5] END C=13.593563908785255, epsilon=10.0, kernel=rbf;, score=0.277 total time=   0.1s\n",
      "[CV 2/5] END C=13.593563908785255, epsilon=10.0, kernel=rbf;, score=0.208 total time=   0.1s\n",
      "[CV 3/5] END C=13.593563908785255, epsilon=10.0, kernel=rbf;, score=0.264 total time=   0.1s\n"
     ]
    },
    {
     "name": "stderr",
     "output_type": "stream",
     "text": [
      "/home/loic/Enter/envs/InternetAnalytics/lib/python3.9/site-packages/sklearn/utils/validation.py:63: DataConversionWarning: A column-vector y was passed when a 1d array was expected. Please change the shape of y to (n_samples, ), for example using ravel().\n",
      "  return f(*args, **kwargs)\n",
      "/home/loic/Enter/envs/InternetAnalytics/lib/python3.9/site-packages/sklearn/utils/validation.py:63: DataConversionWarning: A column-vector y was passed when a 1d array was expected. Please change the shape of y to (n_samples, ), for example using ravel().\n",
      "  return f(*args, **kwargs)\n",
      "/home/loic/Enter/envs/InternetAnalytics/lib/python3.9/site-packages/sklearn/utils/validation.py:63: DataConversionWarning: A column-vector y was passed when a 1d array was expected. Please change the shape of y to (n_samples, ), for example using ravel().\n",
      "  return f(*args, **kwargs)\n"
     ]
    },
    {
     "name": "stdout",
     "output_type": "stream",
     "text": [
      "[CV 4/5] END C=13.593563908785255, epsilon=10.0, kernel=rbf;, score=0.213 total time=   0.1s\n",
      "[CV 5/5] END C=13.593563908785255, epsilon=10.0, kernel=rbf;, score=0.276 total time=   0.1s\n",
      "[CV 1/5] END C=13.593563908785255, epsilon=10.0, kernel=sigmoid;, score=-0.222 total time=   0.1s\n"
     ]
    },
    {
     "name": "stderr",
     "output_type": "stream",
     "text": [
      "/home/loic/Enter/envs/InternetAnalytics/lib/python3.9/site-packages/sklearn/utils/validation.py:63: DataConversionWarning: A column-vector y was passed when a 1d array was expected. Please change the shape of y to (n_samples, ), for example using ravel().\n",
      "  return f(*args, **kwargs)\n",
      "/home/loic/Enter/envs/InternetAnalytics/lib/python3.9/site-packages/sklearn/utils/validation.py:63: DataConversionWarning: A column-vector y was passed when a 1d array was expected. Please change the shape of y to (n_samples, ), for example using ravel().\n",
      "  return f(*args, **kwargs)\n",
      "/home/loic/Enter/envs/InternetAnalytics/lib/python3.9/site-packages/sklearn/utils/validation.py:63: DataConversionWarning: A column-vector y was passed when a 1d array was expected. Please change the shape of y to (n_samples, ), for example using ravel().\n",
      "  return f(*args, **kwargs)\n"
     ]
    },
    {
     "name": "stdout",
     "output_type": "stream",
     "text": [
      "[CV 2/5] END C=13.593563908785255, epsilon=10.0, kernel=sigmoid;, score=-0.099 total time=   0.1s\n",
      "[CV 3/5] END C=13.593563908785255, epsilon=10.0, kernel=sigmoid;, score=-0.090 total time=   0.1s\n",
      "[CV 4/5] END C=13.593563908785255, epsilon=10.0, kernel=sigmoid;, score=-0.068 total time=   0.1s\n"
     ]
    },
    {
     "name": "stderr",
     "output_type": "stream",
     "text": [
      "/home/loic/Enter/envs/InternetAnalytics/lib/python3.9/site-packages/sklearn/utils/validation.py:63: DataConversionWarning: A column-vector y was passed when a 1d array was expected. Please change the shape of y to (n_samples, ), for example using ravel().\n",
      "  return f(*args, **kwargs)\n",
      "/home/loic/Enter/envs/InternetAnalytics/lib/python3.9/site-packages/sklearn/utils/validation.py:63: DataConversionWarning: A column-vector y was passed when a 1d array was expected. Please change the shape of y to (n_samples, ), for example using ravel().\n",
      "  return f(*args, **kwargs)\n",
      "/home/loic/Enter/envs/InternetAnalytics/lib/python3.9/site-packages/sklearn/utils/validation.py:63: DataConversionWarning: A column-vector y was passed when a 1d array was expected. Please change the shape of y to (n_samples, ), for example using ravel().\n",
      "  return f(*args, **kwargs)\n"
     ]
    },
    {
     "name": "stdout",
     "output_type": "stream",
     "text": [
      "[CV 5/5] END C=13.593563908785255, epsilon=10.0, kernel=sigmoid;, score=-0.070 total time=   0.1s\n"
     ]
    },
    {
     "name": "stderr",
     "output_type": "stream",
     "text": [
      "/home/loic/Enter/envs/InternetAnalytics/lib/python3.9/site-packages/sklearn/utils/validation.py:63: DataConversionWarning: A column-vector y was passed when a 1d array was expected. Please change the shape of y to (n_samples, ), for example using ravel().\n",
      "  return f(*args, **kwargs)\n"
     ]
    },
    {
     "name": "stdout",
     "output_type": "stream",
     "text": [
      "[CV 1/5] END C=158.48931924611142, epsilon=0.01, kernel=poly;, score=0.062 total time=   0.3s\n"
     ]
    },
    {
     "name": "stderr",
     "output_type": "stream",
     "text": [
      "/home/loic/Enter/envs/InternetAnalytics/lib/python3.9/site-packages/sklearn/utils/validation.py:63: DataConversionWarning: A column-vector y was passed when a 1d array was expected. Please change the shape of y to (n_samples, ), for example using ravel().\n",
      "  return f(*args, **kwargs)\n"
     ]
    },
    {
     "name": "stdout",
     "output_type": "stream",
     "text": [
      "[CV 2/5] END C=158.48931924611142, epsilon=0.01, kernel=poly;, score=-0.096 total time=   0.3s\n"
     ]
    },
    {
     "name": "stderr",
     "output_type": "stream",
     "text": [
      "/home/loic/Enter/envs/InternetAnalytics/lib/python3.9/site-packages/sklearn/utils/validation.py:63: DataConversionWarning: A column-vector y was passed when a 1d array was expected. Please change the shape of y to (n_samples, ), for example using ravel().\n",
      "  return f(*args, **kwargs)\n"
     ]
    },
    {
     "name": "stdout",
     "output_type": "stream",
     "text": [
      "[CV 3/5] END C=158.48931924611142, epsilon=0.01, kernel=poly;, score=0.106 total time=   0.3s\n"
     ]
    },
    {
     "name": "stderr",
     "output_type": "stream",
     "text": [
      "/home/loic/Enter/envs/InternetAnalytics/lib/python3.9/site-packages/sklearn/utils/validation.py:63: DataConversionWarning: A column-vector y was passed when a 1d array was expected. Please change the shape of y to (n_samples, ), for example using ravel().\n",
      "  return f(*args, **kwargs)\n"
     ]
    },
    {
     "name": "stdout",
     "output_type": "stream",
     "text": [
      "[CV 4/5] END C=158.48931924611142, epsilon=0.01, kernel=poly;, score=0.016 total time=   0.3s\n"
     ]
    },
    {
     "name": "stderr",
     "output_type": "stream",
     "text": [
      "/home/loic/Enter/envs/InternetAnalytics/lib/python3.9/site-packages/sklearn/utils/validation.py:63: DataConversionWarning: A column-vector y was passed when a 1d array was expected. Please change the shape of y to (n_samples, ), for example using ravel().\n",
      "  return f(*args, **kwargs)\n"
     ]
    },
    {
     "name": "stdout",
     "output_type": "stream",
     "text": [
      "[CV 5/5] END C=158.48931924611142, epsilon=0.01, kernel=poly;, score=0.063 total time=   0.3s\n"
     ]
    },
    {
     "name": "stderr",
     "output_type": "stream",
     "text": [
      "/home/loic/Enter/envs/InternetAnalytics/lib/python3.9/site-packages/sklearn/utils/validation.py:63: DataConversionWarning: A column-vector y was passed when a 1d array was expected. Please change the shape of y to (n_samples, ), for example using ravel().\n",
      "  return f(*args, **kwargs)\n"
     ]
    },
    {
     "name": "stdout",
     "output_type": "stream",
     "text": [
      "[CV 1/5] END C=158.48931924611142, epsilon=0.01, kernel=rbf;, score=0.437 total time=   0.5s\n"
     ]
    },
    {
     "name": "stderr",
     "output_type": "stream",
     "text": [
      "/home/loic/Enter/envs/InternetAnalytics/lib/python3.9/site-packages/sklearn/utils/validation.py:63: DataConversionWarning: A column-vector y was passed when a 1d array was expected. Please change the shape of y to (n_samples, ), for example using ravel().\n",
      "  return f(*args, **kwargs)\n"
     ]
    },
    {
     "name": "stdout",
     "output_type": "stream",
     "text": [
      "[CV 2/5] END C=158.48931924611142, epsilon=0.01, kernel=rbf;, score=0.303 total time=   0.5s\n"
     ]
    },
    {
     "name": "stderr",
     "output_type": "stream",
     "text": [
      "/home/loic/Enter/envs/InternetAnalytics/lib/python3.9/site-packages/sklearn/utils/validation.py:63: DataConversionWarning: A column-vector y was passed when a 1d array was expected. Please change the shape of y to (n_samples, ), for example using ravel().\n",
      "  return f(*args, **kwargs)\n"
     ]
    },
    {
     "name": "stdout",
     "output_type": "stream",
     "text": [
      "[CV 3/5] END C=158.48931924611142, epsilon=0.01, kernel=rbf;, score=0.403 total time=   0.4s\n"
     ]
    },
    {
     "name": "stderr",
     "output_type": "stream",
     "text": [
      "/home/loic/Enter/envs/InternetAnalytics/lib/python3.9/site-packages/sklearn/utils/validation.py:63: DataConversionWarning: A column-vector y was passed when a 1d array was expected. Please change the shape of y to (n_samples, ), for example using ravel().\n",
      "  return f(*args, **kwargs)\n"
     ]
    },
    {
     "name": "stdout",
     "output_type": "stream",
     "text": [
      "[CV 4/5] END C=158.48931924611142, epsilon=0.01, kernel=rbf;, score=0.311 total time=   0.4s\n"
     ]
    },
    {
     "name": "stderr",
     "output_type": "stream",
     "text": [
      "/home/loic/Enter/envs/InternetAnalytics/lib/python3.9/site-packages/sklearn/utils/validation.py:63: DataConversionWarning: A column-vector y was passed when a 1d array was expected. Please change the shape of y to (n_samples, ), for example using ravel().\n",
      "  return f(*args, **kwargs)\n"
     ]
    },
    {
     "name": "stdout",
     "output_type": "stream",
     "text": [
      "[CV 5/5] END C=158.48931924611142, epsilon=0.01, kernel=rbf;, score=0.424 total time=   0.4s\n"
     ]
    },
    {
     "name": "stderr",
     "output_type": "stream",
     "text": [
      "/home/loic/Enter/envs/InternetAnalytics/lib/python3.9/site-packages/sklearn/utils/validation.py:63: DataConversionWarning: A column-vector y was passed when a 1d array was expected. Please change the shape of y to (n_samples, ), for example using ravel().\n",
      "  return f(*args, **kwargs)\n"
     ]
    },
    {
     "name": "stdout",
     "output_type": "stream",
     "text": [
      "[CV 1/5] END C=158.48931924611142, epsilon=0.01, kernel=sigmoid;, score=-105.090 total time=   0.6s\n"
     ]
    },
    {
     "name": "stderr",
     "output_type": "stream",
     "text": [
      "/home/loic/Enter/envs/InternetAnalytics/lib/python3.9/site-packages/sklearn/utils/validation.py:63: DataConversionWarning: A column-vector y was passed when a 1d array was expected. Please change the shape of y to (n_samples, ), for example using ravel().\n",
      "  return f(*args, **kwargs)\n"
     ]
    },
    {
     "name": "stdout",
     "output_type": "stream",
     "text": [
      "[CV 2/5] END C=158.48931924611142, epsilon=0.01, kernel=sigmoid;, score=-82.611 total time=   0.5s\n"
     ]
    },
    {
     "name": "stderr",
     "output_type": "stream",
     "text": [
      "/home/loic/Enter/envs/InternetAnalytics/lib/python3.9/site-packages/sklearn/utils/validation.py:63: DataConversionWarning: A column-vector y was passed when a 1d array was expected. Please change the shape of y to (n_samples, ), for example using ravel().\n",
      "  return f(*args, **kwargs)\n"
     ]
    },
    {
     "name": "stdout",
     "output_type": "stream",
     "text": [
      "[CV 3/5] END C=158.48931924611142, epsilon=0.01, kernel=sigmoid;, score=-61.335 total time=   0.6s\n"
     ]
    },
    {
     "name": "stderr",
     "output_type": "stream",
     "text": [
      "/home/loic/Enter/envs/InternetAnalytics/lib/python3.9/site-packages/sklearn/utils/validation.py:63: DataConversionWarning: A column-vector y was passed when a 1d array was expected. Please change the shape of y to (n_samples, ), for example using ravel().\n",
      "  return f(*args, **kwargs)\n"
     ]
    },
    {
     "name": "stdout",
     "output_type": "stream",
     "text": [
      "[CV 4/5] END C=158.48931924611142, epsilon=0.01, kernel=sigmoid;, score=-70.432 total time=   0.7s\n"
     ]
    },
    {
     "name": "stderr",
     "output_type": "stream",
     "text": [
      "/home/loic/Enter/envs/InternetAnalytics/lib/python3.9/site-packages/sklearn/utils/validation.py:63: DataConversionWarning: A column-vector y was passed when a 1d array was expected. Please change the shape of y to (n_samples, ), for example using ravel().\n",
      "  return f(*args, **kwargs)\n"
     ]
    },
    {
     "name": "stdout",
     "output_type": "stream",
     "text": [
      "[CV 5/5] END C=158.48931924611142, epsilon=0.01, kernel=sigmoid;, score=-56.896 total time=   0.9s\n"
     ]
    },
    {
     "name": "stderr",
     "output_type": "stream",
     "text": [
      "/home/loic/Enter/envs/InternetAnalytics/lib/python3.9/site-packages/sklearn/utils/validation.py:63: DataConversionWarning: A column-vector y was passed when a 1d array was expected. Please change the shape of y to (n_samples, ), for example using ravel().\n",
      "  return f(*args, **kwargs)\n"
     ]
    },
    {
     "name": "stdout",
     "output_type": "stream",
     "text": [
      "[CV 1/5] END C=158.48931924611142, epsilon=0.31622776601683794, kernel=poly;, score=0.058 total time=   0.3s\n"
     ]
    },
    {
     "name": "stderr",
     "output_type": "stream",
     "text": [
      "/home/loic/Enter/envs/InternetAnalytics/lib/python3.9/site-packages/sklearn/utils/validation.py:63: DataConversionWarning: A column-vector y was passed when a 1d array was expected. Please change the shape of y to (n_samples, ), for example using ravel().\n",
      "  return f(*args, **kwargs)\n"
     ]
    },
    {
     "name": "stdout",
     "output_type": "stream",
     "text": [
      "[CV 2/5] END C=158.48931924611142, epsilon=0.31622776601683794, kernel=poly;, score=-0.095 total time=   0.3s\n"
     ]
    },
    {
     "name": "stderr",
     "output_type": "stream",
     "text": [
      "/home/loic/Enter/envs/InternetAnalytics/lib/python3.9/site-packages/sklearn/utils/validation.py:63: DataConversionWarning: A column-vector y was passed when a 1d array was expected. Please change the shape of y to (n_samples, ), for example using ravel().\n",
      "  return f(*args, **kwargs)\n"
     ]
    },
    {
     "name": "stdout",
     "output_type": "stream",
     "text": [
      "[CV 3/5] END C=158.48931924611142, epsilon=0.31622776601683794, kernel=poly;, score=0.104 total time=   0.3s\n"
     ]
    },
    {
     "name": "stderr",
     "output_type": "stream",
     "text": [
      "/home/loic/Enter/envs/InternetAnalytics/lib/python3.9/site-packages/sklearn/utils/validation.py:63: DataConversionWarning: A column-vector y was passed when a 1d array was expected. Please change the shape of y to (n_samples, ), for example using ravel().\n",
      "  return f(*args, **kwargs)\n"
     ]
    },
    {
     "name": "stdout",
     "output_type": "stream",
     "text": [
      "[CV 4/5] END C=158.48931924611142, epsilon=0.31622776601683794, kernel=poly;, score=0.012 total time=   0.3s\n"
     ]
    },
    {
     "name": "stderr",
     "output_type": "stream",
     "text": [
      "/home/loic/Enter/envs/InternetAnalytics/lib/python3.9/site-packages/sklearn/utils/validation.py:63: DataConversionWarning: A column-vector y was passed when a 1d array was expected. Please change the shape of y to (n_samples, ), for example using ravel().\n",
      "  return f(*args, **kwargs)\n"
     ]
    },
    {
     "name": "stdout",
     "output_type": "stream",
     "text": [
      "[CV 5/5] END C=158.48931924611142, epsilon=0.31622776601683794, kernel=poly;, score=0.060 total time=   0.4s\n"
     ]
    },
    {
     "name": "stderr",
     "output_type": "stream",
     "text": [
      "/home/loic/Enter/envs/InternetAnalytics/lib/python3.9/site-packages/sklearn/utils/validation.py:63: DataConversionWarning: A column-vector y was passed when a 1d array was expected. Please change the shape of y to (n_samples, ), for example using ravel().\n",
      "  return f(*args, **kwargs)\n"
     ]
    },
    {
     "name": "stdout",
     "output_type": "stream",
     "text": [
      "[CV 1/5] END C=158.48931924611142, epsilon=0.31622776601683794, kernel=rbf;, score=0.437 total time=   0.4s\n"
     ]
    },
    {
     "name": "stderr",
     "output_type": "stream",
     "text": [
      "/home/loic/Enter/envs/InternetAnalytics/lib/python3.9/site-packages/sklearn/utils/validation.py:63: DataConversionWarning: A column-vector y was passed when a 1d array was expected. Please change the shape of y to (n_samples, ), for example using ravel().\n",
      "  return f(*args, **kwargs)\n"
     ]
    },
    {
     "name": "stdout",
     "output_type": "stream",
     "text": [
      "[CV 2/5] END C=158.48931924611142, epsilon=0.31622776601683794, kernel=rbf;, score=0.302 total time=   0.4s\n"
     ]
    },
    {
     "name": "stderr",
     "output_type": "stream",
     "text": [
      "/home/loic/Enter/envs/InternetAnalytics/lib/python3.9/site-packages/sklearn/utils/validation.py:63: DataConversionWarning: A column-vector y was passed when a 1d array was expected. Please change the shape of y to (n_samples, ), for example using ravel().\n",
      "  return f(*args, **kwargs)\n"
     ]
    },
    {
     "name": "stdout",
     "output_type": "stream",
     "text": [
      "[CV 3/5] END C=158.48931924611142, epsilon=0.31622776601683794, kernel=rbf;, score=0.403 total time=   0.4s\n"
     ]
    },
    {
     "name": "stderr",
     "output_type": "stream",
     "text": [
      "/home/loic/Enter/envs/InternetAnalytics/lib/python3.9/site-packages/sklearn/utils/validation.py:63: DataConversionWarning: A column-vector y was passed when a 1d array was expected. Please change the shape of y to (n_samples, ), for example using ravel().\n",
      "  return f(*args, **kwargs)\n"
     ]
    },
    {
     "name": "stdout",
     "output_type": "stream",
     "text": [
      "[CV 4/5] END C=158.48931924611142, epsilon=0.31622776601683794, kernel=rbf;, score=0.312 total time=   0.4s\n"
     ]
    },
    {
     "name": "stderr",
     "output_type": "stream",
     "text": [
      "/home/loic/Enter/envs/InternetAnalytics/lib/python3.9/site-packages/sklearn/utils/validation.py:63: DataConversionWarning: A column-vector y was passed when a 1d array was expected. Please change the shape of y to (n_samples, ), for example using ravel().\n",
      "  return f(*args, **kwargs)\n"
     ]
    },
    {
     "name": "stdout",
     "output_type": "stream",
     "text": [
      "[CV 5/5] END C=158.48931924611142, epsilon=0.31622776601683794, kernel=rbf;, score=0.423 total time=   0.4s\n"
     ]
    },
    {
     "name": "stderr",
     "output_type": "stream",
     "text": [
      "/home/loic/Enter/envs/InternetAnalytics/lib/python3.9/site-packages/sklearn/utils/validation.py:63: DataConversionWarning: A column-vector y was passed when a 1d array was expected. Please change the shape of y to (n_samples, ), for example using ravel().\n",
      "  return f(*args, **kwargs)\n"
     ]
    },
    {
     "name": "stdout",
     "output_type": "stream",
     "text": [
      "[CV 1/5] END C=158.48931924611142, epsilon=0.31622776601683794, kernel=sigmoid;, score=-98.194 total time=   0.6s\n"
     ]
    },
    {
     "name": "stderr",
     "output_type": "stream",
     "text": [
      "/home/loic/Enter/envs/InternetAnalytics/lib/python3.9/site-packages/sklearn/utils/validation.py:63: DataConversionWarning: A column-vector y was passed when a 1d array was expected. Please change the shape of y to (n_samples, ), for example using ravel().\n",
      "  return f(*args, **kwargs)\n"
     ]
    },
    {
     "name": "stdout",
     "output_type": "stream",
     "text": [
      "[CV 2/5] END C=158.48931924611142, epsilon=0.31622776601683794, kernel=sigmoid;, score=-81.815 total time=   0.5s\n"
     ]
    },
    {
     "name": "stderr",
     "output_type": "stream",
     "text": [
      "/home/loic/Enter/envs/InternetAnalytics/lib/python3.9/site-packages/sklearn/utils/validation.py:63: DataConversionWarning: A column-vector y was passed when a 1d array was expected. Please change the shape of y to (n_samples, ), for example using ravel().\n",
      "  return f(*args, **kwargs)\n"
     ]
    },
    {
     "name": "stdout",
     "output_type": "stream",
     "text": [
      "[CV 3/5] END C=158.48931924611142, epsilon=0.31622776601683794, kernel=sigmoid;, score=-60.675 total time=   0.5s\n"
     ]
    },
    {
     "name": "stderr",
     "output_type": "stream",
     "text": [
      "/home/loic/Enter/envs/InternetAnalytics/lib/python3.9/site-packages/sklearn/utils/validation.py:63: DataConversionWarning: A column-vector y was passed when a 1d array was expected. Please change the shape of y to (n_samples, ), for example using ravel().\n",
      "  return f(*args, **kwargs)\n"
     ]
    },
    {
     "name": "stdout",
     "output_type": "stream",
     "text": [
      "[CV 4/5] END C=158.48931924611142, epsilon=0.31622776601683794, kernel=sigmoid;, score=-72.629 total time=   0.6s\n"
     ]
    },
    {
     "name": "stderr",
     "output_type": "stream",
     "text": [
      "/home/loic/Enter/envs/InternetAnalytics/lib/python3.9/site-packages/sklearn/utils/validation.py:63: DataConversionWarning: A column-vector y was passed when a 1d array was expected. Please change the shape of y to (n_samples, ), for example using ravel().\n",
      "  return f(*args, **kwargs)\n"
     ]
    },
    {
     "name": "stdout",
     "output_type": "stream",
     "text": [
      "[CV 5/5] END C=158.48931924611142, epsilon=0.31622776601683794, kernel=sigmoid;, score=-70.353 total time=   0.8s\n",
      "[CV 1/5] END C=158.48931924611142, epsilon=10.0, kernel=poly;, score=-0.159 total time=   0.1s\n"
     ]
    },
    {
     "name": "stderr",
     "output_type": "stream",
     "text": [
      "/home/loic/Enter/envs/InternetAnalytics/lib/python3.9/site-packages/sklearn/utils/validation.py:63: DataConversionWarning: A column-vector y was passed when a 1d array was expected. Please change the shape of y to (n_samples, ), for example using ravel().\n",
      "  return f(*args, **kwargs)\n",
      "/home/loic/Enter/envs/InternetAnalytics/lib/python3.9/site-packages/sklearn/utils/validation.py:63: DataConversionWarning: A column-vector y was passed when a 1d array was expected. Please change the shape of y to (n_samples, ), for example using ravel().\n",
      "  return f(*args, **kwargs)\n"
     ]
    },
    {
     "name": "stdout",
     "output_type": "stream",
     "text": [
      "[CV 2/5] END C=158.48931924611142, epsilon=10.0, kernel=poly;, score=-0.088 total time=   0.1s\n",
      "[CV 3/5] END C=158.48931924611142, epsilon=10.0, kernel=poly;, score=-0.039 total time=   0.1s\n"
     ]
    },
    {
     "name": "stderr",
     "output_type": "stream",
     "text": [
      "/home/loic/Enter/envs/InternetAnalytics/lib/python3.9/site-packages/sklearn/utils/validation.py:63: DataConversionWarning: A column-vector y was passed when a 1d array was expected. Please change the shape of y to (n_samples, ), for example using ravel().\n",
      "  return f(*args, **kwargs)\n",
      "/home/loic/Enter/envs/InternetAnalytics/lib/python3.9/site-packages/sklearn/utils/validation.py:63: DataConversionWarning: A column-vector y was passed when a 1d array was expected. Please change the shape of y to (n_samples, ), for example using ravel().\n",
      "  return f(*args, **kwargs)\n"
     ]
    },
    {
     "name": "stdout",
     "output_type": "stream",
     "text": [
      "[CV 4/5] END C=158.48931924611142, epsilon=10.0, kernel=poly;, score=-0.141 total time=   0.1s\n",
      "[CV 5/5] END C=158.48931924611142, epsilon=10.0, kernel=poly;, score=-0.014 total time=   0.1s\n"
     ]
    },
    {
     "name": "stderr",
     "output_type": "stream",
     "text": [
      "/home/loic/Enter/envs/InternetAnalytics/lib/python3.9/site-packages/sklearn/utils/validation.py:63: DataConversionWarning: A column-vector y was passed when a 1d array was expected. Please change the shape of y to (n_samples, ), for example using ravel().\n",
      "  return f(*args, **kwargs)\n",
      "/home/loic/Enter/envs/InternetAnalytics/lib/python3.9/site-packages/sklearn/utils/validation.py:63: DataConversionWarning: A column-vector y was passed when a 1d array was expected. Please change the shape of y to (n_samples, ), for example using ravel().\n",
      "  return f(*args, **kwargs)\n"
     ]
    },
    {
     "name": "stdout",
     "output_type": "stream",
     "text": [
      "[CV 1/5] END C=158.48931924611142, epsilon=10.0, kernel=rbf;, score=0.240 total time=   0.1s\n",
      "[CV 2/5] END C=158.48931924611142, epsilon=10.0, kernel=rbf;, score=0.170 total time=   0.1s\n"
     ]
    },
    {
     "name": "stderr",
     "output_type": "stream",
     "text": [
      "/home/loic/Enter/envs/InternetAnalytics/lib/python3.9/site-packages/sklearn/utils/validation.py:63: DataConversionWarning: A column-vector y was passed when a 1d array was expected. Please change the shape of y to (n_samples, ), for example using ravel().\n",
      "  return f(*args, **kwargs)\n",
      "/home/loic/Enter/envs/InternetAnalytics/lib/python3.9/site-packages/sklearn/utils/validation.py:63: DataConversionWarning: A column-vector y was passed when a 1d array was expected. Please change the shape of y to (n_samples, ), for example using ravel().\n",
      "  return f(*args, **kwargs)\n"
     ]
    },
    {
     "name": "stdout",
     "output_type": "stream",
     "text": [
      "[CV 3/5] END C=158.48931924611142, epsilon=10.0, kernel=rbf;, score=0.242 total time=   0.1s\n",
      "[CV 4/5] END C=158.48931924611142, epsilon=10.0, kernel=rbf;, score=0.156 total time=   0.1s\n",
      "[CV 5/5] END C=158.48931924611142, epsilon=10.0, kernel=rbf;, score=0.257 total time=   0.1s\n"
     ]
    },
    {
     "name": "stderr",
     "output_type": "stream",
     "text": [
      "/home/loic/Enter/envs/InternetAnalytics/lib/python3.9/site-packages/sklearn/utils/validation.py:63: DataConversionWarning: A column-vector y was passed when a 1d array was expected. Please change the shape of y to (n_samples, ), for example using ravel().\n",
      "  return f(*args, **kwargs)\n",
      "/home/loic/Enter/envs/InternetAnalytics/lib/python3.9/site-packages/sklearn/utils/validation.py:63: DataConversionWarning: A column-vector y was passed when a 1d array was expected. Please change the shape of y to (n_samples, ), for example using ravel().\n",
      "  return f(*args, **kwargs)\n",
      "/home/loic/Enter/envs/InternetAnalytics/lib/python3.9/site-packages/sklearn/utils/validation.py:63: DataConversionWarning: A column-vector y was passed when a 1d array was expected. Please change the shape of y to (n_samples, ), for example using ravel().\n",
      "  return f(*args, **kwargs)\n"
     ]
    },
    {
     "name": "stdout",
     "output_type": "stream",
     "text": [
      "[CV 1/5] END C=158.48931924611142, epsilon=10.0, kernel=sigmoid;, score=-101.151 total time=   0.7s\n"
     ]
    },
    {
     "name": "stderr",
     "output_type": "stream",
     "text": [
      "/home/loic/Enter/envs/InternetAnalytics/lib/python3.9/site-packages/sklearn/utils/validation.py:63: DataConversionWarning: A column-vector y was passed when a 1d array was expected. Please change the shape of y to (n_samples, ), for example using ravel().\n",
      "  return f(*args, **kwargs)\n"
     ]
    },
    {
     "name": "stdout",
     "output_type": "stream",
     "text": [
      "[CV 2/5] END C=158.48931924611142, epsilon=10.0, kernel=sigmoid;, score=-80.601 total time=   0.7s\n"
     ]
    },
    {
     "name": "stderr",
     "output_type": "stream",
     "text": [
      "/home/loic/Enter/envs/InternetAnalytics/lib/python3.9/site-packages/sklearn/utils/validation.py:63: DataConversionWarning: A column-vector y was passed when a 1d array was expected. Please change the shape of y to (n_samples, ), for example using ravel().\n",
      "  return f(*args, **kwargs)\n"
     ]
    },
    {
     "name": "stdout",
     "output_type": "stream",
     "text": [
      "[CV 3/5] END C=158.48931924611142, epsilon=10.0, kernel=sigmoid;, score=-69.994 total time=   0.9s\n"
     ]
    },
    {
     "name": "stderr",
     "output_type": "stream",
     "text": [
      "/home/loic/Enter/envs/InternetAnalytics/lib/python3.9/site-packages/sklearn/utils/validation.py:63: DataConversionWarning: A column-vector y was passed when a 1d array was expected. Please change the shape of y to (n_samples, ), for example using ravel().\n",
      "  return f(*args, **kwargs)\n"
     ]
    },
    {
     "name": "stdout",
     "output_type": "stream",
     "text": [
      "[CV 4/5] END C=158.48931924611142, epsilon=10.0, kernel=sigmoid;, score=-73.948 total time=   0.9s\n"
     ]
    },
    {
     "name": "stderr",
     "output_type": "stream",
     "text": [
      "/home/loic/Enter/envs/InternetAnalytics/lib/python3.9/site-packages/sklearn/utils/validation.py:63: DataConversionWarning: A column-vector y was passed when a 1d array was expected. Please change the shape of y to (n_samples, ), for example using ravel().\n",
      "  return f(*args, **kwargs)\n"
     ]
    },
    {
     "name": "stdout",
     "output_type": "stream",
     "text": [
      "[CV 5/5] END C=158.48931924611142, epsilon=10.0, kernel=sigmoid;, score=-66.738 total time=   0.9s\n"
     ]
    },
    {
     "name": "stderr",
     "output_type": "stream",
     "text": [
      "/home/loic/Enter/envs/InternetAnalytics/lib/python3.9/site-packages/sklearn/utils/validation.py:63: DataConversionWarning: A column-vector y was passed when a 1d array was expected. Please change the shape of y to (n_samples, ), for example using ravel().\n",
      "  return f(*args, **kwargs)\n"
     ]
    },
    {
     "name": "stdout",
     "output_type": "stream",
     "text": [
      "The best validation score obtained is 0.39818 with\n",
      "    \tkernel: rbf\n",
      "    \tC: 13.593563908785255\n",
      "    \tepsilon: 0.31622776601683794\n"
     ]
    }
   ],
   "source": [
    "gs = model(X_train_selected_features, y_train_no_outliers)"
   ]
  },
  {
   "cell_type": "code",
   "execution_count": 20,
   "id": "otherwise-leather",
   "metadata": {},
   "outputs": [],
   "source": [
    "prediction = pd.DataFrame(gs.predict(X_test_selected_features))\n",
    "SUB_ID = 6 #to modify\n",
    "create_submission(prediction, SUB_ID)"
   ]
  }
 ],
 "metadata": {
  "kernelspec": {
   "display_name": "Python 3",
   "language": "python",
   "name": "python3"
  },
  "language_info": {
   "codemirror_mode": {
    "name": "ipython",
    "version": 3
   },
   "file_extension": ".py",
   "mimetype": "text/x-python",
   "name": "python",
   "nbconvert_exporter": "python",
   "pygments_lexer": "ipython3",
   "version": "3.9.1"
  }
 },
 "nbformat": 4,
 "nbformat_minor": 5
}
