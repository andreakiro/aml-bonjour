{
 "cells": [
  {
   "cell_type": "markdown",
   "id": "3b29a996",
   "metadata": {},
   "source": [
    "# AML — Task 1\n",
    "## Predict the age of a brain from MRI features\n",
    "---"
   ]
  },
  {
   "cell_type": "code",
   "execution_count": 1,
   "id": "60c096f1",
   "metadata": {},
   "outputs": [],
   "source": [
    "import numpy as np\n",
    "import pandas as pd\n",
    "from scipy.stats import zscore\n",
    "from pandas_profiling import ProfileReport"
   ]
  },
  {
   "cell_type": "code",
   "execution_count": 2,
   "id": "8f415c99",
   "metadata": {},
   "outputs": [],
   "source": [
    "from sklearn.pipeline import Pipeline\n",
    "from sklearn.impute import KNNImputer\n",
    "from sklearn.linear_model import Lasso\n",
    "from sklearn.metrics import r2_score\n",
    "from sklearn.preprocessing import StandardScaler"
   ]
  },
  {
   "cell_type": "markdown",
   "id": "e93bf9ea",
   "metadata": {},
   "source": [
    "## Import datasets"
   ]
  },
  {
   "cell_type": "code",
   "execution_count": 24,
   "id": "55477a67",
   "metadata": {},
   "outputs": [],
   "source": [
    "X_train = pd.read_csv('data/X_train.csv').drop(columns=['id'])\n",
    "y_train = pd.read_csv('data/y_train.csv').drop(columns=['id'])"
   ]
  },
  {
   "cell_type": "code",
   "execution_count": 25,
   "id": "92636b3b",
   "metadata": {},
   "outputs": [],
   "source": [
    "X_test = pd.read_csv('data/X_test.csv').drop(columns=['id'])"
   ]
  },
  {
   "cell_type": "markdown",
   "id": "df158c4a",
   "metadata": {},
   "source": [
    "## Explore datasets"
   ]
  },
  {
   "cell_type": "code",
   "execution_count": 5,
   "id": "4e8a495a",
   "metadata": {},
   "outputs": [
    {
     "data": {
      "text/html": [
       "<div>\n",
       "<style scoped>\n",
       "    .dataframe tbody tr th:only-of-type {\n",
       "        vertical-align: middle;\n",
       "    }\n",
       "\n",
       "    .dataframe tbody tr th {\n",
       "        vertical-align: top;\n",
       "    }\n",
       "\n",
       "    .dataframe thead th {\n",
       "        text-align: right;\n",
       "    }\n",
       "</style>\n",
       "<table border=\"1\" class=\"dataframe\">\n",
       "  <thead>\n",
       "    <tr style=\"text-align: right;\">\n",
       "      <th></th>\n",
       "      <th>x0</th>\n",
       "      <th>x1</th>\n",
       "      <th>x2</th>\n",
       "      <th>x3</th>\n",
       "      <th>x4</th>\n",
       "      <th>x5</th>\n",
       "      <th>x6</th>\n",
       "      <th>x7</th>\n",
       "      <th>x8</th>\n",
       "      <th>x9</th>\n",
       "      <th>...</th>\n",
       "      <th>x822</th>\n",
       "      <th>x823</th>\n",
       "      <th>x824</th>\n",
       "      <th>x825</th>\n",
       "      <th>x826</th>\n",
       "      <th>x827</th>\n",
       "      <th>x828</th>\n",
       "      <th>x829</th>\n",
       "      <th>x830</th>\n",
       "      <th>x831</th>\n",
       "    </tr>\n",
       "  </thead>\n",
       "  <tbody>\n",
       "    <tr>\n",
       "      <th>count</th>\n",
       "      <td>1118.000000</td>\n",
       "      <td>1114.000000</td>\n",
       "      <td>1117.000000</td>\n",
       "      <td>1106.000000</td>\n",
       "      <td>1.117000e+03</td>\n",
       "      <td>1128.000000</td>\n",
       "      <td>1105.000000</td>\n",
       "      <td>1127.000000</td>\n",
       "      <td>1.116000e+03</td>\n",
       "      <td>1124.000000</td>\n",
       "      <td>...</td>\n",
       "      <td>1.134000e+03</td>\n",
       "      <td>1125.000000</td>\n",
       "      <td>1098.000000</td>\n",
       "      <td>1121.000000</td>\n",
       "      <td>1120.000000</td>\n",
       "      <td>1109.000000</td>\n",
       "      <td>1115.000000</td>\n",
       "      <td>1.112000e+03</td>\n",
       "      <td>1124.000000</td>\n",
       "      <td>1091.000000</td>\n",
       "    </tr>\n",
       "    <tr>\n",
       "      <th>mean</th>\n",
       "      <td>10.026057</td>\n",
       "      <td>832442.859290</td>\n",
       "      <td>20585.524887</td>\n",
       "      <td>1048.958235</td>\n",
       "      <td>1.000291e+06</td>\n",
       "      <td>10.085010</td>\n",
       "      <td>597900.429955</td>\n",
       "      <td>10389.657239</td>\n",
       "      <td>9.998422e+05</td>\n",
       "      <td>785176.225858</td>\n",
       "      <td>...</td>\n",
       "      <td>1.049674e+06</td>\n",
       "      <td>-876.044006</td>\n",
       "      <td>13492.600186</td>\n",
       "      <td>10.554762</td>\n",
       "      <td>10.057767</td>\n",
       "      <td>1066.141107</td>\n",
       "      <td>10.008269</td>\n",
       "      <td>1.050199e+06</td>\n",
       "      <td>99798.480171</td>\n",
       "      <td>104903.905758</td>\n",
       "    </tr>\n",
       "    <tr>\n",
       "      <th>std</th>\n",
       "      <td>0.968347</td>\n",
       "      <td>0.028258</td>\n",
       "      <td>0.029051</td>\n",
       "      <td>28.430733</td>\n",
       "      <td>9.740891e+04</td>\n",
       "      <td>0.968026</td>\n",
       "      <td>0.028128</td>\n",
       "      <td>1655.843472</td>\n",
       "      <td>1.022441e+05</td>\n",
       "      <td>0.028799</td>\n",
       "      <td>...</td>\n",
       "      <td>2.839579e+04</td>\n",
       "      <td>164.585576</td>\n",
       "      <td>2519.835006</td>\n",
       "      <td>0.283844</td>\n",
       "      <td>0.982656</td>\n",
       "      <td>226.606986</td>\n",
       "      <td>1.018930</td>\n",
       "      <td>2.814210e+04</td>\n",
       "      <td>9576.128720</td>\n",
       "      <td>2768.405350</td>\n",
       "    </tr>\n",
       "    <tr>\n",
       "      <th>min</th>\n",
       "      <td>6.672068</td>\n",
       "      <td>832442.808579</td>\n",
       "      <td>20585.473808</td>\n",
       "      <td>1000.063783</td>\n",
       "      <td>6.800215e+05</td>\n",
       "      <td>6.984052</td>\n",
       "      <td>597900.381003</td>\n",
       "      <td>3644.074892</td>\n",
       "      <td>6.095730e+05</td>\n",
       "      <td>785176.176297</td>\n",
       "      <td>...</td>\n",
       "      <td>1.000105e+06</td>\n",
       "      <td>-1597.766964</td>\n",
       "      <td>2536.030655</td>\n",
       "      <td>10.010366</td>\n",
       "      <td>6.841039</td>\n",
       "      <td>496.007706</td>\n",
       "      <td>6.466963</td>\n",
       "      <td>1.000002e+06</td>\n",
       "      <td>73207.994891</td>\n",
       "      <td>100012.896777</td>\n",
       "    </tr>\n",
       "    <tr>\n",
       "      <th>25%</th>\n",
       "      <td>9.381273</td>\n",
       "      <td>832442.835941</td>\n",
       "      <td>20585.501013</td>\n",
       "      <td>1024.969967</td>\n",
       "      <td>9.360882e+05</td>\n",
       "      <td>9.470582</td>\n",
       "      <td>597900.406110</td>\n",
       "      <td>9339.537887</td>\n",
       "      <td>9.322937e+05</td>\n",
       "      <td>785176.201279</td>\n",
       "      <td>...</td>\n",
       "      <td>1.025054e+06</td>\n",
       "      <td>-975.398714</td>\n",
       "      <td>11947.954006</td>\n",
       "      <td>10.321039</td>\n",
       "      <td>9.379001</td>\n",
       "      <td>899.067501</td>\n",
       "      <td>9.325229</td>\n",
       "      <td>1.027575e+06</td>\n",
       "      <td>93416.252400</td>\n",
       "      <td>102596.190683</td>\n",
       "    </tr>\n",
       "    <tr>\n",
       "      <th>50%</th>\n",
       "      <td>10.000079</td>\n",
       "      <td>832442.860041</td>\n",
       "      <td>20585.524817</td>\n",
       "      <td>1047.985497</td>\n",
       "      <td>1.000557e+06</td>\n",
       "      <td>10.089601</td>\n",
       "      <td>597900.429787</td>\n",
       "      <td>10295.013382</td>\n",
       "      <td>1.001261e+06</td>\n",
       "      <td>785176.225608</td>\n",
       "      <td>...</td>\n",
       "      <td>1.049296e+06</td>\n",
       "      <td>-875.508235</td>\n",
       "      <td>13352.186179</td>\n",
       "      <td>10.554260</td>\n",
       "      <td>10.114370</td>\n",
       "      <td>1049.027077</td>\n",
       "      <td>10.005684</td>\n",
       "      <td>1.050262e+06</td>\n",
       "      <td>99802.127899</td>\n",
       "      <td>104846.235709</td>\n",
       "    </tr>\n",
       "    <tr>\n",
       "      <th>75%</th>\n",
       "      <td>10.664998</td>\n",
       "      <td>832442.882951</td>\n",
       "      <td>20585.550525</td>\n",
       "      <td>1073.180317</td>\n",
       "      <td>1.064617e+06</td>\n",
       "      <td>10.752707</td>\n",
       "      <td>597900.452983</td>\n",
       "      <td>11304.073469</td>\n",
       "      <td>1.068359e+06</td>\n",
       "      <td>785176.250421</td>\n",
       "      <td>...</td>\n",
       "      <td>1.074354e+06</td>\n",
       "      <td>-773.174562</td>\n",
       "      <td>14893.726023</td>\n",
       "      <td>10.792195</td>\n",
       "      <td>10.745370</td>\n",
       "      <td>1215.057985</td>\n",
       "      <td>10.658120</td>\n",
       "      <td>1.073831e+06</td>\n",
       "      <td>106400.748441</td>\n",
       "      <td>107098.669350</td>\n",
       "    </tr>\n",
       "    <tr>\n",
       "      <th>max</th>\n",
       "      <td>12.956099</td>\n",
       "      <td>832442.908334</td>\n",
       "      <td>20585.573514</td>\n",
       "      <td>1099.977638</td>\n",
       "      <td>1.331630e+06</td>\n",
       "      <td>12.747734</td>\n",
       "      <td>597900.480810</td>\n",
       "      <td>17347.531573</td>\n",
       "      <td>1.284804e+06</td>\n",
       "      <td>785176.276168</td>\n",
       "      <td>...</td>\n",
       "      <td>1.099771e+06</td>\n",
       "      <td>-281.030205</td>\n",
       "      <td>24815.260375</td>\n",
       "      <td>11.091050</td>\n",
       "      <td>13.530204</td>\n",
       "      <td>2122.032859</td>\n",
       "      <td>13.163113</td>\n",
       "      <td>1.099918e+06</td>\n",
       "      <td>130694.436443</td>\n",
       "      <td>109984.169649</td>\n",
       "    </tr>\n",
       "  </tbody>\n",
       "</table>\n",
       "<p>8 rows × 832 columns</p>\n",
       "</div>"
      ],
      "text/plain": [
       "                x0             x1            x2           x3            x4  \\\n",
       "count  1118.000000    1114.000000   1117.000000  1106.000000  1.117000e+03   \n",
       "mean     10.026057  832442.859290  20585.524887  1048.958235  1.000291e+06   \n",
       "std       0.968347       0.028258      0.029051    28.430733  9.740891e+04   \n",
       "min       6.672068  832442.808579  20585.473808  1000.063783  6.800215e+05   \n",
       "25%       9.381273  832442.835941  20585.501013  1024.969967  9.360882e+05   \n",
       "50%      10.000079  832442.860041  20585.524817  1047.985497  1.000557e+06   \n",
       "75%      10.664998  832442.882951  20585.550525  1073.180317  1.064617e+06   \n",
       "max      12.956099  832442.908334  20585.573514  1099.977638  1.331630e+06   \n",
       "\n",
       "                x5             x6            x7            x8             x9  \\\n",
       "count  1128.000000    1105.000000   1127.000000  1.116000e+03    1124.000000   \n",
       "mean     10.085010  597900.429955  10389.657239  9.998422e+05  785176.225858   \n",
       "std       0.968026       0.028128   1655.843472  1.022441e+05       0.028799   \n",
       "min       6.984052  597900.381003   3644.074892  6.095730e+05  785176.176297   \n",
       "25%       9.470582  597900.406110   9339.537887  9.322937e+05  785176.201279   \n",
       "50%      10.089601  597900.429787  10295.013382  1.001261e+06  785176.225608   \n",
       "75%      10.752707  597900.452983  11304.073469  1.068359e+06  785176.250421   \n",
       "max      12.747734  597900.480810  17347.531573  1.284804e+06  785176.276168   \n",
       "\n",
       "       ...          x822         x823          x824         x825         x826  \\\n",
       "count  ...  1.134000e+03  1125.000000   1098.000000  1121.000000  1120.000000   \n",
       "mean   ...  1.049674e+06  -876.044006  13492.600186    10.554762    10.057767   \n",
       "std    ...  2.839579e+04   164.585576   2519.835006     0.283844     0.982656   \n",
       "min    ...  1.000105e+06 -1597.766964   2536.030655    10.010366     6.841039   \n",
       "25%    ...  1.025054e+06  -975.398714  11947.954006    10.321039     9.379001   \n",
       "50%    ...  1.049296e+06  -875.508235  13352.186179    10.554260    10.114370   \n",
       "75%    ...  1.074354e+06  -773.174562  14893.726023    10.792195    10.745370   \n",
       "max    ...  1.099771e+06  -281.030205  24815.260375    11.091050    13.530204   \n",
       "\n",
       "              x827         x828          x829           x830           x831  \n",
       "count  1109.000000  1115.000000  1.112000e+03    1124.000000    1091.000000  \n",
       "mean   1066.141107    10.008269  1.050199e+06   99798.480171  104903.905758  \n",
       "std     226.606986     1.018930  2.814210e+04    9576.128720    2768.405350  \n",
       "min     496.007706     6.466963  1.000002e+06   73207.994891  100012.896777  \n",
       "25%     899.067501     9.325229  1.027575e+06   93416.252400  102596.190683  \n",
       "50%    1049.027077    10.005684  1.050262e+06   99802.127899  104846.235709  \n",
       "75%    1215.057985    10.658120  1.073831e+06  106400.748441  107098.669350  \n",
       "max    2122.032859    13.163113  1.099918e+06  130694.436443  109984.169649  \n",
       "\n",
       "[8 rows x 832 columns]"
      ]
     },
     "execution_count": 5,
     "metadata": {},
     "output_type": "execute_result"
    }
   ],
   "source": [
    "X_train.describe()"
   ]
  },
  {
   "cell_type": "code",
   "execution_count": 6,
   "id": "fc64ae57",
   "metadata": {},
   "outputs": [
    {
     "data": {
      "text/plain": [
       "<AxesSubplot:>"
      ]
     },
     "execution_count": 6,
     "metadata": {},
     "output_type": "execute_result"
    }
   ],
   "source": [
    "# Quick look at outliers whiskers are at 1.5 IQR\n",
    "X_train.boxplot(column=['x543'])"
   ]
  },
  {
   "cell_type": "markdown",
   "id": "d11e7354",
   "metadata": {},
   "source": [
    "---\n",
    "## Outlier detection"
   ]
  },
  {
   "cell_type": "markdown",
   "id": "7be1e2b4",
   "metadata": {},
   "source": [
    "### Method 1: IQR\n",
    "- Drop every sample rows with any feature that is an outlier.\n",
    "- This method is not conclusive as it drops way too many samples."
   ]
  },
  {
   "cell_type": "code",
   "execution_count": 7,
   "id": "7fc0f6e9",
   "metadata": {},
   "outputs": [],
   "source": [
    "Q1 = X_train.quantile(0.25)\n",
    "Q3 = X_train.quantile(0.75)\n",
    "IQR = Q3 - Q1"
   ]
  },
  {
   "cell_type": "code",
   "execution_count": 8,
   "id": "538e211e",
   "metadata": {},
   "outputs": [],
   "source": [
    "no_outliers = X_train[~((X_train < (Q1 - 1.5 * IQR)) | (X_train > (Q3 + 1.5 * IQR))).any(axis=1)]"
   ]
  },
  {
   "cell_type": "code",
   "execution_count": 9,
   "id": "6fc6e4f9",
   "metadata": {},
   "outputs": [
    {
     "name": "stdout",
     "output_type": "stream",
     "text": [
      "We dropped 1176 samples and have now 36 of them.\n"
     ]
    }
   ],
   "source": [
    "print(f'We dropped {X_train.shape[0] - no_outliers.shape[0]} samples and have now {no_outliers.shape[0]} of them.') "
   ]
  },
  {
   "cell_type": "markdown",
   "id": "572ccf07",
   "metadata": {},
   "source": [
    "### Method 2: Z-score\n",
    "- For every features we compute the absolute `z-score` of each sample of that feature.\n",
    "- We then replace all scores above a tunable threshold by NaN values (filters the outliers)."
   ]
  },
  {
   "cell_type": "code",
   "execution_count": 10,
   "id": "81b93706",
   "metadata": {},
   "outputs": [],
   "source": [
    "X_train_abs_z_scores = np.abs(zscore(X_train, nan_policy='omit'))\n",
    "X_train = X_train[(X_train_abs_z_scores < 3)]"
   ]
  },
  {
   "cell_type": "markdown",
   "id": "171f222c",
   "metadata": {},
   "source": [
    "---\n",
    "## Pipeline Models"
   ]
  },
  {
   "cell_type": "markdown",
   "id": "cabbe3f4",
   "metadata": {},
   "source": [
    "### Pipeline 1: Lasso Regression\n",
    "\n",
    "1. **Imputation of missing values** using sklearn `KNN Impute`\n",
    "2. **Data normalization** using sklear `Standard Scale`\n",
    "3. **Feature selection** using sklearn `Lasso Regression`"
   ]
  },
  {
   "cell_type": "code",
   "execution_count": 11,
   "id": "5118d370",
   "metadata": {},
   "outputs": [],
   "source": [
    "pipe1 = Pipeline([\n",
    "    ('imputer', KNNImputer()), \n",
    "    ('scaler', StandardScaler()), \n",
    "    ('lasso', Lasso(alpha=0.1, max_iter=100000))\n",
    "])"
   ]
  },
  {
   "cell_type": "code",
   "execution_count": 12,
   "id": "af648eb7",
   "metadata": {},
   "outputs": [
    {
     "data": {
      "text/plain": [
       "Pipeline(steps=[('imputer', KNNImputer()), ('scaler', StandardScaler()),\n",
       "                ('lasso', Lasso(alpha=0.1, max_iter=100000))])"
      ]
     },
     "execution_count": 12,
     "metadata": {},
     "output_type": "execute_result"
    }
   ],
   "source": [
    "pipe1.fit(X_train, y_train)"
   ]
  },
  {
   "cell_type": "code",
   "execution_count": 22,
   "id": "6b2eb360",
   "metadata": {},
   "outputs": [
    {
     "ename": "NameError",
     "evalue": "name 'pipe1' is not defined",
     "output_type": "error",
     "traceback": [
      "\u001b[0;31m---------------------------------------------------------------------------\u001b[0m",
      "\u001b[0;31mNameError\u001b[0m                                 Traceback (most recent call last)",
      "\u001b[0;32m/var/folders/sh/10_tp4x11_q621z94qxqh7x40000gn/T/ipykernel_14304/113233697.py\u001b[0m in \u001b[0;36m<module>\u001b[0;34m\u001b[0m\n\u001b[0;32m----> 1\u001b[0;31m \u001b[0mpipe1\u001b[0m\u001b[0;34m.\u001b[0m\u001b[0mscore\u001b[0m\u001b[0;34m(\u001b[0m\u001b[0mX_train\u001b[0m\u001b[0;34m,\u001b[0m \u001b[0my_train\u001b[0m\u001b[0;34m)\u001b[0m\u001b[0;34m\u001b[0m\u001b[0;34m\u001b[0m\u001b[0m\n\u001b[0m",
      "\u001b[0;31mNameError\u001b[0m: name 'pipe1' is not defined"
     ]
    }
   ],
   "source": [
    "pipe1.score(X_train, y_train)"
   ]
  },
  {
   "cell_type": "code",
   "execution_count": 35,
   "id": "a6be7927",
   "metadata": {
    "scrolled": true
   },
   "outputs": [
    {
     "data": {
      "text/plain": [
       "<AxesSubplot:ylabel='Frequency'>"
      ]
     },
     "execution_count": 35,
     "metadata": {},
     "output_type": "execute_result"
    },
    {
     "data": {
      "image/png": "[encoded data removed]",
      "text/plain": [
       "<Figure size 432x288 with 1 Axes>"
      ]
     },
     "metadata": {
      "needs_background": "light"
     },
     "output_type": "display_data"
    }
   ],
   "source": [
    "X_train['x400'].plot.hist()"
   ]
  },
  {
   "cell_type": "code",
   "execution_count": 32,
   "id": "40186efd",
   "metadata": {},
   "outputs": [
    {
     "data": {
      "text/html": [
       "<div>\n",
       "<style scoped>\n",
       "    .dataframe tbody tr th:only-of-type {\n",
       "        vertical-align: middle;\n",
       "    }\n",
       "\n",
       "    .dataframe tbody tr th {\n",
       "        vertical-align: top;\n",
       "    }\n",
       "\n",
       "    .dataframe thead th {\n",
       "        text-align: right;\n",
       "    }\n",
       "</style>\n",
       "<table border=\"1\" class=\"dataframe\">\n",
       "  <thead>\n",
       "    <tr style=\"text-align: right;\">\n",
       "      <th></th>\n",
       "      <th>y</th>\n",
       "    </tr>\n",
       "  </thead>\n",
       "  <tbody>\n",
       "    <tr>\n",
       "      <th>count</th>\n",
       "      <td>1212.000000</td>\n",
       "    </tr>\n",
       "    <tr>\n",
       "      <th>mean</th>\n",
       "      <td>69.665842</td>\n",
       "    </tr>\n",
       "    <tr>\n",
       "      <th>std</th>\n",
       "      <td>9.831347</td>\n",
       "    </tr>\n",
       "    <tr>\n",
       "      <th>min</th>\n",
       "      <td>42.000000</td>\n",
       "    </tr>\n",
       "    <tr>\n",
       "      <th>25%</th>\n",
       "      <td>64.000000</td>\n",
       "    </tr>\n",
       "    <tr>\n",
       "      <th>50%</th>\n",
       "      <td>70.000000</td>\n",
       "    </tr>\n",
       "    <tr>\n",
       "      <th>75%</th>\n",
       "      <td>76.000000</td>\n",
       "    </tr>\n",
       "    <tr>\n",
       "      <th>max</th>\n",
       "      <td>97.000000</td>\n",
       "    </tr>\n",
       "  </tbody>\n",
       "</table>\n",
       "</div>"
      ],
      "text/plain": [
       "                 y\n",
       "count  1212.000000\n",
       "mean     69.665842\n",
       "std       9.831347\n",
       "min      42.000000\n",
       "25%      64.000000\n",
       "50%      70.000000\n",
       "75%      76.000000\n",
       "max      97.000000"
      ]
     },
     "execution_count": 32,
     "metadata": {},
     "output_type": "execute_result"
    }
   ],
   "source": [
    "y_train.describe()"
   ]
  },
  {
   "cell_type": "code",
   "execution_count": null,
   "id": "7fd260f1",
   "metadata": {},
   "outputs": [],
   "source": []
  },
  {
   "cell_type": "markdown",
   "id": "9b2d68dc",
   "metadata": {},
   "source": [
    "## Predict"
   ]
  },
  {
   "cell_type": "code",
   "execution_count": 14,
   "id": "3ff3b596",
   "metadata": {},
   "outputs": [],
   "source": [
    "prediction = pd.DataFrame(pipe1.predict(X_test))"
   ]
  },
  {
   "cell_type": "markdown",
   "id": "51aeb0ce",
   "metadata": {},
   "source": [
    "## Output solution"
   ]
  },
  {
   "cell_type": "code",
   "execution_count": 15,
   "id": "de743799",
   "metadata": {},
   "outputs": [],
   "source": [
    "sub_id = 2\n",
    "basepath = 'submissions/task1-sub'"
   ]
  },
  {
   "cell_type": "code",
   "execution_count": 16,
   "id": "7c535f1b",
   "metadata": {},
   "outputs": [],
   "source": [
    "result = prediction.copy()\n",
    "result = result.rename(columns={0: 'y'})\n",
    "result['id'] = range(0, len(result))\n",
    "result = result[['id', 'y']]"
   ]
  },
  {
   "cell_type": "code",
   "execution_count": 17,
   "id": "4ead8651",
   "metadata": {},
   "outputs": [],
   "source": [
    "result.to_csv(basepath+str(sub_id) + '.csv', index=False)"
   ]
  }
 ],
 "metadata": {
  "kernelspec": {
   "display_name": "Python 3 (ipykernel)",
   "language": "python",
   "name": "python3"
  },
  "language_info": {
   "codemirror_mode": {
    "name": "ipython",
    "version": 3
   },
   "file_extension": ".py",
   "mimetype": "text/x-python",
   "name": "python",
   "nbconvert_exporter": "python",
   "pygments_lexer": "ipython3",
   "version": "3.7.11"
  }
 },
 "nbformat": 4,
 "nbformat_minor": 5
}
