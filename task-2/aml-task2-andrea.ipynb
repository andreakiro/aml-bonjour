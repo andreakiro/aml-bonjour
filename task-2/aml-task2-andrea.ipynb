{
 "cells": [
  {
   "cell_type": "markdown",
   "id": "4c8e3aa7",
   "metadata": {},
   "source": [
    "# `AML — Task 2:` Heart rhythm classification from raw ECG signals\n",
    "---"
   ]
  },
  {
   "cell_type": "code",
   "execution_count": null,
   "id": "51a018a9",
   "metadata": {},
   "outputs": [],
   "source": [
    "# For TQDM :\n",
    "#! python3.6 -m pip install ipywidgets\n",
    "#! python3.6 -m pip install --upgrade jupyter\n",
    "#! jupyter nbextension enable --py widgetsnbextension"
   ]
  },
  {
   "cell_type": "code",
   "execution_count": 1,
   "id": "f126d6e1",
   "metadata": {},
   "outputs": [],
   "source": [
    "import numpy as np\n",
    "import pandas as pd\n",
    "import biosppy.signals.ecg as ecg\n",
    "import biosppy.signals.tools as tools\n",
    "from biosppy.plotting import plot_ecg\n",
    "import matplotlib.pyplot as plt\n",
    "from tqdm.notebook import tqdm\n",
    "tqdm.pandas()"
   ]
  },
  {
   "cell_type": "code",
   "execution_count": 2,
   "id": "6dc16cc7",
   "metadata": {},
   "outputs": [],
   "source": [
    "from sklearn.svm import SVC\n",
    "from sklearn.model_selection import GridSearchCV\n",
    "from sklearn.metrics import f1_score\n",
    "from sklearn.preprocessing import StandardScaler\n",
    "from sklearn.impute import SimpleImputer, KNNImputer\n",
    "from sklearn.ensemble import RandomForestClassifier, GradientBoostingClassifier, VotingClassifier"
   ]
  },
  {
   "cell_type": "markdown",
   "id": "c0b29de4",
   "metadata": {},
   "source": [
    "---\n",
    "## Dataset import and export to `csv`"
   ]
  },
  {
   "cell_type": "code",
   "execution_count": 3,
   "id": "acdf2170",
   "metadata": {},
   "outputs": [],
   "source": [
    "def load_from_csv(extension=\"\", drop_id = True):\n",
    "    X_train = pd.read_csv('data/X_train' + extension + '.csv')\n",
    "    y_train = pd.read_csv('data/y_train' + extension + '.csv')\n",
    "    X_test  = pd.read_csv('data/X_test' + extension + '.csv')\n",
    "    \n",
    "    if drop_id:\n",
    "        X_train = X_train.drop(columns=['id'])\n",
    "        y_train = y_train.drop(columns=['id'])\n",
    "        X_test  = X_test.drop(columns=['id'])\n",
    "     \n",
    "    return X_train, y_train, X_test"
   ]
  },
  {
   "cell_type": "code",
   "execution_count": 4,
   "id": "910612cf",
   "metadata": {},
   "outputs": [],
   "source": [
    "def export_to_csv(X_train, y_train, X_test, extension=\"_cleaned\"):\n",
    "    X_train.to_csv('data/X_train' + extension + '.csv', index=False)\n",
    "    y_train.to_csv('data/y_train' + extension + '.csv', index=False)\n",
    "    X_test.to_csv('data/X_test' + extension + '.csv', index=False)"
   ]
  },
  {
   "cell_type": "markdown",
   "id": "04a707ea",
   "metadata": {},
   "source": [
    "## Submission export to `csv`"
   ]
  },
  {
   "cell_type": "code",
   "execution_count": 5,
   "id": "d3acf5a2",
   "metadata": {},
   "outputs": [],
   "source": [
    "def create_submission(sub_id, pred, basepath='submissions/task2-sub'):\n",
    "    result = pred.copy().rename(columns={0: 'y'})\n",
    "    result['id'] = range(0, len(result))\n",
    "    result = result[['id', 'y']]\n",
    "    result.to_csv(basepath + str(sub_id) + '.csv', index=False)"
   ]
  },
  {
   "cell_type": "markdown",
   "id": "e2ffbae4",
   "metadata": {},
   "source": [
    "---\n",
    "## Data processing"
   ]
  },
  {
   "cell_type": "code",
   "execution_count": 6,
   "id": "5ef828a4",
   "metadata": {},
   "outputs": [],
   "source": [
    "def series_to_heartbeats(time_series: pd.Series, sampling_rate=300.0) -> np.array:\n",
    "    no_nans = time_series.dropna()\n",
    "    rpeaks = ecg.engzee_segmenter(no_nans, sampling_rate)['rpeaks']\n",
    "    beats, rpeaks = ecg.extract_heartbeats(no_nans, rpeaks, sampling_rate)\n",
    "    beats = beats if len(beats.shape) == 2 else beats.reshape((1, -1))\n",
    "    return beats, rpeaks"
   ]
  },
  {
   "cell_type": "markdown",
   "id": "f07e4ffe",
   "metadata": {},
   "source": [
    "### Feature extraction methods"
   ]
  },
  {
   "cell_type": "code",
   "execution_count": 7,
   "id": "b98a4871",
   "metadata": {},
   "outputs": [],
   "source": [
    "def extract_qpeaks_features(filtered: np.array, rpeaks: np.array, window_size=50):\n",
    "    qpeaks = [rpeak - window_size + np.argmin(filtered[rpeak-window_size:rpeak]) for rpeak in rpeaks]\n",
    "    qpeaks_amplitudes = [filtered[qpeak] for qpeak in qpeaks]\n",
    "    return qpeaks, qpeaks_amplitudes"
   ]
  },
  {
   "cell_type": "code",
   "execution_count": 8,
   "id": "11deacd7",
   "metadata": {},
   "outputs": [],
   "source": [
    "def extract_speaks_features(filtered: np.array, rpeaks: np.array, window_size=50):\n",
    "    speaks = [rpeak + np.argmin(filtered[rpeak:rpeak+window_size]) for rpeak in rpeaks]\n",
    "    speaks_amplitudes = [filtered[speak] for speak in speaks]\n",
    "    return speaks, speaks_amplitudes"
   ]
  },
  {
   "cell_type": "markdown",
   "id": "50f37bc0",
   "metadata": {},
   "source": [
    "### Main feature extraction method"
   ]
  },
  {
   "cell_type": "code",
   "execution_count": 9,
   "id": "fdd8ab55",
   "metadata": {},
   "outputs": [],
   "source": [
    "def extract_stats_from(features_series: list) -> pd.Series:\n",
    "    # pd.describe().drop(count) returns 7 interesting features (min, max, std...)\n",
    "    fs = [pd.Series(s).describe().drop([\"count\"]) for s in features_series]\n",
    "    return pd.concat(fs, ignore_index=True)"
   ]
  },
  {
   "cell_type": "code",
   "execution_count": 10,
   "id": "4d47da7b",
   "metadata": {},
   "outputs": [],
   "source": [
    "def extract_features(time_series: pd.Series, sampling_rate=300) -> pd.Series:\n",
    "    # Drop nan values in the time series\n",
    "    no_nans = time_series.dropna()\n",
    "    \n",
    "    # Extract main features from ECG\n",
    "    ts, filtered, rpeaks, _, templates, _, heart_rate = ecg.ecg(no_nans, sampling_rate, show=False)\n",
    "    assert len(rpeaks) > 1, 'ECG cannot have a single R peak'\n",
    "    assert len(templates) > 1, 'ECG cannot have a single heartbeat'\n",
    "    \n",
    "    # Extract Q,R,S peak features\n",
    "    rpeaks_amplitude = [filtered[rpeak] for rpeak in rpeaks]\n",
    "    qpeaks, qpeaks_amplitude = extract_qpeaks_features(filtered, rpeaks)\n",
    "    speaks, speaks_amplitude = extract_speaks_features(filtered, rpeaks)\n",
    "    \n",
    "    # Extract RR, QRS durations features\n",
    "    rr_durations = [r2 - r1 for r1, r2 in zip(rpeaks, rpeaks[1:])]\n",
    "    qrs_durations = [speak - qpeak for qpeak, speak in zip(qpeaks, speaks)]\n",
    "    \n",
    "    # Extract QRS direction features\n",
    "    qrs_direction = [q + r + s for q, r, s in zip(qpeaks, rpeaks, speaks)]\n",
    "    \n",
    "    # Extract Q/R ratio features\n",
    "    qr_ratio = [q / r for q, r in zip(qpeaks, rpeaks)]\n",
    "    \n",
    "    #TODO: Extract SNR ratio (http://www.cinc.org/archives/2011/pdf/0609.pdf)\n",
    "    snr = np.quantile(np.std(templates, axis=0), 0.35)\n",
    "    \n",
    "    # Use this to go from index differences to seconds\n",
    "    index_to_time = ts[-1] / len(filtered)\n",
    "    # Extract pNN28 (https://www.ncbi.nlm.nih.gov/pmc/articles/PMC1767394/)\n",
    "    pNN28 = (np.array(rr_durations) * index_to_time > 0.028).sum() / len(rr_durations)\n",
    "    \n",
    "    ecg_features = extract_stats_from([\n",
    "        rpeaks_amplitude, qpeaks_amplitude, speaks_amplitude,\n",
    "        rr_durations, qrs_durations, qrs_direction, qr_ratio\n",
    "    ])\n",
    "    \n",
    "    return ecg_features.append(pd.Series([snr, pNN28]), ignore_index=True)"
   ]
  },
  {
   "cell_type": "markdown",
   "id": "56b98812",
   "metadata": {},
   "source": [
    "---\n",
    "## Data standardization"
   ]
  },
  {
   "cell_type": "code",
   "execution_count": 11,
   "id": "7e31de0e",
   "metadata": {},
   "outputs": [],
   "source": [
    "def standardize_data(X_train, X_test):\n",
    "    scaler = StandardScaler().fit(X_train)\n",
    "    X_train_scaled = scaler.transform(X_train)\n",
    "    X_test_scaled = scaler.transform(X_test)\n",
    "    return (X_train_scaled, X_test_scaled)"
   ]
  },
  {
   "cell_type": "markdown",
   "id": "cfed9a4c",
   "metadata": {},
   "source": [
    "---\n",
    "## Models defintions"
   ]
  },
  {
   "cell_type": "code",
   "execution_count": 12,
   "id": "30f886d4",
   "metadata": {},
   "outputs": [],
   "source": [
    "def svc(X_train, y_train):\n",
    "    svc = SVC()\n",
    "    gs_svc_params = {\n",
    "        \"kernel\": [\"rbf\", \"poly\", \"sigmoid\"],\n",
    "        \"C\": np.logspace(0, 1, 2),\n",
    "        \"class_weight\": [\"balanced\", None]\n",
    "    }\n",
    "    gs_svc = GridSearchCV(svc, gs_svc_params, cv=5, verbose=3, scoring='f1_micro', error_score='raise')\n",
    "    gs_svc.fit(X_train, y_train)\n",
    "    \n",
    "    print(f\"The best validation score obtained is {gs_svc.best_score_:.5f} +- \\\n",
    "        {gs_svc.cv_results_['std_test_score'][gs_svc.best_index_]:.5f} with\\n\\t{gs_svc.best_params_}\")\n",
    "    \n",
    "    return gs_svc"
   ]
  },
  {
   "cell_type": "code",
   "execution_count": 13,
   "id": "16344ca8",
   "metadata": {},
   "outputs": [],
   "source": [
    "def random_forest(X_train, y_train):\n",
    "    random_forest = RandomForestClassifier()\n",
    "    gs_forest_params = {\n",
    "     \"n_estimators\": np.arange(100, 400, 100),\n",
    "     \"max_depth\": [None], #np.arange(2, 8, 1),\n",
    "     \"min_samples_split\": [2], #np.arange(2, 8, 1),\n",
    "     \"min_samples_leaf\": [1], #np.arange(1, 9, 2),\n",
    "     \"class_weight\": [\"balanced\", None],\n",
    "     \"random_state\": [0], \n",
    "    }\n",
    "    \n",
    "    gs_forest = GridSearchCV(random_forest, gs_forest_params, cv=5, verbose=3, \n",
    "                             scoring='f1_micro', error_score='raise')\n",
    "    \n",
    "    gs_forest.fit(X_train, y_train)\n",
    "\n",
    "    print(f\"The best validation score obtained is {gs_forest.best_score_:.5f} +- \\\n",
    "        {gs_forest.cv_results_['std_test_score'][gs_forest.best_index_]:.5f} with\\n\\t{gs_forest.best_params_}\")\n",
    "    \n",
    "    return gs_forest"
   ]
  },
  {
   "cell_type": "code",
   "execution_count": 14,
   "id": "6a3c1fec",
   "metadata": {},
   "outputs": [],
   "source": [
    "def gbc(X_train, y_train):\n",
    "    gbc = GradientBoostingClassifier()\n",
    "    gs_gbc_params = {\n",
    "        \"loss\": [\"deviance\"],\n",
    "        \"learning_rate\": [0.1],\n",
    "        \"n_estimators\": [100, 200],\n",
    "        \"subsample\": [1],\n",
    "        \"criterion\": [\"friedman_mse\", \"mse\"],\n",
    "        \"min_samples_split\": [2, 4],\n",
    "        \"min_samples_leaf\": [1, 3],\n",
    "        \"n_iter_no_change\": [None],\n",
    "        \"tol\": [1e-4],\n",
    "    }\n",
    "    \n",
    "    gs_gbc = GridSearchCV(gbc, gs_gbc_params, cv=5, verbose=3, scoring='f1_micro', error_score='raise')\n",
    "    gs_gbc.fit(X_train, y_train)\n",
    "    \n",
    "    print(f\"The best validation score obtained is {gs_gbc.best_score_:.5f} +- \\\n",
    "        {gs_gbc.cv_results_['std_test_score'][gs_gbc.best_index_]:.5f} with\\n\\t{gs_gbc.best_params_}\")\n",
    "    \n",
    "    return gs_gbc"
   ]
  },
  {
   "cell_type": "code",
   "execution_count": 15,
   "id": "b10598c8",
   "metadata": {},
   "outputs": [],
   "source": [
    "def ensemble(models, X_train, y_train):\n",
    "    ensemble = VotingClassifier(estimators=[(str(i), model) for i, model in enumerate(models)])\n",
    "    gs_ensemble_params = {\n",
    "     \"voting\": [\"hard\", \"soft\"]\n",
    "    }\n",
    "    \n",
    "    gs_ensemble = GridSearchCV(ensemble, gs_ensemble_params, cv=5, verbose=3, \n",
    "                               scoring='f1_micro', error_score='raise')\n",
    "    \n",
    "    gs_ensemble.fit(X_train, y_train)\n",
    "\n",
    "    print(f\"The best validation score obtained is {gs_ensemble.best_score_:.5f} +- \\\n",
    "        {gs_ensemble.cv_results_['std_test_score'][gs_ensemble.best_index_]:.5f}\\\n",
    "        with\\n\\t{gs_ensemble.best_params_}\")\n",
    "    \n",
    "    return gs_ensemble"
   ]
  },
  {
   "cell_type": "markdown",
   "id": "436814d8",
   "metadata": {},
   "source": [
    "---\n",
    "## Main Pipeline"
   ]
  },
  {
   "cell_type": "markdown",
   "id": "358f9688",
   "metadata": {},
   "source": [
    "#### Load dataset"
   ]
  },
  {
   "cell_type": "code",
   "execution_count": 16,
   "id": "2dbf8612",
   "metadata": {},
   "outputs": [],
   "source": [
    "X_train_raw, y_train_raw, X_test_raw = load_from_csv()"
   ]
  },
  {
   "cell_type": "code",
   "execution_count": 17,
   "id": "0f98064b",
   "metadata": {},
   "outputs": [
    {
     "data": {
      "text/plain": [
       "<AxesSubplot:>"
      ]
     },
     "execution_count": 17,
     "metadata": {},
     "output_type": "execute_result"
    },
    {
     "data": {
      "image/png": "[encoded data removed]",
      "text/plain": [
       "<Figure size 432x288 with 1 Axes>"
      ]
     },
     "metadata": {
      "needs_background": "light"
     },
     "output_type": "display_data"
    }
   ],
   "source": [
    "X_train_raw.isna().sum(axis='columns').hist()"
   ]
  },
  {
   "cell_type": "code",
   "execution_count": 18,
   "id": "fe35dd68",
   "metadata": {},
   "outputs": [
    {
     "data": {
      "text/plain": [
       "<AxesSubplot:>"
      ]
     },
     "execution_count": 18,
     "metadata": {},
     "output_type": "execute_result"
    },
    {
     "data": {
      "image/png": "[encoded data removed]",
      "text/plain": [
       "<Figure size 432x288 with 1 Axes>"
      ]
     },
     "metadata": {
      "needs_background": "light"
     },
     "output_type": "display_data"
    }
   ],
   "source": [
    "pd.DataFrame(np.mean(series_to_heartbeats(X_train_raw.iloc[0])[0], axis=0)).plot()"
   ]
  },
  {
   "cell_type": "code",
   "execution_count": 19,
   "id": "64c0bf89",
   "metadata": {},
   "outputs": [
    {
     "data": {
      "text/plain": [
       "0    1168.810041\n",
       "1      49.019200\n",
       "2    1072.369701\n",
       "3    1140.929843\n",
       "4    1162.024837\n",
       "dtype: float64"
      ]
     },
     "execution_count": 19,
     "metadata": {},
     "output_type": "execute_result"
    }
   ],
   "source": [
    "extract_features(X_train_raw.loc[120]).head()"
   ]
  },
  {
   "cell_type": "markdown",
   "id": "37b44965",
   "metadata": {},
   "source": [
    "#### Extract features"
   ]
  },
  {
   "cell_type": "code",
   "execution_count": 20,
   "id": "080216a8",
   "metadata": {
    "scrolled": true
   },
   "outputs": [
    {
     "data": {
      "application/vnd.jupyter.widget-view+json": {
       "model_id": "45d165aa9a2249b48c03f361bd532dc9",
       "version_major": 2,
       "version_minor": 0
      },
      "text/plain": [
       "  0%|          | 0/5117 [00:00<?, ?it/s]"
      ]
     },
     "metadata": {},
     "output_type": "display_data"
    }
   ],
   "source": [
    "X_train = X_train_raw.progress_apply(extract_features, axis=1)"
   ]
  },
  {
   "cell_type": "code",
   "execution_count": 21,
   "id": "e22045f2",
   "metadata": {},
   "outputs": [
    {
     "data": {
      "application/vnd.jupyter.widget-view+json": {
       "model_id": "915d7e7e26ef44ee846f6bb2643b6503",
       "version_major": 2,
       "version_minor": 0
      },
      "text/plain": [
       "  0%|          | 0/3411 [00:00<?, ?it/s]"
      ]
     },
     "metadata": {},
     "output_type": "display_data"
    }
   ],
   "source": [
    "X_test = X_test_raw.progress_apply(extract_features, axis=1)"
   ]
  },
  {
   "cell_type": "code",
   "execution_count": 22,
   "id": "c5895c58",
   "metadata": {},
   "outputs": [
    {
     "name": "stdout",
     "output_type": "stream",
     "text": [
      "X_train has 0 null values.\n",
      "X_test has 0 null values.\n"
     ]
    }
   ],
   "source": [
    "print(f\"X_train has {X_train.isna().sum().sum()} null values.\")\n",
    "print(f\"X_test has {X_test.isna().sum().sum()} null values.\")"
   ]
  },
  {
   "cell_type": "markdown",
   "id": "52ffc823",
   "metadata": {},
   "source": [
    "#### Standardize dataset"
   ]
  },
  {
   "cell_type": "code",
   "execution_count": 23,
   "id": "49458a23",
   "metadata": {},
   "outputs": [],
   "source": [
    "X_train, X_test = standardize_data(X_train, X_test)"
   ]
  },
  {
   "cell_type": "code",
   "execution_count": 24,
   "id": "8aef3c96",
   "metadata": {
    "scrolled": true
   },
   "outputs": [
    {
     "name": "stdout",
     "output_type": "stream",
     "text": [
      "Fitting 5 folds for each of 12 candidates, totalling 60 fits\n",
      "[CV 1/5] END C=1.0, class_weight=balanced, kernel=rbf;, score=0.715 total time=   1.1s\n",
      "[CV 2/5] END C=1.0, class_weight=balanced, kernel=rbf;, score=0.721 total time=   1.1s\n",
      "[CV 3/5] END C=1.0, class_weight=balanced, kernel=rbf;, score=0.704 total time=   1.1s\n",
      "[CV 4/5] END C=1.0, class_weight=balanced, kernel=rbf;, score=0.710 total time=   1.1s\n",
      "[CV 5/5] END C=1.0, class_weight=balanced, kernel=rbf;, score=0.699 total time=   1.1s\n",
      "[CV 1/5] END C=1.0, class_weight=balanced, kernel=poly;, score=0.676 total time=   0.7s\n",
      "[CV 2/5] END C=1.0, class_weight=balanced, kernel=poly;, score=0.702 total time=   0.7s\n",
      "[CV 3/5] END C=1.0, class_weight=balanced, kernel=poly;, score=0.683 total time=   0.7s\n",
      "[CV 4/5] END C=1.0, class_weight=balanced, kernel=poly;, score=0.679 total time=   0.7s\n",
      "[CV 5/5] END C=1.0, class_weight=balanced, kernel=poly;, score=0.682 total time=   0.8s\n",
      "[CV 1/5] END C=1.0, class_weight=balanced, kernel=sigmoid;, score=0.390 total time=   0.9s\n",
      "[CV 2/5] END C=1.0, class_weight=balanced, kernel=sigmoid;, score=0.403 total time=   0.8s\n",
      "[CV 3/5] END C=1.0, class_weight=balanced, kernel=sigmoid;, score=0.434 total time=   0.8s\n",
      "[CV 4/5] END C=1.0, class_weight=balanced, kernel=sigmoid;, score=0.397 total time=   0.8s\n",
      "[CV 5/5] END C=1.0, class_weight=balanced, kernel=sigmoid;, score=0.412 total time=   0.8s\n",
      "[CV 1/5] END C=1.0, class_weight=None, kernel=rbf;, score=0.729 total time=   0.8s\n",
      "[CV 2/5] END C=1.0, class_weight=None, kernel=rbf;, score=0.736 total time=   0.8s\n",
      "[CV 3/5] END C=1.0, class_weight=None, kernel=rbf;, score=0.747 total time=   0.8s\n",
      "[CV 4/5] END C=1.0, class_weight=None, kernel=rbf;, score=0.742 total time=   0.8s\n",
      "[CV 5/5] END C=1.0, class_weight=None, kernel=rbf;, score=0.727 total time=   0.8s\n",
      "[CV 1/5] END C=1.0, class_weight=None, kernel=poly;, score=0.657 total time=   0.6s\n",
      "[CV 2/5] END C=1.0, class_weight=None, kernel=poly;, score=0.661 total time=   0.6s\n",
      "[CV 3/5] END C=1.0, class_weight=None, kernel=poly;, score=0.672 total time=   0.6s\n",
      "[CV 4/5] END C=1.0, class_weight=None, kernel=poly;, score=0.648 total time=   0.6s\n",
      "[CV 5/5] END C=1.0, class_weight=None, kernel=poly;, score=0.650 total time=   0.6s\n",
      "[CV 1/5] END C=1.0, class_weight=None, kernel=sigmoid;, score=0.558 total time=   0.5s\n",
      "[CV 2/5] END C=1.0, class_weight=None, kernel=sigmoid;, score=0.542 total time=   0.5s\n",
      "[CV 3/5] END C=1.0, class_weight=None, kernel=sigmoid;, score=0.548 total time=   0.6s\n",
      "[CV 4/5] END C=1.0, class_weight=None, kernel=sigmoid;, score=0.568 total time=   0.5s\n",
      "[CV 5/5] END C=1.0, class_weight=None, kernel=sigmoid;, score=0.550 total time=   0.6s\n",
      "[CV 1/5] END C=10.0, class_weight=balanced, kernel=rbf;, score=0.749 total time=   0.9s\n",
      "[CV 2/5] END C=10.0, class_weight=balanced, kernel=rbf;, score=0.747 total time=   0.9s\n",
      "[CV 3/5] END C=10.0, class_weight=balanced, kernel=rbf;, score=0.753 total time=   0.9s\n",
      "[CV 4/5] END C=10.0, class_weight=balanced, kernel=rbf;, score=0.750 total time=   0.9s\n",
      "[CV 5/5] END C=10.0, class_weight=balanced, kernel=rbf;, score=0.731 total time=   0.9s\n",
      "[CV 1/5] END C=10.0, class_weight=balanced, kernel=poly;, score=0.691 total time=   0.8s\n",
      "[CV 2/5] END C=10.0, class_weight=balanced, kernel=poly;, score=0.714 total time=   0.8s\n",
      "[CV 3/5] END C=10.0, class_weight=balanced, kernel=poly;, score=0.705 total time=   0.8s\n",
      "[CV 4/5] END C=10.0, class_weight=balanced, kernel=poly;, score=0.710 total time=   0.8s\n",
      "[CV 5/5] END C=10.0, class_weight=balanced, kernel=poly;, score=0.707 total time=   0.8s\n",
      "[CV 1/5] END C=10.0, class_weight=balanced, kernel=sigmoid;, score=0.390 total time=   0.7s\n",
      "[CV 2/5] END C=10.0, class_weight=balanced, kernel=sigmoid;, score=0.395 total time=   0.7s\n",
      "[CV 3/5] END C=10.0, class_weight=balanced, kernel=sigmoid;, score=0.437 total time=   0.6s\n",
      "[CV 4/5] END C=10.0, class_weight=balanced, kernel=sigmoid;, score=0.390 total time=   0.8s\n",
      "[CV 5/5] END C=10.0, class_weight=balanced, kernel=sigmoid;, score=0.397 total time=   0.7s\n",
      "[CV 1/5] END C=10.0, class_weight=None, kernel=rbf;, score=0.751 total time=   0.8s\n",
      "[CV 2/5] END C=10.0, class_weight=None, kernel=rbf;, score=0.760 total time=   0.9s\n",
      "[CV 3/5] END C=10.0, class_weight=None, kernel=rbf;, score=0.768 total time=   0.9s\n",
      "[CV 4/5] END C=10.0, class_weight=None, kernel=rbf;, score=0.761 total time=   0.9s\n",
      "[CV 5/5] END C=10.0, class_weight=None, kernel=rbf;, score=0.748 total time=   0.8s\n",
      "[CV 1/5] END C=10.0, class_weight=None, kernel=poly;, score=0.696 total time=   0.7s\n",
      "[CV 2/5] END C=10.0, class_weight=None, kernel=poly;, score=0.707 total time=   0.7s\n",
      "[CV 3/5] END C=10.0, class_weight=None, kernel=poly;, score=0.715 total time=   0.7s\n",
      "[CV 4/5] END C=10.0, class_weight=None, kernel=poly;, score=0.693 total time=   0.8s\n",
      "[CV 5/5] END C=10.0, class_weight=None, kernel=poly;, score=0.692 total time=   0.8s\n",
      "[CV 1/5] END C=10.0, class_weight=None, kernel=sigmoid;, score=0.538 total time=   0.5s\n",
      "[CV 2/5] END C=10.0, class_weight=None, kernel=sigmoid;, score=0.554 total time=   0.5s\n",
      "[CV 3/5] END C=10.0, class_weight=None, kernel=sigmoid;, score=0.568 total time=   0.5s\n",
      "[CV 4/5] END C=10.0, class_weight=None, kernel=sigmoid;, score=0.554 total time=   0.5s\n",
      "[CV 5/5] END C=10.0, class_weight=None, kernel=sigmoid;, score=0.543 total time=   0.5s\n",
      "The best validation score obtained is 0.75748 +-         0.00732 with\n",
      "\t{'C': 10.0, 'class_weight': None, 'kernel': 'rbf'}\n"
     ]
    }
   ],
   "source": [
    "gs_svc = svc(X_train, np.array(y_train_raw).ravel())"
   ]
  },
  {
   "cell_type": "code",
   "execution_count": 25,
   "id": "ff0ae041",
   "metadata": {
    "scrolled": true
   },
   "outputs": [
    {
     "name": "stdout",
     "output_type": "stream",
     "text": [
      "Fitting 5 folds for each of 6 candidates, totalling 30 fits\n",
      "[CV 1/5] END class_weight=balanced, max_depth=None, min_samples_leaf=1, min_samples_split=2, n_estimators=100, random_state=0;, score=0.767 total time=   1.8s\n",
      "[CV 2/5] END class_weight=balanced, max_depth=None, min_samples_leaf=1, min_samples_split=2, n_estimators=100, random_state=0;, score=0.779 total time=   1.8s\n",
      "[CV 3/5] END class_weight=balanced, max_depth=None, min_samples_leaf=1, min_samples_split=2, n_estimators=100, random_state=0;, score=0.794 total time=   1.8s\n",
      "[CV 4/5] END class_weight=balanced, max_depth=None, min_samples_leaf=1, min_samples_split=2, n_estimators=100, random_state=0;, score=0.763 total time=   1.8s\n",
      "[CV 5/5] END class_weight=balanced, max_depth=None, min_samples_leaf=1, min_samples_split=2, n_estimators=100, random_state=0;, score=0.775 total time=   1.8s\n",
      "[CV 1/5] END class_weight=balanced, max_depth=None, min_samples_leaf=1, min_samples_split=2, n_estimators=200, random_state=0;, score=0.779 total time=   3.5s\n",
      "[CV 2/5] END class_weight=balanced, max_depth=None, min_samples_leaf=1, min_samples_split=2, n_estimators=200, random_state=0;, score=0.773 total time=   3.6s\n",
      "[CV 3/5] END class_weight=balanced, max_depth=None, min_samples_leaf=1, min_samples_split=2, n_estimators=200, random_state=0;, score=0.792 total time=   3.5s\n",
      "[CV 4/5] END class_weight=balanced, max_depth=None, min_samples_leaf=1, min_samples_split=2, n_estimators=200, random_state=0;, score=0.758 total time=   3.5s\n",
      "[CV 5/5] END class_weight=balanced, max_depth=None, min_samples_leaf=1, min_samples_split=2, n_estimators=200, random_state=0;, score=0.768 total time=   3.5s\n",
      "[CV 1/5] END class_weight=balanced, max_depth=None, min_samples_leaf=1, min_samples_split=2, n_estimators=300, random_state=0;, score=0.778 total time=   5.3s\n",
      "[CV 2/5] END class_weight=balanced, max_depth=None, min_samples_leaf=1, min_samples_split=2, n_estimators=300, random_state=0;, score=0.780 total time=   5.4s\n",
      "[CV 3/5] END class_weight=balanced, max_depth=None, min_samples_leaf=1, min_samples_split=2, n_estimators=300, random_state=0;, score=0.789 total time=   5.3s\n",
      "[CV 4/5] END class_weight=balanced, max_depth=None, min_samples_leaf=1, min_samples_split=2, n_estimators=300, random_state=0;, score=0.761 total time=   5.3s\n",
      "[CV 5/5] END class_weight=balanced, max_depth=None, min_samples_leaf=1, min_samples_split=2, n_estimators=300, random_state=0;, score=0.777 total time=   5.3s\n",
      "[CV 1/5] END class_weight=None, max_depth=None, min_samples_leaf=1, min_samples_split=2, n_estimators=100, random_state=0;, score=0.784 total time=   1.7s\n",
      "[CV 2/5] END class_weight=None, max_depth=None, min_samples_leaf=1, min_samples_split=2, n_estimators=100, random_state=0;, score=0.777 total time=   1.8s\n",
      "[CV 3/5] END class_weight=None, max_depth=None, min_samples_leaf=1, min_samples_split=2, n_estimators=100, random_state=0;, score=0.801 total time=   1.8s\n",
      "[CV 4/5] END class_weight=None, max_depth=None, min_samples_leaf=1, min_samples_split=2, n_estimators=100, random_state=0;, score=0.769 total time=   1.7s\n",
      "[CV 5/5] END class_weight=None, max_depth=None, min_samples_leaf=1, min_samples_split=2, n_estimators=100, random_state=0;, score=0.773 total time=   1.8s\n",
      "[CV 1/5] END class_weight=None, max_depth=None, min_samples_leaf=1, min_samples_split=2, n_estimators=200, random_state=0;, score=0.780 total time=   3.5s\n",
      "[CV 2/5] END class_weight=None, max_depth=None, min_samples_leaf=1, min_samples_split=2, n_estimators=200, random_state=0;, score=0.779 total time=   3.5s\n",
      "[CV 3/5] END class_weight=None, max_depth=None, min_samples_leaf=1, min_samples_split=2, n_estimators=200, random_state=0;, score=0.797 total time=   3.6s\n",
      "[CV 4/5] END class_weight=None, max_depth=None, min_samples_leaf=1, min_samples_split=2, n_estimators=200, random_state=0;, score=0.778 total time=   3.4s\n",
      "[CV 5/5] END class_weight=None, max_depth=None, min_samples_leaf=1, min_samples_split=2, n_estimators=200, random_state=0;, score=0.780 total time=   3.5s\n",
      "[CV 1/5] END class_weight=None, max_depth=None, min_samples_leaf=1, min_samples_split=2, n_estimators=300, random_state=0;, score=0.779 total time=   5.3s\n",
      "[CV 2/5] END class_weight=None, max_depth=None, min_samples_leaf=1, min_samples_split=2, n_estimators=300, random_state=0;, score=0.781 total time=   5.3s\n",
      "[CV 3/5] END class_weight=None, max_depth=None, min_samples_leaf=1, min_samples_split=2, n_estimators=300, random_state=0;, score=0.796 total time=   5.3s\n",
      "[CV 4/5] END class_weight=None, max_depth=None, min_samples_leaf=1, min_samples_split=2, n_estimators=300, random_state=0;, score=0.770 total time=   5.2s\n",
      "[CV 5/5] END class_weight=None, max_depth=None, min_samples_leaf=1, min_samples_split=2, n_estimators=300, random_state=0;, score=0.781 total time=   5.3s\n",
      "The best validation score obtained is 0.78288 +-         0.00694 with\n",
      "\t{'class_weight': None, 'max_depth': None, 'min_samples_leaf': 1, 'min_samples_split': 2, 'n_estimators': 200, 'random_state': 0}\n"
     ]
    }
   ],
   "source": [
    "gs_random_forest = random_forest(X_train, np.array(y_train_raw).ravel())"
   ]
  },
  {
   "cell_type": "code",
   "execution_count": 26,
   "id": "4d4cce3d",
   "metadata": {
    "scrolled": true
   },
   "outputs": [
    {
     "name": "stdout",
     "output_type": "stream",
     "text": [
      "Fitting 5 folds for each of 16 candidates, totalling 80 fits\n",
      "[CV 1/5] END criterion=friedman_mse, learning_rate=0.1, loss=deviance, min_samples_leaf=1, min_samples_split=2, n_estimators=100, n_iter_no_change=None, subsample=1, tol=0.0001;, score=0.784 total time=  16.8s\n",
      "[CV 2/5] END criterion=friedman_mse, learning_rate=0.1, loss=deviance, min_samples_leaf=1, min_samples_split=2, n_estimators=100, n_iter_no_change=None, subsample=1, tol=0.0001;, score=0.771 total time=  16.8s\n",
      "[CV 3/5] END criterion=friedman_mse, learning_rate=0.1, loss=deviance, min_samples_leaf=1, min_samples_split=2, n_estimators=100, n_iter_no_change=None, subsample=1, tol=0.0001;, score=0.794 total time=  16.8s\n",
      "[CV 4/5] END criterion=friedman_mse, learning_rate=0.1, loss=deviance, min_samples_leaf=1, min_samples_split=2, n_estimators=100, n_iter_no_change=None, subsample=1, tol=0.0001;, score=0.774 total time=  16.6s\n",
      "[CV 5/5] END criterion=friedman_mse, learning_rate=0.1, loss=deviance, min_samples_leaf=1, min_samples_split=2, n_estimators=100, n_iter_no_change=None, subsample=1, tol=0.0001;, score=0.786 total time=  16.5s\n",
      "[CV 1/5] END criterion=friedman_mse, learning_rate=0.1, loss=deviance, min_samples_leaf=1, min_samples_split=2, n_estimators=200, n_iter_no_change=None, subsample=1, tol=0.0001;, score=0.790 total time=  33.1s\n",
      "[CV 2/5] END criterion=friedman_mse, learning_rate=0.1, loss=deviance, min_samples_leaf=1, min_samples_split=2, n_estimators=200, n_iter_no_change=None, subsample=1, tol=0.0001;, score=0.775 total time=  33.1s\n",
      "[CV 3/5] END criterion=friedman_mse, learning_rate=0.1, loss=deviance, min_samples_leaf=1, min_samples_split=2, n_estimators=200, n_iter_no_change=None, subsample=1, tol=0.0001;, score=0.782 total time=  33.1s\n",
      "[CV 4/5] END criterion=friedman_mse, learning_rate=0.1, loss=deviance, min_samples_leaf=1, min_samples_split=2, n_estimators=200, n_iter_no_change=None, subsample=1, tol=0.0001;, score=0.779 total time=  33.1s\n",
      "[CV 5/5] END criterion=friedman_mse, learning_rate=0.1, loss=deviance, min_samples_leaf=1, min_samples_split=2, n_estimators=200, n_iter_no_change=None, subsample=1, tol=0.0001;, score=0.786 total time=  33.2s\n",
      "[CV 1/5] END criterion=friedman_mse, learning_rate=0.1, loss=deviance, min_samples_leaf=1, min_samples_split=4, n_estimators=100, n_iter_no_change=None, subsample=1, tol=0.0001;, score=0.789 total time=  16.4s\n",
      "[CV 2/5] END criterion=friedman_mse, learning_rate=0.1, loss=deviance, min_samples_leaf=1, min_samples_split=4, n_estimators=100, n_iter_no_change=None, subsample=1, tol=0.0001;, score=0.774 total time=  16.5s\n",
      "[CV 3/5] END criterion=friedman_mse, learning_rate=0.1, loss=deviance, min_samples_leaf=1, min_samples_split=4, n_estimators=100, n_iter_no_change=None, subsample=1, tol=0.0001;, score=0.791 total time=  16.4s\n",
      "[CV 4/5] END criterion=friedman_mse, learning_rate=0.1, loss=deviance, min_samples_leaf=1, min_samples_split=4, n_estimators=100, n_iter_no_change=None, subsample=1, tol=0.0001;, score=0.776 total time=  16.4s\n",
      "[CV 5/5] END criterion=friedman_mse, learning_rate=0.1, loss=deviance, min_samples_leaf=1, min_samples_split=4, n_estimators=100, n_iter_no_change=None, subsample=1, tol=0.0001;, score=0.783 total time=  16.4s\n",
      "[CV 1/5] END criterion=friedman_mse, learning_rate=0.1, loss=deviance, min_samples_leaf=1, min_samples_split=4, n_estimators=200, n_iter_no_change=None, subsample=1, tol=0.0001;, score=0.792 total time=  32.9s\n",
      "[CV 2/5] END criterion=friedman_mse, learning_rate=0.1, loss=deviance, min_samples_leaf=1, min_samples_split=4, n_estimators=200, n_iter_no_change=None, subsample=1, tol=0.0001;, score=0.782 total time=  33.0s\n",
      "[CV 3/5] END criterion=friedman_mse, learning_rate=0.1, loss=deviance, min_samples_leaf=1, min_samples_split=4, n_estimators=200, n_iter_no_change=None, subsample=1, tol=0.0001;, score=0.782 total time=  33.1s\n",
      "[CV 4/5] END criterion=friedman_mse, learning_rate=0.1, loss=deviance, min_samples_leaf=1, min_samples_split=4, n_estimators=200, n_iter_no_change=None, subsample=1, tol=0.0001;, score=0.783 total time=  33.3s\n",
      "[CV 5/5] END criterion=friedman_mse, learning_rate=0.1, loss=deviance, min_samples_leaf=1, min_samples_split=4, n_estimators=200, n_iter_no_change=None, subsample=1, tol=0.0001;, score=0.788 total time=  33.5s\n",
      "[CV 1/5] END criterion=friedman_mse, learning_rate=0.1, loss=deviance, min_samples_leaf=3, min_samples_split=2, n_estimators=100, n_iter_no_change=None, subsample=1, tol=0.0001;, score=0.789 total time=  16.5s\n",
      "[CV 2/5] END criterion=friedman_mse, learning_rate=0.1, loss=deviance, min_samples_leaf=3, min_samples_split=2, n_estimators=100, n_iter_no_change=None, subsample=1, tol=0.0001;, score=0.774 total time=  16.5s\n",
      "[CV 3/5] END criterion=friedman_mse, learning_rate=0.1, loss=deviance, min_samples_leaf=3, min_samples_split=2, n_estimators=100, n_iter_no_change=None, subsample=1, tol=0.0001;, score=0.790 total time=  16.5s\n",
      "[CV 4/5] END criterion=friedman_mse, learning_rate=0.1, loss=deviance, min_samples_leaf=3, min_samples_split=2, n_estimators=100, n_iter_no_change=None, subsample=1, tol=0.0001;, score=0.780 total time=  16.5s\n",
      "[CV 5/5] END criterion=friedman_mse, learning_rate=0.1, loss=deviance, min_samples_leaf=3, min_samples_split=2, n_estimators=100, n_iter_no_change=None, subsample=1, tol=0.0001;, score=0.788 total time=  16.5s\n",
      "[CV 1/5] END criterion=friedman_mse, learning_rate=0.1, loss=deviance, min_samples_leaf=3, min_samples_split=2, n_estimators=200, n_iter_no_change=None, subsample=1, tol=0.0001;, score=0.791 total time=  33.1s\n",
      "[CV 2/5] END criterion=friedman_mse, learning_rate=0.1, loss=deviance, min_samples_leaf=3, min_samples_split=2, n_estimators=200, n_iter_no_change=None, subsample=1, tol=0.0001;, score=0.777 total time=  33.1s\n",
      "[CV 3/5] END criterion=friedman_mse, learning_rate=0.1, loss=deviance, min_samples_leaf=3, min_samples_split=2, n_estimators=200, n_iter_no_change=None, subsample=1, tol=0.0001;, score=0.785 total time=  33.1s\n",
      "[CV 4/5] END criterion=friedman_mse, learning_rate=0.1, loss=deviance, min_samples_leaf=3, min_samples_split=2, n_estimators=200, n_iter_no_change=None, subsample=1, tol=0.0001;, score=0.788 total time=  33.0s\n",
      "[CV 5/5] END criterion=friedman_mse, learning_rate=0.1, loss=deviance, min_samples_leaf=3, min_samples_split=2, n_estimators=200, n_iter_no_change=None, subsample=1, tol=0.0001;, score=0.783 total time=  33.1s\n",
      "[CV 1/5] END criterion=friedman_mse, learning_rate=0.1, loss=deviance, min_samples_leaf=3, min_samples_split=4, n_estimators=100, n_iter_no_change=None, subsample=1, tol=0.0001;, score=0.789 total time=  16.5s\n",
      "[CV 2/5] END criterion=friedman_mse, learning_rate=0.1, loss=deviance, min_samples_leaf=3, min_samples_split=4, n_estimators=100, n_iter_no_change=None, subsample=1, tol=0.0001;, score=0.774 total time=  16.5s\n",
      "[CV 3/5] END criterion=friedman_mse, learning_rate=0.1, loss=deviance, min_samples_leaf=3, min_samples_split=4, n_estimators=100, n_iter_no_change=None, subsample=1, tol=0.0001;, score=0.786 total time=  16.5s\n",
      "[CV 4/5] END criterion=friedman_mse, learning_rate=0.1, loss=deviance, min_samples_leaf=3, min_samples_split=4, n_estimators=100, n_iter_no_change=None, subsample=1, tol=0.0001;, score=0.781 total time=  16.5s\n",
      "[CV 5/5] END criterion=friedman_mse, learning_rate=0.1, loss=deviance, min_samples_leaf=3, min_samples_split=4, n_estimators=100, n_iter_no_change=None, subsample=1, tol=0.0001;, score=0.781 total time=  16.5s\n",
      "[CV 1/5] END criterion=friedman_mse, learning_rate=0.1, loss=deviance, min_samples_leaf=3, min_samples_split=4, n_estimators=200, n_iter_no_change=None, subsample=1, tol=0.0001;, score=0.792 total time=  33.1s\n",
      "[CV 2/5] END criterion=friedman_mse, learning_rate=0.1, loss=deviance, min_samples_leaf=3, min_samples_split=4, n_estimators=200, n_iter_no_change=None, subsample=1, tol=0.0001;, score=0.785 total time=  33.0s\n",
      "[CV 3/5] END criterion=friedman_mse, learning_rate=0.1, loss=deviance, min_samples_leaf=3, min_samples_split=4, n_estimators=200, n_iter_no_change=None, subsample=1, tol=0.0001;, score=0.784 total time=  33.1s\n",
      "[CV 4/5] END criterion=friedman_mse, learning_rate=0.1, loss=deviance, min_samples_leaf=3, min_samples_split=4, n_estimators=200, n_iter_no_change=None, subsample=1, tol=0.0001;, score=0.785 total time=  33.4s\n"
     ]
    },
    {
     "name": "stdout",
     "output_type": "stream",
     "text": [
      "[CV 5/5] END criterion=friedman_mse, learning_rate=0.1, loss=deviance, min_samples_leaf=3, min_samples_split=4, n_estimators=200, n_iter_no_change=None, subsample=1, tol=0.0001;, score=0.793 total time=  33.5s\n",
      "[CV 1/5] END criterion=mse, learning_rate=0.1, loss=deviance, min_samples_leaf=1, min_samples_split=2, n_estimators=100, n_iter_no_change=None, subsample=1, tol=0.0001;, score=0.785 total time=  16.1s\n",
      "[CV 2/5] END criterion=mse, learning_rate=0.1, loss=deviance, min_samples_leaf=1, min_samples_split=2, n_estimators=100, n_iter_no_change=None, subsample=1, tol=0.0001;, score=0.768 total time=  16.1s\n",
      "[CV 3/5] END criterion=mse, learning_rate=0.1, loss=deviance, min_samples_leaf=1, min_samples_split=2, n_estimators=100, n_iter_no_change=None, subsample=1, tol=0.0001;, score=0.795 total time=  16.2s\n",
      "[CV 4/5] END criterion=mse, learning_rate=0.1, loss=deviance, min_samples_leaf=1, min_samples_split=2, n_estimators=100, n_iter_no_change=None, subsample=1, tol=0.0001;, score=0.773 total time=  16.1s\n",
      "[CV 5/5] END criterion=mse, learning_rate=0.1, loss=deviance, min_samples_leaf=1, min_samples_split=2, n_estimators=100, n_iter_no_change=None, subsample=1, tol=0.0001;, score=0.781 total time=  16.1s\n",
      "[CV 1/5] END criterion=mse, learning_rate=0.1, loss=deviance, min_samples_leaf=1, min_samples_split=2, n_estimators=200, n_iter_no_change=None, subsample=1, tol=0.0001;, score=0.787 total time=  32.3s\n",
      "[CV 2/5] END criterion=mse, learning_rate=0.1, loss=deviance, min_samples_leaf=1, min_samples_split=2, n_estimators=200, n_iter_no_change=None, subsample=1, tol=0.0001;, score=0.777 total time=  32.4s\n",
      "[CV 3/5] END criterion=mse, learning_rate=0.1, loss=deviance, min_samples_leaf=1, min_samples_split=2, n_estimators=200, n_iter_no_change=None, subsample=1, tol=0.0001;, score=0.783 total time=  32.2s\n",
      "[CV 4/5] END criterion=mse, learning_rate=0.1, loss=deviance, min_samples_leaf=1, min_samples_split=2, n_estimators=200, n_iter_no_change=None, subsample=1, tol=0.0001;, score=0.779 total time=  32.2s\n",
      "[CV 5/5] END criterion=mse, learning_rate=0.1, loss=deviance, min_samples_leaf=1, min_samples_split=2, n_estimators=200, n_iter_no_change=None, subsample=1, tol=0.0001;, score=0.786 total time=  32.3s\n",
      "[CV 1/5] END criterion=mse, learning_rate=0.1, loss=deviance, min_samples_leaf=1, min_samples_split=4, n_estimators=100, n_iter_no_change=None, subsample=1, tol=0.0001;, score=0.792 total time=  16.1s\n",
      "[CV 2/5] END criterion=mse, learning_rate=0.1, loss=deviance, min_samples_leaf=1, min_samples_split=4, n_estimators=100, n_iter_no_change=None, subsample=1, tol=0.0001;, score=0.774 total time=  16.1s\n",
      "[CV 3/5] END criterion=mse, learning_rate=0.1, loss=deviance, min_samples_leaf=1, min_samples_split=4, n_estimators=100, n_iter_no_change=None, subsample=1, tol=0.0001;, score=0.791 total time=  16.2s\n",
      "[CV 4/5] END criterion=mse, learning_rate=0.1, loss=deviance, min_samples_leaf=1, min_samples_split=4, n_estimators=100, n_iter_no_change=None, subsample=1, tol=0.0001;, score=0.778 total time=  16.2s\n",
      "[CV 5/5] END criterion=mse, learning_rate=0.1, loss=deviance, min_samples_leaf=1, min_samples_split=4, n_estimators=100, n_iter_no_change=None, subsample=1, tol=0.0001;, score=0.781 total time=  16.1s\n",
      "[CV 1/5] END criterion=mse, learning_rate=0.1, loss=deviance, min_samples_leaf=1, min_samples_split=4, n_estimators=200, n_iter_no_change=None, subsample=1, tol=0.0001;, score=0.795 total time=  32.2s\n",
      "[CV 2/5] END criterion=mse, learning_rate=0.1, loss=deviance, min_samples_leaf=1, min_samples_split=4, n_estimators=200, n_iter_no_change=None, subsample=1, tol=0.0001;, score=0.783 total time=  32.2s\n",
      "[CV 3/5] END criterion=mse, learning_rate=0.1, loss=deviance, min_samples_leaf=1, min_samples_split=4, n_estimators=200, n_iter_no_change=None, subsample=1, tol=0.0001;, score=0.790 total time=  32.8s\n",
      "[CV 4/5] END criterion=mse, learning_rate=0.1, loss=deviance, min_samples_leaf=1, min_samples_split=4, n_estimators=200, n_iter_no_change=None, subsample=1, tol=0.0001;, score=0.786 total time=  32.6s\n",
      "[CV 5/5] END criterion=mse, learning_rate=0.1, loss=deviance, min_samples_leaf=1, min_samples_split=4, n_estimators=200, n_iter_no_change=None, subsample=1, tol=0.0001;, score=0.789 total time=  33.0s\n",
      "[CV 1/5] END criterion=mse, learning_rate=0.1, loss=deviance, min_samples_leaf=3, min_samples_split=2, n_estimators=100, n_iter_no_change=None, subsample=1, tol=0.0001;, score=0.789 total time=  16.2s\n",
      "[CV 2/5] END criterion=mse, learning_rate=0.1, loss=deviance, min_samples_leaf=3, min_samples_split=2, n_estimators=100, n_iter_no_change=None, subsample=1, tol=0.0001;, score=0.774 total time=  16.1s\n",
      "[CV 3/5] END criterion=mse, learning_rate=0.1, loss=deviance, min_samples_leaf=3, min_samples_split=2, n_estimators=100, n_iter_no_change=None, subsample=1, tol=0.0001;, score=0.785 total time=  16.1s\n",
      "[CV 4/5] END criterion=mse, learning_rate=0.1, loss=deviance, min_samples_leaf=3, min_samples_split=2, n_estimators=100, n_iter_no_change=None, subsample=1, tol=0.0001;, score=0.780 total time=  16.0s\n",
      "[CV 5/5] END criterion=mse, learning_rate=0.1, loss=deviance, min_samples_leaf=3, min_samples_split=2, n_estimators=100, n_iter_no_change=None, subsample=1, tol=0.0001;, score=0.781 total time=  16.1s\n",
      "[CV 1/5] END criterion=mse, learning_rate=0.1, loss=deviance, min_samples_leaf=3, min_samples_split=2, n_estimators=200, n_iter_no_change=None, subsample=1, tol=0.0001;, score=0.793 total time=  32.2s\n",
      "[CV 2/5] END criterion=mse, learning_rate=0.1, loss=deviance, min_samples_leaf=3, min_samples_split=2, n_estimators=200, n_iter_no_change=None, subsample=1, tol=0.0001;, score=0.779 total time=  32.2s\n",
      "[CV 3/5] END criterion=mse, learning_rate=0.1, loss=deviance, min_samples_leaf=3, min_samples_split=2, n_estimators=200, n_iter_no_change=None, subsample=1, tol=0.0001;, score=0.785 total time=  32.2s\n",
      "[CV 4/5] END criterion=mse, learning_rate=0.1, loss=deviance, min_samples_leaf=3, min_samples_split=2, n_estimators=200, n_iter_no_change=None, subsample=1, tol=0.0001;, score=0.789 total time=  32.2s\n",
      "[CV 5/5] END criterion=mse, learning_rate=0.1, loss=deviance, min_samples_leaf=3, min_samples_split=2, n_estimators=200, n_iter_no_change=None, subsample=1, tol=0.0001;, score=0.792 total time=  32.2s\n",
      "[CV 1/5] END criterion=mse, learning_rate=0.1, loss=deviance, min_samples_leaf=3, min_samples_split=4, n_estimators=100, n_iter_no_change=None, subsample=1, tol=0.0001;, score=0.789 total time=  16.1s\n",
      "[CV 2/5] END criterion=mse, learning_rate=0.1, loss=deviance, min_samples_leaf=3, min_samples_split=4, n_estimators=100, n_iter_no_change=None, subsample=1, tol=0.0001;, score=0.771 total time=  16.1s\n",
      "[CV 3/5] END criterion=mse, learning_rate=0.1, loss=deviance, min_samples_leaf=3, min_samples_split=4, n_estimators=100, n_iter_no_change=None, subsample=1, tol=0.0001;, score=0.787 total time=  16.1s\n",
      "[CV 4/5] END criterion=mse, learning_rate=0.1, loss=deviance, min_samples_leaf=3, min_samples_split=4, n_estimators=100, n_iter_no_change=None, subsample=1, tol=0.0001;, score=0.781 total time=  16.1s\n",
      "[CV 5/5] END criterion=mse, learning_rate=0.1, loss=deviance, min_samples_leaf=3, min_samples_split=4, n_estimators=100, n_iter_no_change=None, subsample=1, tol=0.0001;, score=0.788 total time=  16.2s\n",
      "[CV 1/5] END criterion=mse, learning_rate=0.1, loss=deviance, min_samples_leaf=3, min_samples_split=4, n_estimators=200, n_iter_no_change=None, subsample=1, tol=0.0001;, score=0.792 total time=  32.2s\n",
      "[CV 2/5] END criterion=mse, learning_rate=0.1, loss=deviance, min_samples_leaf=3, min_samples_split=4, n_estimators=200, n_iter_no_change=None, subsample=1, tol=0.0001;, score=0.784 total time=  32.2s\n",
      "[CV 3/5] END criterion=mse, learning_rate=0.1, loss=deviance, min_samples_leaf=3, min_samples_split=4, n_estimators=200, n_iter_no_change=None, subsample=1, tol=0.0001;, score=0.787 total time=  32.2s\n",
      "[CV 4/5] END criterion=mse, learning_rate=0.1, loss=deviance, min_samples_leaf=3, min_samples_split=4, n_estimators=200, n_iter_no_change=None, subsample=1, tol=0.0001;, score=0.789 total time=  32.2s\n",
      "[CV 5/5] END criterion=mse, learning_rate=0.1, loss=deviance, min_samples_leaf=3, min_samples_split=4, n_estimators=200, n_iter_no_change=None, subsample=1, tol=0.0001;, score=0.793 total time=  32.2s\n"
     ]
    },
    {
     "name": "stdout",
     "output_type": "stream",
     "text": [
      "The best validation score obtained is 0.78894 +-         0.00319 with\n",
      "\t{'criterion': 'mse', 'learning_rate': 0.1, 'loss': 'deviance', 'min_samples_leaf': 3, 'min_samples_split': 4, 'n_estimators': 200, 'n_iter_no_change': None, 'subsample': 1, 'tol': 0.0001}\n"
     ]
    }
   ],
   "source": [
    "gs_gbc = gbc(X_train, np.array(y_train_raw).ravel())"
   ]
  },
  {
   "cell_type": "code",
   "execution_count": 27,
   "id": "86a2ec25",
   "metadata": {
    "scrolled": true
   },
   "outputs": [
    {
     "name": "stdout",
     "output_type": "stream",
     "text": [
      "Fitting 5 folds for each of 2 candidates, totalling 10 fits\n",
      "[CV 1/5] END .......................voting=hard;, score=0.792 total time=  39.6s\n",
      "[CV 2/5] END .......................voting=hard;, score=0.783 total time=  40.2s\n",
      "[CV 3/5] END .......................voting=hard;, score=0.812 total time=  40.2s\n",
      "[CV 4/5] END .......................voting=hard;, score=0.790 total time=  40.1s\n",
      "[CV 5/5] END .......................voting=hard;, score=0.789 total time=  40.1s\n",
      "[CV 1/5] END .......................voting=soft;, score=0.803 total time=  39.5s\n",
      "[CV 2/5] END .......................voting=soft;, score=0.791 total time=  39.7s\n",
      "[CV 3/5] END .......................voting=soft;, score=0.810 total time=  40.3s\n",
      "[CV 4/5] END .......................voting=soft;, score=0.786 total time=  39.4s\n",
      "[CV 5/5] END .......................voting=soft;, score=0.799 total time=  39.5s\n",
      "The best validation score obtained is 0.79773 +-         0.00860        with\n",
      "\t{'voting': 'soft'}\n"
     ]
    }
   ],
   "source": [
    "gs_ensemble = ensemble([\n",
    "    SVC(probability=True, **gs_svc.best_params_), \n",
    "    RandomForestClassifier(**gs_random_forest.best_params_),\n",
    "    GradientBoostingClassifier(**gs_gbc.best_params_)\n",
    "], X_train, np.array(y_train_raw).ravel())"
   ]
  },
  {
   "cell_type": "markdown",
   "id": "cfd4f19a",
   "metadata": {},
   "source": [
    "---\n",
    "## Generate new submission"
   ]
  },
  {
   "cell_type": "code",
   "execution_count": 30,
   "id": "957c172a",
   "metadata": {},
   "outputs": [],
   "source": [
    "model = gs_ensemble\n",
    "sub_id = 11\n",
    "prediction = pd.DataFrame(model.predict(X_test))"
   ]
  },
  {
   "cell_type": "code",
   "execution_count": 31,
   "id": "221af8ca",
   "metadata": {},
   "outputs": [],
   "source": [
    "#create_submission(sub_id, prediction)"
   ]
  },
  {
   "cell_type": "markdown",
   "id": "95891ad7",
   "metadata": {},
   "source": [
    "**Solutions must be submitted on the [project website](https://aml.ise.inf.ethz.ch/task2/).**"
   ]
  }
 ],
 "metadata": {
  "kernelspec": {
   "display_name": "Python 3.6",
   "language": "python",
   "name": "python3"
  },
  "language_info": {
   "codemirror_mode": {
    "name": "ipython",
    "version": 3
   },
   "file_extension": ".py",
   "mimetype": "text/x-python",
   "name": "python",
   "nbconvert_exporter": "python",
   "pygments_lexer": "ipython3",
   "version": "3.6.5"
  }
 },
 "nbformat": 4,
 "nbformat_minor": 5
}
