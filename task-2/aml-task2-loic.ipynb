{
 "cells": [
  {
   "cell_type": "code",
   "execution_count": 1,
   "id": "f126d6e1",
   "metadata": {},
   "outputs": [],
   "source": [
    "import numpy as np\n",
    "import pandas as pd\n",
    "import biosppy.signals.ecg as ecg\n",
    "import biosppy.signals.tools as tools\n",
    "import matplotlib.pyplot as plt"
   ]
  },
  {
   "cell_type": "code",
   "execution_count": 2,
   "id": "6dc16cc7",
   "metadata": {},
   "outputs": [],
   "source": [
    "from sklearn.svm import SVC\n",
    "from sklearn.model_selection import GridSearchCV\n",
    "from sklearn.metrics import f1_score\n",
    "from sklearn.preprocessing import StandardScaler\n",
    "from sklearn.impute import SimpleImputer, KNNImputer\n"
   ]
  },
  {
   "cell_type": "markdown",
   "id": "c0b29de4",
   "metadata": {},
   "source": [
    "## Dataset import and export"
   ]
  },
  {
   "cell_type": "code",
   "execution_count": 3,
   "id": "acdf2170",
   "metadata": {},
   "outputs": [],
   "source": [
    "def load_from_csv(extension=\"\", mustDropId = True):\n",
    "    X_train = pd.read_csv('data/X_train' + extension + '.csv')\n",
    "    y_train = pd.read_csv('data/y_train' + extension + '.csv')\n",
    "    X_test  = pd.read_csv('data/X_test' + extension + '.csv')\n",
    "    \n",
    "    if mustDropId:\n",
    "        X_train = X_train.drop(columns=['id'])\n",
    "        y_train = y_train.drop(columns=['id'])\n",
    "        X_test  = X_test.drop(columns=['id'])\n",
    "     \n",
    "    return X_train, y_train, X_test"
   ]
  },
  {
   "cell_type": "code",
   "execution_count": 4,
   "id": "910612cf",
   "metadata": {},
   "outputs": [],
   "source": [
    "def export_to_csv(X_train, y_train, X_test, extension=\"_cleaned\"):\n",
    "    X_train.to_csv('data/X_train' + extension + '.csv', index=False)\n",
    "    y_train.to_csv('data/y_train' + extension + '.csv', index=False)\n",
    "    X_test.to_csv('data/X_test' + extension + '.csv', index=False)"
   ]
  },
  {
   "cell_type": "markdown",
   "id": "04a707ea",
   "metadata": {},
   "source": [
    "## Create CSV for submission"
   ]
  },
  {
   "cell_type": "code",
   "execution_count": 5,
   "id": "d3acf5a2",
   "metadata": {},
   "outputs": [],
   "source": [
    "def create_submission(sub_id, pred, basepath='submissions/task2-sub'):\n",
    "    result = pred.copy().rename(columns={0: 'y'})\n",
    "    result['id'] = range(0, len(result))\n",
    "    result = result[['id', 'y']]\n",
    "    result.to_csv(basepath + str(sub_id) + '.csv', index=False)"
   ]
  },
  {
   "cell_type": "markdown",
   "id": "4dbc09e4",
   "metadata": {},
   "source": [
    "## Plot helper functions"
   ]
  },
  {
   "cell_type": "code",
   "execution_count": 6,
   "id": "986711c1",
   "metadata": {},
   "outputs": [],
   "source": [
    "def plot_raw_signal_sample(raw_signal):\n",
    "    # Some matplotlib setting \n",
    "    plt.rcParams[\"figure.figsize\"] = (30, 5)\n",
    "    plt.rcParams['lines.linewidth'] = 5\n",
    "    plt.rcParams['xtick.labelsize'] = 24\n",
    "    plt.rcParams['ytick.labelsize'] = 32\n",
    "    plt.rcParams['axes.labelsize'] = 48\n",
    "    plt.rcParams['axes.titlesize'] = 48\n",
    "\n",
    "    fig, axs = plt.subplots(1, 1)\n",
    "\n",
    "    seconds = np.arange(0, 600) / 30 \n",
    "    x_labels = [0, 5, 10, 15, 20]\n",
    "\n",
    "    ax = axs\n",
    "    \n",
    "    measurements = raw_signal.dropna().to_numpy(dtype='float32')\n",
    "    # Get a subsequence of a signal and downsample it for visualization purposes\n",
    "    measurements = measurements[1000:7000:10] \n",
    "    # convert volts to millivolts\n",
    "    measurements /= 1000\n",
    "    ax.plot(seconds, measurements, color='k')\n",
    "    ax.set_xticks(x_labels)\n",
    "\n",
    "    fig.tight_layout()\n",
    "\n",
    "    # Display x- and y-labels for the whole plot\n",
    "    ax = fig.add_subplot(111, frameon=False)\n",
    "    # hide tick and tick label of the big axes\n",
    "    plt.tick_params(labelcolor='none', top=False, bottom=False, left=False, right=False)\n",
    "    ax.yaxis.set_label_coords(-0.05, 0.5)\n",
    "    plt.xlabel('Time [s]')\n",
    "    plt.ylabel('Amplitude [mV]')            \n",
    "    plt.show()"
   ]
  },
  {
   "cell_type": "code",
   "execution_count": 7,
   "id": "6f87b604",
   "metadata": {},
   "outputs": [],
   "source": [
    "def plot_beats(beats):\n",
    "    pd.DataFrame(np.mean(beats, axis=0)).plot()\n",
    "    pd.DataFrame(beats.transpose()).plot()"
   ]
  },
  {
   "cell_type": "markdown",
   "id": "e8cae9ba",
   "metadata": {},
   "source": [
    "## Helper functions"
   ]
  },
  {
   "cell_type": "code",
   "execution_count": 8,
   "id": "edd35128",
   "metadata": {},
   "outputs": [],
   "source": [
    "\"\"\"Return the indices of all the members of a class\n",
    "\n",
    "Parameters\n",
    "----------\n",
    "y_train : pd.df\n",
    "    The labels\n",
    "class_nbr: int (0<=class_nbr<=3)\n",
    "    The class for which we want to retrieve the indexes\n",
    "    \n",
    "Return\n",
    "------\n",
    "np.array\n",
    "     All the indexes of the given class\n",
    "\"\"\"\n",
    "def get_indices_class(y_train, class_nbr = 0):\n",
    "    assert class_nbr>=0 and class_nbr<=3\n",
    "    return np.argwhere(y_train['y'].to_numpy() == class_nbr).reshape(-1)"
   ]
  },
  {
   "cell_type": "markdown",
   "id": "e2ffbae4",
   "metadata": {},
   "source": [
    "## Task 1: Data processing `TODO`"
   ]
  },
  {
   "cell_type": "code",
   "execution_count": 9,
   "id": "d3faf2f4",
   "metadata": {},
   "outputs": [],
   "source": [
    "def series_to_heartbeats(time_series: pd.Series, sampling_rate=300.0) -> np.array:\n",
    "    no_nans = time_series.dropna()\n",
    "    rpeaks = ecg.engzee_segmenter(no_nans, sampling_rate)['rpeaks']\n",
    "    beats, rpeaks = ecg.extract_heartbeats(no_nans, rpeaks, sampling_rate)\n",
    "    beats = beats if len(beats.shape) == 2 else beats.reshape((1, -1))\n",
    "    return beats, rpeaks"
   ]
  },
  {
   "cell_type": "code",
   "execution_count": 10,
   "id": "cc99dc46",
   "metadata": {},
   "outputs": [],
   "source": [
    "#WARNING: CAN RETURN NAN values\n",
    "def find_hearthrate_info(rpeaks, sampling_rate=300.0):\n",
    "    index, heart_rates = tools.get_heart_rate(beats=rpeaks, sampling_rate=sampling_rate, smooth=False)\n",
    "    heart_rates_std = np.std(heart_rates) #Especially important to classify class 1 from the others\n",
    "    heart_rates_median = np.median(heart_rates) #Probably not very useful\n",
    "    return heart_rates_std, heart_rates_median"
   ]
  },
  {
   "cell_type": "code",
   "execution_count": 11,
   "id": "8e06c3a3",
   "metadata": {},
   "outputs": [],
   "source": [
    "\"\"\"Easy but not very efficient way to have an idea of the noise in the signal (almost only to find class 3)\n",
    "\n",
    "Parameters\n",
    "----------\n",
    "beats : np.array\n",
    "    The beats of a single signal computed with the previous methods\n",
    "quantile:\n",
    "    The quantile\n",
    "    \n",
    "Return\n",
    "------\n",
    "float\n",
    "    The given quantile of the standard deviation of the different beats. For the class 3 with a lot of noise, this should be quite high but for the other relatively low\n",
    "\"\"\"\n",
    "def compute_quantile_noise_in_beats(beats, quantile=0.35):\n",
    "    return np.quantile(np.std(beats, axis=0), quantile)"
   ]
  },
  {
   "cell_type": "code",
   "execution_count": 12,
   "id": "9dfba2bd",
   "metadata": {},
   "outputs": [],
   "source": [
    "def find_important_values(mean_beats, epsilon=3):\n",
    "    \n",
    "    R_index = np.argmax(mean_beats)\n",
    "    R_amplitude = mean_beats[R_index]\n",
    "    S_index = R_index+np.argmin(mean_beats[R_index:]) if R_index != len(mean_beats) else R_index #Especially useful or class 2 which should be low\n",
    "    S_amplitude = mean_beats[S_index]\n",
    "        \n",
    "    counter=R_index-1\n",
    "    index_min_before_R = np.argmin(mean_beats[:R_index]) if R_index != 0 else 0\n",
    "    found=False\n",
    "    while not found and counter >= index_min_before_R:\n",
    "        if(mean_beats[counter+1]-mean_beats[counter]<epsilon):\n",
    "            found=True\n",
    "        counter-=1\n",
    "    \n",
    "    Q_index = counter\n",
    "    Q_amplitude = mean_beats[Q_index]\n",
    "    QRS_duration = S_index - Q_index #Not in real time, in this resample time, but shouldn't change anything\n",
    "    \n",
    "    return R_amplitude, S_amplitude, Q_amplitude, QRS_duration"
   ]
  },
  {
   "cell_type": "markdown",
   "id": "cfed9a4c",
   "metadata": {},
   "source": [
    "## Task 2: Models defintion `TODO`"
   ]
  },
  {
   "cell_type": "code",
   "execution_count": 37,
   "id": "30f886d4",
   "metadata": {},
   "outputs": [],
   "source": [
    "def best_svc(X_train, y_train):\n",
    "    svc = SVC()\n",
    "    gs_svc_params = {\n",
    "        'kernel': ['rbf'],#['rbf', 'poly', 'sigmoid'],\n",
    "        'C': np.logspace(0, 3, 6),\n",
    "        'class_weight': ['balanced', None] #To have weights according to the number in each classes\n",
    "    }\n",
    "    gs_svc = GridSearchCV(svc, gs_svc_params, cv=5, verbose=3, error_score='raise')\n",
    "    gs_svc.fit(X_train, y_train)\n",
    "    \n",
    "    print(f\"\"\"The best validation score obtained is {gs_svc.best_score_:.5f} with\n",
    "    \\tkernel: {gs_svc.best_params_['kernel']}\n",
    "    \\tC: {gs_svc.best_params_['C']}\"\"\")\n",
    "    \n",
    "    return gs_svc"
   ]
  },
  {
   "cell_type": "markdown",
   "id": "56b98812",
   "metadata": {},
   "source": [
    "## Task3: Rescale the data"
   ]
  },
  {
   "cell_type": "code",
   "execution_count": 15,
   "id": "7e31de0e",
   "metadata": {},
   "outputs": [],
   "source": [
    "def scale(X_feature_train, X_features_test):\n",
    "    # Do the scaling, saving the scaler to use it for X_test too. No need imputation, just ignore Nan values\n",
    "    scaler = StandardScaler().fit(X_feature_train)\n",
    "    X_train_scaled = scaler.transform(X_feature_train)\n",
    "    # Cast X_test to np.array to avoid warning of model trained without feature names but X having some.\n",
    "    X_test_scaled = scaler.transform(X_features_test)\n",
    "    return (X_train_scaled, X_test_scaled)"
   ]
  },
  {
   "cell_type": "markdown",
   "id": "436814d8",
   "metadata": {},
   "source": [
    "## Main Pipeline"
   ]
  },
  {
   "cell_type": "code",
   "execution_count": 16,
   "id": "2dbf8612",
   "metadata": {},
   "outputs": [],
   "source": [
    "X_train_raw, y_train_raw, X_test_raw = load_from_csv()"
   ]
  },
  {
   "cell_type": "markdown",
   "id": "98cd4347",
   "metadata": {},
   "source": [
    "### Data exploration"
   ]
  },
  {
   "cell_type": "code",
   "execution_count": 17,
   "id": "6c855034",
   "metadata": {},
   "outputs": [
    {
     "name": "stdout",
     "output_type": "stream",
     "text": [
      "X_train shape: (5117, 17842)\n",
      "y_train shape: (5117, 1)\n",
      "X_test shape: (3411, 17842)\n"
     ]
    }
   ],
   "source": [
    "print(f\"X_train shape: {X_train_raw.shape}\")\n",
    "print(f\"y_train shape: {y_train_raw.shape}\")\n",
    "print(f\"X_test shape: {X_test_raw.shape}\")"
   ]
  },
  {
   "cell_type": "code",
   "execution_count": 18,
   "id": "33743b52",
   "metadata": {},
   "outputs": [],
   "source": [
    "# For each signal, compute its beats and rpeaks\n",
    "X_train_beats_rpeaks = X_train_raw.apply(lambda r: pd.Series(series_to_heartbeats(r)), axis=1).to_numpy()\n",
    "X_test_beats_rpeaks = X_test_raw.apply(lambda r: pd.Series(series_to_heartbeats(r)), axis=1).to_numpy()\n",
    "\n",
    "# Doesn't work, problem with serialization: the arrays are tranformed into strings\n",
    "#X_train_beats_rpeaks, y_train_raw, X_test_beats_rpeaks = load_from_csv(extension = \"_beats_rpeaks\", mustDropId=False)\n",
    "#X_train_beats_rpeaks = X_train_beats_rpeaks.to_numpy()\n",
    "#X_test_beats_rpeaks = X_test_beats_rpeaks.to_numpy()"
   ]
  },
  {
   "cell_type": "code",
   "execution_count": 19,
   "id": "fb478b7e",
   "metadata": {},
   "outputs": [
    {
     "name": "stdout",
     "output_type": "stream",
     "text": [
      "In the training set, there are 36 signal which don't have enough beats to detect the hearthrate (minimum 2 needed) and from these, 19 don't have any rpeaks detected (=> the 17 remaining only have 1 rpeak).\n",
      "\n",
      "In the test set, there are 26 signal which don't have enough beats to detect the hearthrate (minimum 2 needed) and from these, 17 don't have any rpeaks detected (=> the 9 remaining only have 1 rpeak).\n"
     ]
    }
   ],
   "source": [
    "#Problem, the library doesn't seem to work perfectly for all signals\n",
    "nbr_beats_train = np.array([len(beats) for beats, _ in X_train_beats_rpeaks])\n",
    "indexes_too_low_beats_train = np.argwhere(nbr_beats_train < 2).reshape(-1)\n",
    "nbr_rpeaks_train = np.array([len(rpeaks) for _, rpeaks in X_train_beats_rpeaks])\n",
    "index_no_rpeaks_train = np.argwhere(nbr_rpeaks_train <= 0).reshape(-1)\n",
    "print(f\"In the training set, there are {len(indexes_too_low_beats_train)} signal which don't have enough beats to detect the hearthrate (minimum 2 needed) and from these, {len(index_no_rpeaks_train)} don't have any rpeaks detected (=> the {len(indexes_too_low_beats_train)-len(index_no_rpeaks_train)} remaining only have 1 rpeak).\")\n",
    "\n",
    "nbr_beats_test = np.array([len(beats) for beats, _ in X_test_beats_rpeaks])\n",
    "indexes_too_low_beats_test = np.argwhere(nbr_beats_test < 2).reshape(-1)\n",
    "nbr_rpeaks_test = np.array([len(rpeaks) for _, rpeaks in X_test_beats_rpeaks])\n",
    "index_no_rpeaks_test = np.argwhere(nbr_rpeaks_test <= 0).reshape(-1)\n",
    "print(f\"\\nIn the test set, there are {len(indexes_too_low_beats_test)} signal which don't have enough beats to detect the hearthrate (minimum 2 needed) and from these, {len(index_no_rpeaks_test)} don't have any rpeaks detected (=> the {len(indexes_too_low_beats_test)-len(index_no_rpeaks_test)} remaining only have 1 rpeak).\")"
   ]
  },
  {
   "cell_type": "code",
   "execution_count": 20,
   "id": "5e9f74a0",
   "metadata": {},
   "outputs": [
    {
     "data": {
      "text/plain": [
       "array([  65,  447,  579,  593,  955, 1082, 1135, 1171, 1247, 1383, 1609,\n",
       "       2493, 2527, 2572, 2931, 3009, 3032, 3051, 3145, 3193, 3333, 3519,\n",
       "       3862, 3884, 4025, 4320, 4321, 4340, 4364, 4625, 4683, 4684, 4688,\n",
       "       4693, 4871, 4994])"
      ]
     },
     "execution_count": 20,
     "metadata": {},
     "output_type": "execute_result"
    }
   ],
   "source": [
    "indexes_too_low_beats_train"
   ]
  },
  {
   "cell_type": "code",
   "execution_count": 21,
   "id": "4782b1b9",
   "metadata": {},
   "outputs": [
    {
     "data": {
      "text/plain": [
       "array([[<AxesSubplot:title={'center':'y'}>]], dtype=object)"
      ]
     },
     "execution_count": 21,
     "metadata": {},
     "output_type": "execute_result"
    },
    {
     "data": {
      "image/png": "[encoded data removed]",
      "text/plain": [
       "<Figure size 432x288 with 1 Axes>"
      ]
     },
     "metadata": {
      "needs_background": "light"
     },
     "output_type": "display_data"
    }
   ],
   "source": [
    "y_train_raw.loc[indexes_too_low_beats_train].hist()"
   ]
  },
  {
   "cell_type": "code",
   "execution_count": 22,
   "id": "4991f398",
   "metadata": {},
   "outputs": [],
   "source": [
    "#TODO change, only temporal to test a submission. For all the values where we don't have enough heartbeat, we\n",
    "# simply put the values of the signal before.\n",
    "X_train_beats_rpeaks_no_Nan = np.copy(X_train_beats_rpeaks)\n",
    "y_train_no_Nan = np.copy(y_train_raw)\n",
    "for i in indexes_too_low_beats_train:\n",
    "    X_train_beats_rpeaks_no_Nan[i] = X_train_beats_rpeaks_no_Nan[i-1]\n",
    "    y_train_no_Nan[i] = y_train_no_Nan[i-1]\n",
    "    \n",
    "X_test_beats_rpeaks_no_Nan = np.copy(X_test_beats_rpeaks)\n",
    "for i in indexes_too_low_beats_test:\n",
    "    X_test_beats_rpeaks_no_Nan[i] = X_test_beats_rpeaks_no_Nan[i-1]"
   ]
  },
  {
   "cell_type": "code",
   "execution_count": 23,
   "id": "e7f6c1aa",
   "metadata": {},
   "outputs": [
    {
     "name": "stderr",
     "output_type": "stream",
     "text": [
      "/home/loic/Enter/envs/InternetAnalytics/lib/python3.9/site-packages/numpy/core/_methods.py:262: RuntimeWarning: Degrees of freedom <= 0 for slice\n",
      "  ret = _var(a, axis=axis, dtype=dtype, out=out, ddof=ddof,\n",
      "/home/loic/Enter/envs/InternetAnalytics/lib/python3.9/site-packages/numpy/core/_methods.py:222: RuntimeWarning: invalid value encountered in true_divide\n",
      "  arrmean = um.true_divide(arrmean, div, out=arrmean, casting='unsafe',\n",
      "/home/loic/Enter/envs/InternetAnalytics/lib/python3.9/site-packages/numpy/core/_methods.py:254: RuntimeWarning: invalid value encountered in double_scalars\n",
      "  ret = ret.dtype.type(ret / rcount)\n",
      "/home/loic/Enter/envs/InternetAnalytics/lib/python3.9/site-packages/numpy/core/fromnumeric.py:3440: RuntimeWarning: Mean of empty slice.\n",
      "  return _methods._mean(a, axis=axis, dtype=dtype,\n",
      "/home/loic/Enter/envs/InternetAnalytics/lib/python3.9/site-packages/numpy/core/_methods.py:189: RuntimeWarning: invalid value encountered in double_scalars\n",
      "  ret = ret.dtype.type(ret / rcount)\n"
     ]
    }
   ],
   "source": [
    "# For each signal, compute its hearthrateInfos\n",
    "X_train_hearthrate_infos = np.array([find_hearthrate_info(beats_rpeaks[1]) for beats_rpeaks in X_train_beats_rpeaks_no_Nan])\n",
    "X_test_hearthrate_infos = np.array([find_hearthrate_info(beats_rpeaks[1]) for beats_rpeaks in X_test_beats_rpeaks_no_Nan])"
   ]
  },
  {
   "cell_type": "code",
   "execution_count": 24,
   "id": "141fbacc",
   "metadata": {},
   "outputs": [],
   "source": [
    "X_train_noise_quantile_infos = np.array([compute_quantile_noise_in_beats(beats_rpeaks[0]) for beats_rpeaks in X_train_beats_rpeaks_no_Nan])\n",
    "X_test_noise_quantile_infos = np.array([compute_quantile_noise_in_beats(beats_rpeaks[0]) for beats_rpeaks in X_test_beats_rpeaks_no_Nan])"
   ]
  },
  {
   "cell_type": "code",
   "execution_count": 25,
   "id": "a1c19fa8",
   "metadata": {},
   "outputs": [],
   "source": [
    "X_train_QRS = np.array([find_important_values(np.mean(beats_rpeaks[0], axis=0)) for beats_rpeaks in X_train_beats_rpeaks_no_Nan])\n",
    "X_test_QRS = np.array([find_important_values(np.mean(beats_rpeaks[0], axis=0)) for beats_rpeaks in X_test_beats_rpeaks_no_Nan])"
   ]
  },
  {
   "cell_type": "code",
   "execution_count": 26,
   "id": "30e124e0",
   "metadata": {},
   "outputs": [],
   "source": [
    "X_train_features = np.concatenate((X_train_hearthrate_infos, X_train_noise_quantile_infos.reshape(-1,1), X_train_QRS), axis=1)\n",
    "X_test_features = np.concatenate((X_test_hearthrate_infos, X_test_noise_quantile_infos.reshape(-1,1), X_test_QRS), axis=1)"
   ]
  },
  {
   "cell_type": "code",
   "execution_count": 27,
   "id": "eaf8b870",
   "metadata": {},
   "outputs": [],
   "source": [
    "X_train_features_scaled, X_test_features_scaled = scale(X_train_features, X_test_features)"
   ]
  },
  {
   "cell_type": "code",
   "execution_count": 28,
   "id": "1000945e",
   "metadata": {},
   "outputs": [],
   "source": [
    "#Need to correct warning above to avoid to have to impute values\n",
    "imputer = KNNImputer(n_neighbors=6, weights='uniform').fit(X_train_features_scaled)\n",
    "\n",
    "X_train_features_imputed = imputer.transform(X_train_features_scaled)\n",
    "X_test_features_imputed = imputer.transform(X_test_features_scaled)"
   ]
  },
  {
   "cell_type": "code",
   "execution_count": 38,
   "id": "8aef3c96",
   "metadata": {},
   "outputs": [
    {
     "name": "stdout",
     "output_type": "stream",
     "text": [
      "Fitting 5 folds for each of 12 candidates, totalling 60 fits\n",
      "[CV 1/5] END C=1.0, class_weight=balanced, kernel=rbf;, score=0.642 total time=   1.3s\n",
      "[CV 2/5] END C=1.0, class_weight=balanced, kernel=rbf;, score=0.638 total time=   1.3s\n",
      "[CV 3/5] END C=1.0, class_weight=balanced, kernel=rbf;, score=0.653 total time=   1.2s\n",
      "[CV 4/5] END C=1.0, class_weight=balanced, kernel=rbf;, score=0.674 total time=   1.2s\n",
      "[CV 5/5] END C=1.0, class_weight=balanced, kernel=rbf;, score=0.636 total time=   1.2s\n",
      "[CV 1/5] END C=1.0, class_weight=None, kernel=rbf;, score=0.703 total time=   0.9s\n",
      "[CV 2/5] END C=1.0, class_weight=None, kernel=rbf;, score=0.698 total time=   0.9s\n",
      "[CV 3/5] END C=1.0, class_weight=None, kernel=rbf;, score=0.680 total time=   0.9s\n",
      "[CV 4/5] END C=1.0, class_weight=None, kernel=rbf;, score=0.718 total time=   0.9s\n",
      "[CV 5/5] END C=1.0, class_weight=None, kernel=rbf;, score=0.691 total time=   0.9s\n",
      "[CV 1/5] END C=3.9810717055349722, class_weight=balanced, kernel=rbf;, score=0.671 total time=   1.2s\n",
      "[CV 2/5] END C=3.9810717055349722, class_weight=balanced, kernel=rbf;, score=0.662 total time=   1.2s\n",
      "[CV 3/5] END C=3.9810717055349722, class_weight=balanced, kernel=rbf;, score=0.657 total time=   1.2s\n",
      "[CV 4/5] END C=3.9810717055349722, class_weight=balanced, kernel=rbf;, score=0.686 total time=   1.2s\n",
      "[CV 5/5] END C=3.9810717055349722, class_weight=balanced, kernel=rbf;, score=0.633 total time=   1.2s\n",
      "[CV 1/5] END C=3.9810717055349722, class_weight=None, kernel=rbf;, score=0.704 total time=   1.0s\n",
      "[CV 2/5] END C=3.9810717055349722, class_weight=None, kernel=rbf;, score=0.692 total time=   0.9s\n",
      "[CV 3/5] END C=3.9810717055349722, class_weight=None, kernel=rbf;, score=0.691 total time=   1.0s\n",
      "[CV 4/5] END C=3.9810717055349722, class_weight=None, kernel=rbf;, score=0.726 total time=   1.0s\n",
      "[CV 5/5] END C=3.9810717055349722, class_weight=None, kernel=rbf;, score=0.697 total time=   1.0s\n",
      "[CV 1/5] END C=15.848931924611133, class_weight=balanced, kernel=rbf;, score=0.679 total time=   1.3s\n",
      "[CV 2/5] END C=15.848931924611133, class_weight=balanced, kernel=rbf;, score=0.674 total time=   1.2s\n",
      "[CV 3/5] END C=15.848931924611133, class_weight=balanced, kernel=rbf;, score=0.650 total time=   1.2s\n",
      "[CV 4/5] END C=15.848931924611133, class_weight=balanced, kernel=rbf;, score=0.695 total time=   1.3s\n",
      "[CV 5/5] END C=15.848931924611133, class_weight=balanced, kernel=rbf;, score=0.643 total time=   1.2s\n",
      "[CV 1/5] END C=15.848931924611133, class_weight=None, kernel=rbf;, score=0.705 total time=   1.1s\n",
      "[CV 2/5] END C=15.848931924611133, class_weight=None, kernel=rbf;, score=0.697 total time=   1.1s\n",
      "[CV 3/5] END C=15.848931924611133, class_weight=None, kernel=rbf;, score=0.700 total time=   1.1s\n",
      "[CV 4/5] END C=15.848931924611133, class_weight=None, kernel=rbf;, score=0.728 total time=   1.1s\n",
      "[CV 5/5] END C=15.848931924611133, class_weight=None, kernel=rbf;, score=0.688 total time=   1.0s\n",
      "[CV 1/5] END C=63.0957344480193, class_weight=balanced, kernel=rbf;, score=0.685 total time=   1.5s\n",
      "[CV 2/5] END C=63.0957344480193, class_weight=balanced, kernel=rbf;, score=0.688 total time=   1.6s\n",
      "[CV 3/5] END C=63.0957344480193, class_weight=balanced, kernel=rbf;, score=0.662 total time=   1.6s\n",
      "[CV 4/5] END C=63.0957344480193, class_weight=balanced, kernel=rbf;, score=0.695 total time=   1.5s\n",
      "[CV 5/5] END C=63.0957344480193, class_weight=balanced, kernel=rbf;, score=0.654 total time=   1.5s\n",
      "[CV 1/5] END C=63.0957344480193, class_weight=None, kernel=rbf;, score=0.711 total time=   1.6s\n",
      "[CV 2/5] END C=63.0957344480193, class_weight=None, kernel=rbf;, score=0.699 total time=   1.5s\n",
      "[CV 3/5] END C=63.0957344480193, class_weight=None, kernel=rbf;, score=0.700 total time=   1.6s\n",
      "[CV 4/5] END C=63.0957344480193, class_weight=None, kernel=rbf;, score=0.725 total time=   1.7s\n",
      "[CV 5/5] END C=63.0957344480193, class_weight=None, kernel=rbf;, score=0.683 total time=   1.5s\n",
      "[CV 1/5] END C=251.18864315095797, class_weight=balanced, kernel=rbf;, score=0.675 total time=   2.4s\n",
      "[CV 2/5] END C=251.18864315095797, class_weight=balanced, kernel=rbf;, score=0.677 total time=   2.5s\n",
      "[CV 3/5] END C=251.18864315095797, class_weight=balanced, kernel=rbf;, score=0.669 total time=   2.5s\n",
      "[CV 4/5] END C=251.18864315095797, class_weight=balanced, kernel=rbf;, score=0.699 total time=   2.5s\n",
      "[CV 5/5] END C=251.18864315095797, class_weight=balanced, kernel=rbf;, score=0.661 total time=   2.3s\n",
      "[CV 1/5] END C=251.18864315095797, class_weight=None, kernel=rbf;, score=0.701 total time=   3.0s\n",
      "[CV 2/5] END C=251.18864315095797, class_weight=None, kernel=rbf;, score=0.684 total time=   3.6s\n",
      "[CV 3/5] END C=251.18864315095797, class_weight=None, kernel=rbf;, score=0.692 total time=   3.3s\n",
      "[CV 4/5] END C=251.18864315095797, class_weight=None, kernel=rbf;, score=0.721 total time=   3.0s\n",
      "[CV 5/5] END C=251.18864315095797, class_weight=None, kernel=rbf;, score=0.681 total time=   3.0s\n",
      "[CV 1/5] END C=1000.0, class_weight=balanced, kernel=rbf;, score=0.678 total time=   5.3s\n",
      "[CV 2/5] END C=1000.0, class_weight=balanced, kernel=rbf;, score=0.672 total time=   5.7s\n",
      "[CV 3/5] END C=1000.0, class_weight=balanced, kernel=rbf;, score=0.676 total time=   5.2s\n",
      "[CV 4/5] END C=1000.0, class_weight=balanced, kernel=rbf;, score=0.682 total time=   5.2s\n",
      "[CV 5/5] END C=1000.0, class_weight=balanced, kernel=rbf;, score=0.666 total time=   5.2s\n",
      "[CV 1/5] END C=1000.0, class_weight=None, kernel=rbf;, score=0.688 total time=   7.2s\n",
      "[CV 2/5] END C=1000.0, class_weight=None, kernel=rbf;, score=0.684 total time=   6.5s\n",
      "[CV 3/5] END C=1000.0, class_weight=None, kernel=rbf;, score=0.690 total time=   7.3s\n",
      "[CV 4/5] END C=1000.0, class_weight=None, kernel=rbf;, score=0.697 total time=   6.9s\n",
      "[CV 5/5] END C=1000.0, class_weight=None, kernel=rbf;, score=0.670 total time=   6.9s\n",
      "The best validation score obtained is 0.70373 with\n",
      "    \tkernel: rbf\n",
      "    \tC: 15.848931924611133\n"
     ]
    }
   ],
   "source": [
    "svc = best_svc(X_train_features_imputed, y_train_no_Nan.reshape(-1))"
   ]
  },
  {
   "cell_type": "code",
   "execution_count": 39,
   "id": "957c172a",
   "metadata": {},
   "outputs": [],
   "source": [
    "model = svc\n",
    "sub_id = 3\n",
    "prediction = pd.DataFrame(model.predict(X_test_features_imputed))"
   ]
  },
  {
   "cell_type": "code",
   "execution_count": 40,
   "id": "221af8ca",
   "metadata": {},
   "outputs": [],
   "source": [
    "create_submission(sub_id, prediction)"
   ]
  },
  {
   "cell_type": "markdown",
   "id": "95891ad7",
   "metadata": {},
   "source": [
    "**Solutions must be submitted on the [project website](https://aml.ise.inf.ethz.ch/task2/).**"
   ]
  }
 ],
 "metadata": {
  "kernelspec": {
   "display_name": "Python 3",
   "language": "python",
   "name": "python3"
  },
  "language_info": {
   "codemirror_mode": {
    "name": "ipython",
    "version": 3
   },
   "file_extension": ".py",
   "mimetype": "text/x-python",
   "name": "python",
   "nbconvert_exporter": "python",
   "pygments_lexer": "ipython3",
   "version": "3.9.1"
  }
 },
 "nbformat": 4,
 "nbformat_minor": 5
}
