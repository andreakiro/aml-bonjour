{
 "cells": [
  {
   "cell_type": "code",
   "execution_count": 5,
   "metadata": {},
   "outputs": [],
   "source": [
    "import csv\n",
    "import os"
   ]
  },
  {
   "cell_type": "code",
   "execution_count": 6,
   "metadata": {},
   "outputs": [],
   "source": [
    "import numpy as np\n",
    "import pandas as pd"
   ]
  },
  {
   "cell_type": "code",
   "execution_count": 7,
   "metadata": {},
   "outputs": [
    {
     "ename": "ModuleNotFoundError",
     "evalue": "No module named 'biosppy'",
     "output_type": "error",
     "traceback": [
      "\u001b[0;31m---------------------------------------------------------------------------\u001b[0m",
      "\u001b[0;31mModuleNotFoundError\u001b[0m                       Traceback (most recent call last)",
      "\u001b[0;32m/var/folders/40/2nsl__yd3gz21y383txq3hzm0000gn/T/ipykernel_97285/2182369989.py\u001b[0m in \u001b[0;36m<module>\u001b[0;34m\u001b[0m\n\u001b[0;32m----> 1\u001b[0;31m \u001b[0;32mimport\u001b[0m \u001b[0mbiosppy\u001b[0m\u001b[0;34m.\u001b[0m\u001b[0msignals\u001b[0m\u001b[0;34m.\u001b[0m\u001b[0mecg\u001b[0m \u001b[0;32mas\u001b[0m \u001b[0mecg\u001b[0m\u001b[0;34m\u001b[0m\u001b[0;34m\u001b[0m\u001b[0m\n\u001b[0m\u001b[1;32m      2\u001b[0m \u001b[0;32mimport\u001b[0m \u001b[0mmatplotlib\u001b[0m\u001b[0;34m.\u001b[0m\u001b[0mpyplot\u001b[0m \u001b[0;32mas\u001b[0m \u001b[0mplt\u001b[0m\u001b[0;34m\u001b[0m\u001b[0;34m\u001b[0m\u001b[0m\n",
      "\u001b[0;31mModuleNotFoundError\u001b[0m: No module named 'biosppy'"
     ]
    }
   ],
   "source": [
    "import biosppy.signals.ecg as ecg\n",
    "import matplotlib.pyplot as plt"
   ]
  },
  {
   "cell_type": "code",
   "execution_count": null,
   "metadata": {},
   "outputs": [],
   "source": [
    "labels = pd.read_csv('public/y_train.csv', index_col='id')"
   ]
  },
  {
   "cell_type": "code",
   "execution_count": null,
   "metadata": {},
   "outputs": [],
   "source": [
    "# Retrieve one sample recording per class for plotting\n",
    "labels_array = labels['y'].to_numpy()\n",
    "num_classes = 4\n",
    "sample_signal_ids = []\n",
    "for class_id in range(num_classes):\n",
    "    sample_signal_ids.append(int(np.argwhere(labels_array == class_id)[0]))\n",
    "    \n",
    "# Print indices of the sample signals\n",
    "sample_signal_ids"
   ]
  },
  {
   "cell_type": "code",
   "execution_count": null,
   "metadata": {},
   "outputs": [],
   "source": [
    "data = pd.read_csv('public/X_train.csv', index_col='id')"
   ]
  },
  {
   "cell_type": "code",
   "execution_count": null,
   "metadata": {},
   "outputs": [],
   "source": [
    "# Show the data\n",
    "data"
   ]
  },
  {
   "cell_type": "markdown",
   "metadata": {},
   "source": [
    "### Pay attention to NaN values! \n",
    "\n",
    "Unlike many medical application, these NaNs **DO NOT** represent missing values but appear because of variable length of the signals. ECG recordings normally don't have missing values and are sampled equally.\n",
    "\n",
    "Despite being put into a tabular CSV format / Pandas Dataframe, the data is still a raw signal with variable lengths. Coumns *x0, ..., x17841* correspond to measurements at time stamps *0, ..., 17841* and not to different features of the data point. If the signal is too short then all the coumns after the last measurement have NaN values,"
   ]
  },
  {
   "cell_type": "code",
   "execution_count": null,
   "metadata": {},
   "outputs": [],
   "source": [
    "# Get the raw recording without Nan values as a NumPy array\n",
    "data.loc[0].dropna().to_numpy(dtype='float32')"
   ]
  },
  {
   "cell_type": "markdown",
   "metadata": {},
   "source": [
    "## Plot sample signals for each class"
   ]
  },
  {
   "cell_type": "code",
   "execution_count": null,
   "metadata": {},
   "outputs": [],
   "source": [
    "# Some matplotlib setting \n",
    "plt.rcParams[\"figure.figsize\"] = (30, 20)\n",
    "plt.rcParams['lines.linewidth'] = 5\n",
    "plt.rcParams['xtick.labelsize'] = 24\n",
    "plt.rcParams['ytick.labelsize'] = 32\n",
    "plt.rcParams['axes.labelsize'] = 48\n",
    "plt.rcParams['axes.titlesize'] = 48\n",
    "\n",
    "fig, axs = plt.subplots(4, 1)\n",
    "\n",
    "seconds = np.arange(0, 600) / 30 \n",
    "x_labels = [0, 5, 10, 15, 20]\n",
    "\n",
    "for class_id in range(num_classes):\n",
    "    ax = axs[class_id]\n",
    "    #ax.set_title(\"Class {}\".format(class_id))\n",
    "    \n",
    "    measurements = data.loc[sample_signal_ids[class_id]].dropna().to_numpy(dtype='float32')\n",
    "    # Get a subsequence of a signal and downsample it for visualization purposes\n",
    "    measurements = measurements[1000:7000:10] \n",
    "    # convert volts to millivolts\n",
    "    measurements /= 1000\n",
    "    ax.plot(seconds, measurements, color='k')\n",
    "    ax.set_xticks(x_labels)\n",
    "          \n",
    "fig.tight_layout()\n",
    "\n",
    "# Display x- and y-labels for the whole plot\n",
    "ax = fig.add_subplot(111, frameon=False)\n",
    "# hide tick and tick label of the big axes\n",
    "plt.tick_params(labelcolor='none', top=False, bottom=False, left=False, right=False)\n",
    "ax.yaxis.set_label_coords(-0.05, 0.5)\n",
    "plt.xlabel('Time [s]')\n",
    "plt.ylabel('Amplitude [mV]')            \n",
    "plt.show()"
   ]
  },
  {
   "cell_type": "code",
   "execution_count": null,
   "metadata": {},
   "outputs": [],
   "source": [
    "def plot_features(signal):\n",
    "    r_peaks = ecg.engzee_segmenter(signal, 300)['rpeaks']\n",
    "    #print(r_peaks)\n",
    "    if len(r_peaks) >= 2:\n",
    "        #print(ecg.extract_heartbeats(signal, r_peaks, 300))\n",
    "        beats = ecg.extract_heartbeats(signal, r_peaks, 300)['templates']\n",
    "\n",
    "        if len(beats) != 0:\n",
    "            mu = np.mean(beats, axis=0) \n",
    "            var = np.std(beats, axis=0)\n",
    "            md = np.median(beats, axis=0)\n",
    "            \n",
    "            plt.plot(range(mu.shape[0]), mu, label='Average HeartBeat')\n",
    "            # Fill the variance range\n",
    "            plt.fill_between(range(mu.shape[0]), mu - var, mu + var, linewidth=0, alpha=0.1)\n",
    "            # Plot a median\n",
    "            plt.plot(range(md.shape[0]), md, 'k', label='Median HeartBeat', color='#CC4F1B')"
   ]
  },
  {
   "cell_type": "code",
   "execution_count": null,
   "metadata": {},
   "outputs": [],
   "source": [
    "plt.rcParams['lines.linewidth'] = 3\n",
    "plt.figure(figsize=(30, 11))\n",
    "for class_id in range(num_classes):\n",
    "    ax = plt.subplot(1, 4, class_id + 1)\n",
    "    #ax.set_title(\"Class {}\".format(class_id))\n",
    "    ax.set_ylim([-700, 1500])\n",
    "    if class_id:\n",
    "        ax.set_yticks([])\n",
    "    plot_features(data.loc[sample_signal_ids[class_id]].dropna().to_numpy(dtype='float32'))\n",
    "\n",
    "plt.tight_layout()\n",
    "plt.show()"
   ]
  }
 ],
 "metadata": {
  "kernelspec": {
   "display_name": "Python 3 (ipykernel)",
   "language": "python",
   "name": "python3"
  },
  "language_info": {
   "codemirror_mode": {
    "name": "ipython",
    "version": 3
   },
   "file_extension": ".py",
   "mimetype": "text/x-python",
   "name": "python",
   "nbconvert_exporter": "python",
   "pygments_lexer": "ipython3",
   "version": "3.9.7"
  }
 },
 "nbformat": 4,
 "nbformat_minor": 1
}
