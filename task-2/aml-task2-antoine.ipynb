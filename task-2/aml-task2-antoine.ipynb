{
 "cells": [
  {
   "cell_type": "markdown",
   "id": "ae0a327e",
   "metadata": {},
   "source": [
    "# `AML — Task 2:` Heart rhythm classification from raw ECG signals.\n",
    "\n",
    "---"
   ]
  },
  {
   "cell_type": "code",
   "execution_count": null,
   "id": "f21e9ab0",
   "metadata": {},
   "outputs": [],
   "source": [
    "import numpy as np\n",
    "import pandas as pd\n",
    "import biosppy.signals.ecg as ecg"
   ]
  },
  {
   "cell_type": "code",
   "execution_count": null,
   "id": "3a6fd41f",
   "metadata": {},
   "outputs": [],
   "source": [
    "from sklearn.metrics import f1_score"
   ]
  },
  {
   "cell_type": "markdown",
   "id": "ae8c4d92",
   "metadata": {},
   "source": [
    "## Dataset import and export"
   ]
  },
  {
   "cell_type": "code",
   "execution_count": null,
   "id": "3d88d2d4",
   "metadata": {},
   "outputs": [],
   "source": [
    "def load_from_csv():\n",
    "    X_train = pd.read_csv('data/X_train.csv').drop(columns=['id'])\n",
    "    y_train = pd.read_csv('data/y_train.csv').drop(columns=['id'])\n",
    "    X_test  = pd.read_csv('data/X_test.csv').drop(columns=['id'])\n",
    "    return X_train, y_train, X_test"
   ]
  },
  {
   "cell_type": "code",
   "execution_count": null,
   "id": "16d477e7",
   "metadata": {},
   "outputs": [],
   "source": [
    "def export_to_csv(X_train, y_train, X_test):\n",
    "    X_train.to_csv('data/X_train_cleaned.csv', index=False)\n",
    "    y_train.to_csv('data/y_train_cleaned.csv', index=False)\n",
    "    X_test.to_csv('data/X_test_cleaned.csv', index=False)"
   ]
  },
  {
   "cell_type": "markdown",
   "id": "258a7ee6",
   "metadata": {},
   "source": [
    "## Export `csv` submission file"
   ]
  },
  {
   "cell_type": "code",
   "execution_count": null,
   "id": "35d24289",
   "metadata": {},
   "outputs": [],
   "source": [
    "def create_submission(sub_id, pred, basepath='submissions/task2-sub'):\n",
    "    result = pred.copy().rename(columns={0: 'y'})\n",
    "    result['id'] = range(0, len(result))\n",
    "    result = result[['id', 'y']]\n",
    "    result.to_csv(basepath + str(sub_id) + '.csv', index=False)"
   ]
  },
  {
   "cell_type": "markdown",
   "id": "8b50055a",
   "metadata": {},
   "source": [
    "## Data processing `TODO`"
   ]
  },
  {
   "cell_type": "code",
   "execution_count": null,
   "id": "9b9098cf",
   "metadata": {},
   "outputs": [],
   "source": [
    "X_train, y_train, X_test = load_from_csv()"
   ]
  },
  {
   "cell_type": "code",
   "execution_count": null,
   "id": "ecff3973",
   "metadata": {},
   "outputs": [],
   "source": [
    "X_train.info()"
   ]
  },
  {
   "cell_type": "code",
   "execution_count": null,
   "id": "145f5f85",
   "metadata": {},
   "outputs": [],
   "source": [
    "def get_heartbeat_templates(time_series: pd.Series) -> np.array:\n",
    "    return np.mean(ecg.ecg(signal=time_series.dropna(), sampling_rate=300.)['templates'], axis=0, show=False)"
   ]
  },
  {
   "cell_type": "code",
   "execution_count": null,
   "id": "e3974ceb",
   "metadata": {
    "scrolled": true
   },
   "outputs": [],
   "source": [
    "# Takes a long long long long time to run\n",
    "X_train = X_train.apply(lambda r: get_heartbeat_templates(r), axis='index')\n",
    "X_train.info()"
   ]
  },
  {
   "cell_type": "code",
   "execution_count": null,
   "id": "efba217e",
   "metadata": {},
   "outputs": [],
   "source": [
    "get_heartbeat_templates(X_train.iloc[0])"
   ]
  },
  {
   "cell_type": "markdown",
   "id": "b12c6653",
   "metadata": {},
   "source": [
    "# USE THIS INSTEAD"
   ]
  },
  {
   "cell_type": "code",
   "execution_count": null,
   "id": "c12b1006",
   "metadata": {},
   "outputs": [],
   "source": [
    "rpeaks = ecg.engzee_segmenter(X_train.iloc[0].dropna(), 300)['rpeaks']\n",
    "beats = ecg.extract_heartbeats(X_train.iloc[0].dropna(), rpeaks, 300)"
   ]
  },
  {
   "cell_type": "code",
   "execution_count": null,
   "id": "e7d09210",
   "metadata": {},
   "outputs": [],
   "source": [
    "pd.Series(np.mean(beats['templates'], axis=0)).plot()"
   ]
  },
  {
   "cell_type": "markdown",
   "id": "2db17c7b",
   "metadata": {},
   "source": [
    "## Models defintion `TODO`"
   ]
  },
  {
   "cell_type": "markdown",
   "id": "72811115",
   "metadata": {},
   "source": [
    "## Parameters tuning `TODO`"
   ]
  },
  {
   "cell_type": "markdown",
   "id": "d499e6d1",
   "metadata": {},
   "source": [
    "## Generate new submission"
   ]
  },
  {
   "cell_type": "code",
   "execution_count": null,
   "id": "9e90e940",
   "metadata": {},
   "outputs": [],
   "source": [
    "#sub_id = 1\n",
    "#prediction = pd.DataFrame(model.predict(X_test))"
   ]
  },
  {
   "cell_type": "code",
   "execution_count": null,
   "id": "517f3e0d",
   "metadata": {},
   "outputs": [],
   "source": [
    "#create_submission(sub_id, prediction)"
   ]
  },
  {
   "cell_type": "markdown",
   "id": "41c1f7ff",
   "metadata": {},
   "source": [
    "**Solutions must be submitted on the [project website](https://aml.ise.inf.ethz.ch/task2/).**"
   ]
  }
 ],
 "metadata": {
  "kernelspec": {
   "display_name": "Python 3 (ipykernel)",
   "language": "python",
   "name": "python3"
  },
  "language_info": {
   "codemirror_mode": {
    "name": "ipython",
    "version": 3
   },
   "file_extension": ".py",
   "mimetype": "text/x-python",
   "name": "python",
   "nbconvert_exporter": "python",
   "pygments_lexer": "ipython3",
   "version": "3.7.11"
  }
 },
 "nbformat": 4,
 "nbformat_minor": 5
}
