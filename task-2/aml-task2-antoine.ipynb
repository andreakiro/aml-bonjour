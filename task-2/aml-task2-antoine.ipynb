{
 "cells": [
  {
   "cell_type": "markdown",
   "id": "4c8e3aa7",
   "metadata": {},
   "source": [
    "# `AML — Task 2:` Heart rhythm classification from raw ECG signals\n",
    "---"
   ]
  },
  {
   "cell_type": "code",
   "execution_count": 1,
   "id": "f126d6e1",
   "metadata": {},
   "outputs": [],
   "source": [
    "import numpy as np\n",
    "import pandas as pd\n",
    "import biosppy.signals.ecg as ecg\n",
    "import biosppy.signals.tools as tools\n",
    "import matplotlib.pyplot as plt"
   ]
  },
  {
   "cell_type": "code",
   "execution_count": 2,
   "id": "6dc16cc7",
   "metadata": {},
   "outputs": [],
   "source": [
    "from sklearn.svm import SVC\n",
    "from sklearn.model_selection import GridSearchCV\n",
    "from sklearn.metrics import f1_score\n",
    "from sklearn.preprocessing import StandardScaler\n",
    "from sklearn.impute import SimpleImputer, KNNImputer"
   ]
  },
  {
   "cell_type": "markdown",
   "id": "c0b29de4",
   "metadata": {},
   "source": [
    "---\n",
    "## Dataset import and export to `csv`"
   ]
  },
  {
   "cell_type": "code",
   "execution_count": 4,
   "id": "acdf2170",
   "metadata": {},
   "outputs": [],
   "source": [
    "def load_from_csv(extension=\"\", drop_id = True):\n",
    "    X_train = pd.read_csv('data/X_train' + extension + '.csv')\n",
    "    y_train = pd.read_csv('data/y_train' + extension + '.csv')\n",
    "    X_test  = pd.read_csv('data/X_test' + extension + '.csv')\n",
    "    \n",
    "    if drop_id:\n",
    "        X_train = X_train.drop(columns=['id'])\n",
    "        y_train = y_train.drop(columns=['id'])\n",
    "        X_test  = X_test.drop(columns=['id'])\n",
    "     \n",
    "    return X_train, y_train, X_test"
   ]
  },
  {
   "cell_type": "code",
   "execution_count": 5,
   "id": "910612cf",
   "metadata": {},
   "outputs": [],
   "source": [
    "def export_to_csv(X_train, y_train, X_test, extension=\"_cleaned\"):\n",
    "    X_train.to_csv('data/X_train' + extension + '.csv', index=False)\n",
    "    y_train.to_csv('data/y_train' + extension + '.csv', index=False)\n",
    "    X_test.to_csv('data/X_test' + extension + '.csv', index=False)"
   ]
  },
  {
   "cell_type": "markdown",
   "id": "04a707ea",
   "metadata": {},
   "source": [
    "## Submission export to `csv`"
   ]
  },
  {
   "cell_type": "code",
   "execution_count": 6,
   "id": "d3acf5a2",
   "metadata": {},
   "outputs": [],
   "source": [
    "def create_submission(sub_id, pred, basepath='submissions/task2-sub'):\n",
    "    result = pred.copy().rename(columns={0: 'y'})\n",
    "    result['id'] = range(0, len(result))\n",
    "    result = result[['id', 'y']]\n",
    "    result.to_csv(basepath + str(sub_id) + '.csv', index=False)"
   ]
  },
  {
   "cell_type": "markdown",
   "id": "e2ffbae4",
   "metadata": {},
   "source": [
    "---\n",
    "## Feature extraction"
   ]
  },
  {
   "cell_type": "code",
   "execution_count": 30,
   "id": "d3faf2f4",
   "metadata": {},
   "outputs": [],
   "source": [
    "def extract_features(time_series: pd.Series, sampling_rate=300.0) -> np.array:\n",
    "    # Drop nan values in the time series\n",
    "    no_nans = time_series.dropna()\n",
    "    \n",
    "    # Extract main features\n",
    "    _, filtered, rpeaks, _, templates, _, heart_rate = ecg.ecg(no_nans, sampling_rate, show=False)\n",
    "    # If this assert fails, let's code the use of another segmenter using the filtered ecg\n",
    "    assert len(templates) > 1, 'ECG cannot have a single R peak'\n",
    "    \n",
    "    # Extract R peak amplitudes\n",
    "    rpeaks_amplitudes = [filtered[rpeak] for rpeak in rpeaks]\n",
    "    # Extract mean R peak amplitude\n",
    "    rpeaks_mean = np.mean(rpeaks_amplitudes)\n",
    "    # Extract std of R peak amplitudes\n",
    "    rpeaks_std = np.std(rpeaks_amplitudes)\n",
    "    \n",
    "    #TODO: maybe change durations to seconds?\n",
    "    # Extract RR durations\n",
    "    rrdurations = [r2 - r1 for r1, r2 in zip(rpeaks, rpeaks[1:])]\n",
    "    # Extract mean RR duration\n",
    "    rrdurations_mean = np.mean(rrdurations)\n",
    "    # Extract std of RR durations\n",
    "    rrdurations_std = np.std(rrdurations)\n",
    "    \n",
    "    # Extract mean heart rate\n",
    "    heart_rate_mean = np.mean(heart_rate)\n",
    "    # Extract std of mean heart\n",
    "    heart_rate_std = np.std(heart_rate)\n",
    "    \n",
    "    #TODO: Extract SNR ratio (http://www.cinc.org/archives/2011/pdf/0609.pdf)\n",
    "    # For now, we use this\n",
    "    snr = np.quantile(np.std(templates, axis=0), 0.35)\n",
    "    \n",
    "    # Extract S peaks\n",
    "    \n",
    "    # Extract Q peaks\n",
    "    \n",
    "    # Extract QRS durations\n",
    "    \n",
    "    # Return extracted features\n",
    "    return np.array([rpeaks_mean, \n",
    "                     rpeaks_std, \n",
    "                     rrdurations_mean, \n",
    "                     rrdurations_std, \n",
    "                     heart_rate_mean, \n",
    "                     heart_rate_std, \n",
    "                     snr])"
   ]
  },
  {
   "cell_type": "markdown",
   "id": "56b98812",
   "metadata": {},
   "source": [
    "## Data standardization"
   ]
  },
  {
   "cell_type": "code",
   "execution_count": 32,
   "id": "7e31de0e",
   "metadata": {},
   "outputs": [],
   "source": [
    "def standardize_data(X_train, X_test):\n",
    "    # Do the scaling, saving the scaler to use it for X_test too. No need imputation, just ignore Nan values\n",
    "    scaler = StandardScaler().fit(X_train)\n",
    "    X_train_scaled = scaler.transform(X_train)\n",
    "    X_test_scaled = scaler.transform(X_test)\n",
    "    return (X_train_scaled, X_test_scaled)"
   ]
  },
  {
   "cell_type": "markdown",
   "id": "cfed9a4c",
   "metadata": {},
   "source": [
    "---\n",
    "## Model defintion"
   ]
  },
  {
   "cell_type": "code",
   "execution_count": 33,
   "id": "30f886d4",
   "metadata": {},
   "outputs": [],
   "source": [
    "def best_svc(X_train, y_train):\n",
    "    svc = SVC()\n",
    "    gs_svc_params = {\n",
    "        'kernel': ['rbf', 'poly', 'sigmoid'],\n",
    "        'C': np.logspace(0, 1, 2),\n",
    "        'class_weight': ['balanced', None]\n",
    "    }\n",
    "    gs_svc = GridSearchCV(svc, gs_svc_params, cv=5, verbose=3, scoring=f1_score, error_score='raise')\n",
    "    gs_svc.fit(X_train, y_train)\n",
    "    \n",
    "    print(f\"The best validation score obtained is {gs_svc.best_score_:.5f} with\\n\\t{gs_svc_params}\")\n",
    "    \n",
    "    return gs_svc"
   ]
  },
  {
   "cell_type": "markdown",
   "id": "436814d8",
   "metadata": {},
   "source": [
    "## Main Pipeline"
   ]
  },
  {
   "cell_type": "code",
   "execution_count": 8,
   "id": "2dbf8612",
   "metadata": {},
   "outputs": [],
   "source": [
    "X_train_raw, y_train_raw, X_test_raw = load_from_csv()"
   ]
  },
  {
   "cell_type": "code",
   "execution_count": null,
   "id": "080216a8",
   "metadata": {},
   "outputs": [],
   "source": [
    "X_train = X_train_raw.apply(extract_features, axis=1)"
   ]
  },
  {
   "cell_type": "code",
   "execution_count": null,
   "id": "e22045f2",
   "metadata": {},
   "outputs": [],
   "source": [
    "X_test = X_test_raw.apply(extract_features, axis=1)"
   ]
  },
  {
   "cell_type": "code",
   "execution_count": 38,
   "id": "8aef3c96",
   "metadata": {},
   "outputs": [
    {
     "name": "stdout",
     "output_type": "stream",
     "text": [
      "Fitting 5 folds for each of 12 candidates, totalling 60 fits\n",
      "[CV 1/5] END C=1.0, class_weight=balanced, kernel=rbf;, score=0.642 total time=   1.3s\n",
      "[CV 2/5] END C=1.0, class_weight=balanced, kernel=rbf;, score=0.638 total time=   1.3s\n",
      "[CV 3/5] END C=1.0, class_weight=balanced, kernel=rbf;, score=0.653 total time=   1.2s\n",
      "[CV 4/5] END C=1.0, class_weight=balanced, kernel=rbf;, score=0.674 total time=   1.2s\n",
      "[CV 5/5] END C=1.0, class_weight=balanced, kernel=rbf;, score=0.636 total time=   1.2s\n",
      "[CV 1/5] END C=1.0, class_weight=None, kernel=rbf;, score=0.703 total time=   0.9s\n",
      "[CV 2/5] END C=1.0, class_weight=None, kernel=rbf;, score=0.698 total time=   0.9s\n",
      "[CV 3/5] END C=1.0, class_weight=None, kernel=rbf;, score=0.680 total time=   0.9s\n",
      "[CV 4/5] END C=1.0, class_weight=None, kernel=rbf;, score=0.718 total time=   0.9s\n",
      "[CV 5/5] END C=1.0, class_weight=None, kernel=rbf;, score=0.691 total time=   0.9s\n",
      "[CV 1/5] END C=3.9810717055349722, class_weight=balanced, kernel=rbf;, score=0.671 total time=   1.2s\n",
      "[CV 2/5] END C=3.9810717055349722, class_weight=balanced, kernel=rbf;, score=0.662 total time=   1.2s\n",
      "[CV 3/5] END C=3.9810717055349722, class_weight=balanced, kernel=rbf;, score=0.657 total time=   1.2s\n",
      "[CV 4/5] END C=3.9810717055349722, class_weight=balanced, kernel=rbf;, score=0.686 total time=   1.2s\n",
      "[CV 5/5] END C=3.9810717055349722, class_weight=balanced, kernel=rbf;, score=0.633 total time=   1.2s\n",
      "[CV 1/5] END C=3.9810717055349722, class_weight=None, kernel=rbf;, score=0.704 total time=   1.0s\n",
      "[CV 2/5] END C=3.9810717055349722, class_weight=None, kernel=rbf;, score=0.692 total time=   0.9s\n",
      "[CV 3/5] END C=3.9810717055349722, class_weight=None, kernel=rbf;, score=0.691 total time=   1.0s\n",
      "[CV 4/5] END C=3.9810717055349722, class_weight=None, kernel=rbf;, score=0.726 total time=   1.0s\n",
      "[CV 5/5] END C=3.9810717055349722, class_weight=None, kernel=rbf;, score=0.697 total time=   1.0s\n",
      "[CV 1/5] END C=15.848931924611133, class_weight=balanced, kernel=rbf;, score=0.679 total time=   1.3s\n",
      "[CV 2/5] END C=15.848931924611133, class_weight=balanced, kernel=rbf;, score=0.674 total time=   1.2s\n",
      "[CV 3/5] END C=15.848931924611133, class_weight=balanced, kernel=rbf;, score=0.650 total time=   1.2s\n",
      "[CV 4/5] END C=15.848931924611133, class_weight=balanced, kernel=rbf;, score=0.695 total time=   1.3s\n",
      "[CV 5/5] END C=15.848931924611133, class_weight=balanced, kernel=rbf;, score=0.643 total time=   1.2s\n",
      "[CV 1/5] END C=15.848931924611133, class_weight=None, kernel=rbf;, score=0.705 total time=   1.1s\n",
      "[CV 2/5] END C=15.848931924611133, class_weight=None, kernel=rbf;, score=0.697 total time=   1.1s\n",
      "[CV 3/5] END C=15.848931924611133, class_weight=None, kernel=rbf;, score=0.700 total time=   1.1s\n",
      "[CV 4/5] END C=15.848931924611133, class_weight=None, kernel=rbf;, score=0.728 total time=   1.1s\n",
      "[CV 5/5] END C=15.848931924611133, class_weight=None, kernel=rbf;, score=0.688 total time=   1.0s\n",
      "[CV 1/5] END C=63.0957344480193, class_weight=balanced, kernel=rbf;, score=0.685 total time=   1.5s\n",
      "[CV 2/5] END C=63.0957344480193, class_weight=balanced, kernel=rbf;, score=0.688 total time=   1.6s\n",
      "[CV 3/5] END C=63.0957344480193, class_weight=balanced, kernel=rbf;, score=0.662 total time=   1.6s\n",
      "[CV 4/5] END C=63.0957344480193, class_weight=balanced, kernel=rbf;, score=0.695 total time=   1.5s\n",
      "[CV 5/5] END C=63.0957344480193, class_weight=balanced, kernel=rbf;, score=0.654 total time=   1.5s\n",
      "[CV 1/5] END C=63.0957344480193, class_weight=None, kernel=rbf;, score=0.711 total time=   1.6s\n",
      "[CV 2/5] END C=63.0957344480193, class_weight=None, kernel=rbf;, score=0.699 total time=   1.5s\n",
      "[CV 3/5] END C=63.0957344480193, class_weight=None, kernel=rbf;, score=0.700 total time=   1.6s\n",
      "[CV 4/5] END C=63.0957344480193, class_weight=None, kernel=rbf;, score=0.725 total time=   1.7s\n",
      "[CV 5/5] END C=63.0957344480193, class_weight=None, kernel=rbf;, score=0.683 total time=   1.5s\n",
      "[CV 1/5] END C=251.18864315095797, class_weight=balanced, kernel=rbf;, score=0.675 total time=   2.4s\n",
      "[CV 2/5] END C=251.18864315095797, class_weight=balanced, kernel=rbf;, score=0.677 total time=   2.5s\n",
      "[CV 3/5] END C=251.18864315095797, class_weight=balanced, kernel=rbf;, score=0.669 total time=   2.5s\n",
      "[CV 4/5] END C=251.18864315095797, class_weight=balanced, kernel=rbf;, score=0.699 total time=   2.5s\n",
      "[CV 5/5] END C=251.18864315095797, class_weight=balanced, kernel=rbf;, score=0.661 total time=   2.3s\n",
      "[CV 1/5] END C=251.18864315095797, class_weight=None, kernel=rbf;, score=0.701 total time=   3.0s\n",
      "[CV 2/5] END C=251.18864315095797, class_weight=None, kernel=rbf;, score=0.684 total time=   3.6s\n",
      "[CV 3/5] END C=251.18864315095797, class_weight=None, kernel=rbf;, score=0.692 total time=   3.3s\n",
      "[CV 4/5] END C=251.18864315095797, class_weight=None, kernel=rbf;, score=0.721 total time=   3.0s\n",
      "[CV 5/5] END C=251.18864315095797, class_weight=None, kernel=rbf;, score=0.681 total time=   3.0s\n",
      "[CV 1/5] END C=1000.0, class_weight=balanced, kernel=rbf;, score=0.678 total time=   5.3s\n",
      "[CV 2/5] END C=1000.0, class_weight=balanced, kernel=rbf;, score=0.672 total time=   5.7s\n",
      "[CV 3/5] END C=1000.0, class_weight=balanced, kernel=rbf;, score=0.676 total time=   5.2s\n",
      "[CV 4/5] END C=1000.0, class_weight=balanced, kernel=rbf;, score=0.682 total time=   5.2s\n",
      "[CV 5/5] END C=1000.0, class_weight=balanced, kernel=rbf;, score=0.666 total time=   5.2s\n",
      "[CV 1/5] END C=1000.0, class_weight=None, kernel=rbf;, score=0.688 total time=   7.2s\n",
      "[CV 2/5] END C=1000.0, class_weight=None, kernel=rbf;, score=0.684 total time=   6.5s\n",
      "[CV 3/5] END C=1000.0, class_weight=None, kernel=rbf;, score=0.690 total time=   7.3s\n",
      "[CV 4/5] END C=1000.0, class_weight=None, kernel=rbf;, score=0.697 total time=   6.9s\n",
      "[CV 5/5] END C=1000.0, class_weight=None, kernel=rbf;, score=0.670 total time=   6.9s\n",
      "The best validation score obtained is 0.70373 with\n",
      "    \tkernel: rbf\n",
      "    \tC: 15.848931924611133\n"
     ]
    }
   ],
   "source": [
    "svc = best_svc(X_train, y_train)"
   ]
  },
  {
   "cell_type": "code",
   "execution_count": 39,
   "id": "957c172a",
   "metadata": {},
   "outputs": [],
   "source": [
    "model = svc\n",
    "sub_id = 3\n",
    "prediction = pd.DataFrame(model.predict(X_test))"
   ]
  },
  {
   "cell_type": "code",
   "execution_count": 40,
   "id": "221af8ca",
   "metadata": {},
   "outputs": [],
   "source": [
    "create_submission(sub_id, prediction)"
   ]
  },
  {
   "cell_type": "markdown",
   "id": "95891ad7",
   "metadata": {},
   "source": [
    "**Solutions must be submitted on the [project website](https://aml.ise.inf.ethz.ch/task2/).**"
   ]
  }
 ],
 "metadata": {
  "kernelspec": {
   "display_name": "Python 3 (ipykernel)",
   "language": "python",
   "name": "python3"
  },
  "language_info": {
   "codemirror_mode": {
    "name": "ipython",
    "version": 3
   },
   "file_extension": ".py",
   "mimetype": "text/x-python",
   "name": "python",
   "nbconvert_exporter": "python",
   "pygments_lexer": "ipython3",
   "version": "3.7.11"
  }
 },
 "nbformat": 4,
 "nbformat_minor": 5
}
